{
 "cells": [
  {
   "cell_type": "markdown",
   "id": "3d8509be",
   "metadata": {},
   "source": [
    "# Hyperparameter tuning\n",
    "\n",
    "Each model of interest will be tuned so that the selection of hyperparameters can be optimized\n"
   ]
  },
  {
   "cell_type": "code",
   "execution_count": 3,
   "id": "858ba7bd",
   "metadata": {},
   "outputs": [],
   "source": [
    "# IMPORT MODULES\n",
    "%matplotlib notebook\n",
    "import argparse\n",
    "import gc\n",
    "import os\n",
    "import pickle\n",
    "import subprocess\n",
    "from datetime import datetime\n",
    "import numpy as np\n",
    "import torch\n",
    "import pandas as pd\n",
    "from scipy.stats import loguniform\n",
    "from matplotlib import pyplot as plt\n",
    "from torch.utils.data import DataLoader\n",
    "from torch.autograd import Variable\n",
    "from sklearn.metrics import auc, roc_curve\n",
    "from sklearn.metrics import accuracy_score\n",
    "from tqdm.notebook import tqdm\n",
    "from classes import model_classes, dataset_classes, train_functions\n",
    "from classes.read_config import get_penalty_weights, balance_dataset, get_sample_subsets, get_case_control_count\n",
    "from config_files.input_filenames import *\n",
    "from config_files.input_variables import *\n",
    "\n",
    "# SET USER INPUTS (DO NOT CHANGE)\n",
    "testing_only = True\n",
    "prevalent_prs = False\n"
   ]
  },
  {
   "cell_type": "code",
   "execution_count": 13,
   "id": "7529f722",
   "metadata": {},
   "outputs": [
    {
     "name": "stdout",
     "output_type": "stream",
     "text": [
      "   Hidden_Layers  Hidden_Dim  L1_input  L1_hidden  Dropout_input  \\\n",
      "0              1         0.1       0.1    0.00005            0.1   \n",
      "1              1         0.1       0.1    0.05000            0.1   \n",
      "2              1         0.1       0.1    0.00500            0.1   \n",
      "\n",
      "   Dropout_hidden      LR  Best AUC  Best Loss  Best AUC Epoch  \\\n",
      "0             0.4  0.0001       NaN        NaN             NaN   \n",
      "1             0.4  0.0001       NaN        NaN             NaN   \n",
      "2             0.4  0.0001       NaN        NaN             NaN   \n",
      "\n",
      "   Loss at Best AUC Epoch  Best Loss Epoch  AUC at Best Loss Epoch  \\\n",
      "0                     NaN              NaN                     NaN   \n",
      "1                     NaN              NaN                     NaN   \n",
      "2                     NaN              NaN                     NaN   \n",
      "\n",
      "   Total Epochs       Status  \n",
      "0            50  Not Started  \n",
      "1            50  Not Started  \n",
      "2            50  Not Started  \n"
     ]
    }
   ],
   "source": [
    "# USER INPUTS\n",
    "\n",
    "experiment = \"37b\"\n",
    "gpu_number = 0\n",
    "\n",
    "disease_data_filename = \"{}/config_files/disease_filenames_datadrive.txt\".format(project_dir)\n",
    "\n",
    "num_selections = 3\n",
    "\n",
    "pd.set_option('display.max_columns', 15)\n",
    "\n",
    "# To avoid issues with model being too large\n",
    "pct_inputnodes_per_hiddenlayer = [0.1, 0.2, 0.3]\n",
    "num_hidden_layers = [1]\n",
    "max_epochs = 50\n",
    "\n",
    "# Now create a dataframe with all combinations of the two\n",
    "# All parameters will be copied across\n",
    "# Include L1 (input and hidden), LR, dropout (input and hidden) (5 parameters; 10x random selections each)\n",
    "hidden_dim = np.random.choice(pct_inputnodes_per_hiddenlayer, num_selections)\n",
    "hidden_layers = np.random.choice(num_hidden_layers, num_selections)\n",
    "# input_dropout = loguniform.rvs(0.000001, 0.8, size=num_selections)\n",
    "# hidden_dropout = loguniform.rvs(0.1, 0.8, size=num_selections)\n",
    "input_dropout = np.random.uniform(0, 0.8, size=num_selections)\n",
    "hidden_dropout = np.random.uniform(0.1, 0.5, size=num_selections)\n",
    "input_l1 = loguniform.rvs(1e-5, 0.05, size=num_selections)\n",
    "hidden_l1 = loguniform.rvs(1e-6, 0.01, size=num_selections)\n",
    "# hidden_l1 = np.random.uniform(0, 0.01, size=num_selections)\n",
    "lr = loguniform.rvs(1e-5, 1e-3, size=num_selections)\n",
    "\n",
    "hidden_dim = [0.1] * num_selections\n",
    "hidden_layers = [1] * num_selections\n",
    "input_dropout = [0.1] * num_selections\n",
    "hidden_dropout = [0.4] * num_selections\n",
    "input_l1 = [0.1] * num_selections\n",
    "hidden_l1 = [5e-5, 5e-2, 5e-3]\n",
    "lr = [1e-4] * num_selections\n",
    "\n",
    "combinations_all = pd.DataFrame({\"Hidden_Layers\": hidden_layers,\n",
    "                                  \"Hidden_Dim\": hidden_dim,\n",
    "                                  \"L1_input\": input_l1,\n",
    "                                  \"L1_hidden\": hidden_l1,\n",
    "                                  \"Dropout_input\": input_dropout,\n",
    "                                  \"Dropout_hidden\": hidden_dropout,\n",
    "                                  \"LR\": lr,\n",
    "                                  \"Best AUC\": [np.nan] * num_selections,\n",
    "                                  \"Best Loss\": [np.nan] * num_selections,\n",
    "                                  \"Best AUC Epoch\": [np.nan] * num_selections,\n",
    "                                  \"Loss at Best AUC Epoch\": [np.nan] * num_selections,\n",
    "                                  \"Best Loss Epoch\": [np.nan] * num_selections,\n",
    "                                  \"AUC at Best Loss Epoch\": [np.nan] * num_selections,\n",
    "                                  \"Total Epochs\": [max_epochs] * num_selections,\n",
    "                                  \"Status\": [\"Not Started\"] * num_selections})\n",
    "print(combinations_all)"
   ]
  },
  {
   "cell_type": "code",
   "execution_count": 14,
   "id": "a872c615",
   "metadata": {
    "scrolled": true
   },
   "outputs": [
    {
     "name": "stdout",
     "output_type": "stream",
     "text": [
      "Disease Name: Breast_Cancer\n",
      "PRS Set: None\n",
      "PRS Names: ['BC_77', 'BC_313']\n",
      "NG Set: NG2\n",
      "M: M2\n",
      "\n",
      "-------------------------\n",
      "\n",
      "         UKB ID  time_window_incident/nan/10.0/nan/av1\n",
      "0       5713894                                    0.0\n",
      "1       2048882                                    1.0\n",
      "2       1748132                                    0.0\n",
      "3       3772083                                    0.0\n",
      "4       4376107                                    0.0\n",
      "...         ...                                    ...\n",
      "471726  2637602                                    0.0\n",
      "471727  2397350                                    0.0\n",
      "471728  3905086                                    0.0\n",
      "471729  5844444                                    0.0\n",
      "471730  3002154                                    0.0\n",
      "\n",
      "[471731 rows x 2 columns]\n",
      "\n",
      "-----------\n",
      "Starting trial 1\n",
      "------------\n",
      "\n",
      "Train Class Penalty: {'case_weight': 37.0, 'control_weight': 1}\n",
      "\n",
      "\n",
      "---------------\n",
      "Running Experiment 37b\n",
      "\n",
      "Loading data...\n",
      "         UKB ID  time_window_incident/nan/10.0/nan/av1\n",
      "0       3398643                                    0.0\n",
      "1       4223177                                    0.0\n",
      "2       2511029                                    0.0\n",
      "3       3024368                                    0.0\n",
      "4       3842663                                    0.0\n",
      "...         ...                                    ...\n",
      "135375  4752548                                    0.0\n",
      "135376  5413231                                    0.0\n",
      "135377  2045294                                    0.0\n",
      "135378  4049992                                    0.0\n",
      "135379  2463557                                    0.0\n",
      "\n",
      "[135380 rows x 2 columns]\n",
      "Done loading data\n",
      "Loading data...\n",
      "        UKB ID  time_window_incident/nan/10.0/nan/av1\n",
      "0      1987205                                    0.0\n",
      "1      5000981                                    0.0\n",
      "2      2606442                                    0.0\n",
      "3      4458122                                    0.0\n",
      "4      2213152                                    0.0\n",
      "...        ...                                    ...\n",
      "38586  4917852                                    0.0\n",
      "38587  4481779                                    0.0\n",
      "38588  1228805                                    0.0\n",
      "38589  2991284                                    0.0\n",
      "38590  5447294                                    0.0\n",
      "\n",
      "[38591 rows x 2 columns]\n",
      "Done loading data\n",
      "setting up model...\n",
      "Penalizing the classes\n",
      "done setting up model...\n",
      "<bound method Module.named_parameters of FeedForwardNet(\n",
      "  (layers_list): ModuleList(\n",
      "    (0): Linear(in_features=601, out_features=60, bias=True)\n",
      "    (1): Linear(in_features=60, out_features=1, bias=True)\n",
      "  )\n",
      "  (input_dropout): Dropout(p=0.1, inplace=False)\n",
      "  (output_dropout): Dropout(p=0, inplace=False)\n",
      "  (hidden_dropout_list): ModuleList(\n",
      "    (0): Dropout(p=0.4, inplace=False)\n",
      "  )\n",
      "  (criterion): BCELoss()\n",
      ")>\n",
      "layers_list.0.weight : torch.Size([60, 601])\n",
      "layers_list.0.bias : torch.Size([60])\n",
      "layers_list.1.weight : torch.Size([1, 60])\n",
      "layers_list.1.bias : torch.Size([1])\n"
     ]
    },
    {
     "data": {
      "application/javascript": [
       "/* Put everything inside the global mpl namespace */\n",
       "/* global mpl */\n",
       "window.mpl = {};\n",
       "\n",
       "mpl.get_websocket_type = function () {\n",
       "    if (typeof WebSocket !== 'undefined') {\n",
       "        return WebSocket;\n",
       "    } else if (typeof MozWebSocket !== 'undefined') {\n",
       "        return MozWebSocket;\n",
       "    } else {\n",
       "        alert(\n",
       "            'Your browser does not have WebSocket support. ' +\n",
       "                'Please try Chrome, Safari or Firefox ≥ 6. ' +\n",
       "                'Firefox 4 and 5 are also supported but you ' +\n",
       "                'have to enable WebSockets in about:config.'\n",
       "        );\n",
       "    }\n",
       "};\n",
       "\n",
       "mpl.figure = function (figure_id, websocket, ondownload, parent_element) {\n",
       "    this.id = figure_id;\n",
       "\n",
       "    this.ws = websocket;\n",
       "\n",
       "    this.supports_binary = this.ws.binaryType !== undefined;\n",
       "\n",
       "    if (!this.supports_binary) {\n",
       "        var warnings = document.getElementById('mpl-warnings');\n",
       "        if (warnings) {\n",
       "            warnings.style.display = 'block';\n",
       "            warnings.textContent =\n",
       "                'This browser does not support binary websocket messages. ' +\n",
       "                'Performance may be slow.';\n",
       "        }\n",
       "    }\n",
       "\n",
       "    this.imageObj = new Image();\n",
       "\n",
       "    this.context = undefined;\n",
       "    this.message = undefined;\n",
       "    this.canvas = undefined;\n",
       "    this.rubberband_canvas = undefined;\n",
       "    this.rubberband_context = undefined;\n",
       "    this.format_dropdown = undefined;\n",
       "\n",
       "    this.image_mode = 'full';\n",
       "\n",
       "    this.root = document.createElement('div');\n",
       "    this.root.setAttribute('style', 'display: inline-block');\n",
       "    this._root_extra_style(this.root);\n",
       "\n",
       "    parent_element.appendChild(this.root);\n",
       "\n",
       "    this._init_header(this);\n",
       "    this._init_canvas(this);\n",
       "    this._init_toolbar(this);\n",
       "\n",
       "    var fig = this;\n",
       "\n",
       "    this.waiting = false;\n",
       "\n",
       "    this.ws.onopen = function () {\n",
       "        fig.send_message('supports_binary', { value: fig.supports_binary });\n",
       "        fig.send_message('send_image_mode', {});\n",
       "        if (fig.ratio !== 1) {\n",
       "            fig.send_message('set_dpi_ratio', { dpi_ratio: fig.ratio });\n",
       "        }\n",
       "        fig.send_message('refresh', {});\n",
       "    };\n",
       "\n",
       "    this.imageObj.onload = function () {\n",
       "        if (fig.image_mode === 'full') {\n",
       "            // Full images could contain transparency (where diff images\n",
       "            // almost always do), so we need to clear the canvas so that\n",
       "            // there is no ghosting.\n",
       "            fig.context.clearRect(0, 0, fig.canvas.width, fig.canvas.height);\n",
       "        }\n",
       "        fig.context.drawImage(fig.imageObj, 0, 0);\n",
       "    };\n",
       "\n",
       "    this.imageObj.onunload = function () {\n",
       "        fig.ws.close();\n",
       "    };\n",
       "\n",
       "    this.ws.onmessage = this._make_on_message_function(this);\n",
       "\n",
       "    this.ondownload = ondownload;\n",
       "};\n",
       "\n",
       "mpl.figure.prototype._init_header = function () {\n",
       "    var titlebar = document.createElement('div');\n",
       "    titlebar.classList =\n",
       "        'ui-dialog-titlebar ui-widget-header ui-corner-all ui-helper-clearfix';\n",
       "    var titletext = document.createElement('div');\n",
       "    titletext.classList = 'ui-dialog-title';\n",
       "    titletext.setAttribute(\n",
       "        'style',\n",
       "        'width: 100%; text-align: center; padding: 3px;'\n",
       "    );\n",
       "    titlebar.appendChild(titletext);\n",
       "    this.root.appendChild(titlebar);\n",
       "    this.header = titletext;\n",
       "};\n",
       "\n",
       "mpl.figure.prototype._canvas_extra_style = function (_canvas_div) {};\n",
       "\n",
       "mpl.figure.prototype._root_extra_style = function (_canvas_div) {};\n",
       "\n",
       "mpl.figure.prototype._init_canvas = function () {\n",
       "    var fig = this;\n",
       "\n",
       "    var canvas_div = (this.canvas_div = document.createElement('div'));\n",
       "    canvas_div.setAttribute(\n",
       "        'style',\n",
       "        'border: 1px solid #ddd;' +\n",
       "            'box-sizing: content-box;' +\n",
       "            'clear: both;' +\n",
       "            'min-height: 1px;' +\n",
       "            'min-width: 1px;' +\n",
       "            'outline: 0;' +\n",
       "            'overflow: hidden;' +\n",
       "            'position: relative;' +\n",
       "            'resize: both;'\n",
       "    );\n",
       "\n",
       "    function on_keyboard_event_closure(name) {\n",
       "        return function (event) {\n",
       "            return fig.key_event(event, name);\n",
       "        };\n",
       "    }\n",
       "\n",
       "    canvas_div.addEventListener(\n",
       "        'keydown',\n",
       "        on_keyboard_event_closure('key_press')\n",
       "    );\n",
       "    canvas_div.addEventListener(\n",
       "        'keyup',\n",
       "        on_keyboard_event_closure('key_release')\n",
       "    );\n",
       "\n",
       "    this._canvas_extra_style(canvas_div);\n",
       "    this.root.appendChild(canvas_div);\n",
       "\n",
       "    var canvas = (this.canvas = document.createElement('canvas'));\n",
       "    canvas.classList.add('mpl-canvas');\n",
       "    canvas.setAttribute('style', 'box-sizing: content-box;');\n",
       "\n",
       "    this.context = canvas.getContext('2d');\n",
       "\n",
       "    var backingStore =\n",
       "        this.context.backingStorePixelRatio ||\n",
       "        this.context.webkitBackingStorePixelRatio ||\n",
       "        this.context.mozBackingStorePixelRatio ||\n",
       "        this.context.msBackingStorePixelRatio ||\n",
       "        this.context.oBackingStorePixelRatio ||\n",
       "        this.context.backingStorePixelRatio ||\n",
       "        1;\n",
       "\n",
       "    this.ratio = (window.devicePixelRatio || 1) / backingStore;\n",
       "\n",
       "    var rubberband_canvas = (this.rubberband_canvas = document.createElement(\n",
       "        'canvas'\n",
       "    ));\n",
       "    rubberband_canvas.setAttribute(\n",
       "        'style',\n",
       "        'box-sizing: content-box; position: absolute; left: 0; top: 0; z-index: 1;'\n",
       "    );\n",
       "\n",
       "    // Apply a ponyfill if ResizeObserver is not implemented by browser.\n",
       "    if (this.ResizeObserver === undefined) {\n",
       "        if (window.ResizeObserver !== undefined) {\n",
       "            this.ResizeObserver = window.ResizeObserver;\n",
       "        } else {\n",
       "            var obs = _JSXTOOLS_RESIZE_OBSERVER({});\n",
       "            this.ResizeObserver = obs.ResizeObserver;\n",
       "        }\n",
       "    }\n",
       "\n",
       "    this.resizeObserverInstance = new this.ResizeObserver(function (entries) {\n",
       "        var nentries = entries.length;\n",
       "        for (var i = 0; i < nentries; i++) {\n",
       "            var entry = entries[i];\n",
       "            var width, height;\n",
       "            if (entry.contentBoxSize) {\n",
       "                if (entry.contentBoxSize instanceof Array) {\n",
       "                    // Chrome 84 implements new version of spec.\n",
       "                    width = entry.contentBoxSize[0].inlineSize;\n",
       "                    height = entry.contentBoxSize[0].blockSize;\n",
       "                } else {\n",
       "                    // Firefox implements old version of spec.\n",
       "                    width = entry.contentBoxSize.inlineSize;\n",
       "                    height = entry.contentBoxSize.blockSize;\n",
       "                }\n",
       "            } else {\n",
       "                // Chrome <84 implements even older version of spec.\n",
       "                width = entry.contentRect.width;\n",
       "                height = entry.contentRect.height;\n",
       "            }\n",
       "\n",
       "            // Keep the size of the canvas and rubber band canvas in sync with\n",
       "            // the canvas container.\n",
       "            if (entry.devicePixelContentBoxSize) {\n",
       "                // Chrome 84 implements new version of spec.\n",
       "                canvas.setAttribute(\n",
       "                    'width',\n",
       "                    entry.devicePixelContentBoxSize[0].inlineSize\n",
       "                );\n",
       "                canvas.setAttribute(\n",
       "                    'height',\n",
       "                    entry.devicePixelContentBoxSize[0].blockSize\n",
       "                );\n",
       "            } else {\n",
       "                canvas.setAttribute('width', width * fig.ratio);\n",
       "                canvas.setAttribute('height', height * fig.ratio);\n",
       "            }\n",
       "            canvas.setAttribute(\n",
       "                'style',\n",
       "                'width: ' + width + 'px; height: ' + height + 'px;'\n",
       "            );\n",
       "\n",
       "            rubberband_canvas.setAttribute('width', width);\n",
       "            rubberband_canvas.setAttribute('height', height);\n",
       "\n",
       "            // And update the size in Python. We ignore the initial 0/0 size\n",
       "            // that occurs as the element is placed into the DOM, which should\n",
       "            // otherwise not happen due to the minimum size styling.\n",
       "            if (fig.ws.readyState == 1 && width != 0 && height != 0) {\n",
       "                fig.request_resize(width, height);\n",
       "            }\n",
       "        }\n",
       "    });\n",
       "    this.resizeObserverInstance.observe(canvas_div);\n",
       "\n",
       "    function on_mouse_event_closure(name) {\n",
       "        return function (event) {\n",
       "            return fig.mouse_event(event, name);\n",
       "        };\n",
       "    }\n",
       "\n",
       "    rubberband_canvas.addEventListener(\n",
       "        'mousedown',\n",
       "        on_mouse_event_closure('button_press')\n",
       "    );\n",
       "    rubberband_canvas.addEventListener(\n",
       "        'mouseup',\n",
       "        on_mouse_event_closure('button_release')\n",
       "    );\n",
       "    // Throttle sequential mouse events to 1 every 20ms.\n",
       "    rubberband_canvas.addEventListener(\n",
       "        'mousemove',\n",
       "        on_mouse_event_closure('motion_notify')\n",
       "    );\n",
       "\n",
       "    rubberband_canvas.addEventListener(\n",
       "        'mouseenter',\n",
       "        on_mouse_event_closure('figure_enter')\n",
       "    );\n",
       "    rubberband_canvas.addEventListener(\n",
       "        'mouseleave',\n",
       "        on_mouse_event_closure('figure_leave')\n",
       "    );\n",
       "\n",
       "    canvas_div.addEventListener('wheel', function (event) {\n",
       "        if (event.deltaY < 0) {\n",
       "            event.step = 1;\n",
       "        } else {\n",
       "            event.step = -1;\n",
       "        }\n",
       "        on_mouse_event_closure('scroll')(event);\n",
       "    });\n",
       "\n",
       "    canvas_div.appendChild(canvas);\n",
       "    canvas_div.appendChild(rubberband_canvas);\n",
       "\n",
       "    this.rubberband_context = rubberband_canvas.getContext('2d');\n",
       "    this.rubberband_context.strokeStyle = '#000000';\n",
       "\n",
       "    this._resize_canvas = function (width, height, forward) {\n",
       "        if (forward) {\n",
       "            canvas_div.style.width = width + 'px';\n",
       "            canvas_div.style.height = height + 'px';\n",
       "        }\n",
       "    };\n",
       "\n",
       "    // Disable right mouse context menu.\n",
       "    this.rubberband_canvas.addEventListener('contextmenu', function (_e) {\n",
       "        event.preventDefault();\n",
       "        return false;\n",
       "    });\n",
       "\n",
       "    function set_focus() {\n",
       "        canvas.focus();\n",
       "        canvas_div.focus();\n",
       "    }\n",
       "\n",
       "    window.setTimeout(set_focus, 100);\n",
       "};\n",
       "\n",
       "mpl.figure.prototype._init_toolbar = function () {\n",
       "    var fig = this;\n",
       "\n",
       "    var toolbar = document.createElement('div');\n",
       "    toolbar.classList = 'mpl-toolbar';\n",
       "    this.root.appendChild(toolbar);\n",
       "\n",
       "    function on_click_closure(name) {\n",
       "        return function (_event) {\n",
       "            return fig.toolbar_button_onclick(name);\n",
       "        };\n",
       "    }\n",
       "\n",
       "    function on_mouseover_closure(tooltip) {\n",
       "        return function (event) {\n",
       "            if (!event.currentTarget.disabled) {\n",
       "                return fig.toolbar_button_onmouseover(tooltip);\n",
       "            }\n",
       "        };\n",
       "    }\n",
       "\n",
       "    fig.buttons = {};\n",
       "    var buttonGroup = document.createElement('div');\n",
       "    buttonGroup.classList = 'mpl-button-group';\n",
       "    for (var toolbar_ind in mpl.toolbar_items) {\n",
       "        var name = mpl.toolbar_items[toolbar_ind][0];\n",
       "        var tooltip = mpl.toolbar_items[toolbar_ind][1];\n",
       "        var image = mpl.toolbar_items[toolbar_ind][2];\n",
       "        var method_name = mpl.toolbar_items[toolbar_ind][3];\n",
       "\n",
       "        if (!name) {\n",
       "            /* Instead of a spacer, we start a new button group. */\n",
       "            if (buttonGroup.hasChildNodes()) {\n",
       "                toolbar.appendChild(buttonGroup);\n",
       "            }\n",
       "            buttonGroup = document.createElement('div');\n",
       "            buttonGroup.classList = 'mpl-button-group';\n",
       "            continue;\n",
       "        }\n",
       "\n",
       "        var button = (fig.buttons[name] = document.createElement('button'));\n",
       "        button.classList = 'mpl-widget';\n",
       "        button.setAttribute('role', 'button');\n",
       "        button.setAttribute('aria-disabled', 'false');\n",
       "        button.addEventListener('click', on_click_closure(method_name));\n",
       "        button.addEventListener('mouseover', on_mouseover_closure(tooltip));\n",
       "\n",
       "        var icon_img = document.createElement('img');\n",
       "        icon_img.src = '_images/' + image + '.png';\n",
       "        icon_img.srcset = '_images/' + image + '_large.png 2x';\n",
       "        icon_img.alt = tooltip;\n",
       "        button.appendChild(icon_img);\n",
       "\n",
       "        buttonGroup.appendChild(button);\n",
       "    }\n",
       "\n",
       "    if (buttonGroup.hasChildNodes()) {\n",
       "        toolbar.appendChild(buttonGroup);\n",
       "    }\n",
       "\n",
       "    var fmt_picker = document.createElement('select');\n",
       "    fmt_picker.classList = 'mpl-widget';\n",
       "    toolbar.appendChild(fmt_picker);\n",
       "    this.format_dropdown = fmt_picker;\n",
       "\n",
       "    for (var ind in mpl.extensions) {\n",
       "        var fmt = mpl.extensions[ind];\n",
       "        var option = document.createElement('option');\n",
       "        option.selected = fmt === mpl.default_extension;\n",
       "        option.innerHTML = fmt;\n",
       "        fmt_picker.appendChild(option);\n",
       "    }\n",
       "\n",
       "    var status_bar = document.createElement('span');\n",
       "    status_bar.classList = 'mpl-message';\n",
       "    toolbar.appendChild(status_bar);\n",
       "    this.message = status_bar;\n",
       "};\n",
       "\n",
       "mpl.figure.prototype.request_resize = function (x_pixels, y_pixels) {\n",
       "    // Request matplotlib to resize the figure. Matplotlib will then trigger a resize in the client,\n",
       "    // which will in turn request a refresh of the image.\n",
       "    this.send_message('resize', { width: x_pixels, height: y_pixels });\n",
       "};\n",
       "\n",
       "mpl.figure.prototype.send_message = function (type, properties) {\n",
       "    properties['type'] = type;\n",
       "    properties['figure_id'] = this.id;\n",
       "    this.ws.send(JSON.stringify(properties));\n",
       "};\n",
       "\n",
       "mpl.figure.prototype.send_draw_message = function () {\n",
       "    if (!this.waiting) {\n",
       "        this.waiting = true;\n",
       "        this.ws.send(JSON.stringify({ type: 'draw', figure_id: this.id }));\n",
       "    }\n",
       "};\n",
       "\n",
       "mpl.figure.prototype.handle_save = function (fig, _msg) {\n",
       "    var format_dropdown = fig.format_dropdown;\n",
       "    var format = format_dropdown.options[format_dropdown.selectedIndex].value;\n",
       "    fig.ondownload(fig, format);\n",
       "};\n",
       "\n",
       "mpl.figure.prototype.handle_resize = function (fig, msg) {\n",
       "    var size = msg['size'];\n",
       "    if (size[0] !== fig.canvas.width || size[1] !== fig.canvas.height) {\n",
       "        fig._resize_canvas(size[0], size[1], msg['forward']);\n",
       "        fig.send_message('refresh', {});\n",
       "    }\n",
       "};\n",
       "\n",
       "mpl.figure.prototype.handle_rubberband = function (fig, msg) {\n",
       "    var x0 = msg['x0'] / fig.ratio;\n",
       "    var y0 = (fig.canvas.height - msg['y0']) / fig.ratio;\n",
       "    var x1 = msg['x1'] / fig.ratio;\n",
       "    var y1 = (fig.canvas.height - msg['y1']) / fig.ratio;\n",
       "    x0 = Math.floor(x0) + 0.5;\n",
       "    y0 = Math.floor(y0) + 0.5;\n",
       "    x1 = Math.floor(x1) + 0.5;\n",
       "    y1 = Math.floor(y1) + 0.5;\n",
       "    var min_x = Math.min(x0, x1);\n",
       "    var min_y = Math.min(y0, y1);\n",
       "    var width = Math.abs(x1 - x0);\n",
       "    var height = Math.abs(y1 - y0);\n",
       "\n",
       "    fig.rubberband_context.clearRect(\n",
       "        0,\n",
       "        0,\n",
       "        fig.canvas.width / fig.ratio,\n",
       "        fig.canvas.height / fig.ratio\n",
       "    );\n",
       "\n",
       "    fig.rubberband_context.strokeRect(min_x, min_y, width, height);\n",
       "};\n",
       "\n",
       "mpl.figure.prototype.handle_figure_label = function (fig, msg) {\n",
       "    // Updates the figure title.\n",
       "    fig.header.textContent = msg['label'];\n",
       "};\n",
       "\n",
       "mpl.figure.prototype.handle_cursor = function (fig, msg) {\n",
       "    var cursor = msg['cursor'];\n",
       "    switch (cursor) {\n",
       "        case 0:\n",
       "            cursor = 'pointer';\n",
       "            break;\n",
       "        case 1:\n",
       "            cursor = 'default';\n",
       "            break;\n",
       "        case 2:\n",
       "            cursor = 'crosshair';\n",
       "            break;\n",
       "        case 3:\n",
       "            cursor = 'move';\n",
       "            break;\n",
       "    }\n",
       "    fig.rubberband_canvas.style.cursor = cursor;\n",
       "};\n",
       "\n",
       "mpl.figure.prototype.handle_message = function (fig, msg) {\n",
       "    fig.message.textContent = msg['message'];\n",
       "};\n",
       "\n",
       "mpl.figure.prototype.handle_draw = function (fig, _msg) {\n",
       "    // Request the server to send over a new figure.\n",
       "    fig.send_draw_message();\n",
       "};\n",
       "\n",
       "mpl.figure.prototype.handle_image_mode = function (fig, msg) {\n",
       "    fig.image_mode = msg['mode'];\n",
       "};\n",
       "\n",
       "mpl.figure.prototype.handle_history_buttons = function (fig, msg) {\n",
       "    for (var key in msg) {\n",
       "        if (!(key in fig.buttons)) {\n",
       "            continue;\n",
       "        }\n",
       "        fig.buttons[key].disabled = !msg[key];\n",
       "        fig.buttons[key].setAttribute('aria-disabled', !msg[key]);\n",
       "    }\n",
       "};\n",
       "\n",
       "mpl.figure.prototype.handle_navigate_mode = function (fig, msg) {\n",
       "    if (msg['mode'] === 'PAN') {\n",
       "        fig.buttons['Pan'].classList.add('active');\n",
       "        fig.buttons['Zoom'].classList.remove('active');\n",
       "    } else if (msg['mode'] === 'ZOOM') {\n",
       "        fig.buttons['Pan'].classList.remove('active');\n",
       "        fig.buttons['Zoom'].classList.add('active');\n",
       "    } else {\n",
       "        fig.buttons['Pan'].classList.remove('active');\n",
       "        fig.buttons['Zoom'].classList.remove('active');\n",
       "    }\n",
       "};\n",
       "\n",
       "mpl.figure.prototype.updated_canvas_event = function () {\n",
       "    // Called whenever the canvas gets updated.\n",
       "    this.send_message('ack', {});\n",
       "};\n",
       "\n",
       "// A function to construct a web socket function for onmessage handling.\n",
       "// Called in the figure constructor.\n",
       "mpl.figure.prototype._make_on_message_function = function (fig) {\n",
       "    return function socket_on_message(evt) {\n",
       "        if (evt.data instanceof Blob) {\n",
       "            /* FIXME: We get \"Resource interpreted as Image but\n",
       "             * transferred with MIME type text/plain:\" errors on\n",
       "             * Chrome.  But how to set the MIME type?  It doesn't seem\n",
       "             * to be part of the websocket stream */\n",
       "            evt.data.type = 'image/png';\n",
       "\n",
       "            /* Free the memory for the previous frames */\n",
       "            if (fig.imageObj.src) {\n",
       "                (window.URL || window.webkitURL).revokeObjectURL(\n",
       "                    fig.imageObj.src\n",
       "                );\n",
       "            }\n",
       "\n",
       "            fig.imageObj.src = (window.URL || window.webkitURL).createObjectURL(\n",
       "                evt.data\n",
       "            );\n",
       "            fig.updated_canvas_event();\n",
       "            fig.waiting = false;\n",
       "            return;\n",
       "        } else if (\n",
       "            typeof evt.data === 'string' &&\n",
       "            evt.data.slice(0, 21) === 'data:image/png;base64'\n",
       "        ) {\n",
       "            fig.imageObj.src = evt.data;\n",
       "            fig.updated_canvas_event();\n",
       "            fig.waiting = false;\n",
       "            return;\n",
       "        }\n",
       "\n",
       "        var msg = JSON.parse(evt.data);\n",
       "        var msg_type = msg['type'];\n",
       "\n",
       "        // Call the  \"handle_{type}\" callback, which takes\n",
       "        // the figure and JSON message as its only arguments.\n",
       "        try {\n",
       "            var callback = fig['handle_' + msg_type];\n",
       "        } catch (e) {\n",
       "            console.log(\n",
       "                \"No handler for the '\" + msg_type + \"' message type: \",\n",
       "                msg\n",
       "            );\n",
       "            return;\n",
       "        }\n",
       "\n",
       "        if (callback) {\n",
       "            try {\n",
       "                // console.log(\"Handling '\" + msg_type + \"' message: \", msg);\n",
       "                callback(fig, msg);\n",
       "            } catch (e) {\n",
       "                console.log(\n",
       "                    \"Exception inside the 'handler_\" + msg_type + \"' callback:\",\n",
       "                    e,\n",
       "                    e.stack,\n",
       "                    msg\n",
       "                );\n",
       "            }\n",
       "        }\n",
       "    };\n",
       "};\n",
       "\n",
       "// from http://stackoverflow.com/questions/1114465/getting-mouse-location-in-canvas\n",
       "mpl.findpos = function (e) {\n",
       "    //this section is from http://www.quirksmode.org/js/events_properties.html\n",
       "    var targ;\n",
       "    if (!e) {\n",
       "        e = window.event;\n",
       "    }\n",
       "    if (e.target) {\n",
       "        targ = e.target;\n",
       "    } else if (e.srcElement) {\n",
       "        targ = e.srcElement;\n",
       "    }\n",
       "    if (targ.nodeType === 3) {\n",
       "        // defeat Safari bug\n",
       "        targ = targ.parentNode;\n",
       "    }\n",
       "\n",
       "    // pageX,Y are the mouse positions relative to the document\n",
       "    var boundingRect = targ.getBoundingClientRect();\n",
       "    var x = e.pageX - (boundingRect.left + document.body.scrollLeft);\n",
       "    var y = e.pageY - (boundingRect.top + document.body.scrollTop);\n",
       "\n",
       "    return { x: x, y: y };\n",
       "};\n",
       "\n",
       "/*\n",
       " * return a copy of an object with only non-object keys\n",
       " * we need this to avoid circular references\n",
       " * http://stackoverflow.com/a/24161582/3208463\n",
       " */\n",
       "function simpleKeys(original) {\n",
       "    return Object.keys(original).reduce(function (obj, key) {\n",
       "        if (typeof original[key] !== 'object') {\n",
       "            obj[key] = original[key];\n",
       "        }\n",
       "        return obj;\n",
       "    }, {});\n",
       "}\n",
       "\n",
       "mpl.figure.prototype.mouse_event = function (event, name) {\n",
       "    var canvas_pos = mpl.findpos(event);\n",
       "\n",
       "    if (name === 'button_press') {\n",
       "        this.canvas.focus();\n",
       "        this.canvas_div.focus();\n",
       "    }\n",
       "\n",
       "    var x = canvas_pos.x * this.ratio;\n",
       "    var y = canvas_pos.y * this.ratio;\n",
       "\n",
       "    this.send_message(name, {\n",
       "        x: x,\n",
       "        y: y,\n",
       "        button: event.button,\n",
       "        step: event.step,\n",
       "        guiEvent: simpleKeys(event),\n",
       "    });\n",
       "\n",
       "    /* This prevents the web browser from automatically changing to\n",
       "     * the text insertion cursor when the button is pressed.  We want\n",
       "     * to control all of the cursor setting manually through the\n",
       "     * 'cursor' event from matplotlib */\n",
       "    event.preventDefault();\n",
       "    return false;\n",
       "};\n",
       "\n",
       "mpl.figure.prototype._key_event_extra = function (_event, _name) {\n",
       "    // Handle any extra behaviour associated with a key event\n",
       "};\n",
       "\n",
       "mpl.figure.prototype.key_event = function (event, name) {\n",
       "    // Prevent repeat events\n",
       "    if (name === 'key_press') {\n",
       "        if (event.which === this._key) {\n",
       "            return;\n",
       "        } else {\n",
       "            this._key = event.which;\n",
       "        }\n",
       "    }\n",
       "    if (name === 'key_release') {\n",
       "        this._key = null;\n",
       "    }\n",
       "\n",
       "    var value = '';\n",
       "    if (event.ctrlKey && event.which !== 17) {\n",
       "        value += 'ctrl+';\n",
       "    }\n",
       "    if (event.altKey && event.which !== 18) {\n",
       "        value += 'alt+';\n",
       "    }\n",
       "    if (event.shiftKey && event.which !== 16) {\n",
       "        value += 'shift+';\n",
       "    }\n",
       "\n",
       "    value += 'k';\n",
       "    value += event.which.toString();\n",
       "\n",
       "    this._key_event_extra(event, name);\n",
       "\n",
       "    this.send_message(name, { key: value, guiEvent: simpleKeys(event) });\n",
       "    return false;\n",
       "};\n",
       "\n",
       "mpl.figure.prototype.toolbar_button_onclick = function (name) {\n",
       "    if (name === 'download') {\n",
       "        this.handle_save(this, null);\n",
       "    } else {\n",
       "        this.send_message('toolbar_button', { name: name });\n",
       "    }\n",
       "};\n",
       "\n",
       "mpl.figure.prototype.toolbar_button_onmouseover = function (tooltip) {\n",
       "    this.message.textContent = tooltip;\n",
       "};\n",
       "\n",
       "///////////////// REMAINING CONTENT GENERATED BY embed_js.py /////////////////\n",
       "// prettier-ignore\n",
       "var _JSXTOOLS_RESIZE_OBSERVER=function(A){var t,i=new WeakMap,n=new WeakMap,a=new WeakMap,r=new WeakMap,o=new Set;function s(e){if(!(this instanceof s))throw new TypeError(\"Constructor requires 'new' operator\");i.set(this,e)}function h(){throw new TypeError(\"Function is not a constructor\")}function c(e,t,i,n){e=0 in arguments?Number(arguments[0]):0,t=1 in arguments?Number(arguments[1]):0,i=2 in arguments?Number(arguments[2]):0,n=3 in arguments?Number(arguments[3]):0,this.right=(this.x=this.left=e)+(this.width=i),this.bottom=(this.y=this.top=t)+(this.height=n),Object.freeze(this)}function d(){t=requestAnimationFrame(d);var s=new WeakMap,p=new Set;o.forEach((function(t){r.get(t).forEach((function(i){var r=t instanceof window.SVGElement,o=a.get(t),d=r?0:parseFloat(o.paddingTop),f=r?0:parseFloat(o.paddingRight),l=r?0:parseFloat(o.paddingBottom),u=r?0:parseFloat(o.paddingLeft),g=r?0:parseFloat(o.borderTopWidth),m=r?0:parseFloat(o.borderRightWidth),w=r?0:parseFloat(o.borderBottomWidth),b=u+f,F=d+l,v=(r?0:parseFloat(o.borderLeftWidth))+m,W=g+w,y=r?0:t.offsetHeight-W-t.clientHeight,E=r?0:t.offsetWidth-v-t.clientWidth,R=b+v,z=F+W,M=r?t.width:parseFloat(o.width)-R-E,O=r?t.height:parseFloat(o.height)-z-y;if(n.has(t)){var k=n.get(t);if(k[0]===M&&k[1]===O)return}n.set(t,[M,O]);var S=Object.create(h.prototype);S.target=t,S.contentRect=new c(u,d,M,O),s.has(i)||(s.set(i,[]),p.add(i)),s.get(i).push(S)}))})),p.forEach((function(e){i.get(e).call(e,s.get(e),e)}))}return s.prototype.observe=function(i){if(i instanceof window.Element){r.has(i)||(r.set(i,new Set),o.add(i),a.set(i,window.getComputedStyle(i)));var n=r.get(i);n.has(this)||n.add(this),cancelAnimationFrame(t),t=requestAnimationFrame(d)}},s.prototype.unobserve=function(i){if(i instanceof window.Element&&r.has(i)){var n=r.get(i);n.has(this)&&(n.delete(this),n.size||(r.delete(i),o.delete(i))),n.size||r.delete(i),o.size||cancelAnimationFrame(t)}},A.DOMRectReadOnly=c,A.ResizeObserver=s,A.ResizeObserverEntry=h,A}; // eslint-disable-line\n",
       "mpl.toolbar_items = [[\"Home\", \"Reset original view\", \"fa fa-home icon-home\", \"home\"], [\"Back\", \"Back to previous view\", \"fa fa-arrow-left icon-arrow-left\", \"back\"], [\"Forward\", \"Forward to next view\", \"fa fa-arrow-right icon-arrow-right\", \"forward\"], [\"\", \"\", \"\", \"\"], [\"Pan\", \"Left button pans, Right button zooms\\nx/y fixes axis, CTRL fixes aspect\", \"fa fa-arrows icon-move\", \"pan\"], [\"Zoom\", \"Zoom to rectangle\\nx/y fixes axis, CTRL fixes aspect\", \"fa fa-square-o icon-check-empty\", \"zoom\"], [\"\", \"\", \"\", \"\"], [\"Download\", \"Download plot\", \"fa fa-floppy-o icon-save\", \"download\"]];\n",
       "\n",
       "mpl.extensions = [\"eps\", \"jpeg\", \"pdf\", \"png\", \"ps\", \"raw\", \"svg\", \"tif\"];\n",
       "\n",
       "mpl.default_extension = \"png\";/* global mpl */\n",
       "\n",
       "var comm_websocket_adapter = function (comm) {\n",
       "    // Create a \"websocket\"-like object which calls the given IPython comm\n",
       "    // object with the appropriate methods. Currently this is a non binary\n",
       "    // socket, so there is still some room for performance tuning.\n",
       "    var ws = {};\n",
       "\n",
       "    ws.close = function () {\n",
       "        comm.close();\n",
       "    };\n",
       "    ws.send = function (m) {\n",
       "        //console.log('sending', m);\n",
       "        comm.send(m);\n",
       "    };\n",
       "    // Register the callback with on_msg.\n",
       "    comm.on_msg(function (msg) {\n",
       "        //console.log('receiving', msg['content']['data'], msg);\n",
       "        // Pass the mpl event to the overridden (by mpl) onmessage function.\n",
       "        ws.onmessage(msg['content']['data']);\n",
       "    });\n",
       "    return ws;\n",
       "};\n",
       "\n",
       "mpl.mpl_figure_comm = function (comm, msg) {\n",
       "    // This is the function which gets called when the mpl process\n",
       "    // starts-up an IPython Comm through the \"matplotlib\" channel.\n",
       "\n",
       "    var id = msg.content.data.id;\n",
       "    // Get hold of the div created by the display call when the Comm\n",
       "    // socket was opened in Python.\n",
       "    var element = document.getElementById(id);\n",
       "    var ws_proxy = comm_websocket_adapter(comm);\n",
       "\n",
       "    function ondownload(figure, _format) {\n",
       "        window.open(figure.canvas.toDataURL());\n",
       "    }\n",
       "\n",
       "    var fig = new mpl.figure(id, ws_proxy, ondownload, element);\n",
       "\n",
       "    // Call onopen now - mpl needs it, as it is assuming we've passed it a real\n",
       "    // web socket which is closed, not our websocket->open comm proxy.\n",
       "    ws_proxy.onopen();\n",
       "\n",
       "    fig.parent_element = element;\n",
       "    fig.cell_info = mpl.find_output_cell(\"<div id='\" + id + \"'></div>\");\n",
       "    if (!fig.cell_info) {\n",
       "        console.error('Failed to find cell for figure', id, fig);\n",
       "        return;\n",
       "    }\n",
       "    fig.cell_info[0].output_area.element.on(\n",
       "        'cleared',\n",
       "        { fig: fig },\n",
       "        fig._remove_fig_handler\n",
       "    );\n",
       "};\n",
       "\n",
       "mpl.figure.prototype.handle_close = function (fig, msg) {\n",
       "    var width = fig.canvas.width / fig.ratio;\n",
       "    fig.cell_info[0].output_area.element.off(\n",
       "        'cleared',\n",
       "        fig._remove_fig_handler\n",
       "    );\n",
       "    fig.resizeObserverInstance.unobserve(fig.canvas_div);\n",
       "\n",
       "    // Update the output cell to use the data from the current canvas.\n",
       "    fig.push_to_output();\n",
       "    var dataURL = fig.canvas.toDataURL();\n",
       "    // Re-enable the keyboard manager in IPython - without this line, in FF,\n",
       "    // the notebook keyboard shortcuts fail.\n",
       "    IPython.keyboard_manager.enable();\n",
       "    fig.parent_element.innerHTML =\n",
       "        '<img src=\"' + dataURL + '\" width=\"' + width + '\">';\n",
       "    fig.close_ws(fig, msg);\n",
       "};\n",
       "\n",
       "mpl.figure.prototype.close_ws = function (fig, msg) {\n",
       "    fig.send_message('closing', msg);\n",
       "    // fig.ws.close()\n",
       "};\n",
       "\n",
       "mpl.figure.prototype.push_to_output = function (_remove_interactive) {\n",
       "    // Turn the data on the canvas into data in the output cell.\n",
       "    var width = this.canvas.width / this.ratio;\n",
       "    var dataURL = this.canvas.toDataURL();\n",
       "    this.cell_info[1]['text/html'] =\n",
       "        '<img src=\"' + dataURL + '\" width=\"' + width + '\">';\n",
       "};\n",
       "\n",
       "mpl.figure.prototype.updated_canvas_event = function () {\n",
       "    // Tell IPython that the notebook contents must change.\n",
       "    IPython.notebook.set_dirty(true);\n",
       "    this.send_message('ack', {});\n",
       "    var fig = this;\n",
       "    // Wait a second, then push the new image to the DOM so\n",
       "    // that it is saved nicely (might be nice to debounce this).\n",
       "    setTimeout(function () {\n",
       "        fig.push_to_output();\n",
       "    }, 1000);\n",
       "};\n",
       "\n",
       "mpl.figure.prototype._init_toolbar = function () {\n",
       "    var fig = this;\n",
       "\n",
       "    var toolbar = document.createElement('div');\n",
       "    toolbar.classList = 'btn-toolbar';\n",
       "    this.root.appendChild(toolbar);\n",
       "\n",
       "    function on_click_closure(name) {\n",
       "        return function (_event) {\n",
       "            return fig.toolbar_button_onclick(name);\n",
       "        };\n",
       "    }\n",
       "\n",
       "    function on_mouseover_closure(tooltip) {\n",
       "        return function (event) {\n",
       "            if (!event.currentTarget.disabled) {\n",
       "                return fig.toolbar_button_onmouseover(tooltip);\n",
       "            }\n",
       "        };\n",
       "    }\n",
       "\n",
       "    fig.buttons = {};\n",
       "    var buttonGroup = document.createElement('div');\n",
       "    buttonGroup.classList = 'btn-group';\n",
       "    var button;\n",
       "    for (var toolbar_ind in mpl.toolbar_items) {\n",
       "        var name = mpl.toolbar_items[toolbar_ind][0];\n",
       "        var tooltip = mpl.toolbar_items[toolbar_ind][1];\n",
       "        var image = mpl.toolbar_items[toolbar_ind][2];\n",
       "        var method_name = mpl.toolbar_items[toolbar_ind][3];\n",
       "\n",
       "        if (!name) {\n",
       "            /* Instead of a spacer, we start a new button group. */\n",
       "            if (buttonGroup.hasChildNodes()) {\n",
       "                toolbar.appendChild(buttonGroup);\n",
       "            }\n",
       "            buttonGroup = document.createElement('div');\n",
       "            buttonGroup.classList = 'btn-group';\n",
       "            continue;\n",
       "        }\n",
       "\n",
       "        button = fig.buttons[name] = document.createElement('button');\n",
       "        button.classList = 'btn btn-default';\n",
       "        button.href = '#';\n",
       "        button.title = name;\n",
       "        button.innerHTML = '<i class=\"fa ' + image + ' fa-lg\"></i>';\n",
       "        button.addEventListener('click', on_click_closure(method_name));\n",
       "        button.addEventListener('mouseover', on_mouseover_closure(tooltip));\n",
       "        buttonGroup.appendChild(button);\n",
       "    }\n",
       "\n",
       "    if (buttonGroup.hasChildNodes()) {\n",
       "        toolbar.appendChild(buttonGroup);\n",
       "    }\n",
       "\n",
       "    // Add the status bar.\n",
       "    var status_bar = document.createElement('span');\n",
       "    status_bar.classList = 'mpl-message pull-right';\n",
       "    toolbar.appendChild(status_bar);\n",
       "    this.message = status_bar;\n",
       "\n",
       "    // Add the close button to the window.\n",
       "    var buttongrp = document.createElement('div');\n",
       "    buttongrp.classList = 'btn-group inline pull-right';\n",
       "    button = document.createElement('button');\n",
       "    button.classList = 'btn btn-mini btn-primary';\n",
       "    button.href = '#';\n",
       "    button.title = 'Stop Interaction';\n",
       "    button.innerHTML = '<i class=\"fa fa-power-off icon-remove icon-large\"></i>';\n",
       "    button.addEventListener('click', function (_evt) {\n",
       "        fig.handle_close(fig, {});\n",
       "    });\n",
       "    button.addEventListener(\n",
       "        'mouseover',\n",
       "        on_mouseover_closure('Stop Interaction')\n",
       "    );\n",
       "    buttongrp.appendChild(button);\n",
       "    var titlebar = this.root.querySelector('.ui-dialog-titlebar');\n",
       "    titlebar.insertBefore(buttongrp, titlebar.firstChild);\n",
       "};\n",
       "\n",
       "mpl.figure.prototype._remove_fig_handler = function (event) {\n",
       "    var fig = event.data.fig;\n",
       "    if (event.target !== this) {\n",
       "        // Ignore bubbled events from children.\n",
       "        return;\n",
       "    }\n",
       "    fig.close_ws(fig, {});\n",
       "};\n",
       "\n",
       "mpl.figure.prototype._root_extra_style = function (el) {\n",
       "    el.style.boxSizing = 'content-box'; // override notebook setting of border-box.\n",
       "};\n",
       "\n",
       "mpl.figure.prototype._canvas_extra_style = function (el) {\n",
       "    // this is important to make the div 'focusable\n",
       "    el.setAttribute('tabindex', 0);\n",
       "    // reach out to IPython and tell the keyboard manager to turn it's self\n",
       "    // off when our div gets focus\n",
       "\n",
       "    // location in version 3\n",
       "    if (IPython.notebook.keyboard_manager) {\n",
       "        IPython.notebook.keyboard_manager.register_events(el);\n",
       "    } else {\n",
       "        // location in version 2\n",
       "        IPython.keyboard_manager.register_events(el);\n",
       "    }\n",
       "};\n",
       "\n",
       "mpl.figure.prototype._key_event_extra = function (event, _name) {\n",
       "    var manager = IPython.notebook.keyboard_manager;\n",
       "    if (!manager) {\n",
       "        manager = IPython.keyboard_manager;\n",
       "    }\n",
       "\n",
       "    // Check for shift+enter\n",
       "    if (event.shiftKey && event.which === 13) {\n",
       "        this.canvas_div.blur();\n",
       "        // select the cell after this one\n",
       "        var index = IPython.notebook.find_cell_index(this.cell_info[0]);\n",
       "        IPython.notebook.select(index + 1);\n",
       "    }\n",
       "};\n",
       "\n",
       "mpl.figure.prototype.handle_save = function (fig, _msg) {\n",
       "    fig.ondownload(fig, null);\n",
       "};\n",
       "\n",
       "mpl.find_output_cell = function (html_output) {\n",
       "    // Return the cell and output element which can be found *uniquely* in the notebook.\n",
       "    // Note - this is a bit hacky, but it is done because the \"notebook_saving.Notebook\"\n",
       "    // IPython event is triggered only after the cells have been serialised, which for\n",
       "    // our purposes (turning an active figure into a static one), is too late.\n",
       "    var cells = IPython.notebook.get_cells();\n",
       "    var ncells = cells.length;\n",
       "    for (var i = 0; i < ncells; i++) {\n",
       "        var cell = cells[i];\n",
       "        if (cell.cell_type === 'code') {\n",
       "            for (var j = 0; j < cell.output_area.outputs.length; j++) {\n",
       "                var data = cell.output_area.outputs[j];\n",
       "                if (data.data) {\n",
       "                    // IPython >= 3 moved mimebundle to data attribute of output\n",
       "                    data = data.data;\n",
       "                }\n",
       "                if (data['text/html'] === html_output) {\n",
       "                    return [cell, data, j];\n",
       "                }\n",
       "            }\n",
       "        }\n",
       "    }\n",
       "};\n",
       "\n",
       "// Register the function which deals with the matplotlib target/channel.\n",
       "// The kernel may be null if the page has been refreshed.\n",
       "if (IPython.notebook.kernel !== null) {\n",
       "    IPython.notebook.kernel.comm_manager.register_target(\n",
       "        'matplotlib',\n",
       "        mpl.mpl_figure_comm\n",
       "    );\n",
       "}\n"
      ],
      "text/plain": [
       "<IPython.core.display.Javascript object>"
      ]
     },
     "metadata": {},
     "output_type": "display_data"
    },
    {
     "data": {
      "text/html": [
       "<img src=\"data:image/png;base64,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\" width=\"640\">"
      ],
      "text/plain": [
       "<IPython.core.display.HTML object>"
      ]
     },
     "metadata": {},
     "output_type": "display_data"
    },
    {
     "name": "stdout",
     "output_type": "stream",
     "text": [
      "\n",
      "---------\n",
      "Epoch 1 of 50\n"
     ]
    },
    {
     "data": {
      "application/vnd.jupyter.widget-view+json": {
       "model_id": "4542b76a1ae441129c311fa482bd70ed",
       "version_major": 2,
       "version_minor": 0
      },
      "text/plain": [
       "  0%|          | 0/529 [00:00<?, ?it/s]"
      ]
     },
     "metadata": {},
     "output_type": "display_data"
    },
    {
     "name": "stdout",
     "output_type": "stream",
     "text": [
      "Train Loss: 22.199901353426238\n",
      "Train AUC: 0.5126800710768779\n",
      "Train Accuracy: 0.43632737479686806\n",
      "\n"
     ]
    },
    {
     "data": {
      "application/vnd.jupyter.widget-view+json": {
       "model_id": "1b812c6374124cb7b4ddc43347452d78",
       "version_major": 2,
       "version_minor": 0
      },
      "text/plain": [
       "  0%|          | 0/38 [00:00<?, ?it/s]"
      ]
     },
     "metadata": {},
     "output_type": "display_data"
    },
    {
     "name": "stdout",
     "output_type": "stream",
     "text": [
      "Validation Loss: 3.2736169163458815\n",
      "Validation AUC: 0.5246539766325011\n",
      "Validation Accuracy: 0.4608069238941722\n",
      "Best Val AUC: 0.5246539766325011 at epoch 1\n",
      "Best Val Loss: 3.2736169163458815 at epoch 1\n",
      "Epoch Time: 4.370384454727173\n",
      "\n",
      "---------\n",
      "Epoch 2 of 50\n"
     ]
    },
    {
     "data": {
      "application/vnd.jupyter.widget-view+json": {
       "model_id": "0dc32a12f8ed43e19238ac31d332d9f2",
       "version_major": 2,
       "version_minor": 0
      },
      "text/plain": [
       "  0%|          | 0/529 [00:00<?, ?it/s]"
      ]
     },
     "metadata": {},
     "output_type": "display_data"
    },
    {
     "name": "stdout",
     "output_type": "stream",
     "text": [
      "Train Loss: 2.6556399243199884\n",
      "Train AUC: 0.5402819258528455\n",
      "Train Accuracy: 0.45571724036046685\n",
      "\n"
     ]
    },
    {
     "data": {
      "application/vnd.jupyter.widget-view+json": {
       "model_id": "6b3e525128bd4c44b60dfada6ba14826",
       "version_major": 2,
       "version_minor": 0
      },
      "text/plain": [
       "  0%|          | 0/38 [00:00<?, ?it/s]"
      ]
     },
     "metadata": {},
     "output_type": "display_data"
    },
    {
     "name": "stdout",
     "output_type": "stream",
     "text": [
      "Validation Loss: 2.2836286791725335\n",
      "Validation AUC: 0.5415681510332535\n",
      "Validation Accuracy: 0.4410613873701122\n",
      "If converges, will stop in 9 iterations\n",
      "Best Val AUC: 0.5415681510332535 at epoch 2\n",
      "Best Val Loss: 2.2836286791725335 at epoch 2\n",
      "Epoch Time: 4.192620038986206\n",
      "\n",
      "---------\n",
      "Epoch 3 of 50\n"
     ]
    },
    {
     "data": {
      "application/vnd.jupyter.widget-view+json": {
       "model_id": "99646b7fe0034f268c427b096aa71f3f",
       "version_major": 2,
       "version_minor": 0
      },
      "text/plain": [
       "  0%|          | 0/529 [00:00<?, ?it/s]"
      ]
     },
     "metadata": {},
     "output_type": "display_data"
    },
    {
     "name": "stdout",
     "output_type": "stream",
     "text": [
      "Train Loss: 2.1450726175679113\n",
      "Train AUC: 0.5405399167853121\n",
      "Train Accuracy: 0.4493573644556064\n",
      "\n"
     ]
    },
    {
     "data": {
      "application/vnd.jupyter.widget-view+json": {
       "model_id": "067d7f096d244f9b98cc7fdcbc909594",
       "version_major": 2,
       "version_minor": 0
      },
      "text/plain": [
       "  0%|          | 0/38 [00:00<?, ?it/s]"
      ]
     },
     "metadata": {},
     "output_type": "display_data"
    },
    {
     "name": "stdout",
     "output_type": "stream",
     "text": [
      "Validation Loss: 2.0933062906582633\n",
      "Validation AUC: 0.5419935263840613\n",
      "Validation Accuracy: 0.45046772563551085\n",
      "If converges, will stop in 9 iterations\n",
      "Best Val AUC: 0.5419935263840613 at epoch 3\n",
      "Best Val Loss: 2.0933062906582633 at epoch 3\n",
      "Epoch Time: 4.189966440200806\n",
      "\n",
      "---------\n",
      "Epoch 4 of 50\n"
     ]
    },
    {
     "data": {
      "application/vnd.jupyter.widget-view+json": {
       "model_id": "315cc2eff24d4b3b87cc4f388c04ae18",
       "version_major": 2,
       "version_minor": 0
      },
      "text/plain": [
       "  0%|          | 0/529 [00:00<?, ?it/s]"
      ]
     },
     "metadata": {},
     "output_type": "display_data"
    },
    {
     "name": "stdout",
     "output_type": "stream",
     "text": [
      "Train Loss: 1.9658484216113437\n",
      "Train AUC: 0.5407569450908721\n",
      "Train Accuracy: 0.440013295907815\n",
      "\n"
     ]
    },
    {
     "data": {
      "application/vnd.jupyter.widget-view+json": {
       "model_id": "4a28e42b54e54682bd01cb2059525575",
       "version_major": 2,
       "version_minor": 0
      },
      "text/plain": [
       "  0%|          | 0/38 [00:00<?, ?it/s]"
      ]
     },
     "metadata": {},
     "output_type": "display_data"
    },
    {
     "name": "stdout",
     "output_type": "stream",
     "text": [
      "Validation Loss: 1.906625883097292\n",
      "Validation AUC: 0.5375669086148307\n",
      "Validation Accuracy: 0.4349459718587235\n",
      "If converges, will stop in 9 iterations\n",
      "If performance continues to decrease, will stop in 3 iterations\n",
      "Best Val AUC: 0.5419935263840613 at epoch 3\n",
      "Best Val Loss: 1.906625883097292 at epoch 4\n",
      "Epoch Time: 4.203298807144165\n",
      "\n",
      "---------\n",
      "Epoch 5 of 50\n"
     ]
    },
    {
     "data": {
      "application/vnd.jupyter.widget-view+json": {
       "model_id": "9c87a8cc8b3b49d3bec12dcf9167c603",
       "version_major": 2,
       "version_minor": 0
      },
      "text/plain": [
       "  0%|          | 0/529 [00:00<?, ?it/s]"
      ]
     },
     "metadata": {},
     "output_type": "display_data"
    },
    {
     "name": "stdout",
     "output_type": "stream",
     "text": [
      "Train Loss: 1.8574400507292987\n",
      "Train AUC: 0.5399217912711286\n",
      "Train Accuracy: 0.4311789038262668\n",
      "\n"
     ]
    },
    {
     "data": {
      "application/vnd.jupyter.widget-view+json": {
       "model_id": "7f60cf4b70ef4b24bc4835109ca87d0a",
       "version_major": 2,
       "version_minor": 0
      },
      "text/plain": [
       "  0%|          | 0/38 [00:00<?, ?it/s]"
      ]
     },
     "metadata": {},
     "output_type": "display_data"
    },
    {
     "name": "stdout",
     "output_type": "stream",
     "text": [
      "Validation Loss: 1.8322788786044226\n",
      "Validation AUC: 0.5385962402267831\n",
      "Validation Accuracy: 0.43124044466326344\n",
      "If converges, will stop in 8 iterations\n",
      "Best Val AUC: 0.5419935263840613 at epoch 3\n",
      "Best Val Loss: 1.8322788786044226 at epoch 5\n",
      "Epoch Time: 4.247088193893433\n",
      "\n",
      "---------\n",
      "Epoch 6 of 50\n"
     ]
    },
    {
     "data": {
      "application/vnd.jupyter.widget-view+json": {
       "model_id": "239bf388659343bfa5fb1d8cf0d730b9",
       "version_major": 2,
       "version_minor": 0
      },
      "text/plain": [
       "  0%|          | 0/529 [00:00<?, ?it/s]"
      ]
     },
     "metadata": {},
     "output_type": "display_data"
    },
    {
     "name": "stdout",
     "output_type": "stream",
     "text": [
      "Train Loss: 1.7791781903034773\n",
      "Train AUC: 0.5374579339587635\n",
      "Train Accuracy: 0.42673216132368147\n",
      "\n"
     ]
    },
    {
     "data": {
      "application/vnd.jupyter.widget-view+json": {
       "model_id": "68068791026d45fba669125c9c97ba65",
       "version_major": 2,
       "version_minor": 0
      },
      "text/plain": [
       "  0%|          | 0/38 [00:00<?, ?it/s]"
      ]
     },
     "metadata": {},
     "output_type": "display_data"
    },
    {
     "name": "stdout",
     "output_type": "stream",
     "text": [
      "Validation Loss: 1.7291625989110726\n",
      "Validation AUC: 0.546612617551174\n",
      "Validation Accuracy: 0.4223523619496774\n",
      "If converges, will stop in 9 iterations\n",
      "Best Val AUC: 0.546612617551174 at epoch 6\n",
      "Best Val Loss: 1.7291625989110726 at epoch 6\n",
      "Epoch Time: 4.231273412704468\n",
      "\n",
      "---------\n",
      "Epoch 7 of 50\n"
     ]
    },
    {
     "data": {
      "application/vnd.jupyter.widget-view+json": {
       "model_id": "564cdc8c4376475f8ce299d6eb10ba47",
       "version_major": 2,
       "version_minor": 0
      },
      "text/plain": [
       "  0%|          | 0/529 [00:00<?, ?it/s]"
      ]
     },
     "metadata": {},
     "output_type": "display_data"
    },
    {
     "name": "stdout",
     "output_type": "stream",
     "text": [
      "Train Loss: 1.7101152003881936\n",
      "Train AUC: 0.5336566084918699\n",
      "Train Accuracy: 0.41622100753434776\n",
      "\n"
     ]
    },
    {
     "data": {
      "application/vnd.jupyter.widget-view+json": {
       "model_id": "9d35ca80658d4600b6d1db6cece780f8",
       "version_major": 2,
       "version_minor": 0
      },
      "text/plain": [
       "  0%|          | 0/38 [00:00<?, ?it/s]"
      ]
     },
     "metadata": {},
     "output_type": "display_data"
    },
    {
     "name": "stdout",
     "output_type": "stream",
     "text": [
      "Validation Loss: 1.680974615504633\n",
      "Validation AUC: 0.5498256061489308\n",
      "Validation Accuracy: 0.4150708714467104\n",
      "If converges, will stop in 9 iterations\n",
      "Best Val AUC: 0.5498256061489308 at epoch 7\n",
      "Best Val Loss: 1.680974615504633 at epoch 7\n",
      "Epoch Time: 4.217238664627075\n",
      "\n",
      "---------\n",
      "Epoch 8 of 50\n"
     ]
    },
    {
     "data": {
      "application/vnd.jupyter.widget-view+json": {
       "model_id": "8385e6d258584807af6fb8fbea198a65",
       "version_major": 2,
       "version_minor": 0
      },
      "text/plain": [
       "  0%|          | 0/529 [00:00<?, ?it/s]"
      ]
     },
     "metadata": {},
     "output_type": "display_data"
    },
    {
     "name": "stdout",
     "output_type": "stream",
     "text": [
      "Train Loss: 1.6533798605628225\n",
      "Train AUC: 0.5394330014390912\n",
      "Train Accuracy: 0.40262224848574385\n",
      "\n"
     ]
    },
    {
     "data": {
      "application/vnd.jupyter.widget-view+json": {
       "model_id": "3ebc245034f54699a41b6be1f9e40d43",
       "version_major": 2,
       "version_minor": 0
      },
      "text/plain": [
       "  0%|          | 0/38 [00:00<?, ?it/s]"
      ]
     },
     "metadata": {},
     "output_type": "display_data"
    },
    {
     "name": "stdout",
     "output_type": "stream",
     "text": [
      "Validation Loss: 1.624478003755621\n",
      "Validation AUC: 0.5508599848925957\n",
      "Validation Accuracy: 0.39439247492938767\n",
      "If converges, will stop in 9 iterations\n",
      "Best Val AUC: 0.5508599848925957 at epoch 8\n",
      "Best Val Loss: 1.624478003755621 at epoch 8\n",
      "Epoch Time: 4.25783109664917\n",
      "\n",
      "---------\n",
      "Epoch 9 of 50\n"
     ]
    },
    {
     "data": {
      "application/vnd.jupyter.widget-view+json": {
       "model_id": "9a5d27cea2e141a2b2929567f58547dc",
       "version_major": 2,
       "version_minor": 0
      },
      "text/plain": [
       "  0%|          | 0/529 [00:00<?, ?it/s]"
      ]
     },
     "metadata": {},
     "output_type": "display_data"
    },
    {
     "name": "stdout",
     "output_type": "stream",
     "text": [
      "Train Loss: 1.6291303179410859\n",
      "Train AUC: 0.5456279030776333\n",
      "Train Accuracy: 0.397163539666125\n",
      "\n"
     ]
    },
    {
     "data": {
      "application/vnd.jupyter.widget-view+json": {
       "model_id": "31a949a1318c4235b18e5ad31ac618f0",
       "version_major": 2,
       "version_minor": 0
      },
      "text/plain": [
       "  0%|          | 0/38 [00:00<?, ?it/s]"
      ]
     },
     "metadata": {},
     "output_type": "display_data"
    },
    {
     "name": "stdout",
     "output_type": "stream",
     "text": [
      "Validation Loss: 1.6165920018937168\n",
      "Validation AUC: 0.5494911692962996\n",
      "Validation Accuracy: 0.40296960431188616\n",
      "If converges, will stop in 9 iterations\n",
      "If performance continues to decrease, will stop in 3 iterations\n",
      "Best Val AUC: 0.5508599848925957 at epoch 8\n",
      "Best Val Loss: 1.6165920018937168 at epoch 9\n",
      "Epoch Time: 4.153716325759888\n",
      "\n",
      "---------\n",
      "Epoch 10 of 50\n"
     ]
    },
    {
     "data": {
      "application/vnd.jupyter.widget-view+json": {
       "model_id": "e1c62b45819942f0a9aebd7c17d02df9",
       "version_major": 2,
       "version_minor": 0
      },
      "text/plain": [
       "  0%|          | 0/529 [00:00<?, ?it/s]"
      ]
     },
     "metadata": {},
     "output_type": "display_data"
    },
    {
     "name": "stdout",
     "output_type": "stream",
     "text": [
      "Train Loss: 1.6001460495485103\n",
      "Train AUC: 0.5421344472458745\n",
      "Train Accuracy: 0.40105628600975035\n",
      "\n"
     ]
    },
    {
     "data": {
      "application/vnd.jupyter.widget-view+json": {
       "model_id": "45c019f2c5134343bdbafbe0a5a749ff",
       "version_major": 2,
       "version_minor": 0
      },
      "text/plain": [
       "  0%|          | 0/38 [00:00<?, ?it/s]"
      ]
     },
     "metadata": {},
     "output_type": "display_data"
    },
    {
     "name": "stdout",
     "output_type": "stream",
     "text": [
      "Validation Loss: 1.5725465849517455\n",
      "Validation AUC: 0.5509735839821344\n",
      "Validation Accuracy: 0.4079966831644684\n",
      "If converges, will stop in 8 iterations\n",
      "Best Val AUC: 0.5509735839821344 at epoch 10\n",
      "Best Val Loss: 1.5725465849517455 at epoch 10\n",
      "Epoch Time: 4.173482179641724\n",
      "\n",
      "---------\n",
      "Epoch 11 of 50\n"
     ]
    },
    {
     "data": {
      "application/vnd.jupyter.widget-view+json": {
       "model_id": "0194b9cefc464251a9a045cf5573c072",
       "version_major": 2,
       "version_minor": 0
      },
      "text/plain": [
       "  0%|          | 0/529 [00:00<?, ?it/s]"
      ]
     },
     "metadata": {},
     "output_type": "display_data"
    },
    {
     "name": "stdout",
     "output_type": "stream",
     "text": [
      "Train Loss: 1.5874913192472804\n",
      "Train AUC: 0.5402086621701545\n",
      "Train Accuracy: 0.4142266213620919\n",
      "\n"
     ]
    },
    {
     "data": {
      "application/vnd.jupyter.widget-view+json": {
       "model_id": "b28b9df816914e10bace20c282962362",
       "version_major": 2,
       "version_minor": 0
      },
      "text/plain": [
       "  0%|          | 0/38 [00:00<?, ?it/s]"
      ]
     },
     "metadata": {},
     "output_type": "display_data"
    },
    {
     "name": "stdout",
     "output_type": "stream",
     "text": [
      "Validation Loss: 1.549113976016046\n",
      "Validation AUC: 0.5535562733812883\n",
      "Validation Accuracy: 0.4086963281594154\n",
      "If converges, will stop in 9 iterations\n",
      "Best Val AUC: 0.5535562733812883 at epoch 11\n",
      "Best Val Loss: 1.549113976016046 at epoch 11\n",
      "Epoch Time: 4.169518709182739\n",
      "\n",
      "---------\n",
      "Epoch 12 of 50\n"
     ]
    },
    {
     "data": {
      "application/vnd.jupyter.widget-view+json": {
       "model_id": "f027a22894ed41d484cb7a24dea9a37c",
       "version_major": 2,
       "version_minor": 0
      },
      "text/plain": [
       "  0%|          | 0/529 [00:00<?, ?it/s]"
      ]
     },
     "metadata": {},
     "output_type": "display_data"
    },
    {
     "name": "stdout",
     "output_type": "stream",
     "text": [
      "Train Loss: 1.584399750054667\n",
      "Train AUC: 0.5462288158751396\n",
      "Train Accuracy: 0.4181341409366228\n",
      "\n"
     ]
    },
    {
     "data": {
      "application/vnd.jupyter.widget-view+json": {
       "model_id": "c3269c601c3b46bdac7565b20fe55dc6",
       "version_major": 2,
       "version_minor": 0
      },
      "text/plain": [
       "  0%|          | 0/38 [00:00<?, ?it/s]"
      ]
     },
     "metadata": {},
     "output_type": "display_data"
    },
    {
     "name": "stdout",
     "output_type": "stream",
     "text": [
      "Validation Loss: 1.612283744692838\n",
      "Validation AUC: 0.5469033168874091\n",
      "Validation Accuracy: 0.4465808089969164\n",
      "If performance continues to decrease, will stop in 3 iterations\n",
      "Best Val AUC: 0.5535562733812883 at epoch 11\n",
      "Best Val Loss: 1.549113976016046 at epoch 11\n",
      "Epoch Time: 4.390847682952881\n",
      "\n",
      "---------\n",
      "Epoch 13 of 50\n"
     ]
    },
    {
     "data": {
      "application/vnd.jupyter.widget-view+json": {
       "model_id": "128dd6602bda40eaba8362825e6cb4bd",
       "version_major": 2,
       "version_minor": 0
      },
      "text/plain": [
       "  0%|          | 0/529 [00:00<?, ?it/s]"
      ]
     },
     "metadata": {},
     "output_type": "display_data"
    },
    {
     "name": "stdout",
     "output_type": "stream",
     "text": [
      "Train Loss: 1.6131414120023104\n",
      "Train AUC: 0.541444415757635\n",
      "Train Accuracy: 0.4561973703648988\n",
      "\n"
     ]
    },
    {
     "data": {
      "application/vnd.jupyter.widget-view+json": {
       "model_id": "0e10c7a0606742da941445e7cad1e9d8",
       "version_major": 2,
       "version_minor": 0
      },
      "text/plain": [
       "  0%|          | 0/38 [00:00<?, ?it/s]"
      ]
     },
     "metadata": {},
     "output_type": "display_data"
    },
    {
     "name": "stdout",
     "output_type": "stream",
     "text": [
      "Validation Loss: 1.6013816500345048\n",
      "Validation AUC: 0.5514779366439737\n",
      "Validation Accuracy: 0.4743852193516623\n",
      "If converges, will stop in 9 iterations\n",
      "Best Val AUC: 0.5535562733812883 at epoch 11\n",
      "Best Val Loss: 1.549113976016046 at epoch 11\n",
      "Epoch Time: 4.232258558273315\n",
      "\n",
      "---------\n",
      "Epoch 14 of 50\n"
     ]
    },
    {
     "data": {
      "application/vnd.jupyter.widget-view+json": {
       "model_id": "44dffcbb333341f28f793dea9ccc23a2",
       "version_major": 2,
       "version_minor": 0
      },
      "text/plain": [
       "  0%|          | 0/529 [00:00<?, ?it/s]"
      ]
     },
     "metadata": {},
     "output_type": "display_data"
    },
    {
     "name": "stdout",
     "output_type": "stream",
     "text": [
      "Train Loss: 1.5810518296960423\n",
      "Train AUC: 0.5413834839815705\n",
      "Train Accuracy: 0.49229576008273007\n",
      "\n"
     ]
    },
    {
     "data": {
      "application/vnd.jupyter.widget-view+json": {
       "model_id": "30c60f7086cb4f2dbfaec9b1879fec96",
       "version_major": 2,
       "version_minor": 0
      },
      "text/plain": [
       "  0%|          | 0/38 [00:00<?, ?it/s]"
      ]
     },
     "metadata": {},
     "output_type": "display_data"
    },
    {
     "name": "stdout",
     "output_type": "stream",
     "text": [
      "Validation Loss: 1.5502757776903442\n",
      "Validation AUC: 0.5527468010068924\n",
      "Validation Accuracy: 0.5109740613096317\n",
      "If converges, will stop in 9 iterations\n",
      "Best Val AUC: 0.5535562733812883 at epoch 11\n",
      "Best Val Loss: 1.549113976016046 at epoch 11\n",
      "Epoch Time: 4.225245475769043\n",
      "\n",
      "---------\n",
      "Epoch 15 of 50\n"
     ]
    },
    {
     "data": {
      "application/vnd.jupyter.widget-view+json": {
       "model_id": "bb4144c75b34482fb513928ad468d602",
       "version_major": 2,
       "version_minor": 0
      },
      "text/plain": [
       "  0%|          | 0/529 [00:00<?, ?it/s]"
      ]
     },
     "metadata": {},
     "output_type": "display_data"
    },
    {
     "name": "stdout",
     "output_type": "stream",
     "text": [
      "Train Loss: 1.5604360230851737\n",
      "Train AUC: 0.5518525144519933\n",
      "Train Accuracy: 0.5185773378637908\n",
      "\n"
     ]
    },
    {
     "data": {
      "application/vnd.jupyter.widget-view+json": {
       "model_id": "323b88a19d154a97b3579c2280497d2d",
       "version_major": 2,
       "version_minor": 0
      },
      "text/plain": [
       "  0%|          | 0/38 [00:00<?, ?it/s]"
      ]
     },
     "metadata": {},
     "output_type": "display_data"
    },
    {
     "name": "stdout",
     "output_type": "stream",
     "text": [
      "Validation Loss: 1.5596432079837634\n",
      "Validation AUC: 0.5301430542532153\n",
      "Validation Accuracy: 0.5203803995750305\n",
      "If performance continues to decrease, will stop in 3 iterations\n",
      "Best Val AUC: 0.5535562733812883 at epoch 11\n",
      "Best Val Loss: 1.549113976016046 at epoch 11\n",
      "Epoch Time: 4.21018648147583\n",
      "\n",
      "---------\n",
      "Epoch 16 of 50\n"
     ]
    },
    {
     "data": {
      "application/vnd.jupyter.widget-view+json": {
       "model_id": "e7ff4dd248734ac9bdbac7a5a4036a56",
       "version_major": 2,
       "version_minor": 0
      },
      "text/plain": [
       "  0%|          | 0/529 [00:00<?, ?it/s]"
      ]
     },
     "metadata": {},
     "output_type": "display_data"
    },
    {
     "name": "stdout",
     "output_type": "stream",
     "text": [
      "Train Loss: 1.5762596156289854\n",
      "Train AUC: 0.5434361827386726\n",
      "Train Accuracy: 0.5342517358546314\n",
      "\n"
     ]
    },
    {
     "data": {
      "application/vnd.jupyter.widget-view+json": {
       "model_id": "97be883d955c4da986bd25e078653154",
       "version_major": 2,
       "version_minor": 0
      },
      "text/plain": [
       "  0%|          | 0/38 [00:00<?, ?it/s]"
      ]
     },
     "metadata": {},
     "output_type": "display_data"
    },
    {
     "name": "stdout",
     "output_type": "stream",
     "text": [
      "Validation Loss: 1.5663740631482383\n",
      "Validation AUC: 0.5461709806509966\n",
      "Validation Accuracy: 0.5304345572801948\n",
      "Best Val AUC: 0.5535562733812883 at epoch 11\n",
      "Best Val Loss: 1.549113976016046 at epoch 11\n",
      "Epoch Time: 4.251941204071045\n",
      "\n",
      "---------\n",
      "Epoch 17 of 50\n"
     ]
    },
    {
     "data": {
      "application/vnd.jupyter.widget-view+json": {
       "model_id": "f5d506216cdb40b7a024f20ddadd9c97",
       "version_major": 2,
       "version_minor": 0
      },
      "text/plain": [
       "  0%|          | 0/529 [00:00<?, ?it/s]"
      ]
     },
     "metadata": {},
     "output_type": "display_data"
    },
    {
     "name": "stdout",
     "output_type": "stream",
     "text": [
      "Train Loss: 1.548027480030719\n",
      "Train AUC: 0.5413086638242243\n",
      "Train Accuracy: 0.5485300635248929\n",
      "\n"
     ]
    },
    {
     "data": {
      "application/vnd.jupyter.widget-view+json": {
       "model_id": "d14a22c868dd4d5884fe791eac41bb84",
       "version_major": 2,
       "version_minor": 0
      },
      "text/plain": [
       "  0%|          | 0/38 [00:00<?, ?it/s]"
      ]
     },
     "metadata": {},
     "output_type": "display_data"
    },
    {
     "name": "stdout",
     "output_type": "stream",
     "text": [
      "Validation Loss: 1.538999073476012\n",
      "Validation AUC: 0.547201496793861\n",
      "Validation Accuracy: 0.5564768987587779\n",
      "If converges, will stop in 9 iterations\n",
      "Best Val AUC: 0.5535562733812883 at epoch 11\n",
      "Best Val Loss: 1.538999073476012 at epoch 17\n",
      "Epoch Time: 4.41298770904541\n",
      "\n",
      "---------\n",
      "Epoch 18 of 50\n"
     ]
    },
    {
     "data": {
      "application/vnd.jupyter.widget-view+json": {
       "model_id": "ede537e7c9664c71bec6a20669048212",
       "version_major": 2,
       "version_minor": 0
      },
      "text/plain": [
       "  0%|          | 0/529 [00:00<?, ?it/s]"
      ]
     },
     "metadata": {},
     "output_type": "display_data"
    },
    {
     "name": "stdout",
     "output_type": "stream",
     "text": [
      "Train Loss: 1.5331642408897945\n",
      "Train AUC: 0.5426858357541983\n",
      "Train Accuracy: 0.550110799231792\n",
      "\n"
     ]
    },
    {
     "data": {
      "application/vnd.jupyter.widget-view+json": {
       "model_id": "e7afcbb1397741f98459e2269595d14c",
       "version_major": 2,
       "version_minor": 0
      },
      "text/plain": [
       "  0%|          | 0/38 [00:00<?, ?it/s]"
      ]
     },
     "metadata": {},
     "output_type": "display_data"
    },
    {
     "name": "stdout",
     "output_type": "stream",
     "text": [
      "Validation Loss: 1.5200797753393105\n",
      "Validation AUC: 0.5442882846442202\n",
      "Validation Accuracy: 0.5756005286206628\n",
      "If converges, will stop in 9 iterations\n",
      "If performance continues to decrease, will stop in 3 iterations\n",
      "Best Val AUC: 0.5535562733812883 at epoch 11\n",
      "Best Val Loss: 1.5200797753393105 at epoch 18\n",
      "Epoch Time: 4.275562524795532\n",
      "\n",
      "---------\n",
      "Epoch 19 of 50\n"
     ]
    },
    {
     "data": {
      "application/vnd.jupyter.widget-view+json": {
       "model_id": "02f1b6325ebc41c4aa84a88332acdbb7",
       "version_major": 2,
       "version_minor": 0
      },
      "text/plain": [
       "  0%|          | 0/529 [00:00<?, ?it/s]"
      ]
     },
     "metadata": {},
     "output_type": "display_data"
    },
    {
     "name": "stdout",
     "output_type": "stream",
     "text": [
      "Train Loss: 1.5351380423919059\n",
      "Train AUC: 0.5486909842021692\n",
      "Train Accuracy: 0.5486556359875905\n",
      "\n"
     ]
    },
    {
     "data": {
      "application/vnd.jupyter.widget-view+json": {
       "model_id": "b47649a4568e4b63899001c3c6b5b13d",
       "version_major": 2,
       "version_minor": 0
      },
      "text/plain": [
       "  0%|          | 0/38 [00:00<?, ?it/s]"
      ]
     },
     "metadata": {},
     "output_type": "display_data"
    },
    {
     "name": "stdout",
     "output_type": "stream",
     "text": [
      "Validation Loss: 1.526760913936609\n",
      "Validation AUC: 0.5560004627910773\n",
      "Validation Accuracy: 0.5568396776450468\n",
      "Best Val AUC: 0.5560004627910773 at epoch 19\n",
      "Best Val Loss: 1.5200797753393105 at epoch 18\n",
      "Epoch Time: 4.277261972427368\n",
      "\n",
      "---------\n",
      "Epoch 20 of 50\n"
     ]
    },
    {
     "data": {
      "application/vnd.jupyter.widget-view+json": {
       "model_id": "2ee2f67d1aa14a4fa278d8f15c019f75",
       "version_major": 2,
       "version_minor": 0
      },
      "text/plain": [
       "  0%|          | 0/529 [00:00<?, ?it/s]"
      ]
     },
     "metadata": {},
     "output_type": "display_data"
    },
    {
     "name": "stdout",
     "output_type": "stream",
     "text": [
      "Train Loss: 1.5363234444158298\n",
      "Train AUC: 0.544642175058404\n",
      "Train Accuracy: 0.5681784606293396\n",
      "\n"
     ]
    },
    {
     "data": {
      "application/vnd.jupyter.widget-view+json": {
       "model_id": "7254099926a74d7bbf533586a93e7adc",
       "version_major": 2,
       "version_minor": 0
      },
      "text/plain": [
       "  0%|          | 0/38 [00:00<?, ?it/s]"
      ]
     },
     "metadata": {},
     "output_type": "display_data"
    },
    {
     "name": "stdout",
     "output_type": "stream",
     "text": [
      "Validation Loss: 1.5305696250702656\n",
      "Validation AUC: 0.5613168821560152\n",
      "Validation Accuracy: 0.5367054494571273\n",
      "Best Val AUC: 0.5613168821560152 at epoch 20\n",
      "Best Val Loss: 1.5200797753393105 at epoch 18\n",
      "Epoch Time: 4.185640811920166\n",
      "\n",
      "---------\n",
      "Epoch 21 of 50\n"
     ]
    },
    {
     "data": {
      "application/vnd.jupyter.widget-view+json": {
       "model_id": "67271590a02143598d280f9aef6967e5",
       "version_major": 2,
       "version_minor": 0
      },
      "text/plain": [
       "  0%|          | 0/529 [00:00<?, ?it/s]"
      ]
     },
     "metadata": {},
     "output_type": "display_data"
    },
    {
     "name": "stdout",
     "output_type": "stream",
     "text": [
      "Train Loss: 1.5519968241783322\n",
      "Train AUC: 0.5509891505807956\n",
      "Train Accuracy: 0.5570616043728763\n",
      "\n"
     ]
    },
    {
     "data": {
      "application/vnd.jupyter.widget-view+json": {
       "model_id": "918322c375024f069451d52caca5be2f",
       "version_major": 2,
       "version_minor": 0
      },
      "text/plain": [
       "  0%|          | 0/38 [00:00<?, ?it/s]"
      ]
     },
     "metadata": {},
     "output_type": "display_data"
    },
    {
     "name": "stdout",
     "output_type": "stream",
     "text": [
      "Validation Loss: 1.5348664622833201\n",
      "Validation AUC: 0.5551987156182823\n",
      "Validation Accuracy: 0.5558809048741935\n",
      "If performance continues to decrease, will stop in 3 iterations\n",
      "Best Val AUC: 0.5613168821560152 at epoch 20\n",
      "Best Val Loss: 1.5200797753393105 at epoch 18\n",
      "Epoch Time: 4.1964991092681885\n",
      "\n",
      "---------\n",
      "Epoch 22 of 50\n"
     ]
    },
    {
     "data": {
      "application/vnd.jupyter.widget-view+json": {
       "model_id": "ca4f15693e834d46a4b29335d7f72690",
       "version_major": 2,
       "version_minor": 0
      },
      "text/plain": [
       "  0%|          | 0/529 [00:00<?, ?it/s]"
      ]
     },
     "metadata": {},
     "output_type": "display_data"
    },
    {
     "name": "stdout",
     "output_type": "stream",
     "text": [
      "Train Loss: 1.5391495577732965\n",
      "Train AUC: 0.544897117193556\n",
      "Train Accuracy: 0.5516693750923327\n",
      "\n"
     ]
    },
    {
     "data": {
      "application/vnd.jupyter.widget-view+json": {
       "model_id": "83851c73efd34ba9ab100ecb5edc3918",
       "version_major": 2,
       "version_minor": 0
      },
      "text/plain": [
       "  0%|          | 0/38 [00:00<?, ?it/s]"
      ]
     },
     "metadata": {},
     "output_type": "display_data"
    },
    {
     "name": "stdout",
     "output_type": "stream",
     "text": [
      "Validation Loss: 1.5815531842804542\n",
      "Validation AUC: 0.5517046584356189\n",
      "Validation Accuracy: 0.5712212692078464\n",
      "If performance continues to decrease, will stop in 2 iterations\n",
      "Best Val AUC: 0.5613168821560152 at epoch 20\n",
      "Best Val Loss: 1.5200797753393105 at epoch 18\n",
      "Epoch Time: 4.2844390869140625\n",
      "\n",
      "---------\n",
      "Epoch 23 of 50\n"
     ]
    },
    {
     "data": {
      "application/vnd.jupyter.widget-view+json": {
       "model_id": "9635ae1e891246e29cec5fdf6c685b3f",
       "version_major": 2,
       "version_minor": 0
      },
      "text/plain": [
       "  0%|          | 0/529 [00:00<?, ?it/s]"
      ]
     },
     "metadata": {},
     "output_type": "display_data"
    },
    {
     "name": "stdout",
     "output_type": "stream",
     "text": [
      "Train Loss: 1.5509094116429216\n",
      "Train AUC: 0.546076022647598\n",
      "Train Accuracy: 0.553648988033683\n",
      "\n"
     ]
    },
    {
     "data": {
      "application/vnd.jupyter.widget-view+json": {
       "model_id": "bea78e139a444370a83576ecd60dc50f",
       "version_major": 2,
       "version_minor": 0
      },
      "text/plain": [
       "  0%|          | 0/38 [00:00<?, ?it/s]"
      ]
     },
     "metadata": {},
     "output_type": "display_data"
    },
    {
     "name": "stdout",
     "output_type": "stream",
     "text": [
      "Validation Loss: 1.5317155227578239\n",
      "Validation AUC: 0.56051513498322\n",
      "Validation Accuracy: 0.5534710165582649\n",
      "If converges, will stop in 9 iterations\n",
      "Best Val AUC: 0.5613168821560152 at epoch 20\n",
      "Best Val Loss: 1.5200797753393105 at epoch 18\n",
      "Epoch Time: 4.272343873977661\n",
      "\n",
      "---------\n",
      "Epoch 24 of 50\n"
     ]
    },
    {
     "data": {
      "application/vnd.jupyter.widget-view+json": {
       "model_id": "fa2120c28bc24074898ecc72315b8691",
       "version_major": 2,
       "version_minor": 0
      },
      "text/plain": [
       "  0%|          | 0/529 [00:00<?, ?it/s]"
      ]
     },
     "metadata": {},
     "output_type": "display_data"
    },
    {
     "name": "stdout",
     "output_type": "stream",
     "text": [
      "Train Loss: 1.5207057760257934\n",
      "Train AUC: 0.5495011471386477\n",
      "Train Accuracy: 0.5612054956418969\n",
      "\n"
     ]
    },
    {
     "data": {
      "application/vnd.jupyter.widget-view+json": {
       "model_id": "a7cc1f39a3e443398dc2fe3c54caef11",
       "version_major": 2,
       "version_minor": 0
      },
      "text/plain": [
       "  0%|          | 0/38 [00:00<?, ?it/s]"
      ]
     },
     "metadata": {},
     "output_type": "display_data"
    },
    {
     "name": "stdout",
     "output_type": "stream",
     "text": [
      "Validation Loss: 1.5180905556395181\n",
      "Validation AUC: 0.548224274859789\n",
      "Validation Accuracy: 0.5498432276955767\n",
      "If converges, will stop in 9 iterations\n",
      "If performance continues to decrease, will stop in 3 iterations\n",
      "Best Val AUC: 0.5613168821560152 at epoch 20\n",
      "Best Val Loss: 1.5180905556395181 at epoch 24\n",
      "Epoch Time: 4.2815635204315186\n",
      "\n",
      "---------\n",
      "Epoch 25 of 50\n"
     ]
    },
    {
     "data": {
      "application/vnd.jupyter.widget-view+json": {
       "model_id": "80f7c0a1a4c549fd9992f75e0d5d8428",
       "version_major": 2,
       "version_minor": 0
      },
      "text/plain": [
       "  0%|          | 0/529 [00:00<?, ?it/s]"
      ]
     },
     "metadata": {},
     "output_type": "display_data"
    },
    {
     "name": "stdout",
     "output_type": "stream",
     "text": [
      "Train Loss: 1.5338970554126647\n",
      "Train AUC: 0.5501532542805745\n",
      "Train Accuracy: 0.5584576746934554\n",
      "\n"
     ]
    },
    {
     "data": {
      "application/vnd.jupyter.widget-view+json": {
       "model_id": "502aaf58489d4bf5a90d6ea9dae08b41",
       "version_major": 2,
       "version_minor": 0
      },
      "text/plain": [
       "  0%|          | 0/38 [00:00<?, ?it/s]"
      ]
     },
     "metadata": {},
     "output_type": "display_data"
    },
    {
     "name": "stdout",
     "output_type": "stream",
     "text": [
      "Validation Loss: 1.5305762826082256\n",
      "Validation AUC: 0.5556223527987297\n",
      "Validation Accuracy: 0.5613225881682258\n",
      "Best Val AUC: 0.5613168821560152 at epoch 20\n",
      "Best Val Loss: 1.5180905556395181 at epoch 24\n",
      "Epoch Time: 4.276487112045288\n",
      "\n",
      "---------\n",
      "Epoch 26 of 50\n"
     ]
    },
    {
     "data": {
      "application/vnd.jupyter.widget-view+json": {
       "model_id": "7cff74ec42d54a42ad16622683a12594",
       "version_major": 2,
       "version_minor": 0
      },
      "text/plain": [
       "  0%|          | 0/529 [00:00<?, ?it/s]"
      ]
     },
     "metadata": {},
     "output_type": "display_data"
    },
    {
     "name": "stdout",
     "output_type": "stream",
     "text": [
      "Train Loss: 1.5371403781610606\n",
      "Train AUC: 0.5518859723470486\n",
      "Train Accuracy: 0.5664130595361205\n",
      "\n"
     ]
    },
    {
     "data": {
      "application/vnd.jupyter.widget-view+json": {
       "model_id": "5c62300f27fb46f88bf4f7a92a4915ff",
       "version_major": 2,
       "version_minor": 0
      },
      "text/plain": [
       "  0%|          | 0/38 [00:00<?, ?it/s]"
      ]
     },
     "metadata": {},
     "output_type": "display_data"
    },
    {
     "name": "stdout",
     "output_type": "stream",
     "text": [
      "Validation Loss: 1.5708010809822346\n",
      "Validation AUC: 0.5505155567792275\n",
      "Validation Accuracy: 0.5650540281412765\n",
      "If performance continues to decrease, will stop in 3 iterations\n",
      "Best Val AUC: 0.5613168821560152 at epoch 20\n",
      "Best Val Loss: 1.5180905556395181 at epoch 24\n",
      "Epoch Time: 4.254591941833496\n",
      "\n",
      "---------\n",
      "Epoch 27 of 50\n"
     ]
    },
    {
     "data": {
      "application/vnd.jupyter.widget-view+json": {
       "model_id": "eb4ee53587d9472087628d787b3b0107",
       "version_major": 2,
       "version_minor": 0
      },
      "text/plain": [
       "  0%|          | 0/529 [00:00<?, ?it/s]"
      ]
     },
     "metadata": {},
     "output_type": "display_data"
    },
    {
     "name": "stdout",
     "output_type": "stream",
     "text": [
      "Train Loss: 1.571701578545013\n",
      "Train AUC: 0.5504097970606086\n",
      "Train Accuracy: 0.5529620327965726\n",
      "\n"
     ]
    },
    {
     "data": {
      "application/vnd.jupyter.widget-view+json": {
       "model_id": "d4fa4726fb4142ddbce128cf8e4849ed",
       "version_major": 2,
       "version_minor": 0
      },
      "text/plain": [
       "  0%|          | 0/38 [00:00<?, ?it/s]"
      ]
     },
     "metadata": {},
     "output_type": "display_data"
    },
    {
     "name": "stdout",
     "output_type": "stream",
     "text": [
      "Validation Loss: 1.6008790528601784\n",
      "Validation AUC: 0.5467269762855366\n",
      "Validation Accuracy: 0.5516312093493302\n",
      "If performance continues to decrease, will stop in 2 iterations\n",
      "Best Val AUC: 0.5613168821560152 at epoch 20\n",
      "Best Val Loss: 1.5180905556395181 at epoch 24\n",
      "Epoch Time: 4.26929783821106\n",
      "\n",
      "---------\n",
      "Epoch 28 of 50\n"
     ]
    },
    {
     "data": {
      "application/vnd.jupyter.widget-view+json": {
       "model_id": "e2a3f738edf74d6f88ee660b8f561707",
       "version_major": 2,
       "version_minor": 0
      },
      "text/plain": [
       "  0%|          | 0/529 [00:00<?, ?it/s]"
      ]
     },
     "metadata": {},
     "output_type": "display_data"
    },
    {
     "name": "stdout",
     "output_type": "stream",
     "text": [
      "Train Loss: 1.582793626077703\n",
      "Train AUC: 0.5535108582700765\n",
      "Train Accuracy: 0.5610134436401241\n",
      "\n"
     ]
    },
    {
     "data": {
      "application/vnd.jupyter.widget-view+json": {
       "model_id": "ad8dd0df71304b9981d49e0e1a3f7a40",
       "version_major": 2,
       "version_minor": 0
      },
      "text/plain": [
       "  0%|          | 0/38 [00:00<?, ?it/s]"
      ]
     },
     "metadata": {},
     "output_type": "display_data"
    },
    {
     "name": "stdout",
     "output_type": "stream",
     "text": [
      "Validation Loss: 1.5970757729184262\n",
      "Validation AUC: 0.5411851870392336\n",
      "Validation Accuracy: 0.5631105698219793\n",
      "If converges, will stop in 9 iterations\n",
      "If performance continues to decrease, will stop in 1 iterations\n",
      "Best Val AUC: 0.5613168821560152 at epoch 20\n",
      "Best Val Loss: 1.5180905556395181 at epoch 24\n",
      "Epoch Time: 4.417291641235352\n",
      "\n",
      "---------\n",
      "Epoch 29 of 50\n"
     ]
    },
    {
     "data": {
      "application/vnd.jupyter.widget-view+json": {
       "model_id": "fa2d51078a3340309548d5df5fa5a7c3",
       "version_major": 2,
       "version_minor": 0
      },
      "text/plain": [
       "  0%|          | 0/529 [00:00<?, ?it/s]"
      ]
     },
     "metadata": {},
     "output_type": "display_data"
    },
    {
     "name": "stdout",
     "output_type": "stream",
     "text": [
      "Train Loss: 1.570794596997219\n",
      "Train AUC: 0.5475211725564677\n",
      "Train Accuracy: 0.5638277441276407\n",
      "\n"
     ]
    },
    {
     "data": {
      "application/vnd.jupyter.widget-view+json": {
       "model_id": "bceb2f4e21c64b39846008ac44caffab",
       "version_major": 2,
       "version_minor": 0
      },
      "text/plain": [
       "  0%|          | 0/38 [00:00<?, ?it/s]"
      ]
     },
     "metadata": {},
     "output_type": "display_data"
    },
    {
     "name": "stdout",
     "output_type": "stream",
     "text": [
      "Validation Loss: 1.5541114083551977\n",
      "Validation AUC: 0.5448196368856539\n",
      "Validation Accuracy: 0.5639916042600607\n",
      "If converges, will stop in 8 iterations\n",
      "Best Val AUC: 0.5613168821560152 at epoch 20\n",
      "Best Val Loss: 1.5180905556395181 at epoch 24\n",
      "Epoch Time: 4.2578675746917725\n",
      "\n",
      "---------\n",
      "Epoch 30 of 50\n"
     ]
    },
    {
     "data": {
      "application/vnd.jupyter.widget-view+json": {
       "model_id": "482531b97a6240b6b740bcca9c93aaf9",
       "version_major": 2,
       "version_minor": 0
      },
      "text/plain": [
       "  0%|          | 0/529 [00:00<?, ?it/s]"
      ]
     },
     "metadata": {},
     "output_type": "display_data"
    },
    {
     "name": "stdout",
     "output_type": "stream",
     "text": [
      "Train Loss: 1.5482939906521025\n",
      "Train AUC: 0.5528083202976478\n",
      "Train Accuracy: 0.5723592849756242\n",
      "\n"
     ]
    },
    {
     "data": {
      "application/vnd.jupyter.widget-view+json": {
       "model_id": "a0cc36cebc7f425994256901c7cf3749",
       "version_major": 2,
       "version_minor": 0
      },
      "text/plain": [
       "  0%|          | 0/38 [00:00<?, ?it/s]"
      ]
     },
     "metadata": {},
     "output_type": "display_data"
    },
    {
     "name": "stdout",
     "output_type": "stream",
     "text": [
      "Validation Loss: 1.5578730709283426\n",
      "Validation AUC: 0.5507056353646133\n",
      "Validation Accuracy: 0.5679303464538363\n",
      "Best Val AUC: 0.5613168821560152 at epoch 20\n",
      "Best Val Loss: 1.5180905556395181 at epoch 24\n",
      "Epoch Time: 4.305915117263794\n",
      "\n",
      "---------\n",
      "Epoch 31 of 50\n"
     ]
    },
    {
     "data": {
      "application/vnd.jupyter.widget-view+json": {
       "model_id": "e75207835fea48869fcc1796d5b021f6",
       "version_major": 2,
       "version_minor": 0
      },
      "text/plain": [
       "  0%|          | 0/529 [00:00<?, ?it/s]"
      ]
     },
     "metadata": {},
     "output_type": "display_data"
    },
    {
     "name": "stdout",
     "output_type": "stream",
     "text": [
      "Train Loss: 1.529428622718059\n",
      "Train AUC: 0.55321652365441\n",
      "Train Accuracy: 0.5640197961294136\n",
      "\n"
     ]
    },
    {
     "data": {
      "application/vnd.jupyter.widget-view+json": {
       "model_id": "f7122dcd5d774f26af24f4386e3ca657",
       "version_major": 2,
       "version_minor": 0
      },
      "text/plain": [
       "  0%|          | 0/38 [00:00<?, ?it/s]"
      ]
     },
     "metadata": {},
     "output_type": "display_data"
    },
    {
     "name": "stdout",
     "output_type": "stream",
     "text": [
      "Validation Loss: 1.530064446107754\n",
      "Validation AUC: 0.555624129595098\n",
      "Validation Accuracy: 0.5559068176517841\n",
      "If converges, will stop in 9 iterations\n",
      "Best Val AUC: 0.5613168821560152 at epoch 20\n",
      "Best Val Loss: 1.5180905556395181 at epoch 24\n",
      "Epoch Time: 4.429004907608032\n",
      "\n",
      "---------\n",
      "Epoch 32 of 50\n"
     ]
    },
    {
     "data": {
      "application/vnd.jupyter.widget-view+json": {
       "model_id": "c17283cd88d24249b64473ab4c925c5c",
       "version_major": 2,
       "version_minor": 0
      },
      "text/plain": [
       "  0%|          | 0/529 [00:00<?, ?it/s]"
      ]
     },
     "metadata": {},
     "output_type": "display_data"
    },
    {
     "name": "stdout",
     "output_type": "stream",
     "text": [
      "Train Loss: 1.5456706469739838\n",
      "Train AUC: 0.5470195523252452\n",
      "Train Accuracy: 0.5605480868665977\n",
      "\n"
     ]
    },
    {
     "data": {
      "application/vnd.jupyter.widget-view+json": {
       "model_id": "7f15fca3575443478e625a0293eca96b",
       "version_major": 2,
       "version_minor": 0
      },
      "text/plain": [
       "  0%|          | 0/38 [00:00<?, ?it/s]"
      ]
     },
     "metadata": {},
     "output_type": "display_data"
    },
    {
     "name": "stdout",
     "output_type": "stream",
     "text": [
      "Validation Loss: 1.5486115329083927\n",
      "Validation AUC: 0.5466330378340718\n",
      "Validation Accuracy: 0.5380270011142494\n",
      "If performance continues to decrease, will stop in 3 iterations\n",
      "Best Val AUC: 0.5613168821560152 at epoch 20\n",
      "Best Val Loss: 1.5180905556395181 at epoch 24\n",
      "Epoch Time: 4.296061038970947\n",
      "\n",
      "---------\n",
      "Epoch 33 of 50\n"
     ]
    },
    {
     "data": {
      "application/vnd.jupyter.widget-view+json": {
       "model_id": "81ee1425033f45cfafa9d32ed2fda587",
       "version_major": 2,
       "version_minor": 0
      },
      "text/plain": [
       "  0%|          | 0/529 [00:00<?, ?it/s]"
      ]
     },
     "metadata": {},
     "output_type": "display_data"
    },
    {
     "name": "stdout",
     "output_type": "stream",
     "text": [
      "Train Loss: 1.5552619980637215\n",
      "Train AUC: 0.5532627446416383\n",
      "Train Accuracy: 0.5405894519131335\n",
      "\n"
     ]
    },
    {
     "data": {
      "application/vnd.jupyter.widget-view+json": {
       "model_id": "d427f5d426ad452baf1fa1fd3c9afa6f",
       "version_major": 2,
       "version_minor": 0
      },
      "text/plain": [
       "  0%|          | 0/38 [00:00<?, ?it/s]"
      ]
     },
     "metadata": {},
     "output_type": "display_data"
    },
    {
     "name": "stdout",
     "output_type": "stream",
     "text": [
      "Validation Loss: 1.5343135170614384\n",
      "Validation AUC: 0.5587281799749487\n",
      "Validation Accuracy: 0.5492731465885828\n",
      "If converges, will stop in 9 iterations\n",
      "Best Val AUC: 0.5613168821560152 at epoch 20\n",
      "Best Val Loss: 1.5180905556395181 at epoch 24\n",
      "Epoch Time: 4.316155195236206\n",
      "\n",
      "---------\n",
      "Epoch 34 of 50\n"
     ]
    },
    {
     "data": {
      "application/vnd.jupyter.widget-view+json": {
       "model_id": "c3aa28c8dc19493799dd6aa24b00c993",
       "version_major": 2,
       "version_minor": 0
      },
      "text/plain": [
       "  0%|          | 0/529 [00:00<?, ?it/s]"
      ]
     },
     "metadata": {},
     "output_type": "display_data"
    },
    {
     "name": "stdout",
     "output_type": "stream",
     "text": [
      "Train Loss: 1.5352146645857454\n",
      "Train AUC: 0.5433920303903949\n",
      "Train Accuracy: 0.5490988329147585\n",
      "\n"
     ]
    },
    {
     "data": {
      "application/vnd.jupyter.widget-view+json": {
       "model_id": "6d0c8534c2aa49ca95411ea02d875531",
       "version_major": 2,
       "version_minor": 0
      },
      "text/plain": [
       "  0%|          | 0/38 [00:00<?, ?it/s]"
      ]
     },
     "metadata": {},
     "output_type": "display_data"
    },
    {
     "name": "stdout",
     "output_type": "stream",
     "text": [
      "Validation Loss: 1.561728203580479\n",
      "Validation AUC: 0.5421917808078078\n",
      "Validation Accuracy: 0.5444792827343163\n",
      "If performance continues to decrease, will stop in 3 iterations\n",
      "Best Val AUC: 0.5613168821560152 at epoch 20\n",
      "Best Val Loss: 1.5180905556395181 at epoch 24\n",
      "Epoch Time: 4.275770664215088\n",
      "\n",
      "---------\n",
      "Epoch 35 of 50\n"
     ]
    },
    {
     "data": {
      "application/vnd.jupyter.widget-view+json": {
       "model_id": "e5a9bd4aed85452fb64a50e97ae7ff57",
       "version_major": 2,
       "version_minor": 0
      },
      "text/plain": [
       "  0%|          | 0/529 [00:00<?, ?it/s]"
      ]
     },
     "metadata": {},
     "output_type": "display_data"
    },
    {
     "name": "stdout",
     "output_type": "stream",
     "text": [
      "Train Loss: 1.5563376991626523\n",
      "Train AUC: 0.5533938260994112\n",
      "Train Accuracy: 0.5607770719456345\n",
      "\n"
     ]
    },
    {
     "data": {
      "application/vnd.jupyter.widget-view+json": {
       "model_id": "f8bbcdc6aa1c487f8091228457d4fc01",
       "version_major": 2,
       "version_minor": 0
      },
      "text/plain": [
       "  0%|          | 0/38 [00:00<?, ?it/s]"
      ]
     },
     "metadata": {},
     "output_type": "display_data"
    },
    {
     "name": "stdout",
     "output_type": "stream",
     "text": [
      "Validation Loss: 1.5360233090155615\n",
      "Validation AUC: 0.5518110344616608\n",
      "Validation Accuracy: 0.5508797387992019\n",
      "If converges, will stop in 9 iterations\n",
      "Best Val AUC: 0.5613168821560152 at epoch 20\n",
      "Best Val Loss: 1.5180905556395181 at epoch 24\n",
      "Epoch Time: 4.300375938415527\n",
      "\n",
      "---------\n",
      "Epoch 36 of 50\n"
     ]
    },
    {
     "data": {
      "application/vnd.jupyter.widget-view+json": {
       "model_id": "81703b04d7674f51ab6cd9bfbba2920a",
       "version_major": 2,
       "version_minor": 0
      },
      "text/plain": [
       "  0%|          | 0/529 [00:00<?, ?it/s]"
      ]
     },
     "metadata": {},
     "output_type": "display_data"
    },
    {
     "name": "stdout",
     "output_type": "stream",
     "text": [
      "Train Loss: 1.5205389214927985\n",
      "Train AUC: 0.5461662866092094\n",
      "Train Accuracy: 0.5553257497414684\n",
      "\n"
     ]
    },
    {
     "data": {
      "application/vnd.jupyter.widget-view+json": {
       "model_id": "b8ca1819cd344d2b8c00b2fe834dc452",
       "version_major": 2,
       "version_minor": 0
      },
      "text/plain": [
       "  0%|          | 0/38 [00:00<?, ?it/s]"
      ]
     },
     "metadata": {},
     "output_type": "display_data"
    },
    {
     "name": "stdout",
     "output_type": "stream",
     "text": [
      "Validation Loss: 1.4980862842085723\n",
      "Validation AUC: 0.5556049839704642\n",
      "Validation Accuracy: 0.5419657433080252\n",
      "If converges, will stop in 9 iterations\n",
      "Best Val AUC: 0.5613168821560152 at epoch 20\n",
      "Best Val Loss: 1.4980862842085723 at epoch 36\n",
      "Epoch Time: 4.448954105377197\n",
      "\n",
      "---------\n",
      "Epoch 37 of 50\n"
     ]
    },
    {
     "data": {
      "application/vnd.jupyter.widget-view+json": {
       "model_id": "dddc8eaecd254d08a731bee89a9cd641",
       "version_major": 2,
       "version_minor": 0
      },
      "text/plain": [
       "  0%|          | 0/529 [00:00<?, ?it/s]"
      ]
     },
     "metadata": {},
     "output_type": "display_data"
    },
    {
     "name": "stdout",
     "output_type": "stream",
     "text": [
      "Train Loss: 1.5197116647711286\n",
      "Train AUC: 0.5502210766120047\n",
      "Train Accuracy: 0.545944748116413\n",
      "\n"
     ]
    },
    {
     "data": {
      "application/vnd.jupyter.widget-view+json": {
       "model_id": "641a3479d9cd46e0842f0db89167229e",
       "version_major": 2,
       "version_minor": 0
      },
      "text/plain": [
       "  0%|          | 0/38 [00:00<?, ?it/s]"
      ]
     },
     "metadata": {},
     "output_type": "display_data"
    },
    {
     "name": "stdout",
     "output_type": "stream",
     "text": [
      "Validation Loss: 1.523137156030819\n",
      "Validation AUC: 0.5537939005825265\n",
      "Validation Accuracy: 0.5376901350055713\n",
      "If performance continues to decrease, will stop in 3 iterations\n",
      "Best Val AUC: 0.5613168821560152 at epoch 20\n",
      "Best Val Loss: 1.4980862842085723 at epoch 36\n",
      "Epoch Time: 4.255996227264404\n",
      "\n",
      "---------\n",
      "Epoch 38 of 50\n"
     ]
    },
    {
     "data": {
      "application/vnd.jupyter.widget-view+json": {
       "model_id": "92b44c43df0042fa9c4f1a6ec1e284ab",
       "version_major": 2,
       "version_minor": 0
      },
      "text/plain": [
       "  0%|          | 0/529 [00:00<?, ?it/s]"
      ]
     },
     "metadata": {},
     "output_type": "display_data"
    },
    {
     "name": "stdout",
     "output_type": "stream",
     "text": [
      "Train Loss: 1.5332408227355419\n",
      "Train AUC: 0.552514605116827\n",
      "Train Accuracy: 0.5464839710444674\n",
      "\n"
     ]
    },
    {
     "data": {
      "application/vnd.jupyter.widget-view+json": {
       "model_id": "0211ffe5e38d47a9b43e88cfc46daf52",
       "version_major": 2,
       "version_minor": 0
      },
      "text/plain": [
       "  0%|          | 0/38 [00:00<?, ?it/s]"
      ]
     },
     "metadata": {},
     "output_type": "display_data"
    },
    {
     "name": "stdout",
     "output_type": "stream",
     "text": [
      "Validation Loss: 1.5153917933736871\n",
      "Validation AUC: 0.5546231623483562\n",
      "Validation Accuracy: 0.5200694462439429\n",
      "If converges, will stop in 9 iterations\n",
      "Best Val AUC: 0.5613168821560152 at epoch 20\n",
      "Best Val Loss: 1.4980862842085723 at epoch 36\n",
      "Epoch Time: 4.230919122695923\n",
      "\n",
      "---------\n",
      "Epoch 39 of 50\n"
     ]
    },
    {
     "data": {
      "application/vnd.jupyter.widget-view+json": {
       "model_id": "12299a68ceef4a5abe95fd668aa3b985",
       "version_major": 2,
       "version_minor": 0
      },
      "text/plain": [
       "  0%|          | 0/529 [00:00<?, ?it/s]"
      ]
     },
     "metadata": {},
     "output_type": "display_data"
    },
    {
     "name": "stdout",
     "output_type": "stream",
     "text": [
      "Train Loss: 1.5290107163340905\n",
      "Train AUC: 0.5430310818145001\n",
      "Train Accuracy: 0.5327374796868075\n",
      "\n"
     ]
    },
    {
     "data": {
      "application/vnd.jupyter.widget-view+json": {
       "model_id": "49cb438265714fbeaebd636d3ee2ddc6",
       "version_major": 2,
       "version_minor": 0
      },
      "text/plain": [
       "  0%|          | 0/38 [00:00<?, ?it/s]"
      ]
     },
     "metadata": {},
     "output_type": "display_data"
    },
    {
     "name": "stdout",
     "output_type": "stream",
     "text": [
      "Validation Loss: 1.5576111087806412\n",
      "Validation AUC: 0.554161478550025\n",
      "Validation Accuracy: 0.5170635640434298\n",
      "If performance continues to decrease, will stop in 3 iterations\n",
      "Best Val AUC: 0.5613168821560152 at epoch 20\n",
      "Best Val Loss: 1.4980862842085723 at epoch 36\n",
      "Epoch Time: 4.2857019901275635\n",
      "\n",
      "---------\n",
      "Epoch 40 of 50\n"
     ]
    },
    {
     "data": {
      "application/vnd.jupyter.widget-view+json": {
       "model_id": "e92d7750ca8c454cbeb04638cb2587d3",
       "version_major": 2,
       "version_minor": 0
      },
      "text/plain": [
       "  0%|          | 0/529 [00:00<?, ?it/s]"
      ]
     },
     "metadata": {},
     "output_type": "display_data"
    },
    {
     "name": "stdout",
     "output_type": "stream",
     "text": [
      "Train Loss: 1.546684790248168\n",
      "Train AUC: 0.5496699836235309\n",
      "Train Accuracy: 0.517173880927759\n",
      "\n"
     ]
    },
    {
     "data": {
      "application/vnd.jupyter.widget-view+json": {
       "model_id": "83da0ada6dee4d5a822675b244e46e42",
       "version_major": 2,
       "version_minor": 0
      },
      "text/plain": [
       "  0%|          | 0/38 [00:00<?, ?it/s]"
      ]
     },
     "metadata": {},
     "output_type": "display_data"
    },
    {
     "name": "stdout",
     "output_type": "stream",
     "text": [
      "Validation Loss: 1.549037543224328\n",
      "Validation AUC: 0.5531062546373742\n",
      "Validation Accuracy: 0.5206654401285273\n",
      "If converges, will stop in 9 iterations\n",
      "If performance continues to decrease, will stop in 2 iterations\n",
      "Best Val AUC: 0.5613168821560152 at epoch 20\n",
      "Best Val Loss: 1.4980862842085723 at epoch 36\n",
      "Epoch Time: 4.3085105419158936\n",
      "\n",
      "---------\n",
      "Epoch 41 of 50\n"
     ]
    },
    {
     "data": {
      "application/vnd.jupyter.widget-view+json": {
       "model_id": "f0bee0fa54a448698a654c0e227343db",
       "version_major": 2,
       "version_minor": 0
      },
      "text/plain": [
       "  0%|          | 0/529 [00:00<?, ?it/s]"
      ]
     },
     "metadata": {},
     "output_type": "display_data"
    },
    {
     "name": "stdout",
     "output_type": "stream",
     "text": [
      "Train Loss: 1.5275292303072796\n",
      "Train AUC: 0.5477704935044359\n",
      "Train Accuracy: 0.5194785049490324\n",
      "\n"
     ]
    },
    {
     "data": {
      "application/vnd.jupyter.widget-view+json": {
       "model_id": "0be88f439cd747009da3d407a35c9eec",
       "version_major": 2,
       "version_minor": 0
      },
      "text/plain": [
       "  0%|          | 0/38 [00:00<?, ?it/s]"
      ]
     },
     "metadata": {},
     "output_type": "display_data"
    },
    {
     "name": "stdout",
     "output_type": "stream",
     "text": [
      "Validation Loss: 1.5205474555621052\n",
      "Validation AUC: 0.5466690372735312\n",
      "Validation Accuracy: 0.5264699023088285\n",
      "If converges, will stop in 8 iterations\n",
      "If performance continues to decrease, will stop in 1 iterations\n",
      "Best Val AUC: 0.5613168821560152 at epoch 20\n",
      "Best Val Loss: 1.4980862842085723 at epoch 36\n",
      "Epoch Time: 4.299978733062744\n",
      "\n",
      "---------\n",
      "Epoch 42 of 50\n"
     ]
    },
    {
     "data": {
      "application/vnd.jupyter.widget-view+json": {
       "model_id": "a921dd76b6b240b2880f65782fb2b486",
       "version_major": 2,
       "version_minor": 0
      },
      "text/plain": [
       "  0%|          | 0/529 [00:00<?, ?it/s]"
      ]
     },
     "metadata": {},
     "output_type": "display_data"
    },
    {
     "name": "stdout",
     "output_type": "stream",
     "text": [
      "Train Loss: 1.5210199315787782\n",
      "Train AUC: 0.5529566891408145\n",
      "Train Accuracy: 0.5239991136061457\n",
      "\n"
     ]
    },
    {
     "data": {
      "application/vnd.jupyter.widget-view+json": {
       "model_id": "40f9d89c11214d5eb6a68ad0a15d37d0",
       "version_major": 2,
       "version_minor": 0
      },
      "text/plain": [
       "  0%|          | 0/38 [00:00<?, ?it/s]"
      ]
     },
     "metadata": {},
     "output_type": "display_data"
    },
    {
     "name": "stdout",
     "output_type": "stream",
     "text": [
      "Validation Loss: 1.5175793279707002\n",
      "Validation AUC: 0.5562366350793474\n",
      "Validation Accuracy: 0.5101707652043223\n",
      "If converges, will stop in 7 iterations\n",
      "Best Val AUC: 0.5613168821560152 at epoch 20\n",
      "Best Val Loss: 1.4980862842085723 at epoch 36\n",
      "Epoch Time: 4.209763765335083\n",
      "\n",
      "---------\n",
      "Epoch 43 of 50\n"
     ]
    },
    {
     "data": {
      "application/vnd.jupyter.widget-view+json": {
       "model_id": "d165bd1f91b34fbca638d73e6720dcc2",
       "version_major": 2,
       "version_minor": 0
      },
      "text/plain": [
       "  0%|          | 0/529 [00:00<?, ?it/s]"
      ]
     },
     "metadata": {},
     "output_type": "display_data"
    },
    {
     "name": "stdout",
     "output_type": "stream",
     "text": [
      "Train Loss: 1.5316621421725212\n",
      "Train AUC: 0.5553762784209748\n",
      "Train Accuracy: 0.5264440833210223\n",
      "\n"
     ]
    },
    {
     "data": {
      "application/vnd.jupyter.widget-view+json": {
       "model_id": "b7e0a4abc7bf4300bcac897ffabdc151",
       "version_major": 2,
       "version_minor": 0
      },
      "text/plain": [
       "  0%|          | 0/38 [00:00<?, ?it/s]"
      ]
     },
     "metadata": {},
     "output_type": "display_data"
    },
    {
     "name": "stdout",
     "output_type": "stream",
     "text": [
      "Validation Loss: 1.5333012472744743\n",
      "Validation AUC: 0.5622518504304147\n",
      "Validation Accuracy: 0.5113627529734912\n",
      "Best Val AUC: 0.5622518504304147 at epoch 43\n",
      "Best Val Loss: 1.4980862842085723 at epoch 36\n",
      "Epoch Time: 4.303626775741577\n",
      "\n",
      "---------\n",
      "Epoch 44 of 50\n"
     ]
    },
    {
     "data": {
      "application/vnd.jupyter.widget-view+json": {
       "model_id": "dc8830380e294461bb4302072f8b0868",
       "version_major": 2,
       "version_minor": 0
      },
      "text/plain": [
       "  0%|          | 0/529 [00:00<?, ?it/s]"
      ]
     },
     "metadata": {},
     "output_type": "display_data"
    },
    {
     "name": "stdout",
     "output_type": "stream",
     "text": [
      "Train Loss: 1.532505322810824\n",
      "Train AUC: 0.5498124546897607\n",
      "Train Accuracy: 0.518791549711922\n",
      "\n"
     ]
    },
    {
     "data": {
      "application/vnd.jupyter.widget-view+json": {
       "model_id": "e9ec87a2d14a41f099f5bda9ea2f5254",
       "version_major": 2,
       "version_minor": 0
      },
      "text/plain": [
       "  0%|          | 0/38 [00:00<?, ?it/s]"
      ]
     },
     "metadata": {},
     "output_type": "display_data"
    },
    {
     "name": "stdout",
     "output_type": "stream",
     "text": [
      "Validation Loss: 1.5113490521478614\n",
      "Validation AUC: 0.55257046040502\n",
      "Validation Accuracy: 0.4746961726827499\n",
      "If converges, will stop in 9 iterations\n",
      "If performance continues to decrease, will stop in 3 iterations\n",
      "Best Val AUC: 0.5622518504304147 at epoch 43\n",
      "Best Val Loss: 1.4980862842085723 at epoch 36\n",
      "Epoch Time: 4.309554815292358\n",
      "\n",
      "---------\n",
      "Epoch 45 of 50\n"
     ]
    },
    {
     "data": {
      "application/vnd.jupyter.widget-view+json": {
       "model_id": "d0bd11131e1440cca3637d3eb141d481",
       "version_major": 2,
       "version_minor": 0
      },
      "text/plain": [
       "  0%|          | 0/529 [00:00<?, ?it/s]"
      ]
     },
     "metadata": {},
     "output_type": "display_data"
    },
    {
     "name": "stdout",
     "output_type": "stream",
     "text": [
      "Train Loss: 1.5276471548673467\n",
      "Train AUC: 0.5518411553420263\n",
      "Train Accuracy: 0.49395774855961\n",
      "\n"
     ]
    },
    {
     "data": {
      "application/vnd.jupyter.widget-view+json": {
       "model_id": "93bf8069245a4390af3e776975fb66a7",
       "version_major": 2,
       "version_minor": 0
      },
      "text/plain": [
       "  0%|          | 0/38 [00:00<?, ?it/s]"
      ]
     },
     "metadata": {},
     "output_type": "display_data"
    },
    {
     "name": "stdout",
     "output_type": "stream",
     "text": [
      "Validation Loss: 1.545968229051022\n",
      "Validation AUC: 0.5464310495628849\n",
      "Validation Accuracy: 0.4799305537560571\n",
      "If performance continues to decrease, will stop in 2 iterations\n",
      "Best Val AUC: 0.5622518504304147 at epoch 43\n",
      "Best Val Loss: 1.4980862842085723 at epoch 36\n",
      "Epoch Time: 4.301429033279419\n",
      "\n",
      "---------\n",
      "Epoch 46 of 50\n"
     ]
    },
    {
     "data": {
      "application/vnd.jupyter.widget-view+json": {
       "model_id": "979b955875b24b3cad49764cbeb4fbc7",
       "version_major": 2,
       "version_minor": 0
      },
      "text/plain": [
       "  0%|          | 0/529 [00:00<?, ?it/s]"
      ]
     },
     "metadata": {},
     "output_type": "display_data"
    },
    {
     "name": "stdout",
     "output_type": "stream",
     "text": [
      "Train Loss: 1.5291231380851207\n",
      "Train AUC: 0.5491563711757586\n",
      "Train Accuracy: 0.48535972817255135\n",
      "\n"
     ]
    },
    {
     "data": {
      "application/vnd.jupyter.widget-view+json": {
       "model_id": "87b03cd30cbf403b9dd05b6bca6ba344",
       "version_major": 2,
       "version_minor": 0
      },
      "text/plain": [
       "  0%|          | 0/38 [00:00<?, ?it/s]"
      ]
     },
     "metadata": {},
     "output_type": "display_data"
    },
    {
     "name": "stdout",
     "output_type": "stream",
     "text": [
      "Validation Loss: 1.531914606010781\n",
      "Validation AUC: 0.5502838908585578\n",
      "Validation Accuracy: 0.47415200435334665\n",
      "If converges, will stop in 8 iterations\n",
      "Best Val AUC: 0.5622518504304147 at epoch 43\n",
      "Best Val Loss: 1.4980862842085723 at epoch 36\n",
      "Epoch Time: 4.295729637145996\n",
      "\n",
      "---------\n",
      "Epoch 47 of 50\n"
     ]
    },
    {
     "data": {
      "application/vnd.jupyter.widget-view+json": {
       "model_id": "05c7f72a5f004f1d952b02f7405de89a",
       "version_major": 2,
       "version_minor": 0
      },
      "text/plain": [
       "  0%|          | 0/529 [00:00<?, ?it/s]"
      ]
     },
     "metadata": {},
     "output_type": "display_data"
    },
    {
     "name": "stdout",
     "output_type": "stream",
     "text": [
      "Train Loss: 1.5336670830714159\n",
      "Train AUC: 0.5495781337404465\n",
      "Train Accuracy: 0.4747673216132368\n",
      "\n"
     ]
    },
    {
     "data": {
      "application/vnd.jupyter.widget-view+json": {
       "model_id": "b1716a8872b14a1d8326651b877bd436",
       "version_major": 2,
       "version_minor": 0
      },
      "text/plain": [
       "  0%|          | 0/38 [00:00<?, ?it/s]"
      ]
     },
     "metadata": {},
     "output_type": "display_data"
    },
    {
     "name": "stdout",
     "output_type": "stream",
     "text": [
      "Validation Loss: 1.5203016209191085\n",
      "Validation AUC: 0.5539610224438223\n",
      "Validation Accuracy: 0.44880930786971057\n",
      "If converges, will stop in 9 iterations\n",
      "Best Val AUC: 0.5622518504304147 at epoch 43\n",
      "Best Val Loss: 1.4980862842085723 at epoch 36\n",
      "Epoch Time: 4.321126699447632\n",
      "\n",
      "---------\n",
      "Epoch 48 of 50\n"
     ]
    },
    {
     "data": {
      "application/vnd.jupyter.widget-view+json": {
       "model_id": "f1aeaaa51f3f4f99926a2085426b495d",
       "version_major": 2,
       "version_minor": 0
      },
      "text/plain": [
       "  0%|          | 0/529 [00:00<?, ?it/s]"
      ]
     },
     "metadata": {},
     "output_type": "display_data"
    },
    {
     "name": "stdout",
     "output_type": "stream",
     "text": [
      "Train Loss: 1.5282410332798761\n",
      "Train AUC: 0.5482322406410104\n",
      "Train Accuracy: 0.47734525040626385\n",
      "\n"
     ]
    },
    {
     "data": {
      "application/vnd.jupyter.widget-view+json": {
       "model_id": "28f2ead55d8149749fd3da5b0b2a2a74",
       "version_major": 2,
       "version_minor": 0
      },
      "text/plain": [
       "  0%|          | 0/38 [00:00<?, ?it/s]"
      ]
     },
     "metadata": {},
     "output_type": "display_data"
    },
    {
     "name": "stdout",
     "output_type": "stream",
     "text": [
      "Validation Loss: 1.5270244968063083\n",
      "Validation AUC: 0.5531893778065979\n",
      "Validation Accuracy: 0.4231297452773963\n",
      "If performance continues to decrease, will stop in 3 iterations\n",
      "Best Val AUC: 0.5622518504304147 at epoch 43\n",
      "Best Val Loss: 1.4980862842085723 at epoch 36\n",
      "Epoch Time: 4.295672655105591\n",
      "\n",
      "---------\n",
      "Epoch 49 of 50\n"
     ]
    },
    {
     "data": {
      "application/vnd.jupyter.widget-view+json": {
       "model_id": "2f7a1ef47ae844feaaf2a7b9c9af572d",
       "version_major": 2,
       "version_minor": 0
      },
      "text/plain": [
       "  0%|          | 0/529 [00:00<?, ?it/s]"
      ]
     },
     "metadata": {},
     "output_type": "display_data"
    },
    {
     "name": "stdout",
     "output_type": "stream",
     "text": [
      "Train Loss: 1.5187404274727698\n",
      "Train AUC: 0.5516350938727533\n",
      "Train Accuracy: 0.4583099423843995\n",
      "\n"
     ]
    },
    {
     "data": {
      "application/vnd.jupyter.widget-view+json": {
       "model_id": "61c4c6fef17f48cf9f1a161967af8ca1",
       "version_major": 2,
       "version_minor": 0
      },
      "text/plain": [
       "  0%|          | 0/38 [00:00<?, ?it/s]"
      ]
     },
     "metadata": {},
     "output_type": "display_data"
    },
    {
     "name": "stdout",
     "output_type": "stream",
     "text": [
      "Validation Loss: 1.5158947796925057\n",
      "Validation AUC: 0.5580879023909447\n",
      "Validation Accuracy: 0.489673758130134\n",
      "If converges, will stop in 9 iterations\n",
      "Best Val AUC: 0.5622518504304147 at epoch 43\n",
      "Best Val Loss: 1.4980862842085723 at epoch 36\n",
      "Epoch Time: 4.370320796966553\n",
      "\n",
      "---------\n",
      "Epoch 50 of 50\n"
     ]
    },
    {
     "data": {
      "application/vnd.jupyter.widget-view+json": {
       "model_id": "9b02fa4011bb47849ad3ce2e87db0713",
       "version_major": 2,
       "version_minor": 0
      },
      "text/plain": [
       "  0%|          | 0/529 [00:00<?, ?it/s]"
      ]
     },
     "metadata": {},
     "output_type": "display_data"
    },
    {
     "name": "stdout",
     "output_type": "stream",
     "text": [
      "Train Loss: 1.5378213854839975\n",
      "Train AUC: 0.5489205368703437\n",
      "Train Accuracy: 0.4842000295464618\n",
      "\n"
     ]
    },
    {
     "data": {
      "application/vnd.jupyter.widget-view+json": {
       "model_id": "5d947126295b45159fb58f7ee5f3686d",
       "version_major": 2,
       "version_minor": 0
      },
      "text/plain": [
       "  0%|          | 0/38 [00:00<?, ?it/s]"
      ]
     },
     "metadata": {},
     "output_type": "display_data"
    },
    {
     "name": "stdout",
     "output_type": "stream",
     "text": [
      "Validation Loss: 1.5707733383320648\n",
      "Validation AUC: 0.5560910279045097\n",
      "Validation Accuracy: 0.4983286258454044\n",
      "If performance continues to decrease, will stop in 3 iterations\n",
      "Best Val AUC: 0.5622518504304147 at epoch 43\n",
      "Best Val Loss: 1.4980862842085723 at epoch 36\n",
      "Epoch Time: 4.336453437805176\n"
     ]
    },
    {
     "data": {
      "application/javascript": [
       "/* Put everything inside the global mpl namespace */\n",
       "/* global mpl */\n",
       "window.mpl = {};\n",
       "\n",
       "mpl.get_websocket_type = function () {\n",
       "    if (typeof WebSocket !== 'undefined') {\n",
       "        return WebSocket;\n",
       "    } else if (typeof MozWebSocket !== 'undefined') {\n",
       "        return MozWebSocket;\n",
       "    } else {\n",
       "        alert(\n",
       "            'Your browser does not have WebSocket support. ' +\n",
       "                'Please try Chrome, Safari or Firefox ≥ 6. ' +\n",
       "                'Firefox 4 and 5 are also supported but you ' +\n",
       "                'have to enable WebSockets in about:config.'\n",
       "        );\n",
       "    }\n",
       "};\n",
       "\n",
       "mpl.figure = function (figure_id, websocket, ondownload, parent_element) {\n",
       "    this.id = figure_id;\n",
       "\n",
       "    this.ws = websocket;\n",
       "\n",
       "    this.supports_binary = this.ws.binaryType !== undefined;\n",
       "\n",
       "    if (!this.supports_binary) {\n",
       "        var warnings = document.getElementById('mpl-warnings');\n",
       "        if (warnings) {\n",
       "            warnings.style.display = 'block';\n",
       "            warnings.textContent =\n",
       "                'This browser does not support binary websocket messages. ' +\n",
       "                'Performance may be slow.';\n",
       "        }\n",
       "    }\n",
       "\n",
       "    this.imageObj = new Image();\n",
       "\n",
       "    this.context = undefined;\n",
       "    this.message = undefined;\n",
       "    this.canvas = undefined;\n",
       "    this.rubberband_canvas = undefined;\n",
       "    this.rubberband_context = undefined;\n",
       "    this.format_dropdown = undefined;\n",
       "\n",
       "    this.image_mode = 'full';\n",
       "\n",
       "    this.root = document.createElement('div');\n",
       "    this.root.setAttribute('style', 'display: inline-block');\n",
       "    this._root_extra_style(this.root);\n",
       "\n",
       "    parent_element.appendChild(this.root);\n",
       "\n",
       "    this._init_header(this);\n",
       "    this._init_canvas(this);\n",
       "    this._init_toolbar(this);\n",
       "\n",
       "    var fig = this;\n",
       "\n",
       "    this.waiting = false;\n",
       "\n",
       "    this.ws.onopen = function () {\n",
       "        fig.send_message('supports_binary', { value: fig.supports_binary });\n",
       "        fig.send_message('send_image_mode', {});\n",
       "        if (fig.ratio !== 1) {\n",
       "            fig.send_message('set_dpi_ratio', { dpi_ratio: fig.ratio });\n",
       "        }\n",
       "        fig.send_message('refresh', {});\n",
       "    };\n",
       "\n",
       "    this.imageObj.onload = function () {\n",
       "        if (fig.image_mode === 'full') {\n",
       "            // Full images could contain transparency (where diff images\n",
       "            // almost always do), so we need to clear the canvas so that\n",
       "            // there is no ghosting.\n",
       "            fig.context.clearRect(0, 0, fig.canvas.width, fig.canvas.height);\n",
       "        }\n",
       "        fig.context.drawImage(fig.imageObj, 0, 0);\n",
       "    };\n",
       "\n",
       "    this.imageObj.onunload = function () {\n",
       "        fig.ws.close();\n",
       "    };\n",
       "\n",
       "    this.ws.onmessage = this._make_on_message_function(this);\n",
       "\n",
       "    this.ondownload = ondownload;\n",
       "};\n",
       "\n",
       "mpl.figure.prototype._init_header = function () {\n",
       "    var titlebar = document.createElement('div');\n",
       "    titlebar.classList =\n",
       "        'ui-dialog-titlebar ui-widget-header ui-corner-all ui-helper-clearfix';\n",
       "    var titletext = document.createElement('div');\n",
       "    titletext.classList = 'ui-dialog-title';\n",
       "    titletext.setAttribute(\n",
       "        'style',\n",
       "        'width: 100%; text-align: center; padding: 3px;'\n",
       "    );\n",
       "    titlebar.appendChild(titletext);\n",
       "    this.root.appendChild(titlebar);\n",
       "    this.header = titletext;\n",
       "};\n",
       "\n",
       "mpl.figure.prototype._canvas_extra_style = function (_canvas_div) {};\n",
       "\n",
       "mpl.figure.prototype._root_extra_style = function (_canvas_div) {};\n",
       "\n",
       "mpl.figure.prototype._init_canvas = function () {\n",
       "    var fig = this;\n",
       "\n",
       "    var canvas_div = (this.canvas_div = document.createElement('div'));\n",
       "    canvas_div.setAttribute(\n",
       "        'style',\n",
       "        'border: 1px solid #ddd;' +\n",
       "            'box-sizing: content-box;' +\n",
       "            'clear: both;' +\n",
       "            'min-height: 1px;' +\n",
       "            'min-width: 1px;' +\n",
       "            'outline: 0;' +\n",
       "            'overflow: hidden;' +\n",
       "            'position: relative;' +\n",
       "            'resize: both;'\n",
       "    );\n",
       "\n",
       "    function on_keyboard_event_closure(name) {\n",
       "        return function (event) {\n",
       "            return fig.key_event(event, name);\n",
       "        };\n",
       "    }\n",
       "\n",
       "    canvas_div.addEventListener(\n",
       "        'keydown',\n",
       "        on_keyboard_event_closure('key_press')\n",
       "    );\n",
       "    canvas_div.addEventListener(\n",
       "        'keyup',\n",
       "        on_keyboard_event_closure('key_release')\n",
       "    );\n",
       "\n",
       "    this._canvas_extra_style(canvas_div);\n",
       "    this.root.appendChild(canvas_div);\n",
       "\n",
       "    var canvas = (this.canvas = document.createElement('canvas'));\n",
       "    canvas.classList.add('mpl-canvas');\n",
       "    canvas.setAttribute('style', 'box-sizing: content-box;');\n",
       "\n",
       "    this.context = canvas.getContext('2d');\n",
       "\n",
       "    var backingStore =\n",
       "        this.context.backingStorePixelRatio ||\n",
       "        this.context.webkitBackingStorePixelRatio ||\n",
       "        this.context.mozBackingStorePixelRatio ||\n",
       "        this.context.msBackingStorePixelRatio ||\n",
       "        this.context.oBackingStorePixelRatio ||\n",
       "        this.context.backingStorePixelRatio ||\n",
       "        1;\n",
       "\n",
       "    this.ratio = (window.devicePixelRatio || 1) / backingStore;\n",
       "\n",
       "    var rubberband_canvas = (this.rubberband_canvas = document.createElement(\n",
       "        'canvas'\n",
       "    ));\n",
       "    rubberband_canvas.setAttribute(\n",
       "        'style',\n",
       "        'box-sizing: content-box; position: absolute; left: 0; top: 0; z-index: 1;'\n",
       "    );\n",
       "\n",
       "    // Apply a ponyfill if ResizeObserver is not implemented by browser.\n",
       "    if (this.ResizeObserver === undefined) {\n",
       "        if (window.ResizeObserver !== undefined) {\n",
       "            this.ResizeObserver = window.ResizeObserver;\n",
       "        } else {\n",
       "            var obs = _JSXTOOLS_RESIZE_OBSERVER({});\n",
       "            this.ResizeObserver = obs.ResizeObserver;\n",
       "        }\n",
       "    }\n",
       "\n",
       "    this.resizeObserverInstance = new this.ResizeObserver(function (entries) {\n",
       "        var nentries = entries.length;\n",
       "        for (var i = 0; i < nentries; i++) {\n",
       "            var entry = entries[i];\n",
       "            var width, height;\n",
       "            if (entry.contentBoxSize) {\n",
       "                if (entry.contentBoxSize instanceof Array) {\n",
       "                    // Chrome 84 implements new version of spec.\n",
       "                    width = entry.contentBoxSize[0].inlineSize;\n",
       "                    height = entry.contentBoxSize[0].blockSize;\n",
       "                } else {\n",
       "                    // Firefox implements old version of spec.\n",
       "                    width = entry.contentBoxSize.inlineSize;\n",
       "                    height = entry.contentBoxSize.blockSize;\n",
       "                }\n",
       "            } else {\n",
       "                // Chrome <84 implements even older version of spec.\n",
       "                width = entry.contentRect.width;\n",
       "                height = entry.contentRect.height;\n",
       "            }\n",
       "\n",
       "            // Keep the size of the canvas and rubber band canvas in sync with\n",
       "            // the canvas container.\n",
       "            if (entry.devicePixelContentBoxSize) {\n",
       "                // Chrome 84 implements new version of spec.\n",
       "                canvas.setAttribute(\n",
       "                    'width',\n",
       "                    entry.devicePixelContentBoxSize[0].inlineSize\n",
       "                );\n",
       "                canvas.setAttribute(\n",
       "                    'height',\n",
       "                    entry.devicePixelContentBoxSize[0].blockSize\n",
       "                );\n",
       "            } else {\n",
       "                canvas.setAttribute('width', width * fig.ratio);\n",
       "                canvas.setAttribute('height', height * fig.ratio);\n",
       "            }\n",
       "            canvas.setAttribute(\n",
       "                'style',\n",
       "                'width: ' + width + 'px; height: ' + height + 'px;'\n",
       "            );\n",
       "\n",
       "            rubberband_canvas.setAttribute('width', width);\n",
       "            rubberband_canvas.setAttribute('height', height);\n",
       "\n",
       "            // And update the size in Python. We ignore the initial 0/0 size\n",
       "            // that occurs as the element is placed into the DOM, which should\n",
       "            // otherwise not happen due to the minimum size styling.\n",
       "            if (fig.ws.readyState == 1 && width != 0 && height != 0) {\n",
       "                fig.request_resize(width, height);\n",
       "            }\n",
       "        }\n",
       "    });\n",
       "    this.resizeObserverInstance.observe(canvas_div);\n",
       "\n",
       "    function on_mouse_event_closure(name) {\n",
       "        return function (event) {\n",
       "            return fig.mouse_event(event, name);\n",
       "        };\n",
       "    }\n",
       "\n",
       "    rubberband_canvas.addEventListener(\n",
       "        'mousedown',\n",
       "        on_mouse_event_closure('button_press')\n",
       "    );\n",
       "    rubberband_canvas.addEventListener(\n",
       "        'mouseup',\n",
       "        on_mouse_event_closure('button_release')\n",
       "    );\n",
       "    // Throttle sequential mouse events to 1 every 20ms.\n",
       "    rubberband_canvas.addEventListener(\n",
       "        'mousemove',\n",
       "        on_mouse_event_closure('motion_notify')\n",
       "    );\n",
       "\n",
       "    rubberband_canvas.addEventListener(\n",
       "        'mouseenter',\n",
       "        on_mouse_event_closure('figure_enter')\n",
       "    );\n",
       "    rubberband_canvas.addEventListener(\n",
       "        'mouseleave',\n",
       "        on_mouse_event_closure('figure_leave')\n",
       "    );\n",
       "\n",
       "    canvas_div.addEventListener('wheel', function (event) {\n",
       "        if (event.deltaY < 0) {\n",
       "            event.step = 1;\n",
       "        } else {\n",
       "            event.step = -1;\n",
       "        }\n",
       "        on_mouse_event_closure('scroll')(event);\n",
       "    });\n",
       "\n",
       "    canvas_div.appendChild(canvas);\n",
       "    canvas_div.appendChild(rubberband_canvas);\n",
       "\n",
       "    this.rubberband_context = rubberband_canvas.getContext('2d');\n",
       "    this.rubberband_context.strokeStyle = '#000000';\n",
       "\n",
       "    this._resize_canvas = function (width, height, forward) {\n",
       "        if (forward) {\n",
       "            canvas_div.style.width = width + 'px';\n",
       "            canvas_div.style.height = height + 'px';\n",
       "        }\n",
       "    };\n",
       "\n",
       "    // Disable right mouse context menu.\n",
       "    this.rubberband_canvas.addEventListener('contextmenu', function (_e) {\n",
       "        event.preventDefault();\n",
       "        return false;\n",
       "    });\n",
       "\n",
       "    function set_focus() {\n",
       "        canvas.focus();\n",
       "        canvas_div.focus();\n",
       "    }\n",
       "\n",
       "    window.setTimeout(set_focus, 100);\n",
       "};\n",
       "\n",
       "mpl.figure.prototype._init_toolbar = function () {\n",
       "    var fig = this;\n",
       "\n",
       "    var toolbar = document.createElement('div');\n",
       "    toolbar.classList = 'mpl-toolbar';\n",
       "    this.root.appendChild(toolbar);\n",
       "\n",
       "    function on_click_closure(name) {\n",
       "        return function (_event) {\n",
       "            return fig.toolbar_button_onclick(name);\n",
       "        };\n",
       "    }\n",
       "\n",
       "    function on_mouseover_closure(tooltip) {\n",
       "        return function (event) {\n",
       "            if (!event.currentTarget.disabled) {\n",
       "                return fig.toolbar_button_onmouseover(tooltip);\n",
       "            }\n",
       "        };\n",
       "    }\n",
       "\n",
       "    fig.buttons = {};\n",
       "    var buttonGroup = document.createElement('div');\n",
       "    buttonGroup.classList = 'mpl-button-group';\n",
       "    for (var toolbar_ind in mpl.toolbar_items) {\n",
       "        var name = mpl.toolbar_items[toolbar_ind][0];\n",
       "        var tooltip = mpl.toolbar_items[toolbar_ind][1];\n",
       "        var image = mpl.toolbar_items[toolbar_ind][2];\n",
       "        var method_name = mpl.toolbar_items[toolbar_ind][3];\n",
       "\n",
       "        if (!name) {\n",
       "            /* Instead of a spacer, we start a new button group. */\n",
       "            if (buttonGroup.hasChildNodes()) {\n",
       "                toolbar.appendChild(buttonGroup);\n",
       "            }\n",
       "            buttonGroup = document.createElement('div');\n",
       "            buttonGroup.classList = 'mpl-button-group';\n",
       "            continue;\n",
       "        }\n",
       "\n",
       "        var button = (fig.buttons[name] = document.createElement('button'));\n",
       "        button.classList = 'mpl-widget';\n",
       "        button.setAttribute('role', 'button');\n",
       "        button.setAttribute('aria-disabled', 'false');\n",
       "        button.addEventListener('click', on_click_closure(method_name));\n",
       "        button.addEventListener('mouseover', on_mouseover_closure(tooltip));\n",
       "\n",
       "        var icon_img = document.createElement('img');\n",
       "        icon_img.src = '_images/' + image + '.png';\n",
       "        icon_img.srcset = '_images/' + image + '_large.png 2x';\n",
       "        icon_img.alt = tooltip;\n",
       "        button.appendChild(icon_img);\n",
       "\n",
       "        buttonGroup.appendChild(button);\n",
       "    }\n",
       "\n",
       "    if (buttonGroup.hasChildNodes()) {\n",
       "        toolbar.appendChild(buttonGroup);\n",
       "    }\n",
       "\n",
       "    var fmt_picker = document.createElement('select');\n",
       "    fmt_picker.classList = 'mpl-widget';\n",
       "    toolbar.appendChild(fmt_picker);\n",
       "    this.format_dropdown = fmt_picker;\n",
       "\n",
       "    for (var ind in mpl.extensions) {\n",
       "        var fmt = mpl.extensions[ind];\n",
       "        var option = document.createElement('option');\n",
       "        option.selected = fmt === mpl.default_extension;\n",
       "        option.innerHTML = fmt;\n",
       "        fmt_picker.appendChild(option);\n",
       "    }\n",
       "\n",
       "    var status_bar = document.createElement('span');\n",
       "    status_bar.classList = 'mpl-message';\n",
       "    toolbar.appendChild(status_bar);\n",
       "    this.message = status_bar;\n",
       "};\n",
       "\n",
       "mpl.figure.prototype.request_resize = function (x_pixels, y_pixels) {\n",
       "    // Request matplotlib to resize the figure. Matplotlib will then trigger a resize in the client,\n",
       "    // which will in turn request a refresh of the image.\n",
       "    this.send_message('resize', { width: x_pixels, height: y_pixels });\n",
       "};\n",
       "\n",
       "mpl.figure.prototype.send_message = function (type, properties) {\n",
       "    properties['type'] = type;\n",
       "    properties['figure_id'] = this.id;\n",
       "    this.ws.send(JSON.stringify(properties));\n",
       "};\n",
       "\n",
       "mpl.figure.prototype.send_draw_message = function () {\n",
       "    if (!this.waiting) {\n",
       "        this.waiting = true;\n",
       "        this.ws.send(JSON.stringify({ type: 'draw', figure_id: this.id }));\n",
       "    }\n",
       "};\n",
       "\n",
       "mpl.figure.prototype.handle_save = function (fig, _msg) {\n",
       "    var format_dropdown = fig.format_dropdown;\n",
       "    var format = format_dropdown.options[format_dropdown.selectedIndex].value;\n",
       "    fig.ondownload(fig, format);\n",
       "};\n",
       "\n",
       "mpl.figure.prototype.handle_resize = function (fig, msg) {\n",
       "    var size = msg['size'];\n",
       "    if (size[0] !== fig.canvas.width || size[1] !== fig.canvas.height) {\n",
       "        fig._resize_canvas(size[0], size[1], msg['forward']);\n",
       "        fig.send_message('refresh', {});\n",
       "    }\n",
       "};\n",
       "\n",
       "mpl.figure.prototype.handle_rubberband = function (fig, msg) {\n",
       "    var x0 = msg['x0'] / fig.ratio;\n",
       "    var y0 = (fig.canvas.height - msg['y0']) / fig.ratio;\n",
       "    var x1 = msg['x1'] / fig.ratio;\n",
       "    var y1 = (fig.canvas.height - msg['y1']) / fig.ratio;\n",
       "    x0 = Math.floor(x0) + 0.5;\n",
       "    y0 = Math.floor(y0) + 0.5;\n",
       "    x1 = Math.floor(x1) + 0.5;\n",
       "    y1 = Math.floor(y1) + 0.5;\n",
       "    var min_x = Math.min(x0, x1);\n",
       "    var min_y = Math.min(y0, y1);\n",
       "    var width = Math.abs(x1 - x0);\n",
       "    var height = Math.abs(y1 - y0);\n",
       "\n",
       "    fig.rubberband_context.clearRect(\n",
       "        0,\n",
       "        0,\n",
       "        fig.canvas.width / fig.ratio,\n",
       "        fig.canvas.height / fig.ratio\n",
       "    );\n",
       "\n",
       "    fig.rubberband_context.strokeRect(min_x, min_y, width, height);\n",
       "};\n",
       "\n",
       "mpl.figure.prototype.handle_figure_label = function (fig, msg) {\n",
       "    // Updates the figure title.\n",
       "    fig.header.textContent = msg['label'];\n",
       "};\n",
       "\n",
       "mpl.figure.prototype.handle_cursor = function (fig, msg) {\n",
       "    var cursor = msg['cursor'];\n",
       "    switch (cursor) {\n",
       "        case 0:\n",
       "            cursor = 'pointer';\n",
       "            break;\n",
       "        case 1:\n",
       "            cursor = 'default';\n",
       "            break;\n",
       "        case 2:\n",
       "            cursor = 'crosshair';\n",
       "            break;\n",
       "        case 3:\n",
       "            cursor = 'move';\n",
       "            break;\n",
       "    }\n",
       "    fig.rubberband_canvas.style.cursor = cursor;\n",
       "};\n",
       "\n",
       "mpl.figure.prototype.handle_message = function (fig, msg) {\n",
       "    fig.message.textContent = msg['message'];\n",
       "};\n",
       "\n",
       "mpl.figure.prototype.handle_draw = function (fig, _msg) {\n",
       "    // Request the server to send over a new figure.\n",
       "    fig.send_draw_message();\n",
       "};\n",
       "\n",
       "mpl.figure.prototype.handle_image_mode = function (fig, msg) {\n",
       "    fig.image_mode = msg['mode'];\n",
       "};\n",
       "\n",
       "mpl.figure.prototype.handle_history_buttons = function (fig, msg) {\n",
       "    for (var key in msg) {\n",
       "        if (!(key in fig.buttons)) {\n",
       "            continue;\n",
       "        }\n",
       "        fig.buttons[key].disabled = !msg[key];\n",
       "        fig.buttons[key].setAttribute('aria-disabled', !msg[key]);\n",
       "    }\n",
       "};\n",
       "\n",
       "mpl.figure.prototype.handle_navigate_mode = function (fig, msg) {\n",
       "    if (msg['mode'] === 'PAN') {\n",
       "        fig.buttons['Pan'].classList.add('active');\n",
       "        fig.buttons['Zoom'].classList.remove('active');\n",
       "    } else if (msg['mode'] === 'ZOOM') {\n",
       "        fig.buttons['Pan'].classList.remove('active');\n",
       "        fig.buttons['Zoom'].classList.add('active');\n",
       "    } else {\n",
       "        fig.buttons['Pan'].classList.remove('active');\n",
       "        fig.buttons['Zoom'].classList.remove('active');\n",
       "    }\n",
       "};\n",
       "\n",
       "mpl.figure.prototype.updated_canvas_event = function () {\n",
       "    // Called whenever the canvas gets updated.\n",
       "    this.send_message('ack', {});\n",
       "};\n",
       "\n",
       "// A function to construct a web socket function for onmessage handling.\n",
       "// Called in the figure constructor.\n",
       "mpl.figure.prototype._make_on_message_function = function (fig) {\n",
       "    return function socket_on_message(evt) {\n",
       "        if (evt.data instanceof Blob) {\n",
       "            /* FIXME: We get \"Resource interpreted as Image but\n",
       "             * transferred with MIME type text/plain:\" errors on\n",
       "             * Chrome.  But how to set the MIME type?  It doesn't seem\n",
       "             * to be part of the websocket stream */\n",
       "            evt.data.type = 'image/png';\n",
       "\n",
       "            /* Free the memory for the previous frames */\n",
       "            if (fig.imageObj.src) {\n",
       "                (window.URL || window.webkitURL).revokeObjectURL(\n",
       "                    fig.imageObj.src\n",
       "                );\n",
       "            }\n",
       "\n",
       "            fig.imageObj.src = (window.URL || window.webkitURL).createObjectURL(\n",
       "                evt.data\n",
       "            );\n",
       "            fig.updated_canvas_event();\n",
       "            fig.waiting = false;\n",
       "            return;\n",
       "        } else if (\n",
       "            typeof evt.data === 'string' &&\n",
       "            evt.data.slice(0, 21) === 'data:image/png;base64'\n",
       "        ) {\n",
       "            fig.imageObj.src = evt.data;\n",
       "            fig.updated_canvas_event();\n",
       "            fig.waiting = false;\n",
       "            return;\n",
       "        }\n",
       "\n",
       "        var msg = JSON.parse(evt.data);\n",
       "        var msg_type = msg['type'];\n",
       "\n",
       "        // Call the  \"handle_{type}\" callback, which takes\n",
       "        // the figure and JSON message as its only arguments.\n",
       "        try {\n",
       "            var callback = fig['handle_' + msg_type];\n",
       "        } catch (e) {\n",
       "            console.log(\n",
       "                \"No handler for the '\" + msg_type + \"' message type: \",\n",
       "                msg\n",
       "            );\n",
       "            return;\n",
       "        }\n",
       "\n",
       "        if (callback) {\n",
       "            try {\n",
       "                // console.log(\"Handling '\" + msg_type + \"' message: \", msg);\n",
       "                callback(fig, msg);\n",
       "            } catch (e) {\n",
       "                console.log(\n",
       "                    \"Exception inside the 'handler_\" + msg_type + \"' callback:\",\n",
       "                    e,\n",
       "                    e.stack,\n",
       "                    msg\n",
       "                );\n",
       "            }\n",
       "        }\n",
       "    };\n",
       "};\n",
       "\n",
       "// from http://stackoverflow.com/questions/1114465/getting-mouse-location-in-canvas\n",
       "mpl.findpos = function (e) {\n",
       "    //this section is from http://www.quirksmode.org/js/events_properties.html\n",
       "    var targ;\n",
       "    if (!e) {\n",
       "        e = window.event;\n",
       "    }\n",
       "    if (e.target) {\n",
       "        targ = e.target;\n",
       "    } else if (e.srcElement) {\n",
       "        targ = e.srcElement;\n",
       "    }\n",
       "    if (targ.nodeType === 3) {\n",
       "        // defeat Safari bug\n",
       "        targ = targ.parentNode;\n",
       "    }\n",
       "\n",
       "    // pageX,Y are the mouse positions relative to the document\n",
       "    var boundingRect = targ.getBoundingClientRect();\n",
       "    var x = e.pageX - (boundingRect.left + document.body.scrollLeft);\n",
       "    var y = e.pageY - (boundingRect.top + document.body.scrollTop);\n",
       "\n",
       "    return { x: x, y: y };\n",
       "};\n",
       "\n",
       "/*\n",
       " * return a copy of an object with only non-object keys\n",
       " * we need this to avoid circular references\n",
       " * http://stackoverflow.com/a/24161582/3208463\n",
       " */\n",
       "function simpleKeys(original) {\n",
       "    return Object.keys(original).reduce(function (obj, key) {\n",
       "        if (typeof original[key] !== 'object') {\n",
       "            obj[key] = original[key];\n",
       "        }\n",
       "        return obj;\n",
       "    }, {});\n",
       "}\n",
       "\n",
       "mpl.figure.prototype.mouse_event = function (event, name) {\n",
       "    var canvas_pos = mpl.findpos(event);\n",
       "\n",
       "    if (name === 'button_press') {\n",
       "        this.canvas.focus();\n",
       "        this.canvas_div.focus();\n",
       "    }\n",
       "\n",
       "    var x = canvas_pos.x * this.ratio;\n",
       "    var y = canvas_pos.y * this.ratio;\n",
       "\n",
       "    this.send_message(name, {\n",
       "        x: x,\n",
       "        y: y,\n",
       "        button: event.button,\n",
       "        step: event.step,\n",
       "        guiEvent: simpleKeys(event),\n",
       "    });\n",
       "\n",
       "    /* This prevents the web browser from automatically changing to\n",
       "     * the text insertion cursor when the button is pressed.  We want\n",
       "     * to control all of the cursor setting manually through the\n",
       "     * 'cursor' event from matplotlib */\n",
       "    event.preventDefault();\n",
       "    return false;\n",
       "};\n",
       "\n",
       "mpl.figure.prototype._key_event_extra = function (_event, _name) {\n",
       "    // Handle any extra behaviour associated with a key event\n",
       "};\n",
       "\n",
       "mpl.figure.prototype.key_event = function (event, name) {\n",
       "    // Prevent repeat events\n",
       "    if (name === 'key_press') {\n",
       "        if (event.which === this._key) {\n",
       "            return;\n",
       "        } else {\n",
       "            this._key = event.which;\n",
       "        }\n",
       "    }\n",
       "    if (name === 'key_release') {\n",
       "        this._key = null;\n",
       "    }\n",
       "\n",
       "    var value = '';\n",
       "    if (event.ctrlKey && event.which !== 17) {\n",
       "        value += 'ctrl+';\n",
       "    }\n",
       "    if (event.altKey && event.which !== 18) {\n",
       "        value += 'alt+';\n",
       "    }\n",
       "    if (event.shiftKey && event.which !== 16) {\n",
       "        value += 'shift+';\n",
       "    }\n",
       "\n",
       "    value += 'k';\n",
       "    value += event.which.toString();\n",
       "\n",
       "    this._key_event_extra(event, name);\n",
       "\n",
       "    this.send_message(name, { key: value, guiEvent: simpleKeys(event) });\n",
       "    return false;\n",
       "};\n",
       "\n",
       "mpl.figure.prototype.toolbar_button_onclick = function (name) {\n",
       "    if (name === 'download') {\n",
       "        this.handle_save(this, null);\n",
       "    } else {\n",
       "        this.send_message('toolbar_button', { name: name });\n",
       "    }\n",
       "};\n",
       "\n",
       "mpl.figure.prototype.toolbar_button_onmouseover = function (tooltip) {\n",
       "    this.message.textContent = tooltip;\n",
       "};\n",
       "\n",
       "///////////////// REMAINING CONTENT GENERATED BY embed_js.py /////////////////\n",
       "// prettier-ignore\n",
       "var _JSXTOOLS_RESIZE_OBSERVER=function(A){var t,i=new WeakMap,n=new WeakMap,a=new WeakMap,r=new WeakMap,o=new Set;function s(e){if(!(this instanceof s))throw new TypeError(\"Constructor requires 'new' operator\");i.set(this,e)}function h(){throw new TypeError(\"Function is not a constructor\")}function c(e,t,i,n){e=0 in arguments?Number(arguments[0]):0,t=1 in arguments?Number(arguments[1]):0,i=2 in arguments?Number(arguments[2]):0,n=3 in arguments?Number(arguments[3]):0,this.right=(this.x=this.left=e)+(this.width=i),this.bottom=(this.y=this.top=t)+(this.height=n),Object.freeze(this)}function d(){t=requestAnimationFrame(d);var s=new WeakMap,p=new Set;o.forEach((function(t){r.get(t).forEach((function(i){var r=t instanceof window.SVGElement,o=a.get(t),d=r?0:parseFloat(o.paddingTop),f=r?0:parseFloat(o.paddingRight),l=r?0:parseFloat(o.paddingBottom),u=r?0:parseFloat(o.paddingLeft),g=r?0:parseFloat(o.borderTopWidth),m=r?0:parseFloat(o.borderRightWidth),w=r?0:parseFloat(o.borderBottomWidth),b=u+f,F=d+l,v=(r?0:parseFloat(o.borderLeftWidth))+m,W=g+w,y=r?0:t.offsetHeight-W-t.clientHeight,E=r?0:t.offsetWidth-v-t.clientWidth,R=b+v,z=F+W,M=r?t.width:parseFloat(o.width)-R-E,O=r?t.height:parseFloat(o.height)-z-y;if(n.has(t)){var k=n.get(t);if(k[0]===M&&k[1]===O)return}n.set(t,[M,O]);var S=Object.create(h.prototype);S.target=t,S.contentRect=new c(u,d,M,O),s.has(i)||(s.set(i,[]),p.add(i)),s.get(i).push(S)}))})),p.forEach((function(e){i.get(e).call(e,s.get(e),e)}))}return s.prototype.observe=function(i){if(i instanceof window.Element){r.has(i)||(r.set(i,new Set),o.add(i),a.set(i,window.getComputedStyle(i)));var n=r.get(i);n.has(this)||n.add(this),cancelAnimationFrame(t),t=requestAnimationFrame(d)}},s.prototype.unobserve=function(i){if(i instanceof window.Element&&r.has(i)){var n=r.get(i);n.has(this)&&(n.delete(this),n.size||(r.delete(i),o.delete(i))),n.size||r.delete(i),o.size||cancelAnimationFrame(t)}},A.DOMRectReadOnly=c,A.ResizeObserver=s,A.ResizeObserverEntry=h,A}; // eslint-disable-line\n",
       "mpl.toolbar_items = [[\"Home\", \"Reset original view\", \"fa fa-home icon-home\", \"home\"], [\"Back\", \"Back to previous view\", \"fa fa-arrow-left icon-arrow-left\", \"back\"], [\"Forward\", \"Forward to next view\", \"fa fa-arrow-right icon-arrow-right\", \"forward\"], [\"\", \"\", \"\", \"\"], [\"Pan\", \"Left button pans, Right button zooms\\nx/y fixes axis, CTRL fixes aspect\", \"fa fa-arrows icon-move\", \"pan\"], [\"Zoom\", \"Zoom to rectangle\\nx/y fixes axis, CTRL fixes aspect\", \"fa fa-square-o icon-check-empty\", \"zoom\"], [\"\", \"\", \"\", \"\"], [\"Download\", \"Download plot\", \"fa fa-floppy-o icon-save\", \"download\"]];\n",
       "\n",
       "mpl.extensions = [\"eps\", \"jpeg\", \"pdf\", \"png\", \"ps\", \"raw\", \"svg\", \"tif\"];\n",
       "\n",
       "mpl.default_extension = \"png\";/* global mpl */\n",
       "\n",
       "var comm_websocket_adapter = function (comm) {\n",
       "    // Create a \"websocket\"-like object which calls the given IPython comm\n",
       "    // object with the appropriate methods. Currently this is a non binary\n",
       "    // socket, so there is still some room for performance tuning.\n",
       "    var ws = {};\n",
       "\n",
       "    ws.close = function () {\n",
       "        comm.close();\n",
       "    };\n",
       "    ws.send = function (m) {\n",
       "        //console.log('sending', m);\n",
       "        comm.send(m);\n",
       "    };\n",
       "    // Register the callback with on_msg.\n",
       "    comm.on_msg(function (msg) {\n",
       "        //console.log('receiving', msg['content']['data'], msg);\n",
       "        // Pass the mpl event to the overridden (by mpl) onmessage function.\n",
       "        ws.onmessage(msg['content']['data']);\n",
       "    });\n",
       "    return ws;\n",
       "};\n",
       "\n",
       "mpl.mpl_figure_comm = function (comm, msg) {\n",
       "    // This is the function which gets called when the mpl process\n",
       "    // starts-up an IPython Comm through the \"matplotlib\" channel.\n",
       "\n",
       "    var id = msg.content.data.id;\n",
       "    // Get hold of the div created by the display call when the Comm\n",
       "    // socket was opened in Python.\n",
       "    var element = document.getElementById(id);\n",
       "    var ws_proxy = comm_websocket_adapter(comm);\n",
       "\n",
       "    function ondownload(figure, _format) {\n",
       "        window.open(figure.canvas.toDataURL());\n",
       "    }\n",
       "\n",
       "    var fig = new mpl.figure(id, ws_proxy, ondownload, element);\n",
       "\n",
       "    // Call onopen now - mpl needs it, as it is assuming we've passed it a real\n",
       "    // web socket which is closed, not our websocket->open comm proxy.\n",
       "    ws_proxy.onopen();\n",
       "\n",
       "    fig.parent_element = element;\n",
       "    fig.cell_info = mpl.find_output_cell(\"<div id='\" + id + \"'></div>\");\n",
       "    if (!fig.cell_info) {\n",
       "        console.error('Failed to find cell for figure', id, fig);\n",
       "        return;\n",
       "    }\n",
       "    fig.cell_info[0].output_area.element.on(\n",
       "        'cleared',\n",
       "        { fig: fig },\n",
       "        fig._remove_fig_handler\n",
       "    );\n",
       "};\n",
       "\n",
       "mpl.figure.prototype.handle_close = function (fig, msg) {\n",
       "    var width = fig.canvas.width / fig.ratio;\n",
       "    fig.cell_info[0].output_area.element.off(\n",
       "        'cleared',\n",
       "        fig._remove_fig_handler\n",
       "    );\n",
       "    fig.resizeObserverInstance.unobserve(fig.canvas_div);\n",
       "\n",
       "    // Update the output cell to use the data from the current canvas.\n",
       "    fig.push_to_output();\n",
       "    var dataURL = fig.canvas.toDataURL();\n",
       "    // Re-enable the keyboard manager in IPython - without this line, in FF,\n",
       "    // the notebook keyboard shortcuts fail.\n",
       "    IPython.keyboard_manager.enable();\n",
       "    fig.parent_element.innerHTML =\n",
       "        '<img src=\"' + dataURL + '\" width=\"' + width + '\">';\n",
       "    fig.close_ws(fig, msg);\n",
       "};\n",
       "\n",
       "mpl.figure.prototype.close_ws = function (fig, msg) {\n",
       "    fig.send_message('closing', msg);\n",
       "    // fig.ws.close()\n",
       "};\n",
       "\n",
       "mpl.figure.prototype.push_to_output = function (_remove_interactive) {\n",
       "    // Turn the data on the canvas into data in the output cell.\n",
       "    var width = this.canvas.width / this.ratio;\n",
       "    var dataURL = this.canvas.toDataURL();\n",
       "    this.cell_info[1]['text/html'] =\n",
       "        '<img src=\"' + dataURL + '\" width=\"' + width + '\">';\n",
       "};\n",
       "\n",
       "mpl.figure.prototype.updated_canvas_event = function () {\n",
       "    // Tell IPython that the notebook contents must change.\n",
       "    IPython.notebook.set_dirty(true);\n",
       "    this.send_message('ack', {});\n",
       "    var fig = this;\n",
       "    // Wait a second, then push the new image to the DOM so\n",
       "    // that it is saved nicely (might be nice to debounce this).\n",
       "    setTimeout(function () {\n",
       "        fig.push_to_output();\n",
       "    }, 1000);\n",
       "};\n",
       "\n",
       "mpl.figure.prototype._init_toolbar = function () {\n",
       "    var fig = this;\n",
       "\n",
       "    var toolbar = document.createElement('div');\n",
       "    toolbar.classList = 'btn-toolbar';\n",
       "    this.root.appendChild(toolbar);\n",
       "\n",
       "    function on_click_closure(name) {\n",
       "        return function (_event) {\n",
       "            return fig.toolbar_button_onclick(name);\n",
       "        };\n",
       "    }\n",
       "\n",
       "    function on_mouseover_closure(tooltip) {\n",
       "        return function (event) {\n",
       "            if (!event.currentTarget.disabled) {\n",
       "                return fig.toolbar_button_onmouseover(tooltip);\n",
       "            }\n",
       "        };\n",
       "    }\n",
       "\n",
       "    fig.buttons = {};\n",
       "    var buttonGroup = document.createElement('div');\n",
       "    buttonGroup.classList = 'btn-group';\n",
       "    var button;\n",
       "    for (var toolbar_ind in mpl.toolbar_items) {\n",
       "        var name = mpl.toolbar_items[toolbar_ind][0];\n",
       "        var tooltip = mpl.toolbar_items[toolbar_ind][1];\n",
       "        var image = mpl.toolbar_items[toolbar_ind][2];\n",
       "        var method_name = mpl.toolbar_items[toolbar_ind][3];\n",
       "\n",
       "        if (!name) {\n",
       "            /* Instead of a spacer, we start a new button group. */\n",
       "            if (buttonGroup.hasChildNodes()) {\n",
       "                toolbar.appendChild(buttonGroup);\n",
       "            }\n",
       "            buttonGroup = document.createElement('div');\n",
       "            buttonGroup.classList = 'btn-group';\n",
       "            continue;\n",
       "        }\n",
       "\n",
       "        button = fig.buttons[name] = document.createElement('button');\n",
       "        button.classList = 'btn btn-default';\n",
       "        button.href = '#';\n",
       "        button.title = name;\n",
       "        button.innerHTML = '<i class=\"fa ' + image + ' fa-lg\"></i>';\n",
       "        button.addEventListener('click', on_click_closure(method_name));\n",
       "        button.addEventListener('mouseover', on_mouseover_closure(tooltip));\n",
       "        buttonGroup.appendChild(button);\n",
       "    }\n",
       "\n",
       "    if (buttonGroup.hasChildNodes()) {\n",
       "        toolbar.appendChild(buttonGroup);\n",
       "    }\n",
       "\n",
       "    // Add the status bar.\n",
       "    var status_bar = document.createElement('span');\n",
       "    status_bar.classList = 'mpl-message pull-right';\n",
       "    toolbar.appendChild(status_bar);\n",
       "    this.message = status_bar;\n",
       "\n",
       "    // Add the close button to the window.\n",
       "    var buttongrp = document.createElement('div');\n",
       "    buttongrp.classList = 'btn-group inline pull-right';\n",
       "    button = document.createElement('button');\n",
       "    button.classList = 'btn btn-mini btn-primary';\n",
       "    button.href = '#';\n",
       "    button.title = 'Stop Interaction';\n",
       "    button.innerHTML = '<i class=\"fa fa-power-off icon-remove icon-large\"></i>';\n",
       "    button.addEventListener('click', function (_evt) {\n",
       "        fig.handle_close(fig, {});\n",
       "    });\n",
       "    button.addEventListener(\n",
       "        'mouseover',\n",
       "        on_mouseover_closure('Stop Interaction')\n",
       "    );\n",
       "    buttongrp.appendChild(button);\n",
       "    var titlebar = this.root.querySelector('.ui-dialog-titlebar');\n",
       "    titlebar.insertBefore(buttongrp, titlebar.firstChild);\n",
       "};\n",
       "\n",
       "mpl.figure.prototype._remove_fig_handler = function (event) {\n",
       "    var fig = event.data.fig;\n",
       "    if (event.target !== this) {\n",
       "        // Ignore bubbled events from children.\n",
       "        return;\n",
       "    }\n",
       "    fig.close_ws(fig, {});\n",
       "};\n",
       "\n",
       "mpl.figure.prototype._root_extra_style = function (el) {\n",
       "    el.style.boxSizing = 'content-box'; // override notebook setting of border-box.\n",
       "};\n",
       "\n",
       "mpl.figure.prototype._canvas_extra_style = function (el) {\n",
       "    // this is important to make the div 'focusable\n",
       "    el.setAttribute('tabindex', 0);\n",
       "    // reach out to IPython and tell the keyboard manager to turn it's self\n",
       "    // off when our div gets focus\n",
       "\n",
       "    // location in version 3\n",
       "    if (IPython.notebook.keyboard_manager) {\n",
       "        IPython.notebook.keyboard_manager.register_events(el);\n",
       "    } else {\n",
       "        // location in version 2\n",
       "        IPython.keyboard_manager.register_events(el);\n",
       "    }\n",
       "};\n",
       "\n",
       "mpl.figure.prototype._key_event_extra = function (event, _name) {\n",
       "    var manager = IPython.notebook.keyboard_manager;\n",
       "    if (!manager) {\n",
       "        manager = IPython.keyboard_manager;\n",
       "    }\n",
       "\n",
       "    // Check for shift+enter\n",
       "    if (event.shiftKey && event.which === 13) {\n",
       "        this.canvas_div.blur();\n",
       "        // select the cell after this one\n",
       "        var index = IPython.notebook.find_cell_index(this.cell_info[0]);\n",
       "        IPython.notebook.select(index + 1);\n",
       "    }\n",
       "};\n",
       "\n",
       "mpl.figure.prototype.handle_save = function (fig, _msg) {\n",
       "    fig.ondownload(fig, null);\n",
       "};\n",
       "\n",
       "mpl.find_output_cell = function (html_output) {\n",
       "    // Return the cell and output element which can be found *uniquely* in the notebook.\n",
       "    // Note - this is a bit hacky, but it is done because the \"notebook_saving.Notebook\"\n",
       "    // IPython event is triggered only after the cells have been serialised, which for\n",
       "    // our purposes (turning an active figure into a static one), is too late.\n",
       "    var cells = IPython.notebook.get_cells();\n",
       "    var ncells = cells.length;\n",
       "    for (var i = 0; i < ncells; i++) {\n",
       "        var cell = cells[i];\n",
       "        if (cell.cell_type === 'code') {\n",
       "            for (var j = 0; j < cell.output_area.outputs.length; j++) {\n",
       "                var data = cell.output_area.outputs[j];\n",
       "                if (data.data) {\n",
       "                    // IPython >= 3 moved mimebundle to data attribute of output\n",
       "                    data = data.data;\n",
       "                }\n",
       "                if (data['text/html'] === html_output) {\n",
       "                    return [cell, data, j];\n",
       "                }\n",
       "            }\n",
       "        }\n",
       "    }\n",
       "};\n",
       "\n",
       "// Register the function which deals with the matplotlib target/channel.\n",
       "// The kernel may be null if the page has been refreshed.\n",
       "if (IPython.notebook.kernel !== null) {\n",
       "    IPython.notebook.kernel.comm_manager.register_target(\n",
       "        'matplotlib',\n",
       "        mpl.mpl_figure_comm\n",
       "    );\n",
       "}\n"
      ],
      "text/plain": [
       "<IPython.core.display.Javascript object>"
      ]
     },
     "metadata": {},
     "output_type": "display_data"
    },
    {
     "data": {
      "text/html": [
       "<div id='1ca6029b-1fb4-4d17-a615-3b1d4eb236f4'></div>"
      ],
      "text/plain": [
       "<IPython.core.display.HTML object>"
      ]
     },
     "metadata": {},
     "output_type": "display_data"
    },
    {
     "name": "stderr",
     "output_type": "stream",
     "text": [
      "/home/monica/anaconda3/envs/myenv/lib/python3.8/site-packages/pandas/core/indexing.py:1732: SettingWithCopyWarning: \n",
      "A value is trying to be set on a copy of a slice from a DataFrame\n",
      "\n",
      "See the caveats in the documentation: https://pandas.pydata.org/pandas-docs/stable/user_guide/indexing.html#returning-a-view-versus-a-copy\n",
      "  self._setitem_single_block(indexer, value, name)\n"
     ]
    },
    {
     "name": "stdout",
     "output_type": "stream",
     "text": [
      "   Hidden_Layers  Hidden_Dim  L1_input  L1_hidden  Dropout_input  \\\n",
      "0              1         0.1       0.1    0.00005            0.1   \n",
      "1              1         0.1       0.1    0.05000            0.1   \n",
      "2              1         0.1       0.1    0.00500            0.1   \n",
      "\n",
      "   Dropout_hidden      LR  Best AUC  Best Loss  Best AUC Epoch  \\\n",
      "0             0.4  0.0001  0.562252   1.498086            43.0   \n",
      "1             0.4  0.0001       NaN        NaN             NaN   \n",
      "2             0.4  0.0001       NaN        NaN             NaN   \n",
      "\n",
      "   Loss at Best AUC Epoch  Best Loss Epoch  AUC at Best Loss Epoch  \\\n",
      "0                1.533301             36.0                0.555605   \n",
      "1                     NaN              NaN                     NaN   \n",
      "2                     NaN              NaN                     NaN   \n",
      "\n",
      "   Total Epochs       Status  \n",
      "0            50         Done  \n",
      "1            50  Not Started  \n",
      "2            50  Not Started  \n",
      "setting up model...\n",
      "Penalizing the classes\n",
      "done setting up model...\n",
      "<bound method Module.named_parameters of FeedForwardNet(\n",
      "  (layers_list): ModuleList(\n",
      "    (0): Linear(in_features=601, out_features=60, bias=True)\n",
      "    (1): Linear(in_features=60, out_features=1, bias=True)\n",
      "  )\n",
      "  (input_dropout): Dropout(p=0.1, inplace=False)\n",
      "  (output_dropout): Dropout(p=0, inplace=False)\n",
      "  (hidden_dropout_list): ModuleList(\n",
      "    (0): Dropout(p=0.4, inplace=False)\n",
      "  )\n",
      "  (criterion): BCELoss()\n",
      ")>\n",
      "layers_list.0.weight : torch.Size([60, 601])\n",
      "layers_list.0.bias : torch.Size([60])\n",
      "layers_list.1.weight : torch.Size([1, 60])\n",
      "layers_list.1.bias : torch.Size([1])\n"
     ]
    },
    {
     "data": {
      "application/javascript": [
       "/* Put everything inside the global mpl namespace */\n",
       "/* global mpl */\n",
       "window.mpl = {};\n",
       "\n",
       "mpl.get_websocket_type = function () {\n",
       "    if (typeof WebSocket !== 'undefined') {\n",
       "        return WebSocket;\n",
       "    } else if (typeof MozWebSocket !== 'undefined') {\n",
       "        return MozWebSocket;\n",
       "    } else {\n",
       "        alert(\n",
       "            'Your browser does not have WebSocket support. ' +\n",
       "                'Please try Chrome, Safari or Firefox ≥ 6. ' +\n",
       "                'Firefox 4 and 5 are also supported but you ' +\n",
       "                'have to enable WebSockets in about:config.'\n",
       "        );\n",
       "    }\n",
       "};\n",
       "\n",
       "mpl.figure = function (figure_id, websocket, ondownload, parent_element) {\n",
       "    this.id = figure_id;\n",
       "\n",
       "    this.ws = websocket;\n",
       "\n",
       "    this.supports_binary = this.ws.binaryType !== undefined;\n",
       "\n",
       "    if (!this.supports_binary) {\n",
       "        var warnings = document.getElementById('mpl-warnings');\n",
       "        if (warnings) {\n",
       "            warnings.style.display = 'block';\n",
       "            warnings.textContent =\n",
       "                'This browser does not support binary websocket messages. ' +\n",
       "                'Performance may be slow.';\n",
       "        }\n",
       "    }\n",
       "\n",
       "    this.imageObj = new Image();\n",
       "\n",
       "    this.context = undefined;\n",
       "    this.message = undefined;\n",
       "    this.canvas = undefined;\n",
       "    this.rubberband_canvas = undefined;\n",
       "    this.rubberband_context = undefined;\n",
       "    this.format_dropdown = undefined;\n",
       "\n",
       "    this.image_mode = 'full';\n",
       "\n",
       "    this.root = document.createElement('div');\n",
       "    this.root.setAttribute('style', 'display: inline-block');\n",
       "    this._root_extra_style(this.root);\n",
       "\n",
       "    parent_element.appendChild(this.root);\n",
       "\n",
       "    this._init_header(this);\n",
       "    this._init_canvas(this);\n",
       "    this._init_toolbar(this);\n",
       "\n",
       "    var fig = this;\n",
       "\n",
       "    this.waiting = false;\n",
       "\n",
       "    this.ws.onopen = function () {\n",
       "        fig.send_message('supports_binary', { value: fig.supports_binary });\n",
       "        fig.send_message('send_image_mode', {});\n",
       "        if (fig.ratio !== 1) {\n",
       "            fig.send_message('set_dpi_ratio', { dpi_ratio: fig.ratio });\n",
       "        }\n",
       "        fig.send_message('refresh', {});\n",
       "    };\n",
       "\n",
       "    this.imageObj.onload = function () {\n",
       "        if (fig.image_mode === 'full') {\n",
       "            // Full images could contain transparency (where diff images\n",
       "            // almost always do), so we need to clear the canvas so that\n",
       "            // there is no ghosting.\n",
       "            fig.context.clearRect(0, 0, fig.canvas.width, fig.canvas.height);\n",
       "        }\n",
       "        fig.context.drawImage(fig.imageObj, 0, 0);\n",
       "    };\n",
       "\n",
       "    this.imageObj.onunload = function () {\n",
       "        fig.ws.close();\n",
       "    };\n",
       "\n",
       "    this.ws.onmessage = this._make_on_message_function(this);\n",
       "\n",
       "    this.ondownload = ondownload;\n",
       "};\n",
       "\n",
       "mpl.figure.prototype._init_header = function () {\n",
       "    var titlebar = document.createElement('div');\n",
       "    titlebar.classList =\n",
       "        'ui-dialog-titlebar ui-widget-header ui-corner-all ui-helper-clearfix';\n",
       "    var titletext = document.createElement('div');\n",
       "    titletext.classList = 'ui-dialog-title';\n",
       "    titletext.setAttribute(\n",
       "        'style',\n",
       "        'width: 100%; text-align: center; padding: 3px;'\n",
       "    );\n",
       "    titlebar.appendChild(titletext);\n",
       "    this.root.appendChild(titlebar);\n",
       "    this.header = titletext;\n",
       "};\n",
       "\n",
       "mpl.figure.prototype._canvas_extra_style = function (_canvas_div) {};\n",
       "\n",
       "mpl.figure.prototype._root_extra_style = function (_canvas_div) {};\n",
       "\n",
       "mpl.figure.prototype._init_canvas = function () {\n",
       "    var fig = this;\n",
       "\n",
       "    var canvas_div = (this.canvas_div = document.createElement('div'));\n",
       "    canvas_div.setAttribute(\n",
       "        'style',\n",
       "        'border: 1px solid #ddd;' +\n",
       "            'box-sizing: content-box;' +\n",
       "            'clear: both;' +\n",
       "            'min-height: 1px;' +\n",
       "            'min-width: 1px;' +\n",
       "            'outline: 0;' +\n",
       "            'overflow: hidden;' +\n",
       "            'position: relative;' +\n",
       "            'resize: both;'\n",
       "    );\n",
       "\n",
       "    function on_keyboard_event_closure(name) {\n",
       "        return function (event) {\n",
       "            return fig.key_event(event, name);\n",
       "        };\n",
       "    }\n",
       "\n",
       "    canvas_div.addEventListener(\n",
       "        'keydown',\n",
       "        on_keyboard_event_closure('key_press')\n",
       "    );\n",
       "    canvas_div.addEventListener(\n",
       "        'keyup',\n",
       "        on_keyboard_event_closure('key_release')\n",
       "    );\n",
       "\n",
       "    this._canvas_extra_style(canvas_div);\n",
       "    this.root.appendChild(canvas_div);\n",
       "\n",
       "    var canvas = (this.canvas = document.createElement('canvas'));\n",
       "    canvas.classList.add('mpl-canvas');\n",
       "    canvas.setAttribute('style', 'box-sizing: content-box;');\n",
       "\n",
       "    this.context = canvas.getContext('2d');\n",
       "\n",
       "    var backingStore =\n",
       "        this.context.backingStorePixelRatio ||\n",
       "        this.context.webkitBackingStorePixelRatio ||\n",
       "        this.context.mozBackingStorePixelRatio ||\n",
       "        this.context.msBackingStorePixelRatio ||\n",
       "        this.context.oBackingStorePixelRatio ||\n",
       "        this.context.backingStorePixelRatio ||\n",
       "        1;\n",
       "\n",
       "    this.ratio = (window.devicePixelRatio || 1) / backingStore;\n",
       "\n",
       "    var rubberband_canvas = (this.rubberband_canvas = document.createElement(\n",
       "        'canvas'\n",
       "    ));\n",
       "    rubberband_canvas.setAttribute(\n",
       "        'style',\n",
       "        'box-sizing: content-box; position: absolute; left: 0; top: 0; z-index: 1;'\n",
       "    );\n",
       "\n",
       "    // Apply a ponyfill if ResizeObserver is not implemented by browser.\n",
       "    if (this.ResizeObserver === undefined) {\n",
       "        if (window.ResizeObserver !== undefined) {\n",
       "            this.ResizeObserver = window.ResizeObserver;\n",
       "        } else {\n",
       "            var obs = _JSXTOOLS_RESIZE_OBSERVER({});\n",
       "            this.ResizeObserver = obs.ResizeObserver;\n",
       "        }\n",
       "    }\n",
       "\n",
       "    this.resizeObserverInstance = new this.ResizeObserver(function (entries) {\n",
       "        var nentries = entries.length;\n",
       "        for (var i = 0; i < nentries; i++) {\n",
       "            var entry = entries[i];\n",
       "            var width, height;\n",
       "            if (entry.contentBoxSize) {\n",
       "                if (entry.contentBoxSize instanceof Array) {\n",
       "                    // Chrome 84 implements new version of spec.\n",
       "                    width = entry.contentBoxSize[0].inlineSize;\n",
       "                    height = entry.contentBoxSize[0].blockSize;\n",
       "                } else {\n",
       "                    // Firefox implements old version of spec.\n",
       "                    width = entry.contentBoxSize.inlineSize;\n",
       "                    height = entry.contentBoxSize.blockSize;\n",
       "                }\n",
       "            } else {\n",
       "                // Chrome <84 implements even older version of spec.\n",
       "                width = entry.contentRect.width;\n",
       "                height = entry.contentRect.height;\n",
       "            }\n",
       "\n",
       "            // Keep the size of the canvas and rubber band canvas in sync with\n",
       "            // the canvas container.\n",
       "            if (entry.devicePixelContentBoxSize) {\n",
       "                // Chrome 84 implements new version of spec.\n",
       "                canvas.setAttribute(\n",
       "                    'width',\n",
       "                    entry.devicePixelContentBoxSize[0].inlineSize\n",
       "                );\n",
       "                canvas.setAttribute(\n",
       "                    'height',\n",
       "                    entry.devicePixelContentBoxSize[0].blockSize\n",
       "                );\n",
       "            } else {\n",
       "                canvas.setAttribute('width', width * fig.ratio);\n",
       "                canvas.setAttribute('height', height * fig.ratio);\n",
       "            }\n",
       "            canvas.setAttribute(\n",
       "                'style',\n",
       "                'width: ' + width + 'px; height: ' + height + 'px;'\n",
       "            );\n",
       "\n",
       "            rubberband_canvas.setAttribute('width', width);\n",
       "            rubberband_canvas.setAttribute('height', height);\n",
       "\n",
       "            // And update the size in Python. We ignore the initial 0/0 size\n",
       "            // that occurs as the element is placed into the DOM, which should\n",
       "            // otherwise not happen due to the minimum size styling.\n",
       "            if (fig.ws.readyState == 1 && width != 0 && height != 0) {\n",
       "                fig.request_resize(width, height);\n",
       "            }\n",
       "        }\n",
       "    });\n",
       "    this.resizeObserverInstance.observe(canvas_div);\n",
       "\n",
       "    function on_mouse_event_closure(name) {\n",
       "        return function (event) {\n",
       "            return fig.mouse_event(event, name);\n",
       "        };\n",
       "    }\n",
       "\n",
       "    rubberband_canvas.addEventListener(\n",
       "        'mousedown',\n",
       "        on_mouse_event_closure('button_press')\n",
       "    );\n",
       "    rubberband_canvas.addEventListener(\n",
       "        'mouseup',\n",
       "        on_mouse_event_closure('button_release')\n",
       "    );\n",
       "    // Throttle sequential mouse events to 1 every 20ms.\n",
       "    rubberband_canvas.addEventListener(\n",
       "        'mousemove',\n",
       "        on_mouse_event_closure('motion_notify')\n",
       "    );\n",
       "\n",
       "    rubberband_canvas.addEventListener(\n",
       "        'mouseenter',\n",
       "        on_mouse_event_closure('figure_enter')\n",
       "    );\n",
       "    rubberband_canvas.addEventListener(\n",
       "        'mouseleave',\n",
       "        on_mouse_event_closure('figure_leave')\n",
       "    );\n",
       "\n",
       "    canvas_div.addEventListener('wheel', function (event) {\n",
       "        if (event.deltaY < 0) {\n",
       "            event.step = 1;\n",
       "        } else {\n",
       "            event.step = -1;\n",
       "        }\n",
       "        on_mouse_event_closure('scroll')(event);\n",
       "    });\n",
       "\n",
       "    canvas_div.appendChild(canvas);\n",
       "    canvas_div.appendChild(rubberband_canvas);\n",
       "\n",
       "    this.rubberband_context = rubberband_canvas.getContext('2d');\n",
       "    this.rubberband_context.strokeStyle = '#000000';\n",
       "\n",
       "    this._resize_canvas = function (width, height, forward) {\n",
       "        if (forward) {\n",
       "            canvas_div.style.width = width + 'px';\n",
       "            canvas_div.style.height = height + 'px';\n",
       "        }\n",
       "    };\n",
       "\n",
       "    // Disable right mouse context menu.\n",
       "    this.rubberband_canvas.addEventListener('contextmenu', function (_e) {\n",
       "        event.preventDefault();\n",
       "        return false;\n",
       "    });\n",
       "\n",
       "    function set_focus() {\n",
       "        canvas.focus();\n",
       "        canvas_div.focus();\n",
       "    }\n",
       "\n",
       "    window.setTimeout(set_focus, 100);\n",
       "};\n",
       "\n",
       "mpl.figure.prototype._init_toolbar = function () {\n",
       "    var fig = this;\n",
       "\n",
       "    var toolbar = document.createElement('div');\n",
       "    toolbar.classList = 'mpl-toolbar';\n",
       "    this.root.appendChild(toolbar);\n",
       "\n",
       "    function on_click_closure(name) {\n",
       "        return function (_event) {\n",
       "            return fig.toolbar_button_onclick(name);\n",
       "        };\n",
       "    }\n",
       "\n",
       "    function on_mouseover_closure(tooltip) {\n",
       "        return function (event) {\n",
       "            if (!event.currentTarget.disabled) {\n",
       "                return fig.toolbar_button_onmouseover(tooltip);\n",
       "            }\n",
       "        };\n",
       "    }\n",
       "\n",
       "    fig.buttons = {};\n",
       "    var buttonGroup = document.createElement('div');\n",
       "    buttonGroup.classList = 'mpl-button-group';\n",
       "    for (var toolbar_ind in mpl.toolbar_items) {\n",
       "        var name = mpl.toolbar_items[toolbar_ind][0];\n",
       "        var tooltip = mpl.toolbar_items[toolbar_ind][1];\n",
       "        var image = mpl.toolbar_items[toolbar_ind][2];\n",
       "        var method_name = mpl.toolbar_items[toolbar_ind][3];\n",
       "\n",
       "        if (!name) {\n",
       "            /* Instead of a spacer, we start a new button group. */\n",
       "            if (buttonGroup.hasChildNodes()) {\n",
       "                toolbar.appendChild(buttonGroup);\n",
       "            }\n",
       "            buttonGroup = document.createElement('div');\n",
       "            buttonGroup.classList = 'mpl-button-group';\n",
       "            continue;\n",
       "        }\n",
       "\n",
       "        var button = (fig.buttons[name] = document.createElement('button'));\n",
       "        button.classList = 'mpl-widget';\n",
       "        button.setAttribute('role', 'button');\n",
       "        button.setAttribute('aria-disabled', 'false');\n",
       "        button.addEventListener('click', on_click_closure(method_name));\n",
       "        button.addEventListener('mouseover', on_mouseover_closure(tooltip));\n",
       "\n",
       "        var icon_img = document.createElement('img');\n",
       "        icon_img.src = '_images/' + image + '.png';\n",
       "        icon_img.srcset = '_images/' + image + '_large.png 2x';\n",
       "        icon_img.alt = tooltip;\n",
       "        button.appendChild(icon_img);\n",
       "\n",
       "        buttonGroup.appendChild(button);\n",
       "    }\n",
       "\n",
       "    if (buttonGroup.hasChildNodes()) {\n",
       "        toolbar.appendChild(buttonGroup);\n",
       "    }\n",
       "\n",
       "    var fmt_picker = document.createElement('select');\n",
       "    fmt_picker.classList = 'mpl-widget';\n",
       "    toolbar.appendChild(fmt_picker);\n",
       "    this.format_dropdown = fmt_picker;\n",
       "\n",
       "    for (var ind in mpl.extensions) {\n",
       "        var fmt = mpl.extensions[ind];\n",
       "        var option = document.createElement('option');\n",
       "        option.selected = fmt === mpl.default_extension;\n",
       "        option.innerHTML = fmt;\n",
       "        fmt_picker.appendChild(option);\n",
       "    }\n",
       "\n",
       "    var status_bar = document.createElement('span');\n",
       "    status_bar.classList = 'mpl-message';\n",
       "    toolbar.appendChild(status_bar);\n",
       "    this.message = status_bar;\n",
       "};\n",
       "\n",
       "mpl.figure.prototype.request_resize = function (x_pixels, y_pixels) {\n",
       "    // Request matplotlib to resize the figure. Matplotlib will then trigger a resize in the client,\n",
       "    // which will in turn request a refresh of the image.\n",
       "    this.send_message('resize', { width: x_pixels, height: y_pixels });\n",
       "};\n",
       "\n",
       "mpl.figure.prototype.send_message = function (type, properties) {\n",
       "    properties['type'] = type;\n",
       "    properties['figure_id'] = this.id;\n",
       "    this.ws.send(JSON.stringify(properties));\n",
       "};\n",
       "\n",
       "mpl.figure.prototype.send_draw_message = function () {\n",
       "    if (!this.waiting) {\n",
       "        this.waiting = true;\n",
       "        this.ws.send(JSON.stringify({ type: 'draw', figure_id: this.id }));\n",
       "    }\n",
       "};\n",
       "\n",
       "mpl.figure.prototype.handle_save = function (fig, _msg) {\n",
       "    var format_dropdown = fig.format_dropdown;\n",
       "    var format = format_dropdown.options[format_dropdown.selectedIndex].value;\n",
       "    fig.ondownload(fig, format);\n",
       "};\n",
       "\n",
       "mpl.figure.prototype.handle_resize = function (fig, msg) {\n",
       "    var size = msg['size'];\n",
       "    if (size[0] !== fig.canvas.width || size[1] !== fig.canvas.height) {\n",
       "        fig._resize_canvas(size[0], size[1], msg['forward']);\n",
       "        fig.send_message('refresh', {});\n",
       "    }\n",
       "};\n",
       "\n",
       "mpl.figure.prototype.handle_rubberband = function (fig, msg) {\n",
       "    var x0 = msg['x0'] / fig.ratio;\n",
       "    var y0 = (fig.canvas.height - msg['y0']) / fig.ratio;\n",
       "    var x1 = msg['x1'] / fig.ratio;\n",
       "    var y1 = (fig.canvas.height - msg['y1']) / fig.ratio;\n",
       "    x0 = Math.floor(x0) + 0.5;\n",
       "    y0 = Math.floor(y0) + 0.5;\n",
       "    x1 = Math.floor(x1) + 0.5;\n",
       "    y1 = Math.floor(y1) + 0.5;\n",
       "    var min_x = Math.min(x0, x1);\n",
       "    var min_y = Math.min(y0, y1);\n",
       "    var width = Math.abs(x1 - x0);\n",
       "    var height = Math.abs(y1 - y0);\n",
       "\n",
       "    fig.rubberband_context.clearRect(\n",
       "        0,\n",
       "        0,\n",
       "        fig.canvas.width / fig.ratio,\n",
       "        fig.canvas.height / fig.ratio\n",
       "    );\n",
       "\n",
       "    fig.rubberband_context.strokeRect(min_x, min_y, width, height);\n",
       "};\n",
       "\n",
       "mpl.figure.prototype.handle_figure_label = function (fig, msg) {\n",
       "    // Updates the figure title.\n",
       "    fig.header.textContent = msg['label'];\n",
       "};\n",
       "\n",
       "mpl.figure.prototype.handle_cursor = function (fig, msg) {\n",
       "    var cursor = msg['cursor'];\n",
       "    switch (cursor) {\n",
       "        case 0:\n",
       "            cursor = 'pointer';\n",
       "            break;\n",
       "        case 1:\n",
       "            cursor = 'default';\n",
       "            break;\n",
       "        case 2:\n",
       "            cursor = 'crosshair';\n",
       "            break;\n",
       "        case 3:\n",
       "            cursor = 'move';\n",
       "            break;\n",
       "    }\n",
       "    fig.rubberband_canvas.style.cursor = cursor;\n",
       "};\n",
       "\n",
       "mpl.figure.prototype.handle_message = function (fig, msg) {\n",
       "    fig.message.textContent = msg['message'];\n",
       "};\n",
       "\n",
       "mpl.figure.prototype.handle_draw = function (fig, _msg) {\n",
       "    // Request the server to send over a new figure.\n",
       "    fig.send_draw_message();\n",
       "};\n",
       "\n",
       "mpl.figure.prototype.handle_image_mode = function (fig, msg) {\n",
       "    fig.image_mode = msg['mode'];\n",
       "};\n",
       "\n",
       "mpl.figure.prototype.handle_history_buttons = function (fig, msg) {\n",
       "    for (var key in msg) {\n",
       "        if (!(key in fig.buttons)) {\n",
       "            continue;\n",
       "        }\n",
       "        fig.buttons[key].disabled = !msg[key];\n",
       "        fig.buttons[key].setAttribute('aria-disabled', !msg[key]);\n",
       "    }\n",
       "};\n",
       "\n",
       "mpl.figure.prototype.handle_navigate_mode = function (fig, msg) {\n",
       "    if (msg['mode'] === 'PAN') {\n",
       "        fig.buttons['Pan'].classList.add('active');\n",
       "        fig.buttons['Zoom'].classList.remove('active');\n",
       "    } else if (msg['mode'] === 'ZOOM') {\n",
       "        fig.buttons['Pan'].classList.remove('active');\n",
       "        fig.buttons['Zoom'].classList.add('active');\n",
       "    } else {\n",
       "        fig.buttons['Pan'].classList.remove('active');\n",
       "        fig.buttons['Zoom'].classList.remove('active');\n",
       "    }\n",
       "};\n",
       "\n",
       "mpl.figure.prototype.updated_canvas_event = function () {\n",
       "    // Called whenever the canvas gets updated.\n",
       "    this.send_message('ack', {});\n",
       "};\n",
       "\n",
       "// A function to construct a web socket function for onmessage handling.\n",
       "// Called in the figure constructor.\n",
       "mpl.figure.prototype._make_on_message_function = function (fig) {\n",
       "    return function socket_on_message(evt) {\n",
       "        if (evt.data instanceof Blob) {\n",
       "            /* FIXME: We get \"Resource interpreted as Image but\n",
       "             * transferred with MIME type text/plain:\" errors on\n",
       "             * Chrome.  But how to set the MIME type?  It doesn't seem\n",
       "             * to be part of the websocket stream */\n",
       "            evt.data.type = 'image/png';\n",
       "\n",
       "            /* Free the memory for the previous frames */\n",
       "            if (fig.imageObj.src) {\n",
       "                (window.URL || window.webkitURL).revokeObjectURL(\n",
       "                    fig.imageObj.src\n",
       "                );\n",
       "            }\n",
       "\n",
       "            fig.imageObj.src = (window.URL || window.webkitURL).createObjectURL(\n",
       "                evt.data\n",
       "            );\n",
       "            fig.updated_canvas_event();\n",
       "            fig.waiting = false;\n",
       "            return;\n",
       "        } else if (\n",
       "            typeof evt.data === 'string' &&\n",
       "            evt.data.slice(0, 21) === 'data:image/png;base64'\n",
       "        ) {\n",
       "            fig.imageObj.src = evt.data;\n",
       "            fig.updated_canvas_event();\n",
       "            fig.waiting = false;\n",
       "            return;\n",
       "        }\n",
       "\n",
       "        var msg = JSON.parse(evt.data);\n",
       "        var msg_type = msg['type'];\n",
       "\n",
       "        // Call the  \"handle_{type}\" callback, which takes\n",
       "        // the figure and JSON message as its only arguments.\n",
       "        try {\n",
       "            var callback = fig['handle_' + msg_type];\n",
       "        } catch (e) {\n",
       "            console.log(\n",
       "                \"No handler for the '\" + msg_type + \"' message type: \",\n",
       "                msg\n",
       "            );\n",
       "            return;\n",
       "        }\n",
       "\n",
       "        if (callback) {\n",
       "            try {\n",
       "                // console.log(\"Handling '\" + msg_type + \"' message: \", msg);\n",
       "                callback(fig, msg);\n",
       "            } catch (e) {\n",
       "                console.log(\n",
       "                    \"Exception inside the 'handler_\" + msg_type + \"' callback:\",\n",
       "                    e,\n",
       "                    e.stack,\n",
       "                    msg\n",
       "                );\n",
       "            }\n",
       "        }\n",
       "    };\n",
       "};\n",
       "\n",
       "// from http://stackoverflow.com/questions/1114465/getting-mouse-location-in-canvas\n",
       "mpl.findpos = function (e) {\n",
       "    //this section is from http://www.quirksmode.org/js/events_properties.html\n",
       "    var targ;\n",
       "    if (!e) {\n",
       "        e = window.event;\n",
       "    }\n",
       "    if (e.target) {\n",
       "        targ = e.target;\n",
       "    } else if (e.srcElement) {\n",
       "        targ = e.srcElement;\n",
       "    }\n",
       "    if (targ.nodeType === 3) {\n",
       "        // defeat Safari bug\n",
       "        targ = targ.parentNode;\n",
       "    }\n",
       "\n",
       "    // pageX,Y are the mouse positions relative to the document\n",
       "    var boundingRect = targ.getBoundingClientRect();\n",
       "    var x = e.pageX - (boundingRect.left + document.body.scrollLeft);\n",
       "    var y = e.pageY - (boundingRect.top + document.body.scrollTop);\n",
       "\n",
       "    return { x: x, y: y };\n",
       "};\n",
       "\n",
       "/*\n",
       " * return a copy of an object with only non-object keys\n",
       " * we need this to avoid circular references\n",
       " * http://stackoverflow.com/a/24161582/3208463\n",
       " */\n",
       "function simpleKeys(original) {\n",
       "    return Object.keys(original).reduce(function (obj, key) {\n",
       "        if (typeof original[key] !== 'object') {\n",
       "            obj[key] = original[key];\n",
       "        }\n",
       "        return obj;\n",
       "    }, {});\n",
       "}\n",
       "\n",
       "mpl.figure.prototype.mouse_event = function (event, name) {\n",
       "    var canvas_pos = mpl.findpos(event);\n",
       "\n",
       "    if (name === 'button_press') {\n",
       "        this.canvas.focus();\n",
       "        this.canvas_div.focus();\n",
       "    }\n",
       "\n",
       "    var x = canvas_pos.x * this.ratio;\n",
       "    var y = canvas_pos.y * this.ratio;\n",
       "\n",
       "    this.send_message(name, {\n",
       "        x: x,\n",
       "        y: y,\n",
       "        button: event.button,\n",
       "        step: event.step,\n",
       "        guiEvent: simpleKeys(event),\n",
       "    });\n",
       "\n",
       "    /* This prevents the web browser from automatically changing to\n",
       "     * the text insertion cursor when the button is pressed.  We want\n",
       "     * to control all of the cursor setting manually through the\n",
       "     * 'cursor' event from matplotlib */\n",
       "    event.preventDefault();\n",
       "    return false;\n",
       "};\n",
       "\n",
       "mpl.figure.prototype._key_event_extra = function (_event, _name) {\n",
       "    // Handle any extra behaviour associated with a key event\n",
       "};\n",
       "\n",
       "mpl.figure.prototype.key_event = function (event, name) {\n",
       "    // Prevent repeat events\n",
       "    if (name === 'key_press') {\n",
       "        if (event.which === this._key) {\n",
       "            return;\n",
       "        } else {\n",
       "            this._key = event.which;\n",
       "        }\n",
       "    }\n",
       "    if (name === 'key_release') {\n",
       "        this._key = null;\n",
       "    }\n",
       "\n",
       "    var value = '';\n",
       "    if (event.ctrlKey && event.which !== 17) {\n",
       "        value += 'ctrl+';\n",
       "    }\n",
       "    if (event.altKey && event.which !== 18) {\n",
       "        value += 'alt+';\n",
       "    }\n",
       "    if (event.shiftKey && event.which !== 16) {\n",
       "        value += 'shift+';\n",
       "    }\n",
       "\n",
       "    value += 'k';\n",
       "    value += event.which.toString();\n",
       "\n",
       "    this._key_event_extra(event, name);\n",
       "\n",
       "    this.send_message(name, { key: value, guiEvent: simpleKeys(event) });\n",
       "    return false;\n",
       "};\n",
       "\n",
       "mpl.figure.prototype.toolbar_button_onclick = function (name) {\n",
       "    if (name === 'download') {\n",
       "        this.handle_save(this, null);\n",
       "    } else {\n",
       "        this.send_message('toolbar_button', { name: name });\n",
       "    }\n",
       "};\n",
       "\n",
       "mpl.figure.prototype.toolbar_button_onmouseover = function (tooltip) {\n",
       "    this.message.textContent = tooltip;\n",
       "};\n",
       "\n",
       "///////////////// REMAINING CONTENT GENERATED BY embed_js.py /////////////////\n",
       "// prettier-ignore\n",
       "var _JSXTOOLS_RESIZE_OBSERVER=function(A){var t,i=new WeakMap,n=new WeakMap,a=new WeakMap,r=new WeakMap,o=new Set;function s(e){if(!(this instanceof s))throw new TypeError(\"Constructor requires 'new' operator\");i.set(this,e)}function h(){throw new TypeError(\"Function is not a constructor\")}function c(e,t,i,n){e=0 in arguments?Number(arguments[0]):0,t=1 in arguments?Number(arguments[1]):0,i=2 in arguments?Number(arguments[2]):0,n=3 in arguments?Number(arguments[3]):0,this.right=(this.x=this.left=e)+(this.width=i),this.bottom=(this.y=this.top=t)+(this.height=n),Object.freeze(this)}function d(){t=requestAnimationFrame(d);var s=new WeakMap,p=new Set;o.forEach((function(t){r.get(t).forEach((function(i){var r=t instanceof window.SVGElement,o=a.get(t),d=r?0:parseFloat(o.paddingTop),f=r?0:parseFloat(o.paddingRight),l=r?0:parseFloat(o.paddingBottom),u=r?0:parseFloat(o.paddingLeft),g=r?0:parseFloat(o.borderTopWidth),m=r?0:parseFloat(o.borderRightWidth),w=r?0:parseFloat(o.borderBottomWidth),b=u+f,F=d+l,v=(r?0:parseFloat(o.borderLeftWidth))+m,W=g+w,y=r?0:t.offsetHeight-W-t.clientHeight,E=r?0:t.offsetWidth-v-t.clientWidth,R=b+v,z=F+W,M=r?t.width:parseFloat(o.width)-R-E,O=r?t.height:parseFloat(o.height)-z-y;if(n.has(t)){var k=n.get(t);if(k[0]===M&&k[1]===O)return}n.set(t,[M,O]);var S=Object.create(h.prototype);S.target=t,S.contentRect=new c(u,d,M,O),s.has(i)||(s.set(i,[]),p.add(i)),s.get(i).push(S)}))})),p.forEach((function(e){i.get(e).call(e,s.get(e),e)}))}return s.prototype.observe=function(i){if(i instanceof window.Element){r.has(i)||(r.set(i,new Set),o.add(i),a.set(i,window.getComputedStyle(i)));var n=r.get(i);n.has(this)||n.add(this),cancelAnimationFrame(t),t=requestAnimationFrame(d)}},s.prototype.unobserve=function(i){if(i instanceof window.Element&&r.has(i)){var n=r.get(i);n.has(this)&&(n.delete(this),n.size||(r.delete(i),o.delete(i))),n.size||r.delete(i),o.size||cancelAnimationFrame(t)}},A.DOMRectReadOnly=c,A.ResizeObserver=s,A.ResizeObserverEntry=h,A}; // eslint-disable-line\n",
       "mpl.toolbar_items = [[\"Home\", \"Reset original view\", \"fa fa-home icon-home\", \"home\"], [\"Back\", \"Back to previous view\", \"fa fa-arrow-left icon-arrow-left\", \"back\"], [\"Forward\", \"Forward to next view\", \"fa fa-arrow-right icon-arrow-right\", \"forward\"], [\"\", \"\", \"\", \"\"], [\"Pan\", \"Left button pans, Right button zooms\\nx/y fixes axis, CTRL fixes aspect\", \"fa fa-arrows icon-move\", \"pan\"], [\"Zoom\", \"Zoom to rectangle\\nx/y fixes axis, CTRL fixes aspect\", \"fa fa-square-o icon-check-empty\", \"zoom\"], [\"\", \"\", \"\", \"\"], [\"Download\", \"Download plot\", \"fa fa-floppy-o icon-save\", \"download\"]];\n",
       "\n",
       "mpl.extensions = [\"eps\", \"jpeg\", \"pdf\", \"png\", \"ps\", \"raw\", \"svg\", \"tif\"];\n",
       "\n",
       "mpl.default_extension = \"png\";/* global mpl */\n",
       "\n",
       "var comm_websocket_adapter = function (comm) {\n",
       "    // Create a \"websocket\"-like object which calls the given IPython comm\n",
       "    // object with the appropriate methods. Currently this is a non binary\n",
       "    // socket, so there is still some room for performance tuning.\n",
       "    var ws = {};\n",
       "\n",
       "    ws.close = function () {\n",
       "        comm.close();\n",
       "    };\n",
       "    ws.send = function (m) {\n",
       "        //console.log('sending', m);\n",
       "        comm.send(m);\n",
       "    };\n",
       "    // Register the callback with on_msg.\n",
       "    comm.on_msg(function (msg) {\n",
       "        //console.log('receiving', msg['content']['data'], msg);\n",
       "        // Pass the mpl event to the overridden (by mpl) onmessage function.\n",
       "        ws.onmessage(msg['content']['data']);\n",
       "    });\n",
       "    return ws;\n",
       "};\n",
       "\n",
       "mpl.mpl_figure_comm = function (comm, msg) {\n",
       "    // This is the function which gets called when the mpl process\n",
       "    // starts-up an IPython Comm through the \"matplotlib\" channel.\n",
       "\n",
       "    var id = msg.content.data.id;\n",
       "    // Get hold of the div created by the display call when the Comm\n",
       "    // socket was opened in Python.\n",
       "    var element = document.getElementById(id);\n",
       "    var ws_proxy = comm_websocket_adapter(comm);\n",
       "\n",
       "    function ondownload(figure, _format) {\n",
       "        window.open(figure.canvas.toDataURL());\n",
       "    }\n",
       "\n",
       "    var fig = new mpl.figure(id, ws_proxy, ondownload, element);\n",
       "\n",
       "    // Call onopen now - mpl needs it, as it is assuming we've passed it a real\n",
       "    // web socket which is closed, not our websocket->open comm proxy.\n",
       "    ws_proxy.onopen();\n",
       "\n",
       "    fig.parent_element = element;\n",
       "    fig.cell_info = mpl.find_output_cell(\"<div id='\" + id + \"'></div>\");\n",
       "    if (!fig.cell_info) {\n",
       "        console.error('Failed to find cell for figure', id, fig);\n",
       "        return;\n",
       "    }\n",
       "    fig.cell_info[0].output_area.element.on(\n",
       "        'cleared',\n",
       "        { fig: fig },\n",
       "        fig._remove_fig_handler\n",
       "    );\n",
       "};\n",
       "\n",
       "mpl.figure.prototype.handle_close = function (fig, msg) {\n",
       "    var width = fig.canvas.width / fig.ratio;\n",
       "    fig.cell_info[0].output_area.element.off(\n",
       "        'cleared',\n",
       "        fig._remove_fig_handler\n",
       "    );\n",
       "    fig.resizeObserverInstance.unobserve(fig.canvas_div);\n",
       "\n",
       "    // Update the output cell to use the data from the current canvas.\n",
       "    fig.push_to_output();\n",
       "    var dataURL = fig.canvas.toDataURL();\n",
       "    // Re-enable the keyboard manager in IPython - without this line, in FF,\n",
       "    // the notebook keyboard shortcuts fail.\n",
       "    IPython.keyboard_manager.enable();\n",
       "    fig.parent_element.innerHTML =\n",
       "        '<img src=\"' + dataURL + '\" width=\"' + width + '\">';\n",
       "    fig.close_ws(fig, msg);\n",
       "};\n",
       "\n",
       "mpl.figure.prototype.close_ws = function (fig, msg) {\n",
       "    fig.send_message('closing', msg);\n",
       "    // fig.ws.close()\n",
       "};\n",
       "\n",
       "mpl.figure.prototype.push_to_output = function (_remove_interactive) {\n",
       "    // Turn the data on the canvas into data in the output cell.\n",
       "    var width = this.canvas.width / this.ratio;\n",
       "    var dataURL = this.canvas.toDataURL();\n",
       "    this.cell_info[1]['text/html'] =\n",
       "        '<img src=\"' + dataURL + '\" width=\"' + width + '\">';\n",
       "};\n",
       "\n",
       "mpl.figure.prototype.updated_canvas_event = function () {\n",
       "    // Tell IPython that the notebook contents must change.\n",
       "    IPython.notebook.set_dirty(true);\n",
       "    this.send_message('ack', {});\n",
       "    var fig = this;\n",
       "    // Wait a second, then push the new image to the DOM so\n",
       "    // that it is saved nicely (might be nice to debounce this).\n",
       "    setTimeout(function () {\n",
       "        fig.push_to_output();\n",
       "    }, 1000);\n",
       "};\n",
       "\n",
       "mpl.figure.prototype._init_toolbar = function () {\n",
       "    var fig = this;\n",
       "\n",
       "    var toolbar = document.createElement('div');\n",
       "    toolbar.classList = 'btn-toolbar';\n",
       "    this.root.appendChild(toolbar);\n",
       "\n",
       "    function on_click_closure(name) {\n",
       "        return function (_event) {\n",
       "            return fig.toolbar_button_onclick(name);\n",
       "        };\n",
       "    }\n",
       "\n",
       "    function on_mouseover_closure(tooltip) {\n",
       "        return function (event) {\n",
       "            if (!event.currentTarget.disabled) {\n",
       "                return fig.toolbar_button_onmouseover(tooltip);\n",
       "            }\n",
       "        };\n",
       "    }\n",
       "\n",
       "    fig.buttons = {};\n",
       "    var buttonGroup = document.createElement('div');\n",
       "    buttonGroup.classList = 'btn-group';\n",
       "    var button;\n",
       "    for (var toolbar_ind in mpl.toolbar_items) {\n",
       "        var name = mpl.toolbar_items[toolbar_ind][0];\n",
       "        var tooltip = mpl.toolbar_items[toolbar_ind][1];\n",
       "        var image = mpl.toolbar_items[toolbar_ind][2];\n",
       "        var method_name = mpl.toolbar_items[toolbar_ind][3];\n",
       "\n",
       "        if (!name) {\n",
       "            /* Instead of a spacer, we start a new button group. */\n",
       "            if (buttonGroup.hasChildNodes()) {\n",
       "                toolbar.appendChild(buttonGroup);\n",
       "            }\n",
       "            buttonGroup = document.createElement('div');\n",
       "            buttonGroup.classList = 'btn-group';\n",
       "            continue;\n",
       "        }\n",
       "\n",
       "        button = fig.buttons[name] = document.createElement('button');\n",
       "        button.classList = 'btn btn-default';\n",
       "        button.href = '#';\n",
       "        button.title = name;\n",
       "        button.innerHTML = '<i class=\"fa ' + image + ' fa-lg\"></i>';\n",
       "        button.addEventListener('click', on_click_closure(method_name));\n",
       "        button.addEventListener('mouseover', on_mouseover_closure(tooltip));\n",
       "        buttonGroup.appendChild(button);\n",
       "    }\n",
       "\n",
       "    if (buttonGroup.hasChildNodes()) {\n",
       "        toolbar.appendChild(buttonGroup);\n",
       "    }\n",
       "\n",
       "    // Add the status bar.\n",
       "    var status_bar = document.createElement('span');\n",
       "    status_bar.classList = 'mpl-message pull-right';\n",
       "    toolbar.appendChild(status_bar);\n",
       "    this.message = status_bar;\n",
       "\n",
       "    // Add the close button to the window.\n",
       "    var buttongrp = document.createElement('div');\n",
       "    buttongrp.classList = 'btn-group inline pull-right';\n",
       "    button = document.createElement('button');\n",
       "    button.classList = 'btn btn-mini btn-primary';\n",
       "    button.href = '#';\n",
       "    button.title = 'Stop Interaction';\n",
       "    button.innerHTML = '<i class=\"fa fa-power-off icon-remove icon-large\"></i>';\n",
       "    button.addEventListener('click', function (_evt) {\n",
       "        fig.handle_close(fig, {});\n",
       "    });\n",
       "    button.addEventListener(\n",
       "        'mouseover',\n",
       "        on_mouseover_closure('Stop Interaction')\n",
       "    );\n",
       "    buttongrp.appendChild(button);\n",
       "    var titlebar = this.root.querySelector('.ui-dialog-titlebar');\n",
       "    titlebar.insertBefore(buttongrp, titlebar.firstChild);\n",
       "};\n",
       "\n",
       "mpl.figure.prototype._remove_fig_handler = function (event) {\n",
       "    var fig = event.data.fig;\n",
       "    if (event.target !== this) {\n",
       "        // Ignore bubbled events from children.\n",
       "        return;\n",
       "    }\n",
       "    fig.close_ws(fig, {});\n",
       "};\n",
       "\n",
       "mpl.figure.prototype._root_extra_style = function (el) {\n",
       "    el.style.boxSizing = 'content-box'; // override notebook setting of border-box.\n",
       "};\n",
       "\n",
       "mpl.figure.prototype._canvas_extra_style = function (el) {\n",
       "    // this is important to make the div 'focusable\n",
       "    el.setAttribute('tabindex', 0);\n",
       "    // reach out to IPython and tell the keyboard manager to turn it's self\n",
       "    // off when our div gets focus\n",
       "\n",
       "    // location in version 3\n",
       "    if (IPython.notebook.keyboard_manager) {\n",
       "        IPython.notebook.keyboard_manager.register_events(el);\n",
       "    } else {\n",
       "        // location in version 2\n",
       "        IPython.keyboard_manager.register_events(el);\n",
       "    }\n",
       "};\n",
       "\n",
       "mpl.figure.prototype._key_event_extra = function (event, _name) {\n",
       "    var manager = IPython.notebook.keyboard_manager;\n",
       "    if (!manager) {\n",
       "        manager = IPython.keyboard_manager;\n",
       "    }\n",
       "\n",
       "    // Check for shift+enter\n",
       "    if (event.shiftKey && event.which === 13) {\n",
       "        this.canvas_div.blur();\n",
       "        // select the cell after this one\n",
       "        var index = IPython.notebook.find_cell_index(this.cell_info[0]);\n",
       "        IPython.notebook.select(index + 1);\n",
       "    }\n",
       "};\n",
       "\n",
       "mpl.figure.prototype.handle_save = function (fig, _msg) {\n",
       "    fig.ondownload(fig, null);\n",
       "};\n",
       "\n",
       "mpl.find_output_cell = function (html_output) {\n",
       "    // Return the cell and output element which can be found *uniquely* in the notebook.\n",
       "    // Note - this is a bit hacky, but it is done because the \"notebook_saving.Notebook\"\n",
       "    // IPython event is triggered only after the cells have been serialised, which for\n",
       "    // our purposes (turning an active figure into a static one), is too late.\n",
       "    var cells = IPython.notebook.get_cells();\n",
       "    var ncells = cells.length;\n",
       "    for (var i = 0; i < ncells; i++) {\n",
       "        var cell = cells[i];\n",
       "        if (cell.cell_type === 'code') {\n",
       "            for (var j = 0; j < cell.output_area.outputs.length; j++) {\n",
       "                var data = cell.output_area.outputs[j];\n",
       "                if (data.data) {\n",
       "                    // IPython >= 3 moved mimebundle to data attribute of output\n",
       "                    data = data.data;\n",
       "                }\n",
       "                if (data['text/html'] === html_output) {\n",
       "                    return [cell, data, j];\n",
       "                }\n",
       "            }\n",
       "        }\n",
       "    }\n",
       "};\n",
       "\n",
       "// Register the function which deals with the matplotlib target/channel.\n",
       "// The kernel may be null if the page has been refreshed.\n",
       "if (IPython.notebook.kernel !== null) {\n",
       "    IPython.notebook.kernel.comm_manager.register_target(\n",
       "        'matplotlib',\n",
       "        mpl.mpl_figure_comm\n",
       "    );\n",
       "}\n"
      ],
      "text/plain": [
       "<IPython.core.display.Javascript object>"
      ]
     },
     "metadata": {},
     "output_type": "display_data"
    },
    {
     "data": {
      "text/html": [
       "<img src=\"data:image/png;base64,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\" width=\"640\">"
      ],
      "text/plain": [
       "<IPython.core.display.HTML object>"
      ]
     },
     "metadata": {},
     "output_type": "display_data"
    },
    {
     "name": "stdout",
     "output_type": "stream",
     "text": [
      "\n",
      "---------\n",
      "Epoch 1 of 50\n"
     ]
    },
    {
     "data": {
      "application/vnd.jupyter.widget-view+json": {
       "model_id": "db3a242b6c524f3699764c8f9a275e03",
       "version_major": 2,
       "version_minor": 0
      },
      "text/plain": [
       "  0%|          | 0/529 [00:00<?, ?it/s]"
      ]
     },
     "metadata": {},
     "output_type": "display_data"
    },
    {
     "name": "stdout",
     "output_type": "stream",
     "text": [
      "Train Loss: 22.36321126307286\n",
      "Train AUC: 0.5132700475365869\n",
      "Train Accuracy: 0.44971192199734084\n",
      "\n"
     ]
    },
    {
     "data": {
      "application/vnd.jupyter.widget-view+json": {
       "model_id": "a65fd27e7cb9467fac003690e04c20c6",
       "version_major": 2,
       "version_minor": 0
      },
      "text/plain": [
       "  0%|          | 0/38 [00:00<?, ?it/s]"
      ]
     },
     "metadata": {},
     "output_type": "display_data"
    },
    {
     "name": "stdout",
     "output_type": "stream",
     "text": [
      "Validation Loss: 3.349968219570228\n",
      "Validation AUC: 0.5342152526483407\n",
      "Validation Accuracy: 0.4533440439480708\n",
      "Best Val AUC: 0.5342152526483407 at epoch 1\n",
      "Best Val Loss: 3.349968219570228 at epoch 1\n",
      "Epoch Time: 4.290172100067139\n",
      "\n",
      "---------\n",
      "Epoch 2 of 50\n"
     ]
    },
    {
     "data": {
      "application/vnd.jupyter.widget-view+json": {
       "model_id": "231e75b8fa2d4d96a782ded65a61852e",
       "version_major": 2,
       "version_minor": 0
      },
      "text/plain": [
       "  0%|          | 0/529 [00:00<?, ?it/s]"
      ]
     },
     "metadata": {},
     "output_type": "display_data"
    },
    {
     "name": "stdout",
     "output_type": "stream",
     "text": [
      "Train Loss: 2.7072701388516\n",
      "Train AUC: 0.5371081289000628\n",
      "Train Accuracy: 0.4483897178312897\n",
      "\n"
     ]
    },
    {
     "data": {
      "application/vnd.jupyter.widget-view+json": {
       "model_id": "0dfedd6a21f5433e9ad57c5ad9351b83",
       "version_major": 2,
       "version_minor": 0
      },
      "text/plain": [
       "  0%|          | 0/38 [00:00<?, ?it/s]"
      ]
     },
     "metadata": {},
     "output_type": "display_data"
    },
    {
     "name": "stdout",
     "output_type": "stream",
     "text": [
      "Validation Loss: 2.3799814899728213\n",
      "Validation AUC: 0.5357604732231894\n",
      "Validation Accuracy: 0.4465808089969164\n",
      "If converges, will stop in 9 iterations\n",
      "Best Val AUC: 0.5357604732231894 at epoch 2\n",
      "Best Val Loss: 2.3799814899728213 at epoch 2\n",
      "Epoch Time: 4.291481018066406\n",
      "\n",
      "---------\n",
      "Epoch 3 of 50\n"
     ]
    },
    {
     "data": {
      "application/vnd.jupyter.widget-view+json": {
       "model_id": "aa05c3201c784cbbbc6e72ac05e2f29b",
       "version_major": 2,
       "version_minor": 0
      },
      "text/plain": [
       "  0%|          | 0/529 [00:00<?, ?it/s]"
      ]
     },
     "metadata": {},
     "output_type": "display_data"
    },
    {
     "name": "stdout",
     "output_type": "stream",
     "text": [
      "Train Loss: 2.1646539358217036\n",
      "Train AUC: 0.5354972049753612\n",
      "Train Accuracy: 0.4382109617373319\n",
      "\n"
     ]
    },
    {
     "data": {
      "application/vnd.jupyter.widget-view+json": {
       "model_id": "163f202b9c5f46c0ba3cf8b329393131",
       "version_major": 2,
       "version_minor": 0
      },
      "text/plain": [
       "  0%|          | 0/38 [00:00<?, ?it/s]"
      ]
     },
     "metadata": {},
     "output_type": "display_data"
    },
    {
     "name": "stdout",
     "output_type": "stream",
     "text": [
      "Validation Loss: 2.07892921695572\n",
      "Validation AUC: 0.5254263036625335\n",
      "Validation Accuracy: 0.43966209738021816\n",
      "If converges, will stop in 9 iterations\n",
      "If performance continues to decrease, will stop in 3 iterations\n",
      "Best Val AUC: 0.5357604732231894 at epoch 2\n",
      "Best Val Loss: 2.07892921695572 at epoch 3\n",
      "Epoch Time: 4.213916778564453\n",
      "\n",
      "---------\n",
      "Epoch 4 of 50\n"
     ]
    },
    {
     "data": {
      "application/vnd.jupyter.widget-view+json": {
       "model_id": "2a32e251f55547539484a3824c2b0654",
       "version_major": 2,
       "version_minor": 0
      },
      "text/plain": [
       "  0%|          | 0/529 [00:00<?, ?it/s]"
      ]
     },
     "metadata": {},
     "output_type": "display_data"
    },
    {
     "name": "stdout",
     "output_type": "stream",
     "text": [
      "Train Loss: 1.9501654894926417\n",
      "Train AUC: 0.5398739549156094\n",
      "Train Accuracy: 0.43494607770719457\n",
      "\n"
     ]
    },
    {
     "data": {
      "application/vnd.jupyter.widget-view+json": {
       "model_id": "35bbbddf1d18451c9a613ffa79827738",
       "version_major": 2,
       "version_minor": 0
      },
      "text/plain": [
       "  0%|          | 0/38 [00:00<?, ?it/s]"
      ]
     },
     "metadata": {},
     "output_type": "display_data"
    },
    {
     "name": "stdout",
     "output_type": "stream",
     "text": [
      "Validation Loss: 1.8903395235166809\n",
      "Validation AUC: 0.5268956627576631\n",
      "Validation Accuracy: 0.4369930812883833\n",
      "If converges, will stop in 8 iterations\n",
      "Best Val AUC: 0.5357604732231894 at epoch 2\n",
      "Best Val Loss: 1.8903395235166809 at epoch 4\n",
      "Epoch Time: 4.243322849273682\n",
      "\n",
      "---------\n",
      "Epoch 5 of 50\n"
     ]
    },
    {
     "data": {
      "application/vnd.jupyter.widget-view+json": {
       "model_id": "13c7ddf19a6f4f0f839fcaadf21e5dbc",
       "version_major": 2,
       "version_minor": 0
      },
      "text/plain": [
       "  0%|          | 0/529 [00:00<?, ?it/s]"
      ]
     },
     "metadata": {},
     "output_type": "display_data"
    },
    {
     "name": "stdout",
     "output_type": "stream",
     "text": [
      "Train Loss: 1.8189649724338448\n",
      "Train AUC: 0.5431661764528706\n",
      "Train Accuracy: 0.4300044319692717\n",
      "\n"
     ]
    },
    {
     "data": {
      "application/vnd.jupyter.widget-view+json": {
       "model_id": "dca262c8b6ff4d46b33aebab6e74069c",
       "version_major": 2,
       "version_minor": 0
      },
      "text/plain": [
       "  0%|          | 0/38 [00:00<?, ?it/s]"
      ]
     },
     "metadata": {},
     "output_type": "display_data"
    },
    {
     "name": "stdout",
     "output_type": "stream",
     "text": [
      "Validation Loss: 1.8086074836890473\n",
      "Validation AUC: 0.5218570545176232\n",
      "Validation Accuracy: 0.4178435386489078\n",
      "If converges, will stop in 9 iterations\n",
      "If performance continues to decrease, will stop in 3 iterations\n",
      "Best Val AUC: 0.5357604732231894 at epoch 2\n",
      "Best Val Loss: 1.8086074836890473 at epoch 5\n",
      "Epoch Time: 4.261297225952148\n",
      "\n",
      "---------\n",
      "Epoch 6 of 50\n"
     ]
    },
    {
     "data": {
      "application/vnd.jupyter.widget-view+json": {
       "model_id": "c45f35149d9c4882806de7eab0c56528",
       "version_major": 2,
       "version_minor": 0
      },
      "text/plain": [
       "  0%|          | 0/529 [00:00<?, ?it/s]"
      ]
     },
     "metadata": {},
     "output_type": "display_data"
    },
    {
     "name": "stdout",
     "output_type": "stream",
     "text": [
      "Train Loss: 1.7645358838211163\n",
      "Train AUC: 0.5429285458915698\n",
      "Train Accuracy: 0.42601565962475996\n",
      "\n"
     ]
    },
    {
     "data": {
      "application/vnd.jupyter.widget-view+json": {
       "model_id": "40f805076bff47d69ae9c8d64531daab",
       "version_major": 2,
       "version_minor": 0
      },
      "text/plain": [
       "  0%|          | 0/38 [00:00<?, ?it/s]"
      ]
     },
     "metadata": {},
     "output_type": "display_data"
    },
    {
     "name": "stdout",
     "output_type": "stream",
     "text": [
      "Validation Loss: 1.7188777767888155\n",
      "Validation AUC: 0.5329604352769992\n",
      "Validation Accuracy: 0.4390661034956337\n",
      "If converges, will stop in 8 iterations\n",
      "Best Val AUC: 0.5357604732231894 at epoch 2\n",
      "Best Val Loss: 1.7188777767888155 at epoch 6\n",
      "Epoch Time: 4.2655274868011475\n",
      "\n",
      "---------\n",
      "Epoch 7 of 50\n"
     ]
    },
    {
     "data": {
      "application/vnd.jupyter.widget-view+json": {
       "model_id": "73083445e3c0473d862c6b12354f8e62",
       "version_major": 2,
       "version_minor": 0
      },
      "text/plain": [
       "  0%|          | 0/529 [00:00<?, ?it/s]"
      ]
     },
     "metadata": {},
     "output_type": "display_data"
    },
    {
     "name": "stdout",
     "output_type": "stream",
     "text": [
      "Train Loss: 1.6837131418176372\n",
      "Train AUC: 0.5394318246180513\n",
      "Train Accuracy: 0.43187324567882995\n",
      "\n"
     ]
    },
    {
     "data": {
      "application/vnd.jupyter.widget-view+json": {
       "model_id": "71c75ea648fb40dc9f476f1b2e9f1739",
       "version_major": 2,
       "version_minor": 0
      },
      "text/plain": [
       "  0%|          | 0/38 [00:00<?, ?it/s]"
      ]
     },
     "metadata": {},
     "output_type": "display_data"
    },
    {
     "name": "stdout",
     "output_type": "stream",
     "text": [
      "Validation Loss: 1.6562532234121539\n",
      "Validation AUC: 0.5384978082830538\n",
      "Validation Accuracy: 0.4352569251898111\n",
      "If converges, will stop in 9 iterations\n",
      "Best Val AUC: 0.5384978082830538 at epoch 7\n",
      "Best Val Loss: 1.6562532234121539 at epoch 7\n",
      "Epoch Time: 4.254267930984497\n",
      "\n",
      "---------\n",
      "Epoch 8 of 50\n"
     ]
    },
    {
     "data": {
      "application/vnd.jupyter.widget-view+json": {
       "model_id": "12e0b99f7e89450a91a2d32536bc7e5f",
       "version_major": 2,
       "version_minor": 0
      },
      "text/plain": [
       "  0%|          | 0/529 [00:00<?, ?it/s]"
      ]
     },
     "metadata": {},
     "output_type": "display_data"
    },
    {
     "name": "stdout",
     "output_type": "stream",
     "text": [
      "Train Loss: 1.6338885403439078\n",
      "Train AUC: 0.5411724849119554\n",
      "Train Accuracy: 0.4395922588270055\n",
      "\n"
     ]
    },
    {
     "data": {
      "application/vnd.jupyter.widget-view+json": {
       "model_id": "a3a59a596cf74db9857a6cd4d3c8fc69",
       "version_major": 2,
       "version_minor": 0
      },
      "text/plain": [
       "  0%|          | 0/38 [00:00<?, ?it/s]"
      ]
     },
     "metadata": {},
     "output_type": "display_data"
    },
    {
     "name": "stdout",
     "output_type": "stream",
     "text": [
      "Validation Loss: 1.6197451536699312\n",
      "Validation AUC: 0.5385248078626483\n",
      "Validation Accuracy: 0.4511155450752766\n",
      "If converges, will stop in 9 iterations\n",
      "Best Val AUC: 0.5385248078626483 at epoch 8\n",
      "Best Val Loss: 1.6197451536699312 at epoch 8\n",
      "Epoch Time: 4.229248523712158\n",
      "\n",
      "---------\n",
      "Epoch 9 of 50\n"
     ]
    },
    {
     "data": {
      "application/vnd.jupyter.widget-view+json": {
       "model_id": "6855b4b40f774ae09a5e27170c9aa595",
       "version_major": 2,
       "version_minor": 0
      },
      "text/plain": [
       "  0%|          | 0/529 [00:00<?, ?it/s]"
      ]
     },
     "metadata": {},
     "output_type": "display_data"
    },
    {
     "name": "stdout",
     "output_type": "stream",
     "text": [
      "Train Loss: 1.603744505343698\n",
      "Train AUC: 0.542093796965571\n",
      "Train Accuracy: 0.4686216575565076\n",
      "\n"
     ]
    },
    {
     "data": {
      "application/vnd.jupyter.widget-view+json": {
       "model_id": "0425565c5bc54023be5c555b7648b74c",
       "version_major": 2,
       "version_minor": 0
      },
      "text/plain": [
       "  0%|          | 0/38 [00:00<?, ?it/s]"
      ]
     },
     "metadata": {},
     "output_type": "display_data"
    },
    {
     "name": "stdout",
     "output_type": "stream",
     "text": [
      "Validation Loss: 1.585378919023099\n",
      "Validation AUC: 0.5333789480737184\n",
      "Validation Accuracy: 0.4652898344173512\n",
      "If converges, will stop in 9 iterations\n",
      "If performance continues to decrease, will stop in 3 iterations\n",
      "Best Val AUC: 0.5385248078626483 at epoch 8\n",
      "Best Val Loss: 1.585378919023099 at epoch 9\n",
      "Epoch Time: 4.2258360385894775\n",
      "\n",
      "---------\n",
      "Epoch 10 of 50\n"
     ]
    },
    {
     "data": {
      "application/vnd.jupyter.widget-view+json": {
       "model_id": "0d206595358a474db8166cbc1cb8a0bd",
       "version_major": 2,
       "version_minor": 0
      },
      "text/plain": [
       "  0%|          | 0/529 [00:00<?, ?it/s]"
      ]
     },
     "metadata": {},
     "output_type": "display_data"
    },
    {
     "name": "stdout",
     "output_type": "stream",
     "text": [
      "Train Loss: 1.56864925207903\n",
      "Train AUC: 0.5462440430349593\n",
      "Train Accuracy: 0.48647510710592407\n",
      "\n"
     ]
    },
    {
     "data": {
      "application/vnd.jupyter.widget-view+json": {
       "model_id": "9084ba8a7376465bba0da7ecc5e34a34",
       "version_major": 2,
       "version_minor": 0
      },
      "text/plain": [
       "  0%|          | 0/38 [00:00<?, ?it/s]"
      ]
     },
     "metadata": {},
     "output_type": "display_data"
    },
    {
     "name": "stdout",
     "output_type": "stream",
     "text": [
      "Validation Loss: 1.5636839281010892\n",
      "Validation AUC: 0.5491988347923922\n",
      "Validation Accuracy: 0.4897255836853152\n",
      "If converges, will stop in 8 iterations\n",
      "Best Val AUC: 0.5491988347923922 at epoch 10\n",
      "Best Val Loss: 1.5636839281010892 at epoch 10\n",
      "Epoch Time: 4.2660813331604\n",
      "\n",
      "---------\n",
      "Epoch 11 of 50\n"
     ]
    },
    {
     "data": {
      "application/vnd.jupyter.widget-view+json": {
       "model_id": "2f70b224869e4ba4b0e86d860016957e",
       "version_major": 2,
       "version_minor": 0
      },
      "text/plain": [
       "  0%|          | 0/529 [00:00<?, ?it/s]"
      ]
     },
     "metadata": {},
     "output_type": "display_data"
    },
    {
     "name": "stdout",
     "output_type": "stream",
     "text": [
      "Train Loss: 1.5782799667937464\n",
      "Train AUC: 0.5403125652667683\n",
      "Train Accuracy: 0.4971413798197666\n",
      "\n"
     ]
    },
    {
     "data": {
      "application/vnd.jupyter.widget-view+json": {
       "model_id": "36a761e122734e998af547bbba6d1596",
       "version_major": 2,
       "version_minor": 0
      },
      "text/plain": [
       "  0%|          | 0/38 [00:00<?, ?it/s]"
      ]
     },
     "metadata": {},
     "output_type": "display_data"
    },
    {
     "name": "stdout",
     "output_type": "stream",
     "text": [
      "Validation Loss: 1.5626719153244633\n",
      "Validation AUC: 0.544180170447818\n",
      "Validation Accuracy: 0.49115078645279986\n",
      "If converges, will stop in 9 iterations\n",
      "If performance continues to decrease, will stop in 3 iterations\n",
      "Best Val AUC: 0.5491988347923922 at epoch 10\n",
      "Best Val Loss: 1.5626719153244633 at epoch 11\n",
      "Epoch Time: 4.232274055480957\n",
      "\n",
      "---------\n",
      "Epoch 12 of 50\n"
     ]
    },
    {
     "data": {
      "application/vnd.jupyter.widget-view+json": {
       "model_id": "433be563a63c457b83917f5022e800d7",
       "version_major": 2,
       "version_minor": 0
      },
      "text/plain": [
       "  0%|          | 0/529 [00:00<?, ?it/s]"
      ]
     },
     "metadata": {},
     "output_type": "display_data"
    },
    {
     "name": "stdout",
     "output_type": "stream",
     "text": [
      "Train Loss: 1.546690642608731\n",
      "Train AUC: 0.5428279660786794\n",
      "Train Accuracy: 0.5133106810459448\n",
      "\n"
     ]
    },
    {
     "data": {
      "application/vnd.jupyter.widget-view+json": {
       "model_id": "99bbe49fb3a14998bdcc9ae9b54cb2e6",
       "version_major": 2,
       "version_minor": 0
      },
      "text/plain": [
       "  0%|          | 0/38 [00:00<?, ?it/s]"
      ]
     },
     "metadata": {},
     "output_type": "display_data"
    },
    {
     "name": "stdout",
     "output_type": "stream",
     "text": [
      "Validation Loss: 1.529300538295724\n",
      "Validation AUC: 0.5549652213999003\n",
      "Validation Accuracy: 0.5223497706719183\n",
      "If converges, will stop in 8 iterations\n",
      "Best Val AUC: 0.5549652213999003 at epoch 12\n",
      "Best Val Loss: 1.529300538295724 at epoch 12\n",
      "Epoch Time: 4.283480882644653\n",
      "\n",
      "---------\n",
      "Epoch 13 of 50\n"
     ]
    },
    {
     "data": {
      "application/vnd.jupyter.widget-view+json": {
       "model_id": "65be512661af4ef5a56532d15e5240d4",
       "version_major": 2,
       "version_minor": 0
      },
      "text/plain": [
       "  0%|          | 0/529 [00:00<?, ?it/s]"
      ]
     },
     "metadata": {},
     "output_type": "display_data"
    },
    {
     "name": "stdout",
     "output_type": "stream",
     "text": [
      "Train Loss: 1.559015417087989\n",
      "Train AUC: 0.5457946698718938\n",
      "Train Accuracy: 0.5281430048751662\n",
      "\n"
     ]
    },
    {
     "data": {
      "application/vnd.jupyter.widget-view+json": {
       "model_id": "fa3c54457ad7428ba8ec1c396c1248d5",
       "version_major": 2,
       "version_minor": 0
      },
      "text/plain": [
       "  0%|          | 0/38 [00:00<?, ?it/s]"
      ]
     },
     "metadata": {},
     "output_type": "display_data"
    },
    {
     "name": "stdout",
     "output_type": "stream",
     "text": [
      "Validation Loss: 1.5722947399972547\n",
      "Validation AUC: 0.5446127044854426\n",
      "Validation Accuracy: 0.5206395273509368\n",
      "If performance continues to decrease, will stop in 3 iterations\n",
      "Best Val AUC: 0.5549652213999003 at epoch 12\n",
      "Best Val Loss: 1.529300538295724 at epoch 12\n",
      "Epoch Time: 4.291522026062012\n",
      "\n",
      "---------\n",
      "Epoch 14 of 50\n"
     ]
    },
    {
     "data": {
      "application/vnd.jupyter.widget-view+json": {
       "model_id": "75eb3dc54fa54bd4a480ea258a8c4e5f",
       "version_major": 2,
       "version_minor": 0
      },
      "text/plain": [
       "  0%|          | 0/529 [00:00<?, ?it/s]"
      ]
     },
     "metadata": {},
     "output_type": "display_data"
    },
    {
     "name": "stdout",
     "output_type": "stream",
     "text": [
      "Train Loss: 1.5468353907548944\n",
      "Train AUC: 0.5480582225678661\n",
      "Train Accuracy: 0.5331437435367115\n",
      "\n"
     ]
    },
    {
     "data": {
      "application/vnd.jupyter.widget-view+json": {
       "model_id": "d23f6a363e2f4917b2c7b8e6e74b8684",
       "version_major": 2,
       "version_minor": 0
      },
      "text/plain": [
       "  0%|          | 0/38 [00:00<?, ?it/s]"
      ]
     },
     "metadata": {},
     "output_type": "display_data"
    },
    {
     "name": "stdout",
     "output_type": "stream",
     "text": [
      "Validation Loss: 1.5407851688566625\n",
      "Validation AUC: 0.5563523070979821\n",
      "Validation Accuracy: 0.5361612811277241\n",
      "If converges, will stop in 9 iterations\n",
      "Best Val AUC: 0.5563523070979821 at epoch 14\n",
      "Best Val Loss: 1.529300538295724 at epoch 12\n",
      "Epoch Time: 4.269739151000977\n",
      "\n",
      "---------\n",
      "Epoch 15 of 50\n"
     ]
    },
    {
     "data": {
      "application/vnd.jupyter.widget-view+json": {
       "model_id": "bc2a90a667d7462fb3abd8f4a657018b",
       "version_major": 2,
       "version_minor": 0
      },
      "text/plain": [
       "  0%|          | 0/529 [00:00<?, ?it/s]"
      ]
     },
     "metadata": {},
     "output_type": "display_data"
    },
    {
     "name": "stdout",
     "output_type": "stream",
     "text": [
      "Train Loss: 1.5396929148044578\n",
      "Train AUC: 0.5479341967779731\n",
      "Train Accuracy: 0.5418525631555621\n",
      "\n"
     ]
    },
    {
     "data": {
      "application/vnd.jupyter.widget-view+json": {
       "model_id": "c612c381aae34709ab797b88e6f47fc1",
       "version_major": 2,
       "version_minor": 0
      },
      "text/plain": [
       "  0%|          | 0/38 [00:00<?, ?it/s]"
      ]
     },
     "metadata": {},
     "output_type": "display_data"
    },
    {
     "name": "stdout",
     "output_type": "stream",
     "text": [
      "Validation Loss: 1.522533159320592\n",
      "Validation AUC: 0.5641526105336008\n",
      "Validation Accuracy: 0.5172967790417455\n",
      "If converges, will stop in 9 iterations\n",
      "Best Val AUC: 0.5641526105336008 at epoch 15\n",
      "Best Val Loss: 1.522533159320592 at epoch 15\n",
      "Epoch Time: 4.337762832641602\n",
      "\n",
      "---------\n",
      "Epoch 16 of 50\n"
     ]
    },
    {
     "data": {
      "application/vnd.jupyter.widget-view+json": {
       "model_id": "a6c989ac11ba45779315756db37102c7",
       "version_major": 2,
       "version_minor": 0
      },
      "text/plain": [
       "  0%|          | 0/529 [00:00<?, ?it/s]"
      ]
     },
     "metadata": {},
     "output_type": "display_data"
    },
    {
     "name": "stdout",
     "output_type": "stream",
     "text": [
      "Train Loss: 1.5346185696433634\n",
      "Train AUC: 0.5477068873263117\n",
      "Train Accuracy: 0.5545944748116413\n",
      "\n"
     ]
    },
    {
     "data": {
      "application/vnd.jupyter.widget-view+json": {
       "model_id": "0d3bdcce557647ffbb6c3195544a7aec",
       "version_major": 2,
       "version_minor": 0
      },
      "text/plain": [
       "  0%|          | 0/38 [00:00<?, ?it/s]"
      ]
     },
     "metadata": {},
     "output_type": "display_data"
    },
    {
     "name": "stdout",
     "output_type": "stream",
     "text": [
      "Validation Loss: 1.5176416389990455\n",
      "Validation AUC: 0.5555361910502097\n",
      "Validation Accuracy: 0.5413697494234407\n",
      "If converges, will stop in 9 iterations\n",
      "If performance continues to decrease, will stop in 3 iterations\n",
      "Best Val AUC: 0.5641526105336008 at epoch 15\n",
      "Best Val Loss: 1.5176416389990455 at epoch 16\n",
      "Epoch Time: 4.375552177429199\n",
      "\n",
      "---------\n",
      "Epoch 17 of 50\n"
     ]
    },
    {
     "data": {
      "application/vnd.jupyter.widget-view+json": {
       "model_id": "6d285d8fcc564d07b598b86f8ff84ad1",
       "version_major": 2,
       "version_minor": 0
      },
      "text/plain": [
       "  0%|          | 0/529 [00:00<?, ?it/s]"
      ]
     },
     "metadata": {},
     "output_type": "display_data"
    },
    {
     "name": "stdout",
     "output_type": "stream",
     "text": [
      "Train Loss: 1.5367479571814748\n",
      "Train AUC: 0.5486066274825434\n",
      "Train Accuracy: 0.5416088048456197\n",
      "\n"
     ]
    },
    {
     "data": {
      "application/vnd.jupyter.widget-view+json": {
       "model_id": "95284544b6334e75a8d99cd8b3bf0d36",
       "version_major": 2,
       "version_minor": 0
      },
      "text/plain": [
       "  0%|          | 0/38 [00:00<?, ?it/s]"
      ]
     },
     "metadata": {},
     "output_type": "display_data"
    },
    {
     "name": "stdout",
     "output_type": "stream",
     "text": [
      "Validation Loss: 1.564416091876235\n",
      "Validation AUC: 0.5489332423613593\n",
      "Validation Accuracy: 0.5193438884714052\n",
      "If performance continues to decrease, will stop in 2 iterations\n",
      "Best Val AUC: 0.5641526105336008 at epoch 15\n",
      "Best Val Loss: 1.5176416389990455 at epoch 16\n",
      "Epoch Time: 4.332289934158325\n",
      "\n",
      "---------\n",
      "Epoch 18 of 50\n"
     ]
    },
    {
     "data": {
      "application/vnd.jupyter.widget-view+json": {
       "model_id": "af8e95610abd4bc0aa8c52213959249d",
       "version_major": 2,
       "version_minor": 0
      },
      "text/plain": [
       "  0%|          | 0/529 [00:00<?, ?it/s]"
      ]
     },
     "metadata": {},
     "output_type": "display_data"
    },
    {
     "name": "stdout",
     "output_type": "stream",
     "text": [
      "Train Loss: 1.5667369449690796\n",
      "Train AUC: 0.5507028686181258\n",
      "Train Accuracy: 0.5353892746343626\n",
      "\n"
     ]
    },
    {
     "data": {
      "application/vnd.jupyter.widget-view+json": {
       "model_id": "8ecd1eec2c8648faab472b5493d6c809",
       "version_major": 2,
       "version_minor": 0
      },
      "text/plain": [
       "  0%|          | 0/38 [00:00<?, ?it/s]"
      ]
     },
     "metadata": {},
     "output_type": "display_data"
    },
    {
     "name": "stdout",
     "output_type": "stream",
     "text": [
      "Validation Loss: 1.5999602438348008\n",
      "Validation AUC: 0.5320550545247305\n",
      "Validation Accuracy: 0.5432613821875567\n",
      "If performance continues to decrease, will stop in 1 iterations\n",
      "Best Val AUC: 0.5641526105336008 at epoch 15\n",
      "Best Val Loss: 1.5176416389990455 at epoch 16\n",
      "Epoch Time: 4.325282335281372\n",
      "\n",
      "---------\n",
      "Epoch 19 of 50\n"
     ]
    },
    {
     "data": {
      "application/vnd.jupyter.widget-view+json": {
       "model_id": "1c0d4d3cd9734689aa800afd5d8ce2b8",
       "version_major": 2,
       "version_minor": 0
      },
      "text/plain": [
       "  0%|          | 0/529 [00:00<?, ?it/s]"
      ]
     },
     "metadata": {},
     "output_type": "display_data"
    },
    {
     "name": "stdout",
     "output_type": "stream",
     "text": [
      "Train Loss: 1.5717643234519796\n",
      "Train AUC: 0.5441865886167823\n",
      "Train Accuracy: 0.5304106958191757\n",
      "\n"
     ]
    },
    {
     "data": {
      "application/vnd.jupyter.widget-view+json": {
       "model_id": "d8a6297b2cae4551adca9c31e2a58824",
       "version_major": 2,
       "version_minor": 0
      },
      "text/plain": [
       "  0%|          | 0/38 [00:00<?, ?it/s]"
      ]
     },
     "metadata": {},
     "output_type": "display_data"
    },
    {
     "name": "stdout",
     "output_type": "stream",
     "text": [
      "Validation Loss: 1.5679293461297388\n",
      "Validation AUC: 0.5469911395542735\n",
      "Validation Accuracy: 0.5203544867974398\n",
      "If converges, will stop in 8 iterations\n",
      "Best Val AUC: 0.5641526105336008 at epoch 15\n",
      "Best Val Loss: 1.5176416389990455 at epoch 16\n",
      "Epoch Time: 4.547156810760498\n",
      "\n",
      "---------\n",
      "Epoch 20 of 50\n"
     ]
    },
    {
     "data": {
      "application/vnd.jupyter.widget-view+json": {
       "model_id": "8b75eda454f145f9a08f45ee32567184",
       "version_major": 2,
       "version_minor": 0
      },
      "text/plain": [
       "  0%|          | 0/529 [00:00<?, ?it/s]"
      ]
     },
     "metadata": {},
     "output_type": "display_data"
    },
    {
     "name": "stdout",
     "output_type": "stream",
     "text": [
      "Train Loss: 1.560255695869636\n",
      "Train AUC: 0.5509396021031557\n",
      "Train Accuracy: 0.531356182597134\n",
      "\n"
     ]
    },
    {
     "data": {
      "application/vnd.jupyter.widget-view+json": {
       "model_id": "3b06c037cb88454c93752ce690d91895",
       "version_major": 2,
       "version_minor": 0
      },
      "text/plain": [
       "  0%|          | 0/38 [00:00<?, ?it/s]"
      ]
     },
     "metadata": {},
     "output_type": "display_data"
    },
    {
     "name": "stdout",
     "output_type": "stream",
     "text": [
      "Validation Loss: 1.535080934041804\n",
      "Validation AUC: 0.5516699465297596\n",
      "Validation Accuracy: 0.5193698012489959\n",
      "If converges, will stop in 9 iterations\n",
      "Best Val AUC: 0.5641526105336008 at epoch 15\n",
      "Best Val Loss: 1.5176416389990455 at epoch 16\n",
      "Epoch Time: 4.339334011077881\n",
      "\n",
      "---------\n",
      "Epoch 21 of 50\n"
     ]
    },
    {
     "data": {
      "application/vnd.jupyter.widget-view+json": {
       "model_id": "384d0a4689e740be927e7d9eb90a83e0",
       "version_major": 2,
       "version_minor": 0
      },
      "text/plain": [
       "  0%|          | 0/529 [00:00<?, ?it/s]"
      ]
     },
     "metadata": {},
     "output_type": "display_data"
    },
    {
     "name": "stdout",
     "output_type": "stream",
     "text": [
      "Train Loss: 1.5226863868905216\n",
      "Train AUC: 0.5482140687994105\n",
      "Train Accuracy: 0.550110799231792\n",
      "\n"
     ]
    },
    {
     "data": {
      "application/vnd.jupyter.widget-view+json": {
       "model_id": "6c24982ef95e4fb584460a4e2df1ee34",
       "version_major": 2,
       "version_minor": 0
      },
      "text/plain": [
       "  0%|          | 0/38 [00:00<?, ?it/s]"
      ]
     },
     "metadata": {},
     "output_type": "display_data"
    },
    {
     "name": "stdout",
     "output_type": "stream",
     "text": [
      "Validation Loss: 1.5087538878509157\n",
      "Validation AUC: 0.5518085495218126\n",
      "Validation Accuracy: 0.475318079344925\n",
      "If converges, will stop in 9 iterations\n",
      "Best Val AUC: 0.5641526105336008 at epoch 15\n",
      "Best Val Loss: 1.5087538878509157 at epoch 21\n",
      "Epoch Time: 4.326542139053345\n",
      "\n",
      "---------\n",
      "Epoch 22 of 50\n"
     ]
    },
    {
     "data": {
      "application/vnd.jupyter.widget-view+json": {
       "model_id": "9cb046bce1ba41f68e9572db35702a63",
       "version_major": 2,
       "version_minor": 0
      },
      "text/plain": [
       "  0%|          | 0/529 [00:00<?, ?it/s]"
      ]
     },
     "metadata": {},
     "output_type": "display_data"
    },
    {
     "name": "stdout",
     "output_type": "stream",
     "text": [
      "Train Loss: 1.512773411543296\n",
      "Train AUC: 0.5442941851856862\n",
      "Train Accuracy: 0.5486039296794208\n",
      "\n"
     ]
    },
    {
     "data": {
      "application/vnd.jupyter.widget-view+json": {
       "model_id": "ba0ccc86e44c4c31997f0a7efb4215f0",
       "version_major": 2,
       "version_minor": 0
      },
      "text/plain": [
       "  0%|          | 0/38 [00:00<?, ?it/s]"
      ]
     },
     "metadata": {},
     "output_type": "display_data"
    },
    {
     "name": "stdout",
     "output_type": "stream",
     "text": [
      "Validation Loss: 1.5122546996134212\n",
      "Validation AUC: 0.560459140146951\n",
      "Validation Accuracy: 0.5413956622010313\n",
      "Best Val AUC: 0.5641526105336008 at epoch 15\n",
      "Best Val Loss: 1.5087538878509157 at epoch 21\n",
      "Epoch Time: 4.296056747436523\n",
      "\n",
      "---------\n",
      "Epoch 23 of 50\n"
     ]
    },
    {
     "data": {
      "application/vnd.jupyter.widget-view+json": {
       "model_id": "7dd358f706544815b5ef9620d1f13e49",
       "version_major": 2,
       "version_minor": 0
      },
      "text/plain": [
       "  0%|          | 0/529 [00:00<?, ?it/s]"
      ]
     },
     "metadata": {},
     "output_type": "display_data"
    },
    {
     "name": "stdout",
     "output_type": "stream",
     "text": [
      "Train Loss: 1.5458941439665974\n",
      "Train AUC: 0.5456250961648935\n",
      "Train Accuracy: 0.5515585758605407\n",
      "\n"
     ]
    },
    {
     "data": {
      "application/vnd.jupyter.widget-view+json": {
       "model_id": "c038469583f64b688b8cb84567a76db3",
       "version_major": 2,
       "version_minor": 0
      },
      "text/plain": [
       "  0%|          | 0/38 [00:00<?, ?it/s]"
      ]
     },
     "metadata": {},
     "output_type": "display_data"
    },
    {
     "name": "stdout",
     "output_type": "stream",
     "text": [
      "Validation Loss: 1.532779350877827\n",
      "Validation AUC: 0.5454973301960775\n",
      "Validation Accuracy: 0.5346324272498769\n",
      "If performance continues to decrease, will stop in 3 iterations\n",
      "Best Val AUC: 0.5641526105336008 at epoch 15\n",
      "Best Val Loss: 1.5087538878509157 at epoch 21\n",
      "Epoch Time: 4.323388576507568\n",
      "\n",
      "---------\n",
      "Epoch 24 of 50\n"
     ]
    },
    {
     "data": {
      "application/vnd.jupyter.widget-view+json": {
       "model_id": "3a9a35837b8d4845b56b02d5b46f486e",
       "version_major": 2,
       "version_minor": 0
      },
      "text/plain": [
       "  0%|          | 0/529 [00:00<?, ?it/s]"
      ]
     },
     "metadata": {},
     "output_type": "display_data"
    },
    {
     "name": "stdout",
     "output_type": "stream",
     "text": [
      "Train Loss: 1.542560254362079\n",
      "Train AUC: 0.5477908444105531\n",
      "Train Accuracy: 0.559174176392377\n",
      "\n"
     ]
    },
    {
     "data": {
      "application/vnd.jupyter.widget-view+json": {
       "model_id": "bea35d56fa864f5cb2f366702a9e64c1",
       "version_major": 2,
       "version_minor": 0
      },
      "text/plain": [
       "  0%|          | 0/38 [00:00<?, ?it/s]"
      ]
     },
     "metadata": {},
     "output_type": "display_data"
    },
    {
     "name": "stdout",
     "output_type": "stream",
     "text": [
      "Validation Loss: 1.538577678065691\n",
      "Validation AUC: 0.5518533943171048\n",
      "Validation Accuracy: 0.5477961182659169\n",
      "Best Val AUC: 0.5641526105336008 at epoch 15\n",
      "Best Val Loss: 1.5087538878509157 at epoch 21\n",
      "Epoch Time: 4.301739454269409\n",
      "\n",
      "---------\n",
      "Epoch 25 of 50\n"
     ]
    },
    {
     "data": {
      "application/vnd.jupyter.widget-view+json": {
       "model_id": "7e9c7a5dc6df40c9afc604fa4b129fae",
       "version_major": 2,
       "version_minor": 0
      },
      "text/plain": [
       "  0%|          | 0/529 [00:00<?, ?it/s]"
      ]
     },
     "metadata": {},
     "output_type": "display_data"
    },
    {
     "name": "stdout",
     "output_type": "stream",
     "text": [
      "Train Loss: 1.5611037568267732\n",
      "Train AUC: 0.5484246440451838\n",
      "Train Accuracy: 0.5650169892155414\n",
      "\n"
     ]
    },
    {
     "data": {
      "application/vnd.jupyter.widget-view+json": {
       "model_id": "8b0ed5161937471a99b3340fc2d36be7",
       "version_major": 2,
       "version_minor": 0
      },
      "text/plain": [
       "  0%|          | 0/38 [00:00<?, ?it/s]"
      ]
     },
     "metadata": {},
     "output_type": "display_data"
    },
    {
     "name": "stdout",
     "output_type": "stream",
     "text": [
      "Validation Loss: 1.5915167601767697\n",
      "Validation AUC: 0.5654654184182918\n",
      "Validation Accuracy: 0.5475888160451919\n",
      "Best Val AUC: 0.5654654184182918 at epoch 25\n",
      "Best Val Loss: 1.5087538878509157 at epoch 21\n",
      "Epoch Time: 4.266009330749512\n",
      "\n",
      "---------\n",
      "Epoch 26 of 50\n"
     ]
    },
    {
     "data": {
      "application/vnd.jupyter.widget-view+json": {
       "model_id": "4af7532c0b0a4b2f9c83da8c028542ee",
       "version_major": 2,
       "version_minor": 0
      },
      "text/plain": [
       "  0%|          | 0/529 [00:00<?, ?it/s]"
      ]
     },
     "metadata": {},
     "output_type": "display_data"
    },
    {
     "name": "stdout",
     "output_type": "stream",
     "text": [
      "Train Loss: 1.5604083944354485\n",
      "Train AUC: 0.5521479911835218\n",
      "Train Accuracy: 0.5642561678239031\n",
      "\n"
     ]
    },
    {
     "data": {
      "application/vnd.jupyter.widget-view+json": {
       "model_id": "c1c5d94b8ac840a497f0ed97e7bb0815",
       "version_major": 2,
       "version_minor": 0
      },
      "text/plain": [
       "  0%|          | 0/38 [00:00<?, ?it/s]"
      ]
     },
     "metadata": {},
     "output_type": "display_data"
    },
    {
     "name": "stdout",
     "output_type": "stream",
     "text": [
      "Validation Loss: 1.571916858143636\n",
      "Validation AUC: 0.5449969560130626\n",
      "Validation Accuracy: 0.5464486538312041\n",
      "If converges, will stop in 9 iterations\n",
      "If performance continues to decrease, will stop in 3 iterations\n",
      "Best Val AUC: 0.5654654184182918 at epoch 25\n",
      "Best Val Loss: 1.5087538878509157 at epoch 21\n",
      "Epoch Time: 4.294094562530518\n",
      "\n",
      "---------\n",
      "Epoch 27 of 50\n"
     ]
    },
    {
     "data": {
      "application/vnd.jupyter.widget-view+json": {
       "model_id": "f5232269e02e43faaca19b670f70a066",
       "version_major": 2,
       "version_minor": 0
      },
      "text/plain": [
       "  0%|          | 0/529 [00:00<?, ?it/s]"
      ]
     },
     "metadata": {},
     "output_type": "display_data"
    },
    {
     "name": "stdout",
     "output_type": "stream",
     "text": [
      "Train Loss: 1.536498846835764\n",
      "Train AUC: 0.5438375102634779\n",
      "Train Accuracy: 0.584525040626385\n",
      "\n"
     ]
    },
    {
     "data": {
      "application/vnd.jupyter.widget-view+json": {
       "model_id": "62c9849793624381b90398b243028c70",
       "version_major": 2,
       "version_minor": 0
      },
      "text/plain": [
       "  0%|          | 0/38 [00:00<?, ?it/s]"
      ]
     },
     "metadata": {},
     "output_type": "display_data"
    },
    {
     "name": "stdout",
     "output_type": "stream",
     "text": [
      "Validation Loss: 1.5868494632753787\n",
      "Validation AUC: 0.5422969851782737\n",
      "Validation Accuracy: 0.540022284988728\n",
      "If performance continues to decrease, will stop in 2 iterations\n",
      "Best Val AUC: 0.5654654184182918 at epoch 25\n",
      "Best Val Loss: 1.5087538878509157 at epoch 21\n",
      "Epoch Time: 4.282019376754761\n",
      "\n",
      "---------\n",
      "Epoch 28 of 50\n"
     ]
    },
    {
     "data": {
      "application/vnd.jupyter.widget-view+json": {
       "model_id": "a00f28bd37a946a4af9e571f41fa9cf9",
       "version_major": 2,
       "version_minor": 0
      },
      "text/plain": [
       "  0%|          | 0/529 [00:00<?, ?it/s]"
      ]
     },
     "metadata": {},
     "output_type": "display_data"
    },
    {
     "name": "stdout",
     "output_type": "stream",
     "text": [
      "Train Loss: 1.5445428536181385\n",
      "Train AUC: 0.5490296888622308\n",
      "Train Accuracy: 0.5834096616930122\n",
      "\n"
     ]
    },
    {
     "data": {
      "application/vnd.jupyter.widget-view+json": {
       "model_id": "8053067ed3264f6fadf4950ef4b3aa6b",
       "version_major": 2,
       "version_minor": 0
      },
      "text/plain": [
       "  0%|          | 0/38 [00:00<?, ?it/s]"
      ]
     },
     "metadata": {},
     "output_type": "display_data"
    },
    {
     "name": "stdout",
     "output_type": "stream",
     "text": [
      "Validation Loss: 1.5192849616076238\n",
      "Validation AUC: 0.5451409666462361\n",
      "Validation Accuracy: 0.5834780130082143\n",
      "If converges, will stop in 8 iterations\n",
      "Best Val AUC: 0.5654654184182918 at epoch 25\n",
      "Best Val Loss: 1.5087538878509157 at epoch 21\n",
      "Epoch Time: 4.3978846073150635\n",
      "\n",
      "---------\n",
      "Epoch 29 of 50\n"
     ]
    },
    {
     "data": {
      "application/vnd.jupyter.widget-view+json": {
       "model_id": "8463df2746bf4a21aed743cd6cc038e8",
       "version_major": 2,
       "version_minor": 0
      },
      "text/plain": [
       "  0%|          | 0/529 [00:00<?, ?it/s]"
      ]
     },
     "metadata": {},
     "output_type": "display_data"
    },
    {
     "name": "stdout",
     "output_type": "stream",
     "text": [
      "Train Loss: 1.5046885519730866\n",
      "Train AUC: 0.5518934665621793\n",
      "Train Accuracy: 0.5894075934406855\n",
      "\n"
     ]
    },
    {
     "data": {
      "application/vnd.jupyter.widget-view+json": {
       "model_id": "e0c961e4b6c24840add7973ea413bbe8",
       "version_major": 2,
       "version_minor": 0
      },
      "text/plain": [
       "  0%|          | 0/38 [00:00<?, ?it/s]"
      ]
     },
     "metadata": {},
     "output_type": "display_data"
    },
    {
     "name": "stdout",
     "output_type": "stream",
     "text": [
      "Validation Loss: 1.5174735027574056\n",
      "Validation AUC: 0.5400844488138185\n",
      "Validation Accuracy: 0.595553367365448\n",
      "If converges, will stop in 9 iterations\n",
      "If performance continues to decrease, will stop in 3 iterations\n",
      "Best Val AUC: 0.5654654184182918 at epoch 25\n",
      "Best Val Loss: 1.5087538878509157 at epoch 21\n",
      "Epoch Time: 4.307100296020508\n",
      "\n",
      "---------\n",
      "Epoch 30 of 50\n"
     ]
    },
    {
     "data": {
      "application/vnd.jupyter.widget-view+json": {
       "model_id": "320e18e012f245109fb4bfa7e8b212fb",
       "version_major": 2,
       "version_minor": 0
      },
      "text/plain": [
       "  0%|          | 0/529 [00:00<?, ?it/s]"
      ]
     },
     "metadata": {},
     "output_type": "display_data"
    },
    {
     "name": "stdout",
     "output_type": "stream",
     "text": [
      "Train Loss: 1.5177252914806372\n",
      "Train AUC: 0.5471027416888797\n",
      "Train Accuracy: 0.5990175801447777\n",
      "\n"
     ]
    },
    {
     "data": {
      "application/vnd.jupyter.widget-view+json": {
       "model_id": "750dd5f4eef94ff697d4d785aae2238a",
       "version_major": 2,
       "version_minor": 0
      },
      "text/plain": [
       "  0%|          | 0/38 [00:00<?, ?it/s]"
      ]
     },
     "metadata": {},
     "output_type": "display_data"
    },
    {
     "name": "stdout",
     "output_type": "stream",
     "text": [
      "Validation Loss: 1.541539282312716\n",
      "Validation AUC: 0.5460968702169737\n",
      "Validation Accuracy: 0.5913554973957659\n",
      "Best Val AUC: 0.5654654184182918 at epoch 25\n",
      "Best Val Loss: 1.5087538878509157 at epoch 21\n",
      "Epoch Time: 4.321606874465942\n",
      "\n",
      "---------\n",
      "Epoch 31 of 50\n"
     ]
    },
    {
     "data": {
      "application/vnd.jupyter.widget-view+json": {
       "model_id": "936d8a16368543e9a8fbf824a6898f68",
       "version_major": 2,
       "version_minor": 0
      },
      "text/plain": [
       "  0%|          | 0/529 [00:00<?, ?it/s]"
      ]
     },
     "metadata": {},
     "output_type": "display_data"
    },
    {
     "name": "stdout",
     "output_type": "stream",
     "text": [
      "Train Loss: 1.5584316490618466\n",
      "Train AUC: 0.550844839088453\n",
      "Train Accuracy: 0.5886763185108583\n",
      "\n"
     ]
    },
    {
     "data": {
      "application/vnd.jupyter.widget-view+json": {
       "model_id": "a3a9f4a353b54e5a8f048c34df052fa5",
       "version_major": 2,
       "version_minor": 0
      },
      "text/plain": [
       "  0%|          | 0/38 [00:00<?, ?it/s]"
      ]
     },
     "metadata": {},
     "output_type": "display_data"
    },
    {
     "name": "stdout",
     "output_type": "stream",
     "text": [
      "Validation Loss: 1.5944207048614416\n",
      "Validation AUC: 0.5518418708913837\n",
      "Validation Accuracy: 0.5735793319685937\n",
      "Best Val AUC: 0.5654654184182918 at epoch 25\n",
      "Best Val Loss: 1.5087538878509157 at epoch 21\n",
      "Epoch Time: 4.308120250701904\n",
      "\n",
      "---------\n",
      "Epoch 32 of 50\n"
     ]
    },
    {
     "data": {
      "application/vnd.jupyter.widget-view+json": {
       "model_id": "8b52b3d6544249eb89ff21690d63c1ce",
       "version_major": 2,
       "version_minor": 0
      },
      "text/plain": [
       "  0%|          | 0/529 [00:00<?, ?it/s]"
      ]
     },
     "metadata": {},
     "output_type": "display_data"
    },
    {
     "name": "stdout",
     "output_type": "stream",
     "text": [
      "Train Loss: 1.555820614113022\n",
      "Train AUC: 0.5472579274703675\n",
      "Train Accuracy: 0.5901462549859654\n",
      "\n"
     ]
    },
    {
     "data": {
      "application/vnd.jupyter.widget-view+json": {
       "model_id": "b9ff4bcc50b8429c890a1ddbaa1446f6",
       "version_major": 2,
       "version_minor": 0
      },
      "text/plain": [
       "  0%|          | 0/38 [00:00<?, ?it/s]"
      ]
     },
     "metadata": {},
     "output_type": "display_data"
    },
    {
     "name": "stdout",
     "output_type": "stream",
     "text": [
      "Validation Loss: 1.5218095740399615\n",
      "Validation AUC: 0.5565450895039282\n",
      "Validation Accuracy: 0.5843849602238864\n",
      "If converges, will stop in 9 iterations\n",
      "Best Val AUC: 0.5654654184182918 at epoch 25\n",
      "Best Val Loss: 1.5087538878509157 at epoch 21\n",
      "Epoch Time: 4.361779451370239\n",
      "\n",
      "---------\n",
      "Epoch 33 of 50\n"
     ]
    },
    {
     "data": {
      "application/vnd.jupyter.widget-view+json": {
       "model_id": "a55ca774310d4c4cb8c2616c56ae9123",
       "version_major": 2,
       "version_minor": 0
      },
      "text/plain": [
       "  0%|          | 0/529 [00:00<?, ?it/s]"
      ]
     },
     "metadata": {},
     "output_type": "display_data"
    },
    {
     "name": "stdout",
     "output_type": "stream",
     "text": [
      "Train Loss: 1.5435221867889164\n",
      "Train AUC: 0.5483419437090593\n",
      "Train Accuracy: 0.6004949032353376\n",
      "\n"
     ]
    },
    {
     "data": {
      "application/vnd.jupyter.widget-view+json": {
       "model_id": "b8d27ef266694a889ff8730336a11062",
       "version_major": 2,
       "version_minor": 0
      },
      "text/plain": [
       "  0%|          | 0/38 [00:00<?, ?it/s]"
      ]
     },
     "metadata": {},
     "output_type": "display_data"
    },
    {
     "name": "stdout",
     "output_type": "stream",
     "text": [
      "Validation Loss: 1.514852005251012\n",
      "Validation AUC: 0.5530902892207327\n",
      "Validation Accuracy: 0.5853437329947397\n",
      "If converges, will stop in 9 iterations\n",
      "If performance continues to decrease, will stop in 3 iterations\n",
      "Best Val AUC: 0.5654654184182918 at epoch 25\n",
      "Best Val Loss: 1.5087538878509157 at epoch 21\n",
      "Epoch Time: 4.3915019035339355\n",
      "\n",
      "---------\n",
      "Epoch 34 of 50\n"
     ]
    },
    {
     "data": {
      "application/vnd.jupyter.widget-view+json": {
       "model_id": "4f80637aa1ba46bba5d0711ee4bfe856",
       "version_major": 2,
       "version_minor": 0
      },
      "text/plain": [
       "  0%|          | 0/529 [00:00<?, ?it/s]"
      ]
     },
     "metadata": {},
     "output_type": "display_data"
    },
    {
     "name": "stdout",
     "output_type": "stream",
     "text": [
      "Train Loss: 1.528371035905554\n",
      "Train AUC: 0.5544092596477703\n",
      "Train Accuracy: 0.6069951248338011\n",
      "\n"
     ]
    },
    {
     "data": {
      "application/vnd.jupyter.widget-view+json": {
       "model_id": "2d27826df19444998faf48ebee628e0a",
       "version_major": 2,
       "version_minor": 0
      },
      "text/plain": [
       "  0%|          | 0/38 [00:00<?, ?it/s]"
      ]
     },
     "metadata": {},
     "output_type": "display_data"
    },
    {
     "name": "stdout",
     "output_type": "stream",
     "text": [
      "Validation Loss: 1.587691678887449\n",
      "Validation AUC: 0.5582735003594022\n",
      "Validation Accuracy: 0.5737088958565468\n",
      "Best Val AUC: 0.5654654184182918 at epoch 25\n",
      "Best Val Loss: 1.5087538878509157 at epoch 21\n",
      "Epoch Time: 4.319112777709961\n",
      "\n",
      "---------\n",
      "Epoch 35 of 50\n"
     ]
    },
    {
     "data": {
      "application/vnd.jupyter.widget-view+json": {
       "model_id": "5d7469938318415798a7e10e0daa2c47",
       "version_major": 2,
       "version_minor": 0
      },
      "text/plain": [
       "  0%|          | 0/529 [00:00<?, ?it/s]"
      ]
     },
     "metadata": {},
     "output_type": "display_data"
    },
    {
     "name": "stdout",
     "output_type": "stream",
     "text": [
      "Train Loss: 1.5882117854385995\n",
      "Train AUC: 0.5506317240546443\n",
      "Train Accuracy: 0.5766287487073423\n",
      "\n"
     ]
    },
    {
     "data": {
      "application/vnd.jupyter.widget-view+json": {
       "model_id": "4ff8da4964fe4a51b12cd0cad5030c52",
       "version_major": 2,
       "version_minor": 0
      },
      "text/plain": [
       "  0%|          | 0/38 [00:00<?, ?it/s]"
      ]
     },
     "metadata": {},
     "output_type": "display_data"
    },
    {
     "name": "stdout",
     "output_type": "stream",
     "text": [
      "Validation Loss: 1.5943322541799159\n",
      "Validation AUC: 0.5473879702851665\n",
      "Validation Accuracy: 0.5550776087688839\n",
      "If performance continues to decrease, will stop in 3 iterations\n",
      "Best Val AUC: 0.5654654184182918 at epoch 25\n",
      "Best Val Loss: 1.5087538878509157 at epoch 21\n",
      "Epoch Time: 4.349460601806641\n",
      "\n",
      "---------\n",
      "Epoch 36 of 50\n"
     ]
    },
    {
     "data": {
      "application/vnd.jupyter.widget-view+json": {
       "model_id": "aa086bdea8e34f1dbb85c9eb85187a25",
       "version_major": 2,
       "version_minor": 0
      },
      "text/plain": [
       "  0%|          | 0/529 [00:00<?, ?it/s]"
      ]
     },
     "metadata": {},
     "output_type": "display_data"
    },
    {
     "name": "stdout",
     "output_type": "stream",
     "text": [
      "Train Loss: 1.5809369000311382\n",
      "Train AUC: 0.5470364274551899\n",
      "Train Accuracy: 0.5762077116265327\n",
      "\n"
     ]
    },
    {
     "data": {
      "application/vnd.jupyter.widget-view+json": {
       "model_id": "ecda547cd9e6495f8eacc07f6a0be20a",
       "version_major": 2,
       "version_minor": 0
      },
      "text/plain": [
       "  0%|          | 0/38 [00:00<?, ?it/s]"
      ]
     },
     "metadata": {},
     "output_type": "display_data"
    },
    {
     "name": "stdout",
     "output_type": "stream",
     "text": [
      "Validation Loss: 1.5633090244403889\n",
      "Validation AUC: 0.5577058654211169\n",
      "Validation Accuracy: 0.5730351636391905\n",
      "If converges, will stop in 9 iterations\n",
      "Best Val AUC: 0.5654654184182918 at epoch 25\n",
      "Best Val Loss: 1.5087538878509157 at epoch 21\n",
      "Epoch Time: 4.29359769821167\n",
      "\n",
      "---------\n",
      "Epoch 37 of 50\n"
     ]
    },
    {
     "data": {
      "application/vnd.jupyter.widget-view+json": {
       "model_id": "f35547ef078a4e6ba86ebdd05dc3dc4f",
       "version_major": 2,
       "version_minor": 0
      },
      "text/plain": [
       "  0%|          | 0/529 [00:00<?, ?it/s]"
      ]
     },
     "metadata": {},
     "output_type": "display_data"
    },
    {
     "name": "stdout",
     "output_type": "stream",
     "text": [
      "Train Loss: 1.5189469626466638\n",
      "Train AUC: 0.544397677078523\n",
      "Train Accuracy: 0.596277145811789\n",
      "\n"
     ]
    },
    {
     "data": {
      "application/vnd.jupyter.widget-view+json": {
       "model_id": "4124a8e3ab8d470ea34d399c3379a444",
       "version_major": 2,
       "version_minor": 0
      },
      "text/plain": [
       "  0%|          | 0/38 [00:00<?, ?it/s]"
      ]
     },
     "metadata": {},
     "output_type": "display_data"
    },
    {
     "name": "stdout",
     "output_type": "stream",
     "text": [
      "Validation Loss: 1.497238468634131\n",
      "Validation AUC: 0.5474434114819877\n",
      "Validation Accuracy: 0.579927962478298\n",
      "If converges, will stop in 9 iterations\n",
      "If performance continues to decrease, will stop in 3 iterations\n",
      "Best Val AUC: 0.5654654184182918 at epoch 25\n",
      "Best Val Loss: 1.497238468634131 at epoch 37\n",
      "Epoch Time: 4.351647615432739\n",
      "\n",
      "---------\n",
      "Epoch 38 of 50\n"
     ]
    },
    {
     "data": {
      "application/vnd.jupyter.widget-view+json": {
       "model_id": "93dc3a213f7645a18f4ad4a7ee0c95ea",
       "version_major": 2,
       "version_minor": 0
      },
      "text/plain": [
       "  0%|          | 0/529 [00:00<?, ?it/s]"
      ]
     },
     "metadata": {},
     "output_type": "display_data"
    },
    {
     "name": "stdout",
     "output_type": "stream",
     "text": [
      "Train Loss: 1.5066823138860819\n",
      "Train AUC: 0.5510173091003185\n",
      "Train Accuracy: 0.5867410252622248\n",
      "\n"
     ]
    },
    {
     "data": {
      "application/vnd.jupyter.widget-view+json": {
       "model_id": "9714407db38f4b47b010e48600bf72f9",
       "version_major": 2,
       "version_minor": 0
      },
      "text/plain": [
       "  0%|          | 0/38 [00:00<?, ?it/s]"
      ]
     },
     "metadata": {},
     "output_type": "display_data"
    },
    {
     "name": "stdout",
     "output_type": "stream",
     "text": [
      "Validation Loss: 1.493444918821187\n",
      "Validation AUC: 0.560354708296645\n",
      "Validation Accuracy: 0.5833225363426706\n",
      "If converges, will stop in 8 iterations\n",
      "Best Val AUC: 0.5654654184182918 at epoch 25\n",
      "Best Val Loss: 1.493444918821187 at epoch 38\n",
      "Epoch Time: 4.308106422424316\n",
      "\n",
      "---------\n",
      "Epoch 39 of 50\n"
     ]
    },
    {
     "data": {
      "application/vnd.jupyter.widget-view+json": {
       "model_id": "456772346fe5475aac2b2a6fd443a297",
       "version_major": 2,
       "version_minor": 0
      },
      "text/plain": [
       "  0%|          | 0/529 [00:00<?, ?it/s]"
      ]
     },
     "metadata": {},
     "output_type": "display_data"
    },
    {
     "name": "stdout",
     "output_type": "stream",
     "text": [
      "Train Loss: 1.5115778642154138\n",
      "Train AUC: 0.5516700409354517\n",
      "Train Accuracy: 0.5764810163982863\n",
      "\n"
     ]
    },
    {
     "data": {
      "application/vnd.jupyter.widget-view+json": {
       "model_id": "7bb9ba4c0466492d83f7e5a0b3c36f90",
       "version_major": 2,
       "version_minor": 0
      },
      "text/plain": [
       "  0%|          | 0/38 [00:00<?, ?it/s]"
      ]
     },
     "metadata": {},
     "output_type": "display_data"
    },
    {
     "name": "stdout",
     "output_type": "stream",
     "text": [
      "Validation Loss: 1.5208500578880622\n",
      "Validation AUC: 0.5526918233221674\n",
      "Validation Accuracy: 0.5631364825995698\n",
      "If performance continues to decrease, will stop in 3 iterations\n",
      "Best Val AUC: 0.5654654184182918 at epoch 25\n",
      "Best Val Loss: 1.493444918821187 at epoch 38\n",
      "Epoch Time: 4.282878160476685\n",
      "\n",
      "---------\n",
      "Epoch 40 of 50\n"
     ]
    },
    {
     "data": {
      "application/vnd.jupyter.widget-view+json": {
       "model_id": "9aedffa91e26446a92bc71743e5a4a3c",
       "version_major": 2,
       "version_minor": 0
      },
      "text/plain": [
       "  0%|          | 0/529 [00:00<?, ?it/s]"
      ]
     },
     "metadata": {},
     "output_type": "display_data"
    },
    {
     "name": "stdout",
     "output_type": "stream",
     "text": [
      "Train Loss: 1.5207831336777782\n",
      "Train AUC: 0.5516005474971113\n",
      "Train Accuracy: 0.5765770423991727\n",
      "\n"
     ]
    },
    {
     "data": {
      "application/vnd.jupyter.widget-view+json": {
       "model_id": "48984c6e99924d4498ac7d0a2e3bbad6",
       "version_major": 2,
       "version_minor": 0
      },
      "text/plain": [
       "  0%|          | 0/38 [00:00<?, ?it/s]"
      ]
     },
     "metadata": {},
     "output_type": "display_data"
    },
    {
     "name": "stdout",
     "output_type": "stream",
     "text": [
      "Validation Loss: 1.5525040296810617\n",
      "Validation AUC: 0.5603614935987177\n",
      "Validation Accuracy: 0.5498432276955767\n",
      "Best Val AUC: 0.5654654184182918 at epoch 25\n",
      "Best Val Loss: 1.493444918821187 at epoch 38\n",
      "Epoch Time: 4.26182222366333\n",
      "\n",
      "---------\n",
      "Epoch 41 of 50\n"
     ]
    },
    {
     "data": {
      "application/vnd.jupyter.widget-view+json": {
       "model_id": "014a58f6d7a0434f8cf668036669e5c6",
       "version_major": 2,
       "version_minor": 0
      },
      "text/plain": [
       "  0%|          | 0/529 [00:00<?, ?it/s]"
      ]
     },
     "metadata": {},
     "output_type": "display_data"
    },
    {
     "name": "stdout",
     "output_type": "stream",
     "text": [
      "Train Loss: 1.5477391198243815\n",
      "Train AUC: 0.5475334224326733\n",
      "Train Accuracy: 0.565659624759935\n",
      "\n"
     ]
    },
    {
     "data": {
      "application/vnd.jupyter.widget-view+json": {
       "model_id": "532b7d3b82a047f0a5f387085906a5ce",
       "version_major": 2,
       "version_minor": 0
      },
      "text/plain": [
       "  0%|          | 0/38 [00:00<?, ?it/s]"
      ]
     },
     "metadata": {},
     "output_type": "display_data"
    },
    {
     "name": "stdout",
     "output_type": "stream",
     "text": [
      "Validation Loss: 1.5293593257979095\n",
      "Validation AUC: 0.5639059963478337\n",
      "Validation Accuracy: 0.5556476898758778\n",
      "If converges, will stop in 9 iterations\n",
      "Best Val AUC: 0.5654654184182918 at epoch 25\n",
      "Best Val Loss: 1.493444918821187 at epoch 38\n",
      "Epoch Time: 4.263362646102905\n",
      "\n",
      "---------\n",
      "Epoch 42 of 50\n"
     ]
    },
    {
     "data": {
      "application/vnd.jupyter.widget-view+json": {
       "model_id": "c1f0eaba647a456a9db859a83314808f",
       "version_major": 2,
       "version_minor": 0
      },
      "text/plain": [
       "  0%|          | 0/529 [00:00<?, ?it/s]"
      ]
     },
     "metadata": {},
     "output_type": "display_data"
    },
    {
     "name": "stdout",
     "output_type": "stream",
     "text": [
      "Train Loss: 1.5438276114149194\n",
      "Train AUC: 0.550861589069422\n",
      "Train Accuracy: 0.5597724922440538\n",
      "\n"
     ]
    },
    {
     "data": {
      "application/vnd.jupyter.widget-view+json": {
       "model_id": "1f3be2902e6d40df8d9049c47512f78b",
       "version_major": 2,
       "version_minor": 0
      },
      "text/plain": [
       "  0%|          | 0/38 [00:00<?, ?it/s]"
      ]
     },
     "metadata": {},
     "output_type": "display_data"
    },
    {
     "name": "stdout",
     "output_type": "stream",
     "text": [
      "Validation Loss: 1.5725537847720255\n",
      "Validation AUC: 0.5525630570868193\n",
      "Validation Accuracy: 0.5268845067502785\n",
      "If performance continues to decrease, will stop in 3 iterations\n",
      "Best Val AUC: 0.5654654184182918 at epoch 25\n",
      "Best Val Loss: 1.493444918821187 at epoch 38\n",
      "Epoch Time: 4.330443859100342\n",
      "\n",
      "---------\n",
      "Epoch 43 of 50\n"
     ]
    },
    {
     "data": {
      "application/vnd.jupyter.widget-view+json": {
       "model_id": "4fc1e6521d8f4a5ba35904a543c7993d",
       "version_major": 2,
       "version_minor": 0
      },
      "text/plain": [
       "  0%|          | 0/529 [00:00<?, ?it/s]"
      ]
     },
     "metadata": {},
     "output_type": "display_data"
    },
    {
     "name": "stdout",
     "output_type": "stream",
     "text": [
      "Train Loss: 1.5593558969278585\n",
      "Train AUC: 0.5470150027918949\n",
      "Train Accuracy: 0.5633550007386615\n",
      "\n"
     ]
    },
    {
     "data": {
      "application/vnd.jupyter.widget-view+json": {
       "model_id": "e85edb6a39e3454c8f912f339186afc0",
       "version_major": 2,
       "version_minor": 0
      },
      "text/plain": [
       "  0%|          | 0/38 [00:00<?, ?it/s]"
      ]
     },
     "metadata": {},
     "output_type": "display_data"
    },
    {
     "name": "stdout",
     "output_type": "stream",
     "text": [
      "Validation Loss: 1.5636877699405052\n",
      "Validation AUC: 0.5426494217506347\n",
      "Validation Accuracy: 0.566764271462258\n",
      "If converges, will stop in 9 iterations\n",
      "If performance continues to decrease, will stop in 2 iterations\n",
      "Best Val AUC: 0.5654654184182918 at epoch 25\n",
      "Best Val Loss: 1.493444918821187 at epoch 38\n",
      "Epoch Time: 4.296144962310791\n",
      "\n",
      "---------\n",
      "Epoch 44 of 50\n"
     ]
    },
    {
     "data": {
      "application/vnd.jupyter.widget-view+json": {
       "model_id": "845274a1405b4075bf57614b2689b64f",
       "version_major": 2,
       "version_minor": 0
      },
      "text/plain": [
       "  0%|          | 0/529 [00:00<?, ?it/s]"
      ]
     },
     "metadata": {},
     "output_type": "display_data"
    },
    {
     "name": "stdout",
     "output_type": "stream",
     "text": [
      "Train Loss: 1.5357335323825805\n",
      "Train AUC: 0.5512308490096413\n",
      "Train Accuracy: 0.5589821243906042\n",
      "\n"
     ]
    },
    {
     "data": {
      "application/vnd.jupyter.widget-view+json": {
       "model_id": "80ee70535b00482d8a80853cf6c3e64d",
       "version_major": 2,
       "version_minor": 0
      },
      "text/plain": [
       "  0%|          | 0/38 [00:00<?, ?it/s]"
      ]
     },
     "metadata": {},
     "output_type": "display_data"
    },
    {
     "name": "stdout",
     "output_type": "stream",
     "text": [
      "Validation Loss: 1.5263261991802202\n",
      "Validation AUC: 0.5608314691134337\n",
      "Validation Accuracy: 0.5246300950998938\n",
      "If converges, will stop in 8 iterations\n",
      "Best Val AUC: 0.5654654184182918 at epoch 25\n",
      "Best Val Loss: 1.493444918821187 at epoch 38\n",
      "Epoch Time: 4.347324371337891\n",
      "\n",
      "---------\n",
      "Epoch 45 of 50\n"
     ]
    },
    {
     "data": {
      "application/vnd.jupyter.widget-view+json": {
       "model_id": "ed26ee51c67340dd9679f837f0d941be",
       "version_major": 2,
       "version_minor": 0
      },
      "text/plain": [
       "  0%|          | 0/529 [00:00<?, ?it/s]"
      ]
     },
     "metadata": {},
     "output_type": "display_data"
    },
    {
     "name": "stdout",
     "output_type": "stream",
     "text": [
      "Train Loss: 1.5304420342554148\n",
      "Train AUC: 0.5505946179091978\n",
      "Train Accuracy: 0.5589747377751514\n",
      "\n"
     ]
    },
    {
     "data": {
      "application/vnd.jupyter.widget-view+json": {
       "model_id": "2cca2fd22f3c4198845633a2d2e7d8e5",
       "version_major": 2,
       "version_minor": 0
      },
      "text/plain": [
       "  0%|          | 0/38 [00:00<?, ?it/s]"
      ]
     },
     "metadata": {},
     "output_type": "display_data"
    },
    {
     "name": "stdout",
     "output_type": "stream",
     "text": [
      "Validation Loss: 1.5516092295538721\n",
      "Validation AUC: 0.5521685052903984\n",
      "Validation Accuracy: 0.5300458656163354\n",
      "If performance continues to decrease, will stop in 3 iterations\n",
      "Best Val AUC: 0.5654654184182918 at epoch 25\n",
      "Best Val Loss: 1.493444918821187 at epoch 38\n",
      "Epoch Time: 4.417179584503174\n",
      "\n",
      "---------\n",
      "Epoch 46 of 50\n"
     ]
    },
    {
     "data": {
      "application/vnd.jupyter.widget-view+json": {
       "model_id": "2ceb0bd7d8584909b4210778839f1088",
       "version_major": 2,
       "version_minor": 0
      },
      "text/plain": [
       "  0%|          | 0/529 [00:00<?, ?it/s]"
      ]
     },
     "metadata": {},
     "output_type": "display_data"
    },
    {
     "name": "stdout",
     "output_type": "stream",
     "text": [
      "Train Loss: 1.5175232005225543\n",
      "Train AUC: 0.5542582174542159\n",
      "Train Accuracy: 0.5608361648692569\n",
      "\n"
     ]
    },
    {
     "data": {
      "application/vnd.jupyter.widget-view+json": {
       "model_id": "d20629456d8a494faa8754ac15a262d1",
       "version_major": 2,
       "version_minor": 0
      },
      "text/plain": [
       "  0%|          | 0/38 [00:00<?, ?it/s]"
      ]
     },
     "metadata": {},
     "output_type": "display_data"
    },
    {
     "name": "stdout",
     "output_type": "stream",
     "text": [
      "Validation Loss: 1.4988195374382043\n",
      "Validation AUC: 0.5533994389134576\n",
      "Validation Accuracy: 0.5154569718328108\n",
      "If converges, will stop in 9 iterations\n",
      "Best Val AUC: 0.5654654184182918 at epoch 25\n",
      "Best Val Loss: 1.493444918821187 at epoch 38\n",
      "Epoch Time: 4.3350653648376465\n",
      "\n",
      "---------\n",
      "Epoch 47 of 50\n"
     ]
    },
    {
     "data": {
      "application/vnd.jupyter.widget-view+json": {
       "model_id": "4d61d462130e45558faec51becdad7c7",
       "version_major": 2,
       "version_minor": 0
      },
      "text/plain": [
       "  0%|          | 0/529 [00:00<?, ?it/s]"
      ]
     },
     "metadata": {},
     "output_type": "display_data"
    },
    {
     "name": "stdout",
     "output_type": "stream",
     "text": [
      "Train Loss: 1.5288305700709963\n",
      "Train AUC: 0.5524005302480068\n",
      "Train Accuracy: 0.5327374796868075\n",
      "\n"
     ]
    },
    {
     "data": {
      "application/vnd.jupyter.widget-view+json": {
       "model_id": "5bad0a2240b04cd9967060337e47d0bb",
       "version_major": 2,
       "version_minor": 0
      },
      "text/plain": [
       "  0%|          | 0/38 [00:00<?, ?it/s]"
      ]
     },
     "metadata": {},
     "output_type": "display_data"
    },
    {
     "name": "stdout",
     "output_type": "stream",
     "text": [
      "Validation Loss: 1.5207578868373322\n",
      "Validation AUC: 0.5520101386575835\n",
      "Validation Accuracy: 0.5370423155658055\n",
      "If performance continues to decrease, will stop in 3 iterations\n",
      "Best Val AUC: 0.5654654184182918 at epoch 25\n",
      "Best Val Loss: 1.493444918821187 at epoch 38\n",
      "Epoch Time: 4.339818716049194\n",
      "\n",
      "---------\n",
      "Epoch 48 of 50\n"
     ]
    },
    {
     "data": {
      "application/vnd.jupyter.widget-view+json": {
       "model_id": "11ade51ef2484ae5a443deb2c84abe94",
       "version_major": 2,
       "version_minor": 0
      },
      "text/plain": [
       "  0%|          | 0/529 [00:00<?, ?it/s]"
      ]
     },
     "metadata": {},
     "output_type": "display_data"
    },
    {
     "name": "stdout",
     "output_type": "stream",
     "text": [
      "Train Loss: 1.5212958403389953\n",
      "Train AUC: 0.5478012149487796\n",
      "Train Accuracy: 0.5425173585463141\n",
      "\n"
     ]
    },
    {
     "data": {
      "application/vnd.jupyter.widget-view+json": {
       "model_id": "29c9a5d3e5964816bd3750a183c3a3d1",
       "version_major": 2,
       "version_minor": 0
      },
      "text/plain": [
       "  0%|          | 0/38 [00:00<?, ?it/s]"
      ]
     },
     "metadata": {},
     "output_type": "display_data"
    },
    {
     "name": "stdout",
     "output_type": "stream",
     "text": [
      "Validation Loss: 1.5234212565028147\n",
      "Validation AUC: 0.5541751006555142\n",
      "Validation Accuracy: 0.5080718302194812\n",
      "Best Val AUC: 0.5654654184182918 at epoch 25\n",
      "Best Val Loss: 1.493444918821187 at epoch 38\n",
      "Epoch Time: 4.285730600357056\n",
      "\n",
      "---------\n",
      "Epoch 49 of 50\n"
     ]
    },
    {
     "data": {
      "application/vnd.jupyter.widget-view+json": {
       "model_id": "4a3374028b16428a91a0f4805d7605f4",
       "version_major": 2,
       "version_minor": 0
      },
      "text/plain": [
       "  0%|          | 0/529 [00:00<?, ?it/s]"
      ]
     },
     "metadata": {},
     "output_type": "display_data"
    },
    {
     "name": "stdout",
     "output_type": "stream",
     "text": [
      "Train Loss: 1.566566915279018\n",
      "Train AUC: 0.5554888262619577\n",
      "Train Accuracy: 0.51886541586645\n",
      "\n"
     ]
    },
    {
     "data": {
      "application/vnd.jupyter.widget-view+json": {
       "model_id": "d81a5ee085884cc6969780b47bb19bf0",
       "version_major": 2,
       "version_minor": 0
      },
      "text/plain": [
       "  0%|          | 0/38 [00:00<?, ?it/s]"
      ]
     },
     "metadata": {},
     "output_type": "display_data"
    },
    {
     "name": "stdout",
     "output_type": "stream",
     "text": [
      "Validation Loss: 1.5703491207352405\n",
      "Validation AUC: 0.5492535420950613\n",
      "Validation Accuracy: 0.5079163535539375\n",
      "If performance continues to decrease, will stop in 3 iterations\n",
      "Best Val AUC: 0.5654654184182918 at epoch 25\n",
      "Best Val Loss: 1.493444918821187 at epoch 38\n",
      "Epoch Time: 4.390154838562012\n",
      "\n",
      "---------\n",
      "Epoch 50 of 50\n"
     ]
    },
    {
     "data": {
      "application/vnd.jupyter.widget-view+json": {
       "model_id": "6e671accce254bbe91fac9ebfd246b55",
       "version_major": 2,
       "version_minor": 0
      },
      "text/plain": [
       "  0%|          | 0/529 [00:00<?, ?it/s]"
      ]
     },
     "metadata": {},
     "output_type": "display_data"
    },
    {
     "name": "stdout",
     "output_type": "stream",
     "text": [
      "Train Loss: 1.535400139235432\n",
      "Train AUC: 0.551216087740546\n",
      "Train Accuracy: 0.5119663170335352\n",
      "\n"
     ]
    },
    {
     "data": {
      "application/vnd.jupyter.widget-view+json": {
       "model_id": "660addb6b24f4119b148ffabb8cacdd1",
       "version_major": 2,
       "version_minor": 0
      },
      "text/plain": [
       "  0%|          | 0/38 [00:00<?, ?it/s]"
      ]
     },
     "metadata": {},
     "output_type": "display_data"
    },
    {
     "name": "stdout",
     "output_type": "stream",
     "text": [
      "Validation Loss: 1.5373959405128068\n",
      "Validation AUC: 0.551204773515372\n",
      "Validation Accuracy: 0.47459252157238735\n",
      "If converges, will stop in 9 iterations\n",
      "Best Val AUC: 0.5654654184182918 at epoch 25\n",
      "Best Val Loss: 1.493444918821187 at epoch 38\n",
      "Epoch Time: 4.36240553855896\n"
     ]
    },
    {
     "data": {
      "application/javascript": [
       "/* Put everything inside the global mpl namespace */\n",
       "/* global mpl */\n",
       "window.mpl = {};\n",
       "\n",
       "mpl.get_websocket_type = function () {\n",
       "    if (typeof WebSocket !== 'undefined') {\n",
       "        return WebSocket;\n",
       "    } else if (typeof MozWebSocket !== 'undefined') {\n",
       "        return MozWebSocket;\n",
       "    } else {\n",
       "        alert(\n",
       "            'Your browser does not have WebSocket support. ' +\n",
       "                'Please try Chrome, Safari or Firefox ≥ 6. ' +\n",
       "                'Firefox 4 and 5 are also supported but you ' +\n",
       "                'have to enable WebSockets in about:config.'\n",
       "        );\n",
       "    }\n",
       "};\n",
       "\n",
       "mpl.figure = function (figure_id, websocket, ondownload, parent_element) {\n",
       "    this.id = figure_id;\n",
       "\n",
       "    this.ws = websocket;\n",
       "\n",
       "    this.supports_binary = this.ws.binaryType !== undefined;\n",
       "\n",
       "    if (!this.supports_binary) {\n",
       "        var warnings = document.getElementById('mpl-warnings');\n",
       "        if (warnings) {\n",
       "            warnings.style.display = 'block';\n",
       "            warnings.textContent =\n",
       "                'This browser does not support binary websocket messages. ' +\n",
       "                'Performance may be slow.';\n",
       "        }\n",
       "    }\n",
       "\n",
       "    this.imageObj = new Image();\n",
       "\n",
       "    this.context = undefined;\n",
       "    this.message = undefined;\n",
       "    this.canvas = undefined;\n",
       "    this.rubberband_canvas = undefined;\n",
       "    this.rubberband_context = undefined;\n",
       "    this.format_dropdown = undefined;\n",
       "\n",
       "    this.image_mode = 'full';\n",
       "\n",
       "    this.root = document.createElement('div');\n",
       "    this.root.setAttribute('style', 'display: inline-block');\n",
       "    this._root_extra_style(this.root);\n",
       "\n",
       "    parent_element.appendChild(this.root);\n",
       "\n",
       "    this._init_header(this);\n",
       "    this._init_canvas(this);\n",
       "    this._init_toolbar(this);\n",
       "\n",
       "    var fig = this;\n",
       "\n",
       "    this.waiting = false;\n",
       "\n",
       "    this.ws.onopen = function () {\n",
       "        fig.send_message('supports_binary', { value: fig.supports_binary });\n",
       "        fig.send_message('send_image_mode', {});\n",
       "        if (fig.ratio !== 1) {\n",
       "            fig.send_message('set_dpi_ratio', { dpi_ratio: fig.ratio });\n",
       "        }\n",
       "        fig.send_message('refresh', {});\n",
       "    };\n",
       "\n",
       "    this.imageObj.onload = function () {\n",
       "        if (fig.image_mode === 'full') {\n",
       "            // Full images could contain transparency (where diff images\n",
       "            // almost always do), so we need to clear the canvas so that\n",
       "            // there is no ghosting.\n",
       "            fig.context.clearRect(0, 0, fig.canvas.width, fig.canvas.height);\n",
       "        }\n",
       "        fig.context.drawImage(fig.imageObj, 0, 0);\n",
       "    };\n",
       "\n",
       "    this.imageObj.onunload = function () {\n",
       "        fig.ws.close();\n",
       "    };\n",
       "\n",
       "    this.ws.onmessage = this._make_on_message_function(this);\n",
       "\n",
       "    this.ondownload = ondownload;\n",
       "};\n",
       "\n",
       "mpl.figure.prototype._init_header = function () {\n",
       "    var titlebar = document.createElement('div');\n",
       "    titlebar.classList =\n",
       "        'ui-dialog-titlebar ui-widget-header ui-corner-all ui-helper-clearfix';\n",
       "    var titletext = document.createElement('div');\n",
       "    titletext.classList = 'ui-dialog-title';\n",
       "    titletext.setAttribute(\n",
       "        'style',\n",
       "        'width: 100%; text-align: center; padding: 3px;'\n",
       "    );\n",
       "    titlebar.appendChild(titletext);\n",
       "    this.root.appendChild(titlebar);\n",
       "    this.header = titletext;\n",
       "};\n",
       "\n",
       "mpl.figure.prototype._canvas_extra_style = function (_canvas_div) {};\n",
       "\n",
       "mpl.figure.prototype._root_extra_style = function (_canvas_div) {};\n",
       "\n",
       "mpl.figure.prototype._init_canvas = function () {\n",
       "    var fig = this;\n",
       "\n",
       "    var canvas_div = (this.canvas_div = document.createElement('div'));\n",
       "    canvas_div.setAttribute(\n",
       "        'style',\n",
       "        'border: 1px solid #ddd;' +\n",
       "            'box-sizing: content-box;' +\n",
       "            'clear: both;' +\n",
       "            'min-height: 1px;' +\n",
       "            'min-width: 1px;' +\n",
       "            'outline: 0;' +\n",
       "            'overflow: hidden;' +\n",
       "            'position: relative;' +\n",
       "            'resize: both;'\n",
       "    );\n",
       "\n",
       "    function on_keyboard_event_closure(name) {\n",
       "        return function (event) {\n",
       "            return fig.key_event(event, name);\n",
       "        };\n",
       "    }\n",
       "\n",
       "    canvas_div.addEventListener(\n",
       "        'keydown',\n",
       "        on_keyboard_event_closure('key_press')\n",
       "    );\n",
       "    canvas_div.addEventListener(\n",
       "        'keyup',\n",
       "        on_keyboard_event_closure('key_release')\n",
       "    );\n",
       "\n",
       "    this._canvas_extra_style(canvas_div);\n",
       "    this.root.appendChild(canvas_div);\n",
       "\n",
       "    var canvas = (this.canvas = document.createElement('canvas'));\n",
       "    canvas.classList.add('mpl-canvas');\n",
       "    canvas.setAttribute('style', 'box-sizing: content-box;');\n",
       "\n",
       "    this.context = canvas.getContext('2d');\n",
       "\n",
       "    var backingStore =\n",
       "        this.context.backingStorePixelRatio ||\n",
       "        this.context.webkitBackingStorePixelRatio ||\n",
       "        this.context.mozBackingStorePixelRatio ||\n",
       "        this.context.msBackingStorePixelRatio ||\n",
       "        this.context.oBackingStorePixelRatio ||\n",
       "        this.context.backingStorePixelRatio ||\n",
       "        1;\n",
       "\n",
       "    this.ratio = (window.devicePixelRatio || 1) / backingStore;\n",
       "\n",
       "    var rubberband_canvas = (this.rubberband_canvas = document.createElement(\n",
       "        'canvas'\n",
       "    ));\n",
       "    rubberband_canvas.setAttribute(\n",
       "        'style',\n",
       "        'box-sizing: content-box; position: absolute; left: 0; top: 0; z-index: 1;'\n",
       "    );\n",
       "\n",
       "    // Apply a ponyfill if ResizeObserver is not implemented by browser.\n",
       "    if (this.ResizeObserver === undefined) {\n",
       "        if (window.ResizeObserver !== undefined) {\n",
       "            this.ResizeObserver = window.ResizeObserver;\n",
       "        } else {\n",
       "            var obs = _JSXTOOLS_RESIZE_OBSERVER({});\n",
       "            this.ResizeObserver = obs.ResizeObserver;\n",
       "        }\n",
       "    }\n",
       "\n",
       "    this.resizeObserverInstance = new this.ResizeObserver(function (entries) {\n",
       "        var nentries = entries.length;\n",
       "        for (var i = 0; i < nentries; i++) {\n",
       "            var entry = entries[i];\n",
       "            var width, height;\n",
       "            if (entry.contentBoxSize) {\n",
       "                if (entry.contentBoxSize instanceof Array) {\n",
       "                    // Chrome 84 implements new version of spec.\n",
       "                    width = entry.contentBoxSize[0].inlineSize;\n",
       "                    height = entry.contentBoxSize[0].blockSize;\n",
       "                } else {\n",
       "                    // Firefox implements old version of spec.\n",
       "                    width = entry.contentBoxSize.inlineSize;\n",
       "                    height = entry.contentBoxSize.blockSize;\n",
       "                }\n",
       "            } else {\n",
       "                // Chrome <84 implements even older version of spec.\n",
       "                width = entry.contentRect.width;\n",
       "                height = entry.contentRect.height;\n",
       "            }\n",
       "\n",
       "            // Keep the size of the canvas and rubber band canvas in sync with\n",
       "            // the canvas container.\n",
       "            if (entry.devicePixelContentBoxSize) {\n",
       "                // Chrome 84 implements new version of spec.\n",
       "                canvas.setAttribute(\n",
       "                    'width',\n",
       "                    entry.devicePixelContentBoxSize[0].inlineSize\n",
       "                );\n",
       "                canvas.setAttribute(\n",
       "                    'height',\n",
       "                    entry.devicePixelContentBoxSize[0].blockSize\n",
       "                );\n",
       "            } else {\n",
       "                canvas.setAttribute('width', width * fig.ratio);\n",
       "                canvas.setAttribute('height', height * fig.ratio);\n",
       "            }\n",
       "            canvas.setAttribute(\n",
       "                'style',\n",
       "                'width: ' + width + 'px; height: ' + height + 'px;'\n",
       "            );\n",
       "\n",
       "            rubberband_canvas.setAttribute('width', width);\n",
       "            rubberband_canvas.setAttribute('height', height);\n",
       "\n",
       "            // And update the size in Python. We ignore the initial 0/0 size\n",
       "            // that occurs as the element is placed into the DOM, which should\n",
       "            // otherwise not happen due to the minimum size styling.\n",
       "            if (fig.ws.readyState == 1 && width != 0 && height != 0) {\n",
       "                fig.request_resize(width, height);\n",
       "            }\n",
       "        }\n",
       "    });\n",
       "    this.resizeObserverInstance.observe(canvas_div);\n",
       "\n",
       "    function on_mouse_event_closure(name) {\n",
       "        return function (event) {\n",
       "            return fig.mouse_event(event, name);\n",
       "        };\n",
       "    }\n",
       "\n",
       "    rubberband_canvas.addEventListener(\n",
       "        'mousedown',\n",
       "        on_mouse_event_closure('button_press')\n",
       "    );\n",
       "    rubberband_canvas.addEventListener(\n",
       "        'mouseup',\n",
       "        on_mouse_event_closure('button_release')\n",
       "    );\n",
       "    // Throttle sequential mouse events to 1 every 20ms.\n",
       "    rubberband_canvas.addEventListener(\n",
       "        'mousemove',\n",
       "        on_mouse_event_closure('motion_notify')\n",
       "    );\n",
       "\n",
       "    rubberband_canvas.addEventListener(\n",
       "        'mouseenter',\n",
       "        on_mouse_event_closure('figure_enter')\n",
       "    );\n",
       "    rubberband_canvas.addEventListener(\n",
       "        'mouseleave',\n",
       "        on_mouse_event_closure('figure_leave')\n",
       "    );\n",
       "\n",
       "    canvas_div.addEventListener('wheel', function (event) {\n",
       "        if (event.deltaY < 0) {\n",
       "            event.step = 1;\n",
       "        } else {\n",
       "            event.step = -1;\n",
       "        }\n",
       "        on_mouse_event_closure('scroll')(event);\n",
       "    });\n",
       "\n",
       "    canvas_div.appendChild(canvas);\n",
       "    canvas_div.appendChild(rubberband_canvas);\n",
       "\n",
       "    this.rubberband_context = rubberband_canvas.getContext('2d');\n",
       "    this.rubberband_context.strokeStyle = '#000000';\n",
       "\n",
       "    this._resize_canvas = function (width, height, forward) {\n",
       "        if (forward) {\n",
       "            canvas_div.style.width = width + 'px';\n",
       "            canvas_div.style.height = height + 'px';\n",
       "        }\n",
       "    };\n",
       "\n",
       "    // Disable right mouse context menu.\n",
       "    this.rubberband_canvas.addEventListener('contextmenu', function (_e) {\n",
       "        event.preventDefault();\n",
       "        return false;\n",
       "    });\n",
       "\n",
       "    function set_focus() {\n",
       "        canvas.focus();\n",
       "        canvas_div.focus();\n",
       "    }\n",
       "\n",
       "    window.setTimeout(set_focus, 100);\n",
       "};\n",
       "\n",
       "mpl.figure.prototype._init_toolbar = function () {\n",
       "    var fig = this;\n",
       "\n",
       "    var toolbar = document.createElement('div');\n",
       "    toolbar.classList = 'mpl-toolbar';\n",
       "    this.root.appendChild(toolbar);\n",
       "\n",
       "    function on_click_closure(name) {\n",
       "        return function (_event) {\n",
       "            return fig.toolbar_button_onclick(name);\n",
       "        };\n",
       "    }\n",
       "\n",
       "    function on_mouseover_closure(tooltip) {\n",
       "        return function (event) {\n",
       "            if (!event.currentTarget.disabled) {\n",
       "                return fig.toolbar_button_onmouseover(tooltip);\n",
       "            }\n",
       "        };\n",
       "    }\n",
       "\n",
       "    fig.buttons = {};\n",
       "    var buttonGroup = document.createElement('div');\n",
       "    buttonGroup.classList = 'mpl-button-group';\n",
       "    for (var toolbar_ind in mpl.toolbar_items) {\n",
       "        var name = mpl.toolbar_items[toolbar_ind][0];\n",
       "        var tooltip = mpl.toolbar_items[toolbar_ind][1];\n",
       "        var image = mpl.toolbar_items[toolbar_ind][2];\n",
       "        var method_name = mpl.toolbar_items[toolbar_ind][3];\n",
       "\n",
       "        if (!name) {\n",
       "            /* Instead of a spacer, we start a new button group. */\n",
       "            if (buttonGroup.hasChildNodes()) {\n",
       "                toolbar.appendChild(buttonGroup);\n",
       "            }\n",
       "            buttonGroup = document.createElement('div');\n",
       "            buttonGroup.classList = 'mpl-button-group';\n",
       "            continue;\n",
       "        }\n",
       "\n",
       "        var button = (fig.buttons[name] = document.createElement('button'));\n",
       "        button.classList = 'mpl-widget';\n",
       "        button.setAttribute('role', 'button');\n",
       "        button.setAttribute('aria-disabled', 'false');\n",
       "        button.addEventListener('click', on_click_closure(method_name));\n",
       "        button.addEventListener('mouseover', on_mouseover_closure(tooltip));\n",
       "\n",
       "        var icon_img = document.createElement('img');\n",
       "        icon_img.src = '_images/' + image + '.png';\n",
       "        icon_img.srcset = '_images/' + image + '_large.png 2x';\n",
       "        icon_img.alt = tooltip;\n",
       "        button.appendChild(icon_img);\n",
       "\n",
       "        buttonGroup.appendChild(button);\n",
       "    }\n",
       "\n",
       "    if (buttonGroup.hasChildNodes()) {\n",
       "        toolbar.appendChild(buttonGroup);\n",
       "    }\n",
       "\n",
       "    var fmt_picker = document.createElement('select');\n",
       "    fmt_picker.classList = 'mpl-widget';\n",
       "    toolbar.appendChild(fmt_picker);\n",
       "    this.format_dropdown = fmt_picker;\n",
       "\n",
       "    for (var ind in mpl.extensions) {\n",
       "        var fmt = mpl.extensions[ind];\n",
       "        var option = document.createElement('option');\n",
       "        option.selected = fmt === mpl.default_extension;\n",
       "        option.innerHTML = fmt;\n",
       "        fmt_picker.appendChild(option);\n",
       "    }\n",
       "\n",
       "    var status_bar = document.createElement('span');\n",
       "    status_bar.classList = 'mpl-message';\n",
       "    toolbar.appendChild(status_bar);\n",
       "    this.message = status_bar;\n",
       "};\n",
       "\n",
       "mpl.figure.prototype.request_resize = function (x_pixels, y_pixels) {\n",
       "    // Request matplotlib to resize the figure. Matplotlib will then trigger a resize in the client,\n",
       "    // which will in turn request a refresh of the image.\n",
       "    this.send_message('resize', { width: x_pixels, height: y_pixels });\n",
       "};\n",
       "\n",
       "mpl.figure.prototype.send_message = function (type, properties) {\n",
       "    properties['type'] = type;\n",
       "    properties['figure_id'] = this.id;\n",
       "    this.ws.send(JSON.stringify(properties));\n",
       "};\n",
       "\n",
       "mpl.figure.prototype.send_draw_message = function () {\n",
       "    if (!this.waiting) {\n",
       "        this.waiting = true;\n",
       "        this.ws.send(JSON.stringify({ type: 'draw', figure_id: this.id }));\n",
       "    }\n",
       "};\n",
       "\n",
       "mpl.figure.prototype.handle_save = function (fig, _msg) {\n",
       "    var format_dropdown = fig.format_dropdown;\n",
       "    var format = format_dropdown.options[format_dropdown.selectedIndex].value;\n",
       "    fig.ondownload(fig, format);\n",
       "};\n",
       "\n",
       "mpl.figure.prototype.handle_resize = function (fig, msg) {\n",
       "    var size = msg['size'];\n",
       "    if (size[0] !== fig.canvas.width || size[1] !== fig.canvas.height) {\n",
       "        fig._resize_canvas(size[0], size[1], msg['forward']);\n",
       "        fig.send_message('refresh', {});\n",
       "    }\n",
       "};\n",
       "\n",
       "mpl.figure.prototype.handle_rubberband = function (fig, msg) {\n",
       "    var x0 = msg['x0'] / fig.ratio;\n",
       "    var y0 = (fig.canvas.height - msg['y0']) / fig.ratio;\n",
       "    var x1 = msg['x1'] / fig.ratio;\n",
       "    var y1 = (fig.canvas.height - msg['y1']) / fig.ratio;\n",
       "    x0 = Math.floor(x0) + 0.5;\n",
       "    y0 = Math.floor(y0) + 0.5;\n",
       "    x1 = Math.floor(x1) + 0.5;\n",
       "    y1 = Math.floor(y1) + 0.5;\n",
       "    var min_x = Math.min(x0, x1);\n",
       "    var min_y = Math.min(y0, y1);\n",
       "    var width = Math.abs(x1 - x0);\n",
       "    var height = Math.abs(y1 - y0);\n",
       "\n",
       "    fig.rubberband_context.clearRect(\n",
       "        0,\n",
       "        0,\n",
       "        fig.canvas.width / fig.ratio,\n",
       "        fig.canvas.height / fig.ratio\n",
       "    );\n",
       "\n",
       "    fig.rubberband_context.strokeRect(min_x, min_y, width, height);\n",
       "};\n",
       "\n",
       "mpl.figure.prototype.handle_figure_label = function (fig, msg) {\n",
       "    // Updates the figure title.\n",
       "    fig.header.textContent = msg['label'];\n",
       "};\n",
       "\n",
       "mpl.figure.prototype.handle_cursor = function (fig, msg) {\n",
       "    var cursor = msg['cursor'];\n",
       "    switch (cursor) {\n",
       "        case 0:\n",
       "            cursor = 'pointer';\n",
       "            break;\n",
       "        case 1:\n",
       "            cursor = 'default';\n",
       "            break;\n",
       "        case 2:\n",
       "            cursor = 'crosshair';\n",
       "            break;\n",
       "        case 3:\n",
       "            cursor = 'move';\n",
       "            break;\n",
       "    }\n",
       "    fig.rubberband_canvas.style.cursor = cursor;\n",
       "};\n",
       "\n",
       "mpl.figure.prototype.handle_message = function (fig, msg) {\n",
       "    fig.message.textContent = msg['message'];\n",
       "};\n",
       "\n",
       "mpl.figure.prototype.handle_draw = function (fig, _msg) {\n",
       "    // Request the server to send over a new figure.\n",
       "    fig.send_draw_message();\n",
       "};\n",
       "\n",
       "mpl.figure.prototype.handle_image_mode = function (fig, msg) {\n",
       "    fig.image_mode = msg['mode'];\n",
       "};\n",
       "\n",
       "mpl.figure.prototype.handle_history_buttons = function (fig, msg) {\n",
       "    for (var key in msg) {\n",
       "        if (!(key in fig.buttons)) {\n",
       "            continue;\n",
       "        }\n",
       "        fig.buttons[key].disabled = !msg[key];\n",
       "        fig.buttons[key].setAttribute('aria-disabled', !msg[key]);\n",
       "    }\n",
       "};\n",
       "\n",
       "mpl.figure.prototype.handle_navigate_mode = function (fig, msg) {\n",
       "    if (msg['mode'] === 'PAN') {\n",
       "        fig.buttons['Pan'].classList.add('active');\n",
       "        fig.buttons['Zoom'].classList.remove('active');\n",
       "    } else if (msg['mode'] === 'ZOOM') {\n",
       "        fig.buttons['Pan'].classList.remove('active');\n",
       "        fig.buttons['Zoom'].classList.add('active');\n",
       "    } else {\n",
       "        fig.buttons['Pan'].classList.remove('active');\n",
       "        fig.buttons['Zoom'].classList.remove('active');\n",
       "    }\n",
       "};\n",
       "\n",
       "mpl.figure.prototype.updated_canvas_event = function () {\n",
       "    // Called whenever the canvas gets updated.\n",
       "    this.send_message('ack', {});\n",
       "};\n",
       "\n",
       "// A function to construct a web socket function for onmessage handling.\n",
       "// Called in the figure constructor.\n",
       "mpl.figure.prototype._make_on_message_function = function (fig) {\n",
       "    return function socket_on_message(evt) {\n",
       "        if (evt.data instanceof Blob) {\n",
       "            /* FIXME: We get \"Resource interpreted as Image but\n",
       "             * transferred with MIME type text/plain:\" errors on\n",
       "             * Chrome.  But how to set the MIME type?  It doesn't seem\n",
       "             * to be part of the websocket stream */\n",
       "            evt.data.type = 'image/png';\n",
       "\n",
       "            /* Free the memory for the previous frames */\n",
       "            if (fig.imageObj.src) {\n",
       "                (window.URL || window.webkitURL).revokeObjectURL(\n",
       "                    fig.imageObj.src\n",
       "                );\n",
       "            }\n",
       "\n",
       "            fig.imageObj.src = (window.URL || window.webkitURL).createObjectURL(\n",
       "                evt.data\n",
       "            );\n",
       "            fig.updated_canvas_event();\n",
       "            fig.waiting = false;\n",
       "            return;\n",
       "        } else if (\n",
       "            typeof evt.data === 'string' &&\n",
       "            evt.data.slice(0, 21) === 'data:image/png;base64'\n",
       "        ) {\n",
       "            fig.imageObj.src = evt.data;\n",
       "            fig.updated_canvas_event();\n",
       "            fig.waiting = false;\n",
       "            return;\n",
       "        }\n",
       "\n",
       "        var msg = JSON.parse(evt.data);\n",
       "        var msg_type = msg['type'];\n",
       "\n",
       "        // Call the  \"handle_{type}\" callback, which takes\n",
       "        // the figure and JSON message as its only arguments.\n",
       "        try {\n",
       "            var callback = fig['handle_' + msg_type];\n",
       "        } catch (e) {\n",
       "            console.log(\n",
       "                \"No handler for the '\" + msg_type + \"' message type: \",\n",
       "                msg\n",
       "            );\n",
       "            return;\n",
       "        }\n",
       "\n",
       "        if (callback) {\n",
       "            try {\n",
       "                // console.log(\"Handling '\" + msg_type + \"' message: \", msg);\n",
       "                callback(fig, msg);\n",
       "            } catch (e) {\n",
       "                console.log(\n",
       "                    \"Exception inside the 'handler_\" + msg_type + \"' callback:\",\n",
       "                    e,\n",
       "                    e.stack,\n",
       "                    msg\n",
       "                );\n",
       "            }\n",
       "        }\n",
       "    };\n",
       "};\n",
       "\n",
       "// from http://stackoverflow.com/questions/1114465/getting-mouse-location-in-canvas\n",
       "mpl.findpos = function (e) {\n",
       "    //this section is from http://www.quirksmode.org/js/events_properties.html\n",
       "    var targ;\n",
       "    if (!e) {\n",
       "        e = window.event;\n",
       "    }\n",
       "    if (e.target) {\n",
       "        targ = e.target;\n",
       "    } else if (e.srcElement) {\n",
       "        targ = e.srcElement;\n",
       "    }\n",
       "    if (targ.nodeType === 3) {\n",
       "        // defeat Safari bug\n",
       "        targ = targ.parentNode;\n",
       "    }\n",
       "\n",
       "    // pageX,Y are the mouse positions relative to the document\n",
       "    var boundingRect = targ.getBoundingClientRect();\n",
       "    var x = e.pageX - (boundingRect.left + document.body.scrollLeft);\n",
       "    var y = e.pageY - (boundingRect.top + document.body.scrollTop);\n",
       "\n",
       "    return { x: x, y: y };\n",
       "};\n",
       "\n",
       "/*\n",
       " * return a copy of an object with only non-object keys\n",
       " * we need this to avoid circular references\n",
       " * http://stackoverflow.com/a/24161582/3208463\n",
       " */\n",
       "function simpleKeys(original) {\n",
       "    return Object.keys(original).reduce(function (obj, key) {\n",
       "        if (typeof original[key] !== 'object') {\n",
       "            obj[key] = original[key];\n",
       "        }\n",
       "        return obj;\n",
       "    }, {});\n",
       "}\n",
       "\n",
       "mpl.figure.prototype.mouse_event = function (event, name) {\n",
       "    var canvas_pos = mpl.findpos(event);\n",
       "\n",
       "    if (name === 'button_press') {\n",
       "        this.canvas.focus();\n",
       "        this.canvas_div.focus();\n",
       "    }\n",
       "\n",
       "    var x = canvas_pos.x * this.ratio;\n",
       "    var y = canvas_pos.y * this.ratio;\n",
       "\n",
       "    this.send_message(name, {\n",
       "        x: x,\n",
       "        y: y,\n",
       "        button: event.button,\n",
       "        step: event.step,\n",
       "        guiEvent: simpleKeys(event),\n",
       "    });\n",
       "\n",
       "    /* This prevents the web browser from automatically changing to\n",
       "     * the text insertion cursor when the button is pressed.  We want\n",
       "     * to control all of the cursor setting manually through the\n",
       "     * 'cursor' event from matplotlib */\n",
       "    event.preventDefault();\n",
       "    return false;\n",
       "};\n",
       "\n",
       "mpl.figure.prototype._key_event_extra = function (_event, _name) {\n",
       "    // Handle any extra behaviour associated with a key event\n",
       "};\n",
       "\n",
       "mpl.figure.prototype.key_event = function (event, name) {\n",
       "    // Prevent repeat events\n",
       "    if (name === 'key_press') {\n",
       "        if (event.which === this._key) {\n",
       "            return;\n",
       "        } else {\n",
       "            this._key = event.which;\n",
       "        }\n",
       "    }\n",
       "    if (name === 'key_release') {\n",
       "        this._key = null;\n",
       "    }\n",
       "\n",
       "    var value = '';\n",
       "    if (event.ctrlKey && event.which !== 17) {\n",
       "        value += 'ctrl+';\n",
       "    }\n",
       "    if (event.altKey && event.which !== 18) {\n",
       "        value += 'alt+';\n",
       "    }\n",
       "    if (event.shiftKey && event.which !== 16) {\n",
       "        value += 'shift+';\n",
       "    }\n",
       "\n",
       "    value += 'k';\n",
       "    value += event.which.toString();\n",
       "\n",
       "    this._key_event_extra(event, name);\n",
       "\n",
       "    this.send_message(name, { key: value, guiEvent: simpleKeys(event) });\n",
       "    return false;\n",
       "};\n",
       "\n",
       "mpl.figure.prototype.toolbar_button_onclick = function (name) {\n",
       "    if (name === 'download') {\n",
       "        this.handle_save(this, null);\n",
       "    } else {\n",
       "        this.send_message('toolbar_button', { name: name });\n",
       "    }\n",
       "};\n",
       "\n",
       "mpl.figure.prototype.toolbar_button_onmouseover = function (tooltip) {\n",
       "    this.message.textContent = tooltip;\n",
       "};\n",
       "\n",
       "///////////////// REMAINING CONTENT GENERATED BY embed_js.py /////////////////\n",
       "// prettier-ignore\n",
       "var _JSXTOOLS_RESIZE_OBSERVER=function(A){var t,i=new WeakMap,n=new WeakMap,a=new WeakMap,r=new WeakMap,o=new Set;function s(e){if(!(this instanceof s))throw new TypeError(\"Constructor requires 'new' operator\");i.set(this,e)}function h(){throw new TypeError(\"Function is not a constructor\")}function c(e,t,i,n){e=0 in arguments?Number(arguments[0]):0,t=1 in arguments?Number(arguments[1]):0,i=2 in arguments?Number(arguments[2]):0,n=3 in arguments?Number(arguments[3]):0,this.right=(this.x=this.left=e)+(this.width=i),this.bottom=(this.y=this.top=t)+(this.height=n),Object.freeze(this)}function d(){t=requestAnimationFrame(d);var s=new WeakMap,p=new Set;o.forEach((function(t){r.get(t).forEach((function(i){var r=t instanceof window.SVGElement,o=a.get(t),d=r?0:parseFloat(o.paddingTop),f=r?0:parseFloat(o.paddingRight),l=r?0:parseFloat(o.paddingBottom),u=r?0:parseFloat(o.paddingLeft),g=r?0:parseFloat(o.borderTopWidth),m=r?0:parseFloat(o.borderRightWidth),w=r?0:parseFloat(o.borderBottomWidth),b=u+f,F=d+l,v=(r?0:parseFloat(o.borderLeftWidth))+m,W=g+w,y=r?0:t.offsetHeight-W-t.clientHeight,E=r?0:t.offsetWidth-v-t.clientWidth,R=b+v,z=F+W,M=r?t.width:parseFloat(o.width)-R-E,O=r?t.height:parseFloat(o.height)-z-y;if(n.has(t)){var k=n.get(t);if(k[0]===M&&k[1]===O)return}n.set(t,[M,O]);var S=Object.create(h.prototype);S.target=t,S.contentRect=new c(u,d,M,O),s.has(i)||(s.set(i,[]),p.add(i)),s.get(i).push(S)}))})),p.forEach((function(e){i.get(e).call(e,s.get(e),e)}))}return s.prototype.observe=function(i){if(i instanceof window.Element){r.has(i)||(r.set(i,new Set),o.add(i),a.set(i,window.getComputedStyle(i)));var n=r.get(i);n.has(this)||n.add(this),cancelAnimationFrame(t),t=requestAnimationFrame(d)}},s.prototype.unobserve=function(i){if(i instanceof window.Element&&r.has(i)){var n=r.get(i);n.has(this)&&(n.delete(this),n.size||(r.delete(i),o.delete(i))),n.size||r.delete(i),o.size||cancelAnimationFrame(t)}},A.DOMRectReadOnly=c,A.ResizeObserver=s,A.ResizeObserverEntry=h,A}; // eslint-disable-line\n",
       "mpl.toolbar_items = [[\"Home\", \"Reset original view\", \"fa fa-home icon-home\", \"home\"], [\"Back\", \"Back to previous view\", \"fa fa-arrow-left icon-arrow-left\", \"back\"], [\"Forward\", \"Forward to next view\", \"fa fa-arrow-right icon-arrow-right\", \"forward\"], [\"\", \"\", \"\", \"\"], [\"Pan\", \"Left button pans, Right button zooms\\nx/y fixes axis, CTRL fixes aspect\", \"fa fa-arrows icon-move\", \"pan\"], [\"Zoom\", \"Zoom to rectangle\\nx/y fixes axis, CTRL fixes aspect\", \"fa fa-square-o icon-check-empty\", \"zoom\"], [\"\", \"\", \"\", \"\"], [\"Download\", \"Download plot\", \"fa fa-floppy-o icon-save\", \"download\"]];\n",
       "\n",
       "mpl.extensions = [\"eps\", \"jpeg\", \"pdf\", \"png\", \"ps\", \"raw\", \"svg\", \"tif\"];\n",
       "\n",
       "mpl.default_extension = \"png\";/* global mpl */\n",
       "\n",
       "var comm_websocket_adapter = function (comm) {\n",
       "    // Create a \"websocket\"-like object which calls the given IPython comm\n",
       "    // object with the appropriate methods. Currently this is a non binary\n",
       "    // socket, so there is still some room for performance tuning.\n",
       "    var ws = {};\n",
       "\n",
       "    ws.close = function () {\n",
       "        comm.close();\n",
       "    };\n",
       "    ws.send = function (m) {\n",
       "        //console.log('sending', m);\n",
       "        comm.send(m);\n",
       "    };\n",
       "    // Register the callback with on_msg.\n",
       "    comm.on_msg(function (msg) {\n",
       "        //console.log('receiving', msg['content']['data'], msg);\n",
       "        // Pass the mpl event to the overridden (by mpl) onmessage function.\n",
       "        ws.onmessage(msg['content']['data']);\n",
       "    });\n",
       "    return ws;\n",
       "};\n",
       "\n",
       "mpl.mpl_figure_comm = function (comm, msg) {\n",
       "    // This is the function which gets called when the mpl process\n",
       "    // starts-up an IPython Comm through the \"matplotlib\" channel.\n",
       "\n",
       "    var id = msg.content.data.id;\n",
       "    // Get hold of the div created by the display call when the Comm\n",
       "    // socket was opened in Python.\n",
       "    var element = document.getElementById(id);\n",
       "    var ws_proxy = comm_websocket_adapter(comm);\n",
       "\n",
       "    function ondownload(figure, _format) {\n",
       "        window.open(figure.canvas.toDataURL());\n",
       "    }\n",
       "\n",
       "    var fig = new mpl.figure(id, ws_proxy, ondownload, element);\n",
       "\n",
       "    // Call onopen now - mpl needs it, as it is assuming we've passed it a real\n",
       "    // web socket which is closed, not our websocket->open comm proxy.\n",
       "    ws_proxy.onopen();\n",
       "\n",
       "    fig.parent_element = element;\n",
       "    fig.cell_info = mpl.find_output_cell(\"<div id='\" + id + \"'></div>\");\n",
       "    if (!fig.cell_info) {\n",
       "        console.error('Failed to find cell for figure', id, fig);\n",
       "        return;\n",
       "    }\n",
       "    fig.cell_info[0].output_area.element.on(\n",
       "        'cleared',\n",
       "        { fig: fig },\n",
       "        fig._remove_fig_handler\n",
       "    );\n",
       "};\n",
       "\n",
       "mpl.figure.prototype.handle_close = function (fig, msg) {\n",
       "    var width = fig.canvas.width / fig.ratio;\n",
       "    fig.cell_info[0].output_area.element.off(\n",
       "        'cleared',\n",
       "        fig._remove_fig_handler\n",
       "    );\n",
       "    fig.resizeObserverInstance.unobserve(fig.canvas_div);\n",
       "\n",
       "    // Update the output cell to use the data from the current canvas.\n",
       "    fig.push_to_output();\n",
       "    var dataURL = fig.canvas.toDataURL();\n",
       "    // Re-enable the keyboard manager in IPython - without this line, in FF,\n",
       "    // the notebook keyboard shortcuts fail.\n",
       "    IPython.keyboard_manager.enable();\n",
       "    fig.parent_element.innerHTML =\n",
       "        '<img src=\"' + dataURL + '\" width=\"' + width + '\">';\n",
       "    fig.close_ws(fig, msg);\n",
       "};\n",
       "\n",
       "mpl.figure.prototype.close_ws = function (fig, msg) {\n",
       "    fig.send_message('closing', msg);\n",
       "    // fig.ws.close()\n",
       "};\n",
       "\n",
       "mpl.figure.prototype.push_to_output = function (_remove_interactive) {\n",
       "    // Turn the data on the canvas into data in the output cell.\n",
       "    var width = this.canvas.width / this.ratio;\n",
       "    var dataURL = this.canvas.toDataURL();\n",
       "    this.cell_info[1]['text/html'] =\n",
       "        '<img src=\"' + dataURL + '\" width=\"' + width + '\">';\n",
       "};\n",
       "\n",
       "mpl.figure.prototype.updated_canvas_event = function () {\n",
       "    // Tell IPython that the notebook contents must change.\n",
       "    IPython.notebook.set_dirty(true);\n",
       "    this.send_message('ack', {});\n",
       "    var fig = this;\n",
       "    // Wait a second, then push the new image to the DOM so\n",
       "    // that it is saved nicely (might be nice to debounce this).\n",
       "    setTimeout(function () {\n",
       "        fig.push_to_output();\n",
       "    }, 1000);\n",
       "};\n",
       "\n",
       "mpl.figure.prototype._init_toolbar = function () {\n",
       "    var fig = this;\n",
       "\n",
       "    var toolbar = document.createElement('div');\n",
       "    toolbar.classList = 'btn-toolbar';\n",
       "    this.root.appendChild(toolbar);\n",
       "\n",
       "    function on_click_closure(name) {\n",
       "        return function (_event) {\n",
       "            return fig.toolbar_button_onclick(name);\n",
       "        };\n",
       "    }\n",
       "\n",
       "    function on_mouseover_closure(tooltip) {\n",
       "        return function (event) {\n",
       "            if (!event.currentTarget.disabled) {\n",
       "                return fig.toolbar_button_onmouseover(tooltip);\n",
       "            }\n",
       "        };\n",
       "    }\n",
       "\n",
       "    fig.buttons = {};\n",
       "    var buttonGroup = document.createElement('div');\n",
       "    buttonGroup.classList = 'btn-group';\n",
       "    var button;\n",
       "    for (var toolbar_ind in mpl.toolbar_items) {\n",
       "        var name = mpl.toolbar_items[toolbar_ind][0];\n",
       "        var tooltip = mpl.toolbar_items[toolbar_ind][1];\n",
       "        var image = mpl.toolbar_items[toolbar_ind][2];\n",
       "        var method_name = mpl.toolbar_items[toolbar_ind][3];\n",
       "\n",
       "        if (!name) {\n",
       "            /* Instead of a spacer, we start a new button group. */\n",
       "            if (buttonGroup.hasChildNodes()) {\n",
       "                toolbar.appendChild(buttonGroup);\n",
       "            }\n",
       "            buttonGroup = document.createElement('div');\n",
       "            buttonGroup.classList = 'btn-group';\n",
       "            continue;\n",
       "        }\n",
       "\n",
       "        button = fig.buttons[name] = document.createElement('button');\n",
       "        button.classList = 'btn btn-default';\n",
       "        button.href = '#';\n",
       "        button.title = name;\n",
       "        button.innerHTML = '<i class=\"fa ' + image + ' fa-lg\"></i>';\n",
       "        button.addEventListener('click', on_click_closure(method_name));\n",
       "        button.addEventListener('mouseover', on_mouseover_closure(tooltip));\n",
       "        buttonGroup.appendChild(button);\n",
       "    }\n",
       "\n",
       "    if (buttonGroup.hasChildNodes()) {\n",
       "        toolbar.appendChild(buttonGroup);\n",
       "    }\n",
       "\n",
       "    // Add the status bar.\n",
       "    var status_bar = document.createElement('span');\n",
       "    status_bar.classList = 'mpl-message pull-right';\n",
       "    toolbar.appendChild(status_bar);\n",
       "    this.message = status_bar;\n",
       "\n",
       "    // Add the close button to the window.\n",
       "    var buttongrp = document.createElement('div');\n",
       "    buttongrp.classList = 'btn-group inline pull-right';\n",
       "    button = document.createElement('button');\n",
       "    button.classList = 'btn btn-mini btn-primary';\n",
       "    button.href = '#';\n",
       "    button.title = 'Stop Interaction';\n",
       "    button.innerHTML = '<i class=\"fa fa-power-off icon-remove icon-large\"></i>';\n",
       "    button.addEventListener('click', function (_evt) {\n",
       "        fig.handle_close(fig, {});\n",
       "    });\n",
       "    button.addEventListener(\n",
       "        'mouseover',\n",
       "        on_mouseover_closure('Stop Interaction')\n",
       "    );\n",
       "    buttongrp.appendChild(button);\n",
       "    var titlebar = this.root.querySelector('.ui-dialog-titlebar');\n",
       "    titlebar.insertBefore(buttongrp, titlebar.firstChild);\n",
       "};\n",
       "\n",
       "mpl.figure.prototype._remove_fig_handler = function (event) {\n",
       "    var fig = event.data.fig;\n",
       "    if (event.target !== this) {\n",
       "        // Ignore bubbled events from children.\n",
       "        return;\n",
       "    }\n",
       "    fig.close_ws(fig, {});\n",
       "};\n",
       "\n",
       "mpl.figure.prototype._root_extra_style = function (el) {\n",
       "    el.style.boxSizing = 'content-box'; // override notebook setting of border-box.\n",
       "};\n",
       "\n",
       "mpl.figure.prototype._canvas_extra_style = function (el) {\n",
       "    // this is important to make the div 'focusable\n",
       "    el.setAttribute('tabindex', 0);\n",
       "    // reach out to IPython and tell the keyboard manager to turn it's self\n",
       "    // off when our div gets focus\n",
       "\n",
       "    // location in version 3\n",
       "    if (IPython.notebook.keyboard_manager) {\n",
       "        IPython.notebook.keyboard_manager.register_events(el);\n",
       "    } else {\n",
       "        // location in version 2\n",
       "        IPython.keyboard_manager.register_events(el);\n",
       "    }\n",
       "};\n",
       "\n",
       "mpl.figure.prototype._key_event_extra = function (event, _name) {\n",
       "    var manager = IPython.notebook.keyboard_manager;\n",
       "    if (!manager) {\n",
       "        manager = IPython.keyboard_manager;\n",
       "    }\n",
       "\n",
       "    // Check for shift+enter\n",
       "    if (event.shiftKey && event.which === 13) {\n",
       "        this.canvas_div.blur();\n",
       "        // select the cell after this one\n",
       "        var index = IPython.notebook.find_cell_index(this.cell_info[0]);\n",
       "        IPython.notebook.select(index + 1);\n",
       "    }\n",
       "};\n",
       "\n",
       "mpl.figure.prototype.handle_save = function (fig, _msg) {\n",
       "    fig.ondownload(fig, null);\n",
       "};\n",
       "\n",
       "mpl.find_output_cell = function (html_output) {\n",
       "    // Return the cell and output element which can be found *uniquely* in the notebook.\n",
       "    // Note - this is a bit hacky, but it is done because the \"notebook_saving.Notebook\"\n",
       "    // IPython event is triggered only after the cells have been serialised, which for\n",
       "    // our purposes (turning an active figure into a static one), is too late.\n",
       "    var cells = IPython.notebook.get_cells();\n",
       "    var ncells = cells.length;\n",
       "    for (var i = 0; i < ncells; i++) {\n",
       "        var cell = cells[i];\n",
       "        if (cell.cell_type === 'code') {\n",
       "            for (var j = 0; j < cell.output_area.outputs.length; j++) {\n",
       "                var data = cell.output_area.outputs[j];\n",
       "                if (data.data) {\n",
       "                    // IPython >= 3 moved mimebundle to data attribute of output\n",
       "                    data = data.data;\n",
       "                }\n",
       "                if (data['text/html'] === html_output) {\n",
       "                    return [cell, data, j];\n",
       "                }\n",
       "            }\n",
       "        }\n",
       "    }\n",
       "};\n",
       "\n",
       "// Register the function which deals with the matplotlib target/channel.\n",
       "// The kernel may be null if the page has been refreshed.\n",
       "if (IPython.notebook.kernel !== null) {\n",
       "    IPython.notebook.kernel.comm_manager.register_target(\n",
       "        'matplotlib',\n",
       "        mpl.mpl_figure_comm\n",
       "    );\n",
       "}\n"
      ],
      "text/plain": [
       "<IPython.core.display.Javascript object>"
      ]
     },
     "metadata": {},
     "output_type": "display_data"
    },
    {
     "data": {
      "text/html": [
       "<div id='ecfb5e70-59ee-4dc9-bb25-7f6f5773078f'></div>"
      ],
      "text/plain": [
       "<IPython.core.display.HTML object>"
      ]
     },
     "metadata": {},
     "output_type": "display_data"
    },
    {
     "name": "stderr",
     "output_type": "stream",
     "text": [
      "/home/monica/anaconda3/envs/myenv/lib/python3.8/site-packages/pandas/core/indexing.py:1732: SettingWithCopyWarning: \n",
      "A value is trying to be set on a copy of a slice from a DataFrame\n",
      "\n",
      "See the caveats in the documentation: https://pandas.pydata.org/pandas-docs/stable/user_guide/indexing.html#returning-a-view-versus-a-copy\n",
      "  self._setitem_single_block(indexer, value, name)\n"
     ]
    },
    {
     "name": "stdout",
     "output_type": "stream",
     "text": [
      "   Hidden_Layers  Hidden_Dim  L1_input  L1_hidden  Dropout_input  \\\n",
      "0              1         0.1       0.1    0.00005            0.1   \n",
      "1              1         0.1       0.1    0.05000            0.1   \n",
      "2              1         0.1       0.1    0.00500            0.1   \n",
      "\n",
      "   Dropout_hidden      LR  Best AUC  Best Loss  Best AUC Epoch  \\\n",
      "0             0.4  0.0001  0.562252   1.498086            43.0   \n",
      "1             0.4  0.0001  0.565465   1.493445            25.0   \n",
      "2             0.4  0.0001       NaN        NaN             NaN   \n",
      "\n",
      "   Loss at Best AUC Epoch  Best Loss Epoch  AUC at Best Loss Epoch  \\\n",
      "0                1.533301             36.0                0.555605   \n",
      "1                1.591517             38.0                0.560355   \n",
      "2                     NaN              NaN                     NaN   \n",
      "\n",
      "   Total Epochs       Status  \n",
      "0            50         Done  \n",
      "1            50         Done  \n",
      "2            50  Not Started  \n",
      "setting up model...\n",
      "Penalizing the classes\n",
      "done setting up model...\n",
      "<bound method Module.named_parameters of FeedForwardNet(\n",
      "  (layers_list): ModuleList(\n",
      "    (0): Linear(in_features=601, out_features=60, bias=True)\n",
      "    (1): Linear(in_features=60, out_features=1, bias=True)\n",
      "  )\n",
      "  (input_dropout): Dropout(p=0.1, inplace=False)\n",
      "  (output_dropout): Dropout(p=0, inplace=False)\n",
      "  (hidden_dropout_list): ModuleList(\n",
      "    (0): Dropout(p=0.4, inplace=False)\n",
      "  )\n",
      "  (criterion): BCELoss()\n",
      ")>\n",
      "layers_list.0.weight : torch.Size([60, 601])\n",
      "layers_list.0.bias : torch.Size([60])\n",
      "layers_list.1.weight : torch.Size([1, 60])\n",
      "layers_list.1.bias : torch.Size([1])\n"
     ]
    },
    {
     "data": {
      "application/javascript": [
       "/* Put everything inside the global mpl namespace */\n",
       "/* global mpl */\n",
       "window.mpl = {};\n",
       "\n",
       "mpl.get_websocket_type = function () {\n",
       "    if (typeof WebSocket !== 'undefined') {\n",
       "        return WebSocket;\n",
       "    } else if (typeof MozWebSocket !== 'undefined') {\n",
       "        return MozWebSocket;\n",
       "    } else {\n",
       "        alert(\n",
       "            'Your browser does not have WebSocket support. ' +\n",
       "                'Please try Chrome, Safari or Firefox ≥ 6. ' +\n",
       "                'Firefox 4 and 5 are also supported but you ' +\n",
       "                'have to enable WebSockets in about:config.'\n",
       "        );\n",
       "    }\n",
       "};\n",
       "\n",
       "mpl.figure = function (figure_id, websocket, ondownload, parent_element) {\n",
       "    this.id = figure_id;\n",
       "\n",
       "    this.ws = websocket;\n",
       "\n",
       "    this.supports_binary = this.ws.binaryType !== undefined;\n",
       "\n",
       "    if (!this.supports_binary) {\n",
       "        var warnings = document.getElementById('mpl-warnings');\n",
       "        if (warnings) {\n",
       "            warnings.style.display = 'block';\n",
       "            warnings.textContent =\n",
       "                'This browser does not support binary websocket messages. ' +\n",
       "                'Performance may be slow.';\n",
       "        }\n",
       "    }\n",
       "\n",
       "    this.imageObj = new Image();\n",
       "\n",
       "    this.context = undefined;\n",
       "    this.message = undefined;\n",
       "    this.canvas = undefined;\n",
       "    this.rubberband_canvas = undefined;\n",
       "    this.rubberband_context = undefined;\n",
       "    this.format_dropdown = undefined;\n",
       "\n",
       "    this.image_mode = 'full';\n",
       "\n",
       "    this.root = document.createElement('div');\n",
       "    this.root.setAttribute('style', 'display: inline-block');\n",
       "    this._root_extra_style(this.root);\n",
       "\n",
       "    parent_element.appendChild(this.root);\n",
       "\n",
       "    this._init_header(this);\n",
       "    this._init_canvas(this);\n",
       "    this._init_toolbar(this);\n",
       "\n",
       "    var fig = this;\n",
       "\n",
       "    this.waiting = false;\n",
       "\n",
       "    this.ws.onopen = function () {\n",
       "        fig.send_message('supports_binary', { value: fig.supports_binary });\n",
       "        fig.send_message('send_image_mode', {});\n",
       "        if (fig.ratio !== 1) {\n",
       "            fig.send_message('set_dpi_ratio', { dpi_ratio: fig.ratio });\n",
       "        }\n",
       "        fig.send_message('refresh', {});\n",
       "    };\n",
       "\n",
       "    this.imageObj.onload = function () {\n",
       "        if (fig.image_mode === 'full') {\n",
       "            // Full images could contain transparency (where diff images\n",
       "            // almost always do), so we need to clear the canvas so that\n",
       "            // there is no ghosting.\n",
       "            fig.context.clearRect(0, 0, fig.canvas.width, fig.canvas.height);\n",
       "        }\n",
       "        fig.context.drawImage(fig.imageObj, 0, 0);\n",
       "    };\n",
       "\n",
       "    this.imageObj.onunload = function () {\n",
       "        fig.ws.close();\n",
       "    };\n",
       "\n",
       "    this.ws.onmessage = this._make_on_message_function(this);\n",
       "\n",
       "    this.ondownload = ondownload;\n",
       "};\n",
       "\n",
       "mpl.figure.prototype._init_header = function () {\n",
       "    var titlebar = document.createElement('div');\n",
       "    titlebar.classList =\n",
       "        'ui-dialog-titlebar ui-widget-header ui-corner-all ui-helper-clearfix';\n",
       "    var titletext = document.createElement('div');\n",
       "    titletext.classList = 'ui-dialog-title';\n",
       "    titletext.setAttribute(\n",
       "        'style',\n",
       "        'width: 100%; text-align: center; padding: 3px;'\n",
       "    );\n",
       "    titlebar.appendChild(titletext);\n",
       "    this.root.appendChild(titlebar);\n",
       "    this.header = titletext;\n",
       "};\n",
       "\n",
       "mpl.figure.prototype._canvas_extra_style = function (_canvas_div) {};\n",
       "\n",
       "mpl.figure.prototype._root_extra_style = function (_canvas_div) {};\n",
       "\n",
       "mpl.figure.prototype._init_canvas = function () {\n",
       "    var fig = this;\n",
       "\n",
       "    var canvas_div = (this.canvas_div = document.createElement('div'));\n",
       "    canvas_div.setAttribute(\n",
       "        'style',\n",
       "        'border: 1px solid #ddd;' +\n",
       "            'box-sizing: content-box;' +\n",
       "            'clear: both;' +\n",
       "            'min-height: 1px;' +\n",
       "            'min-width: 1px;' +\n",
       "            'outline: 0;' +\n",
       "            'overflow: hidden;' +\n",
       "            'position: relative;' +\n",
       "            'resize: both;'\n",
       "    );\n",
       "\n",
       "    function on_keyboard_event_closure(name) {\n",
       "        return function (event) {\n",
       "            return fig.key_event(event, name);\n",
       "        };\n",
       "    }\n",
       "\n",
       "    canvas_div.addEventListener(\n",
       "        'keydown',\n",
       "        on_keyboard_event_closure('key_press')\n",
       "    );\n",
       "    canvas_div.addEventListener(\n",
       "        'keyup',\n",
       "        on_keyboard_event_closure('key_release')\n",
       "    );\n",
       "\n",
       "    this._canvas_extra_style(canvas_div);\n",
       "    this.root.appendChild(canvas_div);\n",
       "\n",
       "    var canvas = (this.canvas = document.createElement('canvas'));\n",
       "    canvas.classList.add('mpl-canvas');\n",
       "    canvas.setAttribute('style', 'box-sizing: content-box;');\n",
       "\n",
       "    this.context = canvas.getContext('2d');\n",
       "\n",
       "    var backingStore =\n",
       "        this.context.backingStorePixelRatio ||\n",
       "        this.context.webkitBackingStorePixelRatio ||\n",
       "        this.context.mozBackingStorePixelRatio ||\n",
       "        this.context.msBackingStorePixelRatio ||\n",
       "        this.context.oBackingStorePixelRatio ||\n",
       "        this.context.backingStorePixelRatio ||\n",
       "        1;\n",
       "\n",
       "    this.ratio = (window.devicePixelRatio || 1) / backingStore;\n",
       "\n",
       "    var rubberband_canvas = (this.rubberband_canvas = document.createElement(\n",
       "        'canvas'\n",
       "    ));\n",
       "    rubberband_canvas.setAttribute(\n",
       "        'style',\n",
       "        'box-sizing: content-box; position: absolute; left: 0; top: 0; z-index: 1;'\n",
       "    );\n",
       "\n",
       "    // Apply a ponyfill if ResizeObserver is not implemented by browser.\n",
       "    if (this.ResizeObserver === undefined) {\n",
       "        if (window.ResizeObserver !== undefined) {\n",
       "            this.ResizeObserver = window.ResizeObserver;\n",
       "        } else {\n",
       "            var obs = _JSXTOOLS_RESIZE_OBSERVER({});\n",
       "            this.ResizeObserver = obs.ResizeObserver;\n",
       "        }\n",
       "    }\n",
       "\n",
       "    this.resizeObserverInstance = new this.ResizeObserver(function (entries) {\n",
       "        var nentries = entries.length;\n",
       "        for (var i = 0; i < nentries; i++) {\n",
       "            var entry = entries[i];\n",
       "            var width, height;\n",
       "            if (entry.contentBoxSize) {\n",
       "                if (entry.contentBoxSize instanceof Array) {\n",
       "                    // Chrome 84 implements new version of spec.\n",
       "                    width = entry.contentBoxSize[0].inlineSize;\n",
       "                    height = entry.contentBoxSize[0].blockSize;\n",
       "                } else {\n",
       "                    // Firefox implements old version of spec.\n",
       "                    width = entry.contentBoxSize.inlineSize;\n",
       "                    height = entry.contentBoxSize.blockSize;\n",
       "                }\n",
       "            } else {\n",
       "                // Chrome <84 implements even older version of spec.\n",
       "                width = entry.contentRect.width;\n",
       "                height = entry.contentRect.height;\n",
       "            }\n",
       "\n",
       "            // Keep the size of the canvas and rubber band canvas in sync with\n",
       "            // the canvas container.\n",
       "            if (entry.devicePixelContentBoxSize) {\n",
       "                // Chrome 84 implements new version of spec.\n",
       "                canvas.setAttribute(\n",
       "                    'width',\n",
       "                    entry.devicePixelContentBoxSize[0].inlineSize\n",
       "                );\n",
       "                canvas.setAttribute(\n",
       "                    'height',\n",
       "                    entry.devicePixelContentBoxSize[0].blockSize\n",
       "                );\n",
       "            } else {\n",
       "                canvas.setAttribute('width', width * fig.ratio);\n",
       "                canvas.setAttribute('height', height * fig.ratio);\n",
       "            }\n",
       "            canvas.setAttribute(\n",
       "                'style',\n",
       "                'width: ' + width + 'px; height: ' + height + 'px;'\n",
       "            );\n",
       "\n",
       "            rubberband_canvas.setAttribute('width', width);\n",
       "            rubberband_canvas.setAttribute('height', height);\n",
       "\n",
       "            // And update the size in Python. We ignore the initial 0/0 size\n",
       "            // that occurs as the element is placed into the DOM, which should\n",
       "            // otherwise not happen due to the minimum size styling.\n",
       "            if (fig.ws.readyState == 1 && width != 0 && height != 0) {\n",
       "                fig.request_resize(width, height);\n",
       "            }\n",
       "        }\n",
       "    });\n",
       "    this.resizeObserverInstance.observe(canvas_div);\n",
       "\n",
       "    function on_mouse_event_closure(name) {\n",
       "        return function (event) {\n",
       "            return fig.mouse_event(event, name);\n",
       "        };\n",
       "    }\n",
       "\n",
       "    rubberband_canvas.addEventListener(\n",
       "        'mousedown',\n",
       "        on_mouse_event_closure('button_press')\n",
       "    );\n",
       "    rubberband_canvas.addEventListener(\n",
       "        'mouseup',\n",
       "        on_mouse_event_closure('button_release')\n",
       "    );\n",
       "    // Throttle sequential mouse events to 1 every 20ms.\n",
       "    rubberband_canvas.addEventListener(\n",
       "        'mousemove',\n",
       "        on_mouse_event_closure('motion_notify')\n",
       "    );\n",
       "\n",
       "    rubberband_canvas.addEventListener(\n",
       "        'mouseenter',\n",
       "        on_mouse_event_closure('figure_enter')\n",
       "    );\n",
       "    rubberband_canvas.addEventListener(\n",
       "        'mouseleave',\n",
       "        on_mouse_event_closure('figure_leave')\n",
       "    );\n",
       "\n",
       "    canvas_div.addEventListener('wheel', function (event) {\n",
       "        if (event.deltaY < 0) {\n",
       "            event.step = 1;\n",
       "        } else {\n",
       "            event.step = -1;\n",
       "        }\n",
       "        on_mouse_event_closure('scroll')(event);\n",
       "    });\n",
       "\n",
       "    canvas_div.appendChild(canvas);\n",
       "    canvas_div.appendChild(rubberband_canvas);\n",
       "\n",
       "    this.rubberband_context = rubberband_canvas.getContext('2d');\n",
       "    this.rubberband_context.strokeStyle = '#000000';\n",
       "\n",
       "    this._resize_canvas = function (width, height, forward) {\n",
       "        if (forward) {\n",
       "            canvas_div.style.width = width + 'px';\n",
       "            canvas_div.style.height = height + 'px';\n",
       "        }\n",
       "    };\n",
       "\n",
       "    // Disable right mouse context menu.\n",
       "    this.rubberband_canvas.addEventListener('contextmenu', function (_e) {\n",
       "        event.preventDefault();\n",
       "        return false;\n",
       "    });\n",
       "\n",
       "    function set_focus() {\n",
       "        canvas.focus();\n",
       "        canvas_div.focus();\n",
       "    }\n",
       "\n",
       "    window.setTimeout(set_focus, 100);\n",
       "};\n",
       "\n",
       "mpl.figure.prototype._init_toolbar = function () {\n",
       "    var fig = this;\n",
       "\n",
       "    var toolbar = document.createElement('div');\n",
       "    toolbar.classList = 'mpl-toolbar';\n",
       "    this.root.appendChild(toolbar);\n",
       "\n",
       "    function on_click_closure(name) {\n",
       "        return function (_event) {\n",
       "            return fig.toolbar_button_onclick(name);\n",
       "        };\n",
       "    }\n",
       "\n",
       "    function on_mouseover_closure(tooltip) {\n",
       "        return function (event) {\n",
       "            if (!event.currentTarget.disabled) {\n",
       "                return fig.toolbar_button_onmouseover(tooltip);\n",
       "            }\n",
       "        };\n",
       "    }\n",
       "\n",
       "    fig.buttons = {};\n",
       "    var buttonGroup = document.createElement('div');\n",
       "    buttonGroup.classList = 'mpl-button-group';\n",
       "    for (var toolbar_ind in mpl.toolbar_items) {\n",
       "        var name = mpl.toolbar_items[toolbar_ind][0];\n",
       "        var tooltip = mpl.toolbar_items[toolbar_ind][1];\n",
       "        var image = mpl.toolbar_items[toolbar_ind][2];\n",
       "        var method_name = mpl.toolbar_items[toolbar_ind][3];\n",
       "\n",
       "        if (!name) {\n",
       "            /* Instead of a spacer, we start a new button group. */\n",
       "            if (buttonGroup.hasChildNodes()) {\n",
       "                toolbar.appendChild(buttonGroup);\n",
       "            }\n",
       "            buttonGroup = document.createElement('div');\n",
       "            buttonGroup.classList = 'mpl-button-group';\n",
       "            continue;\n",
       "        }\n",
       "\n",
       "        var button = (fig.buttons[name] = document.createElement('button'));\n",
       "        button.classList = 'mpl-widget';\n",
       "        button.setAttribute('role', 'button');\n",
       "        button.setAttribute('aria-disabled', 'false');\n",
       "        button.addEventListener('click', on_click_closure(method_name));\n",
       "        button.addEventListener('mouseover', on_mouseover_closure(tooltip));\n",
       "\n",
       "        var icon_img = document.createElement('img');\n",
       "        icon_img.src = '_images/' + image + '.png';\n",
       "        icon_img.srcset = '_images/' + image + '_large.png 2x';\n",
       "        icon_img.alt = tooltip;\n",
       "        button.appendChild(icon_img);\n",
       "\n",
       "        buttonGroup.appendChild(button);\n",
       "    }\n",
       "\n",
       "    if (buttonGroup.hasChildNodes()) {\n",
       "        toolbar.appendChild(buttonGroup);\n",
       "    }\n",
       "\n",
       "    var fmt_picker = document.createElement('select');\n",
       "    fmt_picker.classList = 'mpl-widget';\n",
       "    toolbar.appendChild(fmt_picker);\n",
       "    this.format_dropdown = fmt_picker;\n",
       "\n",
       "    for (var ind in mpl.extensions) {\n",
       "        var fmt = mpl.extensions[ind];\n",
       "        var option = document.createElement('option');\n",
       "        option.selected = fmt === mpl.default_extension;\n",
       "        option.innerHTML = fmt;\n",
       "        fmt_picker.appendChild(option);\n",
       "    }\n",
       "\n",
       "    var status_bar = document.createElement('span');\n",
       "    status_bar.classList = 'mpl-message';\n",
       "    toolbar.appendChild(status_bar);\n",
       "    this.message = status_bar;\n",
       "};\n",
       "\n",
       "mpl.figure.prototype.request_resize = function (x_pixels, y_pixels) {\n",
       "    // Request matplotlib to resize the figure. Matplotlib will then trigger a resize in the client,\n",
       "    // which will in turn request a refresh of the image.\n",
       "    this.send_message('resize', { width: x_pixels, height: y_pixels });\n",
       "};\n",
       "\n",
       "mpl.figure.prototype.send_message = function (type, properties) {\n",
       "    properties['type'] = type;\n",
       "    properties['figure_id'] = this.id;\n",
       "    this.ws.send(JSON.stringify(properties));\n",
       "};\n",
       "\n",
       "mpl.figure.prototype.send_draw_message = function () {\n",
       "    if (!this.waiting) {\n",
       "        this.waiting = true;\n",
       "        this.ws.send(JSON.stringify({ type: 'draw', figure_id: this.id }));\n",
       "    }\n",
       "};\n",
       "\n",
       "mpl.figure.prototype.handle_save = function (fig, _msg) {\n",
       "    var format_dropdown = fig.format_dropdown;\n",
       "    var format = format_dropdown.options[format_dropdown.selectedIndex].value;\n",
       "    fig.ondownload(fig, format);\n",
       "};\n",
       "\n",
       "mpl.figure.prototype.handle_resize = function (fig, msg) {\n",
       "    var size = msg['size'];\n",
       "    if (size[0] !== fig.canvas.width || size[1] !== fig.canvas.height) {\n",
       "        fig._resize_canvas(size[0], size[1], msg['forward']);\n",
       "        fig.send_message('refresh', {});\n",
       "    }\n",
       "};\n",
       "\n",
       "mpl.figure.prototype.handle_rubberband = function (fig, msg) {\n",
       "    var x0 = msg['x0'] / fig.ratio;\n",
       "    var y0 = (fig.canvas.height - msg['y0']) / fig.ratio;\n",
       "    var x1 = msg['x1'] / fig.ratio;\n",
       "    var y1 = (fig.canvas.height - msg['y1']) / fig.ratio;\n",
       "    x0 = Math.floor(x0) + 0.5;\n",
       "    y0 = Math.floor(y0) + 0.5;\n",
       "    x1 = Math.floor(x1) + 0.5;\n",
       "    y1 = Math.floor(y1) + 0.5;\n",
       "    var min_x = Math.min(x0, x1);\n",
       "    var min_y = Math.min(y0, y1);\n",
       "    var width = Math.abs(x1 - x0);\n",
       "    var height = Math.abs(y1 - y0);\n",
       "\n",
       "    fig.rubberband_context.clearRect(\n",
       "        0,\n",
       "        0,\n",
       "        fig.canvas.width / fig.ratio,\n",
       "        fig.canvas.height / fig.ratio\n",
       "    );\n",
       "\n",
       "    fig.rubberband_context.strokeRect(min_x, min_y, width, height);\n",
       "};\n",
       "\n",
       "mpl.figure.prototype.handle_figure_label = function (fig, msg) {\n",
       "    // Updates the figure title.\n",
       "    fig.header.textContent = msg['label'];\n",
       "};\n",
       "\n",
       "mpl.figure.prototype.handle_cursor = function (fig, msg) {\n",
       "    var cursor = msg['cursor'];\n",
       "    switch (cursor) {\n",
       "        case 0:\n",
       "            cursor = 'pointer';\n",
       "            break;\n",
       "        case 1:\n",
       "            cursor = 'default';\n",
       "            break;\n",
       "        case 2:\n",
       "            cursor = 'crosshair';\n",
       "            break;\n",
       "        case 3:\n",
       "            cursor = 'move';\n",
       "            break;\n",
       "    }\n",
       "    fig.rubberband_canvas.style.cursor = cursor;\n",
       "};\n",
       "\n",
       "mpl.figure.prototype.handle_message = function (fig, msg) {\n",
       "    fig.message.textContent = msg['message'];\n",
       "};\n",
       "\n",
       "mpl.figure.prototype.handle_draw = function (fig, _msg) {\n",
       "    // Request the server to send over a new figure.\n",
       "    fig.send_draw_message();\n",
       "};\n",
       "\n",
       "mpl.figure.prototype.handle_image_mode = function (fig, msg) {\n",
       "    fig.image_mode = msg['mode'];\n",
       "};\n",
       "\n",
       "mpl.figure.prototype.handle_history_buttons = function (fig, msg) {\n",
       "    for (var key in msg) {\n",
       "        if (!(key in fig.buttons)) {\n",
       "            continue;\n",
       "        }\n",
       "        fig.buttons[key].disabled = !msg[key];\n",
       "        fig.buttons[key].setAttribute('aria-disabled', !msg[key]);\n",
       "    }\n",
       "};\n",
       "\n",
       "mpl.figure.prototype.handle_navigate_mode = function (fig, msg) {\n",
       "    if (msg['mode'] === 'PAN') {\n",
       "        fig.buttons['Pan'].classList.add('active');\n",
       "        fig.buttons['Zoom'].classList.remove('active');\n",
       "    } else if (msg['mode'] === 'ZOOM') {\n",
       "        fig.buttons['Pan'].classList.remove('active');\n",
       "        fig.buttons['Zoom'].classList.add('active');\n",
       "    } else {\n",
       "        fig.buttons['Pan'].classList.remove('active');\n",
       "        fig.buttons['Zoom'].classList.remove('active');\n",
       "    }\n",
       "};\n",
       "\n",
       "mpl.figure.prototype.updated_canvas_event = function () {\n",
       "    // Called whenever the canvas gets updated.\n",
       "    this.send_message('ack', {});\n",
       "};\n",
       "\n",
       "// A function to construct a web socket function for onmessage handling.\n",
       "// Called in the figure constructor.\n",
       "mpl.figure.prototype._make_on_message_function = function (fig) {\n",
       "    return function socket_on_message(evt) {\n",
       "        if (evt.data instanceof Blob) {\n",
       "            /* FIXME: We get \"Resource interpreted as Image but\n",
       "             * transferred with MIME type text/plain:\" errors on\n",
       "             * Chrome.  But how to set the MIME type?  It doesn't seem\n",
       "             * to be part of the websocket stream */\n",
       "            evt.data.type = 'image/png';\n",
       "\n",
       "            /* Free the memory for the previous frames */\n",
       "            if (fig.imageObj.src) {\n",
       "                (window.URL || window.webkitURL).revokeObjectURL(\n",
       "                    fig.imageObj.src\n",
       "                );\n",
       "            }\n",
       "\n",
       "            fig.imageObj.src = (window.URL || window.webkitURL).createObjectURL(\n",
       "                evt.data\n",
       "            );\n",
       "            fig.updated_canvas_event();\n",
       "            fig.waiting = false;\n",
       "            return;\n",
       "        } else if (\n",
       "            typeof evt.data === 'string' &&\n",
       "            evt.data.slice(0, 21) === 'data:image/png;base64'\n",
       "        ) {\n",
       "            fig.imageObj.src = evt.data;\n",
       "            fig.updated_canvas_event();\n",
       "            fig.waiting = false;\n",
       "            return;\n",
       "        }\n",
       "\n",
       "        var msg = JSON.parse(evt.data);\n",
       "        var msg_type = msg['type'];\n",
       "\n",
       "        // Call the  \"handle_{type}\" callback, which takes\n",
       "        // the figure and JSON message as its only arguments.\n",
       "        try {\n",
       "            var callback = fig['handle_' + msg_type];\n",
       "        } catch (e) {\n",
       "            console.log(\n",
       "                \"No handler for the '\" + msg_type + \"' message type: \",\n",
       "                msg\n",
       "            );\n",
       "            return;\n",
       "        }\n",
       "\n",
       "        if (callback) {\n",
       "            try {\n",
       "                // console.log(\"Handling '\" + msg_type + \"' message: \", msg);\n",
       "                callback(fig, msg);\n",
       "            } catch (e) {\n",
       "                console.log(\n",
       "                    \"Exception inside the 'handler_\" + msg_type + \"' callback:\",\n",
       "                    e,\n",
       "                    e.stack,\n",
       "                    msg\n",
       "                );\n",
       "            }\n",
       "        }\n",
       "    };\n",
       "};\n",
       "\n",
       "// from http://stackoverflow.com/questions/1114465/getting-mouse-location-in-canvas\n",
       "mpl.findpos = function (e) {\n",
       "    //this section is from http://www.quirksmode.org/js/events_properties.html\n",
       "    var targ;\n",
       "    if (!e) {\n",
       "        e = window.event;\n",
       "    }\n",
       "    if (e.target) {\n",
       "        targ = e.target;\n",
       "    } else if (e.srcElement) {\n",
       "        targ = e.srcElement;\n",
       "    }\n",
       "    if (targ.nodeType === 3) {\n",
       "        // defeat Safari bug\n",
       "        targ = targ.parentNode;\n",
       "    }\n",
       "\n",
       "    // pageX,Y are the mouse positions relative to the document\n",
       "    var boundingRect = targ.getBoundingClientRect();\n",
       "    var x = e.pageX - (boundingRect.left + document.body.scrollLeft);\n",
       "    var y = e.pageY - (boundingRect.top + document.body.scrollTop);\n",
       "\n",
       "    return { x: x, y: y };\n",
       "};\n",
       "\n",
       "/*\n",
       " * return a copy of an object with only non-object keys\n",
       " * we need this to avoid circular references\n",
       " * http://stackoverflow.com/a/24161582/3208463\n",
       " */\n",
       "function simpleKeys(original) {\n",
       "    return Object.keys(original).reduce(function (obj, key) {\n",
       "        if (typeof original[key] !== 'object') {\n",
       "            obj[key] = original[key];\n",
       "        }\n",
       "        return obj;\n",
       "    }, {});\n",
       "}\n",
       "\n",
       "mpl.figure.prototype.mouse_event = function (event, name) {\n",
       "    var canvas_pos = mpl.findpos(event);\n",
       "\n",
       "    if (name === 'button_press') {\n",
       "        this.canvas.focus();\n",
       "        this.canvas_div.focus();\n",
       "    }\n",
       "\n",
       "    var x = canvas_pos.x * this.ratio;\n",
       "    var y = canvas_pos.y * this.ratio;\n",
       "\n",
       "    this.send_message(name, {\n",
       "        x: x,\n",
       "        y: y,\n",
       "        button: event.button,\n",
       "        step: event.step,\n",
       "        guiEvent: simpleKeys(event),\n",
       "    });\n",
       "\n",
       "    /* This prevents the web browser from automatically changing to\n",
       "     * the text insertion cursor when the button is pressed.  We want\n",
       "     * to control all of the cursor setting manually through the\n",
       "     * 'cursor' event from matplotlib */\n",
       "    event.preventDefault();\n",
       "    return false;\n",
       "};\n",
       "\n",
       "mpl.figure.prototype._key_event_extra = function (_event, _name) {\n",
       "    // Handle any extra behaviour associated with a key event\n",
       "};\n",
       "\n",
       "mpl.figure.prototype.key_event = function (event, name) {\n",
       "    // Prevent repeat events\n",
       "    if (name === 'key_press') {\n",
       "        if (event.which === this._key) {\n",
       "            return;\n",
       "        } else {\n",
       "            this._key = event.which;\n",
       "        }\n",
       "    }\n",
       "    if (name === 'key_release') {\n",
       "        this._key = null;\n",
       "    }\n",
       "\n",
       "    var value = '';\n",
       "    if (event.ctrlKey && event.which !== 17) {\n",
       "        value += 'ctrl+';\n",
       "    }\n",
       "    if (event.altKey && event.which !== 18) {\n",
       "        value += 'alt+';\n",
       "    }\n",
       "    if (event.shiftKey && event.which !== 16) {\n",
       "        value += 'shift+';\n",
       "    }\n",
       "\n",
       "    value += 'k';\n",
       "    value += event.which.toString();\n",
       "\n",
       "    this._key_event_extra(event, name);\n",
       "\n",
       "    this.send_message(name, { key: value, guiEvent: simpleKeys(event) });\n",
       "    return false;\n",
       "};\n",
       "\n",
       "mpl.figure.prototype.toolbar_button_onclick = function (name) {\n",
       "    if (name === 'download') {\n",
       "        this.handle_save(this, null);\n",
       "    } else {\n",
       "        this.send_message('toolbar_button', { name: name });\n",
       "    }\n",
       "};\n",
       "\n",
       "mpl.figure.prototype.toolbar_button_onmouseover = function (tooltip) {\n",
       "    this.message.textContent = tooltip;\n",
       "};\n",
       "\n",
       "///////////////// REMAINING CONTENT GENERATED BY embed_js.py /////////////////\n",
       "// prettier-ignore\n",
       "var _JSXTOOLS_RESIZE_OBSERVER=function(A){var t,i=new WeakMap,n=new WeakMap,a=new WeakMap,r=new WeakMap,o=new Set;function s(e){if(!(this instanceof s))throw new TypeError(\"Constructor requires 'new' operator\");i.set(this,e)}function h(){throw new TypeError(\"Function is not a constructor\")}function c(e,t,i,n){e=0 in arguments?Number(arguments[0]):0,t=1 in arguments?Number(arguments[1]):0,i=2 in arguments?Number(arguments[2]):0,n=3 in arguments?Number(arguments[3]):0,this.right=(this.x=this.left=e)+(this.width=i),this.bottom=(this.y=this.top=t)+(this.height=n),Object.freeze(this)}function d(){t=requestAnimationFrame(d);var s=new WeakMap,p=new Set;o.forEach((function(t){r.get(t).forEach((function(i){var r=t instanceof window.SVGElement,o=a.get(t),d=r?0:parseFloat(o.paddingTop),f=r?0:parseFloat(o.paddingRight),l=r?0:parseFloat(o.paddingBottom),u=r?0:parseFloat(o.paddingLeft),g=r?0:parseFloat(o.borderTopWidth),m=r?0:parseFloat(o.borderRightWidth),w=r?0:parseFloat(o.borderBottomWidth),b=u+f,F=d+l,v=(r?0:parseFloat(o.borderLeftWidth))+m,W=g+w,y=r?0:t.offsetHeight-W-t.clientHeight,E=r?0:t.offsetWidth-v-t.clientWidth,R=b+v,z=F+W,M=r?t.width:parseFloat(o.width)-R-E,O=r?t.height:parseFloat(o.height)-z-y;if(n.has(t)){var k=n.get(t);if(k[0]===M&&k[1]===O)return}n.set(t,[M,O]);var S=Object.create(h.prototype);S.target=t,S.contentRect=new c(u,d,M,O),s.has(i)||(s.set(i,[]),p.add(i)),s.get(i).push(S)}))})),p.forEach((function(e){i.get(e).call(e,s.get(e),e)}))}return s.prototype.observe=function(i){if(i instanceof window.Element){r.has(i)||(r.set(i,new Set),o.add(i),a.set(i,window.getComputedStyle(i)));var n=r.get(i);n.has(this)||n.add(this),cancelAnimationFrame(t),t=requestAnimationFrame(d)}},s.prototype.unobserve=function(i){if(i instanceof window.Element&&r.has(i)){var n=r.get(i);n.has(this)&&(n.delete(this),n.size||(r.delete(i),o.delete(i))),n.size||r.delete(i),o.size||cancelAnimationFrame(t)}},A.DOMRectReadOnly=c,A.ResizeObserver=s,A.ResizeObserverEntry=h,A}; // eslint-disable-line\n",
       "mpl.toolbar_items = [[\"Home\", \"Reset original view\", \"fa fa-home icon-home\", \"home\"], [\"Back\", \"Back to previous view\", \"fa fa-arrow-left icon-arrow-left\", \"back\"], [\"Forward\", \"Forward to next view\", \"fa fa-arrow-right icon-arrow-right\", \"forward\"], [\"\", \"\", \"\", \"\"], [\"Pan\", \"Left button pans, Right button zooms\\nx/y fixes axis, CTRL fixes aspect\", \"fa fa-arrows icon-move\", \"pan\"], [\"Zoom\", \"Zoom to rectangle\\nx/y fixes axis, CTRL fixes aspect\", \"fa fa-square-o icon-check-empty\", \"zoom\"], [\"\", \"\", \"\", \"\"], [\"Download\", \"Download plot\", \"fa fa-floppy-o icon-save\", \"download\"]];\n",
       "\n",
       "mpl.extensions = [\"eps\", \"jpeg\", \"pdf\", \"png\", \"ps\", \"raw\", \"svg\", \"tif\"];\n",
       "\n",
       "mpl.default_extension = \"png\";/* global mpl */\n",
       "\n",
       "var comm_websocket_adapter = function (comm) {\n",
       "    // Create a \"websocket\"-like object which calls the given IPython comm\n",
       "    // object with the appropriate methods. Currently this is a non binary\n",
       "    // socket, so there is still some room for performance tuning.\n",
       "    var ws = {};\n",
       "\n",
       "    ws.close = function () {\n",
       "        comm.close();\n",
       "    };\n",
       "    ws.send = function (m) {\n",
       "        //console.log('sending', m);\n",
       "        comm.send(m);\n",
       "    };\n",
       "    // Register the callback with on_msg.\n",
       "    comm.on_msg(function (msg) {\n",
       "        //console.log('receiving', msg['content']['data'], msg);\n",
       "        // Pass the mpl event to the overridden (by mpl) onmessage function.\n",
       "        ws.onmessage(msg['content']['data']);\n",
       "    });\n",
       "    return ws;\n",
       "};\n",
       "\n",
       "mpl.mpl_figure_comm = function (comm, msg) {\n",
       "    // This is the function which gets called when the mpl process\n",
       "    // starts-up an IPython Comm through the \"matplotlib\" channel.\n",
       "\n",
       "    var id = msg.content.data.id;\n",
       "    // Get hold of the div created by the display call when the Comm\n",
       "    // socket was opened in Python.\n",
       "    var element = document.getElementById(id);\n",
       "    var ws_proxy = comm_websocket_adapter(comm);\n",
       "\n",
       "    function ondownload(figure, _format) {\n",
       "        window.open(figure.canvas.toDataURL());\n",
       "    }\n",
       "\n",
       "    var fig = new mpl.figure(id, ws_proxy, ondownload, element);\n",
       "\n",
       "    // Call onopen now - mpl needs it, as it is assuming we've passed it a real\n",
       "    // web socket which is closed, not our websocket->open comm proxy.\n",
       "    ws_proxy.onopen();\n",
       "\n",
       "    fig.parent_element = element;\n",
       "    fig.cell_info = mpl.find_output_cell(\"<div id='\" + id + \"'></div>\");\n",
       "    if (!fig.cell_info) {\n",
       "        console.error('Failed to find cell for figure', id, fig);\n",
       "        return;\n",
       "    }\n",
       "    fig.cell_info[0].output_area.element.on(\n",
       "        'cleared',\n",
       "        { fig: fig },\n",
       "        fig._remove_fig_handler\n",
       "    );\n",
       "};\n",
       "\n",
       "mpl.figure.prototype.handle_close = function (fig, msg) {\n",
       "    var width = fig.canvas.width / fig.ratio;\n",
       "    fig.cell_info[0].output_area.element.off(\n",
       "        'cleared',\n",
       "        fig._remove_fig_handler\n",
       "    );\n",
       "    fig.resizeObserverInstance.unobserve(fig.canvas_div);\n",
       "\n",
       "    // Update the output cell to use the data from the current canvas.\n",
       "    fig.push_to_output();\n",
       "    var dataURL = fig.canvas.toDataURL();\n",
       "    // Re-enable the keyboard manager in IPython - without this line, in FF,\n",
       "    // the notebook keyboard shortcuts fail.\n",
       "    IPython.keyboard_manager.enable();\n",
       "    fig.parent_element.innerHTML =\n",
       "        '<img src=\"' + dataURL + '\" width=\"' + width + '\">';\n",
       "    fig.close_ws(fig, msg);\n",
       "};\n",
       "\n",
       "mpl.figure.prototype.close_ws = function (fig, msg) {\n",
       "    fig.send_message('closing', msg);\n",
       "    // fig.ws.close()\n",
       "};\n",
       "\n",
       "mpl.figure.prototype.push_to_output = function (_remove_interactive) {\n",
       "    // Turn the data on the canvas into data in the output cell.\n",
       "    var width = this.canvas.width / this.ratio;\n",
       "    var dataURL = this.canvas.toDataURL();\n",
       "    this.cell_info[1]['text/html'] =\n",
       "        '<img src=\"' + dataURL + '\" width=\"' + width + '\">';\n",
       "};\n",
       "\n",
       "mpl.figure.prototype.updated_canvas_event = function () {\n",
       "    // Tell IPython that the notebook contents must change.\n",
       "    IPython.notebook.set_dirty(true);\n",
       "    this.send_message('ack', {});\n",
       "    var fig = this;\n",
       "    // Wait a second, then push the new image to the DOM so\n",
       "    // that it is saved nicely (might be nice to debounce this).\n",
       "    setTimeout(function () {\n",
       "        fig.push_to_output();\n",
       "    }, 1000);\n",
       "};\n",
       "\n",
       "mpl.figure.prototype._init_toolbar = function () {\n",
       "    var fig = this;\n",
       "\n",
       "    var toolbar = document.createElement('div');\n",
       "    toolbar.classList = 'btn-toolbar';\n",
       "    this.root.appendChild(toolbar);\n",
       "\n",
       "    function on_click_closure(name) {\n",
       "        return function (_event) {\n",
       "            return fig.toolbar_button_onclick(name);\n",
       "        };\n",
       "    }\n",
       "\n",
       "    function on_mouseover_closure(tooltip) {\n",
       "        return function (event) {\n",
       "            if (!event.currentTarget.disabled) {\n",
       "                return fig.toolbar_button_onmouseover(tooltip);\n",
       "            }\n",
       "        };\n",
       "    }\n",
       "\n",
       "    fig.buttons = {};\n",
       "    var buttonGroup = document.createElement('div');\n",
       "    buttonGroup.classList = 'btn-group';\n",
       "    var button;\n",
       "    for (var toolbar_ind in mpl.toolbar_items) {\n",
       "        var name = mpl.toolbar_items[toolbar_ind][0];\n",
       "        var tooltip = mpl.toolbar_items[toolbar_ind][1];\n",
       "        var image = mpl.toolbar_items[toolbar_ind][2];\n",
       "        var method_name = mpl.toolbar_items[toolbar_ind][3];\n",
       "\n",
       "        if (!name) {\n",
       "            /* Instead of a spacer, we start a new button group. */\n",
       "            if (buttonGroup.hasChildNodes()) {\n",
       "                toolbar.appendChild(buttonGroup);\n",
       "            }\n",
       "            buttonGroup = document.createElement('div');\n",
       "            buttonGroup.classList = 'btn-group';\n",
       "            continue;\n",
       "        }\n",
       "\n",
       "        button = fig.buttons[name] = document.createElement('button');\n",
       "        button.classList = 'btn btn-default';\n",
       "        button.href = '#';\n",
       "        button.title = name;\n",
       "        button.innerHTML = '<i class=\"fa ' + image + ' fa-lg\"></i>';\n",
       "        button.addEventListener('click', on_click_closure(method_name));\n",
       "        button.addEventListener('mouseover', on_mouseover_closure(tooltip));\n",
       "        buttonGroup.appendChild(button);\n",
       "    }\n",
       "\n",
       "    if (buttonGroup.hasChildNodes()) {\n",
       "        toolbar.appendChild(buttonGroup);\n",
       "    }\n",
       "\n",
       "    // Add the status bar.\n",
       "    var status_bar = document.createElement('span');\n",
       "    status_bar.classList = 'mpl-message pull-right';\n",
       "    toolbar.appendChild(status_bar);\n",
       "    this.message = status_bar;\n",
       "\n",
       "    // Add the close button to the window.\n",
       "    var buttongrp = document.createElement('div');\n",
       "    buttongrp.classList = 'btn-group inline pull-right';\n",
       "    button = document.createElement('button');\n",
       "    button.classList = 'btn btn-mini btn-primary';\n",
       "    button.href = '#';\n",
       "    button.title = 'Stop Interaction';\n",
       "    button.innerHTML = '<i class=\"fa fa-power-off icon-remove icon-large\"></i>';\n",
       "    button.addEventListener('click', function (_evt) {\n",
       "        fig.handle_close(fig, {});\n",
       "    });\n",
       "    button.addEventListener(\n",
       "        'mouseover',\n",
       "        on_mouseover_closure('Stop Interaction')\n",
       "    );\n",
       "    buttongrp.appendChild(button);\n",
       "    var titlebar = this.root.querySelector('.ui-dialog-titlebar');\n",
       "    titlebar.insertBefore(buttongrp, titlebar.firstChild);\n",
       "};\n",
       "\n",
       "mpl.figure.prototype._remove_fig_handler = function (event) {\n",
       "    var fig = event.data.fig;\n",
       "    if (event.target !== this) {\n",
       "        // Ignore bubbled events from children.\n",
       "        return;\n",
       "    }\n",
       "    fig.close_ws(fig, {});\n",
       "};\n",
       "\n",
       "mpl.figure.prototype._root_extra_style = function (el) {\n",
       "    el.style.boxSizing = 'content-box'; // override notebook setting of border-box.\n",
       "};\n",
       "\n",
       "mpl.figure.prototype._canvas_extra_style = function (el) {\n",
       "    // this is important to make the div 'focusable\n",
       "    el.setAttribute('tabindex', 0);\n",
       "    // reach out to IPython and tell the keyboard manager to turn it's self\n",
       "    // off when our div gets focus\n",
       "\n",
       "    // location in version 3\n",
       "    if (IPython.notebook.keyboard_manager) {\n",
       "        IPython.notebook.keyboard_manager.register_events(el);\n",
       "    } else {\n",
       "        // location in version 2\n",
       "        IPython.keyboard_manager.register_events(el);\n",
       "    }\n",
       "};\n",
       "\n",
       "mpl.figure.prototype._key_event_extra = function (event, _name) {\n",
       "    var manager = IPython.notebook.keyboard_manager;\n",
       "    if (!manager) {\n",
       "        manager = IPython.keyboard_manager;\n",
       "    }\n",
       "\n",
       "    // Check for shift+enter\n",
       "    if (event.shiftKey && event.which === 13) {\n",
       "        this.canvas_div.blur();\n",
       "        // select the cell after this one\n",
       "        var index = IPython.notebook.find_cell_index(this.cell_info[0]);\n",
       "        IPython.notebook.select(index + 1);\n",
       "    }\n",
       "};\n",
       "\n",
       "mpl.figure.prototype.handle_save = function (fig, _msg) {\n",
       "    fig.ondownload(fig, null);\n",
       "};\n",
       "\n",
       "mpl.find_output_cell = function (html_output) {\n",
       "    // Return the cell and output element which can be found *uniquely* in the notebook.\n",
       "    // Note - this is a bit hacky, but it is done because the \"notebook_saving.Notebook\"\n",
       "    // IPython event is triggered only after the cells have been serialised, which for\n",
       "    // our purposes (turning an active figure into a static one), is too late.\n",
       "    var cells = IPython.notebook.get_cells();\n",
       "    var ncells = cells.length;\n",
       "    for (var i = 0; i < ncells; i++) {\n",
       "        var cell = cells[i];\n",
       "        if (cell.cell_type === 'code') {\n",
       "            for (var j = 0; j < cell.output_area.outputs.length; j++) {\n",
       "                var data = cell.output_area.outputs[j];\n",
       "                if (data.data) {\n",
       "                    // IPython >= 3 moved mimebundle to data attribute of output\n",
       "                    data = data.data;\n",
       "                }\n",
       "                if (data['text/html'] === html_output) {\n",
       "                    return [cell, data, j];\n",
       "                }\n",
       "            }\n",
       "        }\n",
       "    }\n",
       "};\n",
       "\n",
       "// Register the function which deals with the matplotlib target/channel.\n",
       "// The kernel may be null if the page has been refreshed.\n",
       "if (IPython.notebook.kernel !== null) {\n",
       "    IPython.notebook.kernel.comm_manager.register_target(\n",
       "        'matplotlib',\n",
       "        mpl.mpl_figure_comm\n",
       "    );\n",
       "}\n"
      ],
      "text/plain": [
       "<IPython.core.display.Javascript object>"
      ]
     },
     "metadata": {},
     "output_type": "display_data"
    },
    {
     "data": {
      "text/html": [
       "<img src=\"data:image/png;base64,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\" width=\"640\">"
      ],
      "text/plain": [
       "<IPython.core.display.HTML object>"
      ]
     },
     "metadata": {},
     "output_type": "display_data"
    },
    {
     "name": "stdout",
     "output_type": "stream",
     "text": [
      "\n",
      "---------\n",
      "Epoch 1 of 50\n"
     ]
    },
    {
     "data": {
      "application/vnd.jupyter.widget-view+json": {
       "model_id": "6ae6362ba7244ce6b54f4d5c007cb2fe",
       "version_major": 2,
       "version_minor": 0
      },
      "text/plain": [
       "  0%|          | 0/529 [00:00<?, ?it/s]"
      ]
     },
     "metadata": {},
     "output_type": "display_data"
    },
    {
     "name": "stdout",
     "output_type": "stream",
     "text": [
      "Train Loss: 22.030099884416547\n",
      "Train AUC: 0.5012557816302742\n",
      "Train Accuracy: 0.5074530949918747\n",
      "\n"
     ]
    },
    {
     "data": {
      "application/vnd.jupyter.widget-view+json": {
       "model_id": "d0c958f601d64aa88d25b334d158e2e1",
       "version_major": 2,
       "version_minor": 0
      },
      "text/plain": [
       "  0%|          | 0/38 [00:00<?, ?it/s]"
      ]
     },
     "metadata": {},
     "output_type": "display_data"
    },
    {
     "name": "stdout",
     "output_type": "stream",
     "text": [
      "Validation Loss: 3.028376576414467\n",
      "Validation AUC: 0.528569121679084\n",
      "Validation Accuracy: 0.49451944753958177\n",
      "Best Val AUC: 0.528569121679084 at epoch 1\n",
      "Best Val Loss: 3.028376576414467 at epoch 1\n",
      "Epoch Time: 4.326532602310181\n",
      "\n",
      "---------\n",
      "Epoch 2 of 50\n"
     ]
    },
    {
     "data": {
      "application/vnd.jupyter.widget-view+json": {
       "model_id": "4b11927f091b4c55867059bbdf3f4eac",
       "version_major": 2,
       "version_minor": 0
      },
      "text/plain": [
       "  0%|          | 0/529 [00:00<?, ?it/s]"
      ]
     },
     "metadata": {},
     "output_type": "display_data"
    },
    {
     "name": "stdout",
     "output_type": "stream",
     "text": [
      "Train Loss: 2.5192202266681205\n",
      "Train AUC: 0.5298787668621734\n",
      "Train Accuracy: 0.4892303146698183\n",
      "\n"
     ]
    },
    {
     "data": {
      "application/vnd.jupyter.widget-view+json": {
       "model_id": "dfd139cf38a747d3b64076bba9c223c6",
       "version_major": 2,
       "version_minor": 0
      },
      "text/plain": [
       "  0%|          | 0/38 [00:00<?, ?it/s]"
      ]
     },
     "metadata": {},
     "output_type": "display_data"
    },
    {
     "name": "stdout",
     "output_type": "stream",
     "text": [
      "Validation Loss: 2.1735796352639074\n",
      "Validation AUC: 0.5370405391284294\n",
      "Validation Accuracy: 0.4849317198310487\n",
      "If converges, will stop in 9 iterations\n",
      "Best Val AUC: 0.5370405391284294 at epoch 2\n",
      "Best Val Loss: 2.1735796352639074 at epoch 2\n",
      "Epoch Time: 4.35282301902771\n",
      "\n",
      "---------\n",
      "Epoch 3 of 50\n"
     ]
    },
    {
     "data": {
      "application/vnd.jupyter.widget-view+json": {
       "model_id": "2ccd28a75fbd446ca63efe13e0c3cd85",
       "version_major": 2,
       "version_minor": 0
      },
      "text/plain": [
       "  0%|          | 0/529 [00:00<?, ?it/s]"
      ]
     },
     "metadata": {},
     "output_type": "display_data"
    },
    {
     "name": "stdout",
     "output_type": "stream",
     "text": [
      "Train Loss: 2.0582544151212967\n",
      "Train AUC: 0.539301948376464\n",
      "Train Accuracy: 0.48631260156596245\n",
      "\n"
     ]
    },
    {
     "data": {
      "application/vnd.jupyter.widget-view+json": {
       "model_id": "e1b80e87b8d14ce893aad0b0d9cb9644",
       "version_major": 2,
       "version_minor": 0
      },
      "text/plain": [
       "  0%|          | 0/38 [00:00<?, ?it/s]"
      ]
     },
     "metadata": {},
     "output_type": "display_data"
    },
    {
     "name": "stdout",
     "output_type": "stream",
     "text": [
      "Validation Loss: 1.9526989362629135\n",
      "Validation AUC: 0.5283196877947325\n",
      "Validation Accuracy: 0.48583866704672074\n",
      "If converges, will stop in 9 iterations\n",
      "If performance continues to decrease, will stop in 3 iterations\n",
      "Best Val AUC: 0.5370405391284294 at epoch 2\n",
      "Best Val Loss: 1.9526989362629135 at epoch 3\n",
      "Epoch Time: 4.347790956497192\n",
      "\n",
      "---------\n",
      "Epoch 4 of 50\n"
     ]
    },
    {
     "data": {
      "application/vnd.jupyter.widget-view+json": {
       "model_id": "987563967b2f47058eee1d8f2a4b7b34",
       "version_major": 2,
       "version_minor": 0
      },
      "text/plain": [
       "  0%|          | 0/529 [00:00<?, ?it/s]"
      ]
     },
     "metadata": {},
     "output_type": "display_data"
    },
    {
     "name": "stdout",
     "output_type": "stream",
     "text": [
      "Train Loss: 1.8568436852185695\n",
      "Train AUC: 0.5411585418437262\n",
      "Train Accuracy: 0.4848352784754026\n",
      "\n"
     ]
    },
    {
     "data": {
      "application/vnd.jupyter.widget-view+json": {
       "model_id": "2693a1b07b8e410aa25d2181b3b94848",
       "version_major": 2,
       "version_minor": 0
      },
      "text/plain": [
       "  0%|          | 0/38 [00:00<?, ?it/s]"
      ]
     },
     "metadata": {},
     "output_type": "display_data"
    },
    {
     "name": "stdout",
     "output_type": "stream",
     "text": [
      "Validation Loss: 1.7862898672547156\n",
      "Validation AUC: 0.5481500227970699\n",
      "Validation Accuracy: 0.48164079707703866\n",
      "If converges, will stop in 8 iterations\n",
      "Best Val AUC: 0.5481500227970699 at epoch 4\n",
      "Best Val Loss: 1.7862898672547156 at epoch 4\n",
      "Epoch Time: 4.483082056045532\n",
      "\n",
      "---------\n",
      "Epoch 5 of 50\n"
     ]
    },
    {
     "data": {
      "application/vnd.jupyter.widget-view+json": {
       "model_id": "5dbc2ae7b4a64b08b8127a3a626aca93",
       "version_major": 2,
       "version_minor": 0
      },
      "text/plain": [
       "  0%|          | 0/529 [00:00<?, ?it/s]"
      ]
     },
     "metadata": {},
     "output_type": "display_data"
    },
    {
     "name": "stdout",
     "output_type": "stream",
     "text": [
      "Train Loss: 1.7495322022645898\n",
      "Train AUC: 0.5440160116146326\n",
      "Train Accuracy: 0.4819323386024524\n",
      "\n"
     ]
    },
    {
     "data": {
      "application/vnd.jupyter.widget-view+json": {
       "model_id": "1197b619d93e4c03ad274293d0f7b57e",
       "version_major": 2,
       "version_minor": 0
      },
      "text/plain": [
       "  0%|          | 0/38 [00:00<?, ?it/s]"
      ]
     },
     "metadata": {},
     "output_type": "display_data"
    },
    {
     "name": "stdout",
     "output_type": "stream",
     "text": [
      "Validation Loss: 1.7095924756111582\n",
      "Validation AUC: 0.5327853178320467\n",
      "Validation Accuracy: 0.4914617397838874\n",
      "If converges, will stop in 9 iterations\n",
      "If performance continues to decrease, will stop in 3 iterations\n",
      "Best Val AUC: 0.5481500227970699 at epoch 4\n",
      "Best Val Loss: 1.7095924756111582 at epoch 5\n",
      "Epoch Time: 4.337705135345459\n",
      "\n",
      "---------\n",
      "Epoch 6 of 50\n"
     ]
    },
    {
     "data": {
      "application/vnd.jupyter.widget-view+json": {
       "model_id": "843eb8fad71d403eb44cd4a2dfdb3bad",
       "version_major": 2,
       "version_minor": 0
      },
      "text/plain": [
       "  0%|          | 0/529 [00:00<?, ?it/s]"
      ]
     },
     "metadata": {},
     "output_type": "display_data"
    },
    {
     "name": "stdout",
     "output_type": "stream",
     "text": [
      "Train Loss: 1.6826698834689024\n",
      "Train AUC: 0.5431837593581146\n",
      "Train Accuracy: 0.47844585610873097\n",
      "\n"
     ]
    },
    {
     "data": {
      "application/vnd.jupyter.widget-view+json": {
       "model_id": "73cfb2d98029424caf0c5f8d2a2e1de9",
       "version_major": 2,
       "version_minor": 0
      },
      "text/plain": [
       "  0%|          | 0/38 [00:00<?, ?it/s]"
      ]
     },
     "metadata": {},
     "output_type": "display_data"
    },
    {
     "name": "stdout",
     "output_type": "stream",
     "text": [
      "Validation Loss: 1.6630991327757598\n",
      "Validation AUC: 0.5358523258702221\n",
      "Validation Accuracy: 0.48456894094477987\n",
      "If converges, will stop in 8 iterations\n",
      "Best Val AUC: 0.5481500227970699 at epoch 4\n",
      "Best Val Loss: 1.6630991327757598 at epoch 6\n",
      "Epoch Time: 4.374602794647217\n",
      "\n",
      "---------\n",
      "Epoch 7 of 50\n"
     ]
    },
    {
     "data": {
      "application/vnd.jupyter.widget-view+json": {
       "model_id": "f8b1da140685433499e531bcc440aada",
       "version_major": 2,
       "version_minor": 0
      },
      "text/plain": [
       "  0%|          | 0/529 [00:00<?, ?it/s]"
      ]
     },
     "metadata": {},
     "output_type": "display_data"
    },
    {
     "name": "stdout",
     "output_type": "stream",
     "text": [
      "Train Loss: 1.6496541913997123\n",
      "Train AUC: 0.5456668485975205\n",
      "Train Accuracy: 0.4919412025409957\n",
      "\n"
     ]
    },
    {
     "data": {
      "application/vnd.jupyter.widget-view+json": {
       "model_id": "978bd919d9e34528972bd3f656e04fb8",
       "version_major": 2,
       "version_minor": 0
      },
      "text/plain": [
       "  0%|          | 0/38 [00:00<?, ?it/s]"
      ]
     },
     "metadata": {},
     "output_type": "display_data"
    },
    {
     "name": "stdout",
     "output_type": "stream",
     "text": [
      "Validation Loss: 1.6442963467765914\n",
      "Validation AUC: 0.5355401375982008\n",
      "Validation Accuracy: 0.501645461377005\n",
      "If converges, will stop in 9 iterations\n",
      "If performance continues to decrease, will stop in 3 iterations\n",
      "Best Val AUC: 0.5481500227970699 at epoch 4\n",
      "Best Val Loss: 1.6442963467765914 at epoch 7\n",
      "Epoch Time: 4.32296085357666\n",
      "\n",
      "---------\n",
      "Epoch 8 of 50\n"
     ]
    },
    {
     "data": {
      "application/vnd.jupyter.widget-view+json": {
       "model_id": "b90df6484b6a4c7fbfe888bbbc7e4374",
       "version_major": 2,
       "version_minor": 0
      },
      "text/plain": [
       "  0%|          | 0/529 [00:00<?, ?it/s]"
      ]
     },
     "metadata": {},
     "output_type": "display_data"
    },
    {
     "name": "stdout",
     "output_type": "stream",
     "text": [
      "Train Loss: 1.6085748271328209\n",
      "Train AUC: 0.5403881699714745\n",
      "Train Accuracy: 0.49277589008716205\n",
      "\n"
     ]
    },
    {
     "data": {
      "application/vnd.jupyter.widget-view+json": {
       "model_id": "c87c3fe2b8764a4c95ceb9f84f2adf42",
       "version_major": 2,
       "version_minor": 0
      },
      "text/plain": [
       "  0%|          | 0/38 [00:00<?, ?it/s]"
      ]
     },
     "metadata": {},
     "output_type": "display_data"
    },
    {
     "name": "stdout",
     "output_type": "stream",
     "text": [
      "Validation Loss: 1.5929557089158277\n",
      "Validation AUC: 0.551663534612431\n",
      "Validation Accuracy: 0.497447591407323\n",
      "If converges, will stop in 8 iterations\n",
      "Best Val AUC: 0.551663534612431 at epoch 8\n",
      "Best Val Loss: 1.5929557089158277 at epoch 8\n",
      "Epoch Time: 4.2914934158325195\n",
      "\n",
      "---------\n",
      "Epoch 9 of 50\n"
     ]
    },
    {
     "data": {
      "application/vnd.jupyter.widget-view+json": {
       "model_id": "24b3b02c1a7541c68802f4cd734c2170",
       "version_major": 2,
       "version_minor": 0
      },
      "text/plain": [
       "  0%|          | 0/529 [00:00<?, ?it/s]"
      ]
     },
     "metadata": {},
     "output_type": "display_data"
    },
    {
     "name": "stdout",
     "output_type": "stream",
     "text": [
      "Train Loss: 1.582172266873321\n",
      "Train AUC: 0.546249087905852\n",
      "Train Accuracy: 0.49948293691830403\n",
      "\n"
     ]
    },
    {
     "data": {
      "application/vnd.jupyter.widget-view+json": {
       "model_id": "a317cf06f8ed4414b2901869d812f779",
       "version_major": 2,
       "version_minor": 0
      },
      "text/plain": [
       "  0%|          | 0/38 [00:00<?, ?it/s]"
      ]
     },
     "metadata": {},
     "output_type": "display_data"
    },
    {
     "name": "stdout",
     "output_type": "stream",
     "text": [
      "Validation Loss: 1.5661007244480907\n",
      "Validation AUC: 0.5404695758642865\n",
      "Validation Accuracy: 0.46731103106942035\n",
      "If converges, will stop in 9 iterations\n",
      "If performance continues to decrease, will stop in 3 iterations\n",
      "Best Val AUC: 0.551663534612431 at epoch 8\n",
      "Best Val Loss: 1.5661007244480907 at epoch 9\n",
      "Epoch Time: 4.314998626708984\n",
      "\n",
      "---------\n",
      "Epoch 10 of 50\n"
     ]
    },
    {
     "data": {
      "application/vnd.jupyter.widget-view+json": {
       "model_id": "8943f007f2c841ab8dce6e1be1ca20cc",
       "version_major": 2,
       "version_minor": 0
      },
      "text/plain": [
       "  0%|          | 0/529 [00:00<?, ?it/s]"
      ]
     },
     "metadata": {},
     "output_type": "display_data"
    },
    {
     "name": "stdout",
     "output_type": "stream",
     "text": [
      "Train Loss: 1.5587520710999627\n",
      "Train AUC: 0.543829680564959\n",
      "Train Accuracy: 0.5022898507903678\n",
      "\n"
     ]
    },
    {
     "data": {
      "application/vnd.jupyter.widget-view+json": {
       "model_id": "195861931af943aca61ff835b9e4cf4e",
       "version_major": 2,
       "version_minor": 0
      },
      "text/plain": [
       "  0%|          | 0/38 [00:00<?, ?it/s]"
      ]
     },
     "metadata": {},
     "output_type": "display_data"
    },
    {
     "name": "stdout",
     "output_type": "stream",
     "text": [
      "Validation Loss: 1.5542560045718095\n",
      "Validation AUC: 0.5543461752449623\n",
      "Validation Accuracy: 0.500945816382058\n",
      "If converges, will stop in 8 iterations\n",
      "Best Val AUC: 0.5543461752449623 at epoch 10\n",
      "Best Val Loss: 1.5542560045718095 at epoch 10\n",
      "Epoch Time: 4.315370082855225\n",
      "\n",
      "---------\n",
      "Epoch 11 of 50\n"
     ]
    },
    {
     "data": {
      "application/vnd.jupyter.widget-view+json": {
       "model_id": "6f9032253ef84cc9bc04ecdb4d6068b9",
       "version_major": 2,
       "version_minor": 0
      },
      "text/plain": [
       "  0%|          | 0/529 [00:00<?, ?it/s]"
      ]
     },
     "metadata": {},
     "output_type": "display_data"
    },
    {
     "name": "stdout",
     "output_type": "stream",
     "text": [
      "Train Loss: 1.5649661520375282\n",
      "Train AUC: 0.5455438134827117\n",
      "Train Accuracy: 0.5300487516619885\n",
      "\n"
     ]
    },
    {
     "data": {
      "application/vnd.jupyter.widget-view+json": {
       "model_id": "ae8ba6fa32ff42aa968125fad5ccc4be",
       "version_major": 2,
       "version_minor": 0
      },
      "text/plain": [
       "  0%|          | 0/38 [00:00<?, ?it/s]"
      ]
     },
     "metadata": {},
     "output_type": "display_data"
    },
    {
     "name": "stdout",
     "output_type": "stream",
     "text": [
      "Validation Loss: 1.5462761964634801\n",
      "Validation AUC: 0.5600202328180057\n",
      "Validation Accuracy: 0.5268845067502785\n",
      "If converges, will stop in 9 iterations\n",
      "Best Val AUC: 0.5600202328180057 at epoch 11\n",
      "Best Val Loss: 1.5462761964634801 at epoch 11\n",
      "Epoch Time: 4.285201549530029\n",
      "\n",
      "---------\n",
      "Epoch 12 of 50\n"
     ]
    },
    {
     "data": {
      "application/vnd.jupyter.widget-view+json": {
       "model_id": "8d69568a805f4ccd9617d7df8fd3bff5",
       "version_major": 2,
       "version_minor": 0
      },
      "text/plain": [
       "  0%|          | 0/529 [00:00<?, ?it/s]"
      ]
     },
     "metadata": {},
     "output_type": "display_data"
    },
    {
     "name": "stdout",
     "output_type": "stream",
     "text": [
      "Train Loss: 1.5583924503339666\n",
      "Train AUC: 0.5488187255494659\n",
      "Train Accuracy: 0.5441276407150244\n",
      "\n"
     ]
    },
    {
     "data": {
      "application/vnd.jupyter.widget-view+json": {
       "model_id": "20233e20ec0d4195add4fe2a9146da24",
       "version_major": 2,
       "version_minor": 0
      },
      "text/plain": [
       "  0%|          | 0/38 [00:00<?, ?it/s]"
      ]
     },
     "metadata": {},
     "output_type": "display_data"
    },
    {
     "name": "stdout",
     "output_type": "stream",
     "text": [
      "Validation Loss: 1.5618509794317965\n",
      "Validation AUC: 0.5526095241744475\n",
      "Validation Accuracy: 0.5478997693762795\n",
      "If performance continues to decrease, will stop in 3 iterations\n",
      "Best Val AUC: 0.5600202328180057 at epoch 11\n",
      "Best Val Loss: 1.5462761964634801 at epoch 11\n",
      "Epoch Time: 4.2953269481658936\n",
      "\n",
      "---------\n",
      "Epoch 13 of 50\n"
     ]
    },
    {
     "data": {
      "application/vnd.jupyter.widget-view+json": {
       "model_id": "c150760dc95c465db5cfe1a5459effc8",
       "version_major": 2,
       "version_minor": 0
      },
      "text/plain": [
       "  0%|          | 0/529 [00:00<?, ?it/s]"
      ]
     },
     "metadata": {},
     "output_type": "display_data"
    },
    {
     "name": "stdout",
     "output_type": "stream",
     "text": [
      "Train Loss: 1.5528410747557349\n",
      "Train AUC: 0.5397467478177216\n",
      "Train Accuracy: 0.5417639237701285\n",
      "\n"
     ]
    },
    {
     "data": {
      "application/vnd.jupyter.widget-view+json": {
       "model_id": "86db44a7acf04222bd994664ead5296a",
       "version_major": 2,
       "version_minor": 0
      },
      "text/plain": [
       "  0%|          | 0/38 [00:00<?, ?it/s]"
      ]
     },
     "metadata": {},
     "output_type": "display_data"
    },
    {
     "name": "stdout",
     "output_type": "stream",
     "text": [
      "Validation Loss: 1.5254788626433118\n",
      "Validation AUC: 0.5415222504604091\n",
      "Validation Accuracy: 0.5485216760384546\n",
      "If converges, will stop in 9 iterations\n",
      "If performance continues to decrease, will stop in 2 iterations\n",
      "Best Val AUC: 0.5600202328180057 at epoch 11\n",
      "Best Val Loss: 1.5254788626433118 at epoch 13\n",
      "Epoch Time: 4.313374996185303\n",
      "\n",
      "---------\n",
      "Epoch 14 of 50\n"
     ]
    },
    {
     "data": {
      "application/vnd.jupyter.widget-view+json": {
       "model_id": "5d543ded9dd04845826c48ca056eb5c7",
       "version_major": 2,
       "version_minor": 0
      },
      "text/plain": [
       "  0%|          | 0/529 [00:00<?, ?it/s]"
      ]
     },
     "metadata": {},
     "output_type": "display_data"
    },
    {
     "name": "stdout",
     "output_type": "stream",
     "text": [
      "Train Loss: 1.5416566576895903\n",
      "Train AUC: 0.5419707891942361\n",
      "Train Accuracy: 0.5565740877529916\n",
      "\n"
     ]
    },
    {
     "data": {
      "application/vnd.jupyter.widget-view+json": {
       "model_id": "07f4606f07c849ac9732b933ae0661ab",
       "version_major": 2,
       "version_minor": 0
      },
      "text/plain": [
       "  0%|          | 0/38 [00:00<?, ?it/s]"
      ]
     },
     "metadata": {},
     "output_type": "display_data"
    },
    {
     "name": "stdout",
     "output_type": "stream",
     "text": [
      "Validation Loss: 1.57124933582537\n",
      "Validation AUC: 0.5480854658623598\n",
      "Validation Accuracy: 0.5552589982120183\n",
      "Best Val AUC: 0.5600202328180057 at epoch 11\n",
      "Best Val Loss: 1.5254788626433118 at epoch 13\n",
      "Epoch Time: 4.246925115585327\n",
      "\n",
      "---------\n",
      "Epoch 15 of 50\n"
     ]
    },
    {
     "data": {
      "application/vnd.jupyter.widget-view+json": {
       "model_id": "ef36f76b91614a3581500fe2d2310d9c",
       "version_major": 2,
       "version_minor": 0
      },
      "text/plain": [
       "  0%|          | 0/529 [00:00<?, ?it/s]"
      ]
     },
     "metadata": {},
     "output_type": "display_data"
    },
    {
     "name": "stdout",
     "output_type": "stream",
     "text": [
      "Train Loss: 1.546723957438632\n",
      "Train AUC: 0.5452994448584947\n",
      "Train Accuracy: 0.5695597577190131\n",
      "\n"
     ]
    },
    {
     "data": {
      "application/vnd.jupyter.widget-view+json": {
       "model_id": "19b0a454cd0d4735985bd94a1b299672",
       "version_major": 2,
       "version_minor": 0
      },
      "text/plain": [
       "  0%|          | 0/38 [00:00<?, ?it/s]"
      ]
     },
     "metadata": {},
     "output_type": "display_data"
    },
    {
     "name": "stdout",
     "output_type": "stream",
     "text": [
      "Validation Loss: 1.5715448090906252\n",
      "Validation AUC: 0.5445963528087211\n",
      "Validation Accuracy: 0.5409551449819906\n",
      "If performance continues to decrease, will stop in 3 iterations\n",
      "Best Val AUC: 0.5600202328180057 at epoch 11\n",
      "Best Val Loss: 1.5254788626433118 at epoch 13\n",
      "Epoch Time: 4.281890153884888\n",
      "\n",
      "---------\n",
      "Epoch 16 of 50\n"
     ]
    },
    {
     "data": {
      "application/vnd.jupyter.widget-view+json": {
       "model_id": "97a509f517eb407f8fee87ceb288c59d",
       "version_major": 2,
       "version_minor": 0
      },
      "text/plain": [
       "  0%|          | 0/529 [00:00<?, ?it/s]"
      ]
     },
     "metadata": {},
     "output_type": "display_data"
    },
    {
     "name": "stdout",
     "output_type": "stream",
     "text": [
      "Train Loss: 1.5335745305342752\n",
      "Train AUC: 0.548817486679774\n",
      "Train Accuracy: 0.5590855370069434\n",
      "\n"
     ]
    },
    {
     "data": {
      "application/vnd.jupyter.widget-view+json": {
       "model_id": "afd57fc45c604146bc68abda57666284",
       "version_major": 2,
       "version_minor": 0
      },
      "text/plain": [
       "  0%|          | 0/38 [00:00<?, ?it/s]"
      ]
     },
     "metadata": {},
     "output_type": "display_data"
    },
    {
     "name": "stdout",
     "output_type": "stream",
     "text": [
      "Validation Loss: 1.5399404305709858\n",
      "Validation AUC: 0.5537304638020486\n",
      "Validation Accuracy: 0.5463709154984323\n",
      "If converges, will stop in 9 iterations\n",
      "Best Val AUC: 0.5600202328180057 at epoch 11\n",
      "Best Val Loss: 1.5254788626433118 at epoch 13\n",
      "Epoch Time: 4.263838291168213\n",
      "\n",
      "---------\n",
      "Epoch 17 of 50\n"
     ]
    },
    {
     "data": {
      "application/vnd.jupyter.widget-view+json": {
       "model_id": "fd409a3ab65e42daa66c758f2fb82dad",
       "version_major": 2,
       "version_minor": 0
      },
      "text/plain": [
       "  0%|          | 0/529 [00:00<?, ?it/s]"
      ]
     },
     "metadata": {},
     "output_type": "display_data"
    },
    {
     "name": "stdout",
     "output_type": "stream",
     "text": [
      "Train Loss: 1.5598667015539593\n",
      "Train AUC: 0.5485243131100666\n",
      "Train Accuracy: 0.5557394002068252\n",
      "\n"
     ]
    },
    {
     "data": {
      "application/vnd.jupyter.widget-view+json": {
       "model_id": "9850a5de865542f9bbba872624de1f3c",
       "version_major": 2,
       "version_minor": 0
      },
      "text/plain": [
       "  0%|          | 0/38 [00:00<?, ?it/s]"
      ]
     },
     "metadata": {},
     "output_type": "display_data"
    },
    {
     "name": "stdout",
     "output_type": "stream",
     "text": [
      "Validation Loss: 1.5600007024719347\n",
      "Validation AUC: 0.5610990185955388\n",
      "Validation Accuracy: 0.5457490088362572\n",
      "Best Val AUC: 0.5610990185955388 at epoch 17\n",
      "Best Val Loss: 1.5254788626433118 at epoch 13\n",
      "Epoch Time: 4.340953588485718\n",
      "\n",
      "---------\n",
      "Epoch 18 of 50\n"
     ]
    },
    {
     "data": {
      "application/vnd.jupyter.widget-view+json": {
       "model_id": "6800aa86bbe7444893ea37b369d0844e",
       "version_major": 2,
       "version_minor": 0
      },
      "text/plain": [
       "  0%|          | 0/529 [00:00<?, ?it/s]"
      ]
     },
     "metadata": {},
     "output_type": "display_data"
    },
    {
     "name": "stdout",
     "output_type": "stream",
     "text": [
      "Train Loss: 1.555257693991035\n",
      "Train AUC: 0.5527701277749588\n",
      "Train Accuracy: 0.5541217314226622\n",
      "\n"
     ]
    },
    {
     "data": {
      "application/vnd.jupyter.widget-view+json": {
       "model_id": "2506bc91d708488985c539287f115bb7",
       "version_major": 2,
       "version_minor": 0
      },
      "text/plain": [
       "  0%|          | 0/38 [00:00<?, ?it/s]"
      ]
     },
     "metadata": {},
     "output_type": "display_data"
    },
    {
     "name": "stdout",
     "output_type": "stream",
     "text": [
      "Validation Loss: 1.5307916124109868\n",
      "Validation AUC: 0.5530064321573568\n",
      "Validation Accuracy: 0.5427690394133348\n",
      "If converges, will stop in 9 iterations\n",
      "If performance continues to decrease, will stop in 3 iterations\n",
      "Best Val AUC: 0.5610990185955388 at epoch 17\n",
      "Best Val Loss: 1.5254788626433118 at epoch 13\n",
      "Epoch Time: 4.297165155410767\n",
      "\n",
      "---------\n",
      "Epoch 19 of 50\n"
     ]
    },
    {
     "data": {
      "application/vnd.jupyter.widget-view+json": {
       "model_id": "7a85cf05967749f088be23a5ab3fe9f3",
       "version_major": 2,
       "version_minor": 0
      },
      "text/plain": [
       "  0%|          | 0/529 [00:00<?, ?it/s]"
      ]
     },
     "metadata": {},
     "output_type": "display_data"
    },
    {
     "name": "stdout",
     "output_type": "stream",
     "text": [
      "Train Loss: 1.523767293615393\n",
      "Train AUC: 0.5440611609480274\n",
      "Train Accuracy: 0.5494386172255873\n",
      "\n"
     ]
    },
    {
     "data": {
      "application/vnd.jupyter.widget-view+json": {
       "model_id": "b83b0eb299e44079bff7d29ac92cdb4c",
       "version_major": 2,
       "version_minor": 0
      },
      "text/plain": [
       "  0%|          | 0/38 [00:00<?, ?it/s]"
      ]
     },
     "metadata": {},
     "output_type": "display_data"
    },
    {
     "name": "stdout",
     "output_type": "stream",
     "text": [
      "Validation Loss: 1.5383305009410606\n",
      "Validation AUC: 0.545545561204738\n",
      "Validation Accuracy: 0.552408592677049\n",
      "If performance continues to decrease, will stop in 2 iterations\n",
      "Best Val AUC: 0.5610990185955388 at epoch 17\n",
      "Best Val Loss: 1.5254788626433118 at epoch 13\n",
      "Epoch Time: 4.318366765975952\n",
      "\n",
      "---------\n",
      "Epoch 20 of 50\n"
     ]
    },
    {
     "data": {
      "application/vnd.jupyter.widget-view+json": {
       "model_id": "f93000c2c2ef476498805b66d8e2b943",
       "version_major": 2,
       "version_minor": 0
      },
      "text/plain": [
       "  0%|          | 0/529 [00:00<?, ?it/s]"
      ]
     },
     "metadata": {},
     "output_type": "display_data"
    },
    {
     "name": "stdout",
     "output_type": "stream",
     "text": [
      "Train Loss: 1.5417875391918414\n",
      "Train AUC: 0.5505761915629582\n",
      "Train Accuracy: 0.5603117151721081\n",
      "\n"
     ]
    },
    {
     "data": {
      "application/vnd.jupyter.widget-view+json": {
       "model_id": "3d472f999bc34570a80a26c147d1ad02",
       "version_major": 2,
       "version_minor": 0
      },
      "text/plain": [
       "  0%|          | 0/38 [00:00<?, ?it/s]"
      ]
     },
     "metadata": {},
     "output_type": "display_data"
    },
    {
     "name": "stdout",
     "output_type": "stream",
     "text": [
      "Validation Loss: 1.5323391126617887\n",
      "Validation AUC: 0.5565017382476122\n",
      "Validation Accuracy: 0.5321966261563577\n",
      "If converges, will stop in 8 iterations\n",
      "Best Val AUC: 0.5610990185955388 at epoch 17\n",
      "Best Val Loss: 1.5254788626433118 at epoch 13\n",
      "Epoch Time: 4.327743053436279\n",
      "\n",
      "---------\n",
      "Epoch 21 of 50\n"
     ]
    },
    {
     "data": {
      "application/vnd.jupyter.widget-view+json": {
       "model_id": "584c424e63154a03a115a82d7cb16e7b",
       "version_major": 2,
       "version_minor": 0
      },
      "text/plain": [
       "  0%|          | 0/529 [00:00<?, ?it/s]"
      ]
     },
     "metadata": {},
     "output_type": "display_data"
    },
    {
     "name": "stdout",
     "output_type": "stream",
     "text": [
      "Train Loss: 1.5425148835465308\n",
      "Train AUC: 0.5457452423365414\n",
      "Train Accuracy: 0.536548973260452\n",
      "\n"
     ]
    },
    {
     "data": {
      "application/vnd.jupyter.widget-view+json": {
       "model_id": "f0b996383ee94e68883d4e710a530627",
       "version_major": 2,
       "version_minor": 0
      },
      "text/plain": [
       "  0%|          | 0/38 [00:00<?, ?it/s]"
      ]
     },
     "metadata": {},
     "output_type": "display_data"
    },
    {
     "name": "stdout",
     "output_type": "stream",
     "text": [
      "Validation Loss: 1.5483658090919945\n",
      "Validation AUC: 0.5549886416360865\n",
      "Validation Accuracy: 0.5198103184680366\n",
      "If performance continues to decrease, will stop in 3 iterations\n",
      "Best Val AUC: 0.5610990185955388 at epoch 17\n",
      "Best Val Loss: 1.5254788626433118 at epoch 13\n",
      "Epoch Time: 4.282575845718384\n",
      "\n",
      "---------\n",
      "Epoch 22 of 50\n"
     ]
    },
    {
     "data": {
      "application/vnd.jupyter.widget-view+json": {
       "model_id": "a477fbd57ef94c7fadf6aafdd0afcdae",
       "version_major": 2,
       "version_minor": 0
      },
      "text/plain": [
       "  0%|          | 0/529 [00:00<?, ?it/s]"
      ]
     },
     "metadata": {},
     "output_type": "display_data"
    },
    {
     "name": "stdout",
     "output_type": "stream",
     "text": [
      "Train Loss: 1.5539282334395204\n",
      "Train AUC: 0.5471704893515932\n",
      "Train Accuracy: 0.5267690944009454\n",
      "\n"
     ]
    },
    {
     "data": {
      "application/vnd.jupyter.widget-view+json": {
       "model_id": "11ce18b2d76c43039f135c019dd3e59d",
       "version_major": 2,
       "version_minor": 0
      },
      "text/plain": [
       "  0%|          | 0/38 [00:00<?, ?it/s]"
      ]
     },
     "metadata": {},
     "output_type": "display_data"
    },
    {
     "name": "stdout",
     "output_type": "stream",
     "text": [
      "Validation Loss: 1.538965030402113\n",
      "Validation AUC: 0.5613237962114479\n",
      "Validation Accuracy: 0.5223756834495089\n",
      "If converges, will stop in 9 iterations\n",
      "Best Val AUC: 0.5613237962114479 at epoch 22\n",
      "Best Val Loss: 1.5254788626433118 at epoch 13\n",
      "Epoch Time: 4.36185884475708\n",
      "\n",
      "---------\n",
      "Epoch 23 of 50\n"
     ]
    },
    {
     "data": {
      "application/vnd.jupyter.widget-view+json": {
       "model_id": "a5b95f1ec8e04e0fa66579eba44a9551",
       "version_major": 2,
       "version_minor": 0
      },
      "text/plain": [
       "  0%|          | 0/529 [00:00<?, ?it/s]"
      ]
     },
     "metadata": {},
     "output_type": "display_data"
    },
    {
     "name": "stdout",
     "output_type": "stream",
     "text": [
      "Train Loss: 1.5556134763885696\n",
      "Train AUC: 0.5486259393366612\n",
      "Train Accuracy: 0.5334835278475403\n",
      "\n"
     ]
    },
    {
     "data": {
      "application/vnd.jupyter.widget-view+json": {
       "model_id": "ad1a0282a44c4a24830fb6a506f2699f",
       "version_major": 2,
       "version_minor": 0
      },
      "text/plain": [
       "  0%|          | 0/38 [00:00<?, ?it/s]"
      ]
     },
     "metadata": {},
     "output_type": "display_data"
    },
    {
     "name": "stdout",
     "output_type": "stream",
     "text": [
      "Validation Loss: 1.590201851288846\n",
      "Validation AUC: 0.5493068331107702\n",
      "Validation Accuracy: 0.5085641729937032\n",
      "If performance continues to decrease, will stop in 3 iterations\n",
      "Best Val AUC: 0.5613237962114479 at epoch 22\n",
      "Best Val Loss: 1.5254788626433118 at epoch 13\n",
      "Epoch Time: 4.708477973937988\n",
      "\n",
      "---------\n",
      "Epoch 24 of 50\n"
     ]
    },
    {
     "data": {
      "application/vnd.jupyter.widget-view+json": {
       "model_id": "4f9e743195ba4da880d79bf4a854cd16",
       "version_major": 2,
       "version_minor": 0
      },
      "text/plain": [
       "  0%|          | 0/529 [00:00<?, ?it/s]"
      ]
     },
     "metadata": {},
     "output_type": "display_data"
    },
    {
     "name": "stdout",
     "output_type": "stream",
     "text": [
      "Train Loss: 1.5615237083070803\n",
      "Train AUC: 0.5462346842052587\n",
      "Train Accuracy: 0.5375757128083912\n",
      "\n"
     ]
    },
    {
     "data": {
      "application/vnd.jupyter.widget-view+json": {
       "model_id": "7721b0d9e911475b8b5b7c1d59b867f2",
       "version_major": 2,
       "version_minor": 0
      },
      "text/plain": [
       "  0%|          | 0/38 [00:00<?, ?it/s]"
      ]
     },
     "metadata": {},
     "output_type": "display_data"
    },
    {
     "name": "stdout",
     "output_type": "stream",
     "text": [
      "Validation Loss: 1.554884332541463\n",
      "Validation AUC: 0.5497754695905422\n",
      "Validation Accuracy: 0.5485994143712265\n",
      "If converges, will stop in 9 iterations\n",
      "Best Val AUC: 0.5613237962114479 at epoch 22\n",
      "Best Val Loss: 1.5254788626433118 at epoch 13\n",
      "Epoch Time: 4.331761360168457\n",
      "\n",
      "---------\n",
      "Epoch 25 of 50\n"
     ]
    },
    {
     "data": {
      "application/vnd.jupyter.widget-view+json": {
       "model_id": "dc680d506919471e9c5e5c4e2b25227b",
       "version_major": 2,
       "version_minor": 0
      },
      "text/plain": [
       "  0%|          | 0/529 [00:00<?, ?it/s]"
      ]
     },
     "metadata": {},
     "output_type": "display_data"
    },
    {
     "name": "stdout",
     "output_type": "stream",
     "text": [
      "Train Loss: 1.5459562504702171\n",
      "Train AUC: 0.5523454131667862\n",
      "Train Accuracy: 0.5501920520017728\n",
      "\n"
     ]
    },
    {
     "data": {
      "application/vnd.jupyter.widget-view+json": {
       "model_id": "79644c1fef8244588b66b733ac138445",
       "version_major": 2,
       "version_minor": 0
      },
      "text/plain": [
       "  0%|          | 0/38 [00:00<?, ?it/s]"
      ]
     },
     "metadata": {},
     "output_type": "display_data"
    },
    {
     "name": "stdout",
     "output_type": "stream",
     "text": [
      "Validation Loss: 1.5667225884259839\n",
      "Validation AUC: 0.5569947091124263\n",
      "Validation Accuracy: 0.5395558549920966\n",
      "Best Val AUC: 0.5613237962114479 at epoch 22\n",
      "Best Val Loss: 1.5254788626433118 at epoch 13\n",
      "Epoch Time: 4.354710817337036\n",
      "\n",
      "---------\n",
      "Epoch 26 of 50\n"
     ]
    },
    {
     "data": {
      "application/vnd.jupyter.widget-view+json": {
       "model_id": "f0b8b0afd7554557afcccc200b8d6b09",
       "version_major": 2,
       "version_minor": 0
      },
      "text/plain": [
       "  0%|          | 0/529 [00:00<?, ?it/s]"
      ]
     },
     "metadata": {},
     "output_type": "display_data"
    },
    {
     "name": "stdout",
     "output_type": "stream",
     "text": [
      "Train Loss: 1.5375774036989867\n",
      "Train AUC: 0.5535482252301951\n",
      "Train Accuracy: 0.536290441719604\n",
      "\n"
     ]
    },
    {
     "data": {
      "application/vnd.jupyter.widget-view+json": {
       "model_id": "00716979220241148f1baebe808fb2d8",
       "version_major": 2,
       "version_minor": 0
      },
      "text/plain": [
       "  0%|          | 0/38 [00:00<?, ?it/s]"
      ]
     },
     "metadata": {},
     "output_type": "display_data"
    },
    {
     "name": "stdout",
     "output_type": "stream",
     "text": [
      "Validation Loss: 1.5243720462162238\n",
      "Validation AUC: 0.5433623419803575\n",
      "Validation Accuracy: 0.4731932315824933\n",
      "If converges, will stop in 9 iterations\n",
      "If performance continues to decrease, will stop in 3 iterations\n",
      "Best Val AUC: 0.5613237962114479 at epoch 22\n",
      "Best Val Loss: 1.5243720462162238 at epoch 26\n",
      "Epoch Time: 4.327915668487549\n",
      "\n",
      "---------\n",
      "Epoch 27 of 50\n"
     ]
    },
    {
     "data": {
      "application/vnd.jupyter.widget-view+json": {
       "model_id": "ca7512fb915f47cbbb03fc313fb666b1",
       "version_major": 2,
       "version_minor": 0
      },
      "text/plain": [
       "  0%|          | 0/529 [00:00<?, ?it/s]"
      ]
     },
     "metadata": {},
     "output_type": "display_data"
    },
    {
     "name": "stdout",
     "output_type": "stream",
     "text": [
      "Train Loss: 1.5258662323846073\n",
      "Train AUC: 0.5494665797295645\n",
      "Train Accuracy: 0.5177721967794356\n",
      "\n"
     ]
    },
    {
     "data": {
      "application/vnd.jupyter.widget-view+json": {
       "model_id": "381f0315425f49aab3290c618f7ae219",
       "version_major": 2,
       "version_minor": 0
      },
      "text/plain": [
       "  0%|          | 0/38 [00:00<?, ?it/s]"
      ]
     },
     "metadata": {},
     "output_type": "display_data"
    },
    {
     "name": "stdout",
     "output_type": "stream",
     "text": [
      "Validation Loss: 1.537625777310544\n",
      "Validation AUC: 0.5548435108486809\n",
      "Validation Accuracy: 0.5336995672566143\n",
      "Best Val AUC: 0.5613237962114479 at epoch 22\n",
      "Best Val Loss: 1.5243720462162238 at epoch 26\n",
      "Epoch Time: 4.339479923248291\n",
      "\n",
      "---------\n",
      "Epoch 28 of 50\n"
     ]
    },
    {
     "data": {
      "application/vnd.jupyter.widget-view+json": {
       "model_id": "b83aa100451046e7a3dfd7724dc876c9",
       "version_major": 2,
       "version_minor": 0
      },
      "text/plain": [
       "  0%|          | 0/529 [00:00<?, ?it/s]"
      ]
     },
     "metadata": {},
     "output_type": "display_data"
    },
    {
     "name": "stdout",
     "output_type": "stream",
     "text": [
      "Train Loss: 1.5276414363667157\n",
      "Train AUC: 0.5496085996284787\n",
      "Train Accuracy: 0.5450731274929828\n",
      "\n"
     ]
    },
    {
     "data": {
      "application/vnd.jupyter.widget-view+json": {
       "model_id": "3fe0cc5f4f0a4c9b9587d49aaed32503",
       "version_major": 2,
       "version_minor": 0
      },
      "text/plain": [
       "  0%|          | 0/38 [00:00<?, ?it/s]"
      ]
     },
     "metadata": {},
     "output_type": "display_data"
    },
    {
     "name": "stdout",
     "output_type": "stream",
     "text": [
      "Validation Loss: 1.5277108121288308\n",
      "Validation AUC: 0.551417216559392\n",
      "Validation Accuracy: 0.5267290300847348\n",
      "If converges, will stop in 9 iterations\n",
      "If performance continues to decrease, will stop in 3 iterations\n",
      "Best Val AUC: 0.5613237962114479 at epoch 22\n",
      "Best Val Loss: 1.5243720462162238 at epoch 26\n",
      "Epoch Time: 4.278538227081299\n",
      "\n",
      "---------\n",
      "Epoch 29 of 50\n"
     ]
    },
    {
     "data": {
      "application/vnd.jupyter.widget-view+json": {
       "model_id": "464e17651dc04e2bb6c4fd8cdaf3ee89",
       "version_major": 2,
       "version_minor": 0
      },
      "text/plain": [
       "  0%|          | 0/529 [00:00<?, ?it/s]"
      ]
     },
     "metadata": {},
     "output_type": "display_data"
    },
    {
     "name": "stdout",
     "output_type": "stream",
     "text": [
      "Train Loss: 1.5562686286123792\n",
      "Train AUC: 0.5493366845578801\n",
      "Train Accuracy: 0.5304254690500813\n",
      "\n"
     ]
    },
    {
     "data": {
      "application/vnd.jupyter.widget-view+json": {
       "model_id": "f3e402f46042442e8712088b3c0201c1",
       "version_major": 2,
       "version_minor": 0
      },
      "text/plain": [
       "  0%|          | 0/38 [00:00<?, ?it/s]"
      ]
     },
     "metadata": {},
     "output_type": "display_data"
    },
    {
     "name": "stdout",
     "output_type": "stream",
     "text": [
      "Validation Loss: 1.563289804731344\n",
      "Validation AUC: 0.5553354903126229\n",
      "Validation Accuracy: 0.4940271047653598\n",
      "Best Val AUC: 0.5613237962114479 at epoch 22\n",
      "Best Val Loss: 1.5243720462162238 at epoch 26\n",
      "Epoch Time: 4.261162042617798\n",
      "\n",
      "---------\n",
      "Epoch 30 of 50\n"
     ]
    },
    {
     "data": {
      "application/vnd.jupyter.widget-view+json": {
       "model_id": "71fddb5d92ac46459fa6137a5375d9ed",
       "version_major": 2,
       "version_minor": 0
      },
      "text/plain": [
       "  0%|          | 0/529 [00:00<?, ?it/s]"
      ]
     },
     "metadata": {},
     "output_type": "display_data"
    },
    {
     "name": "stdout",
     "output_type": "stream",
     "text": [
      "Train Loss: 1.5625375114847373\n",
      "Train AUC: 0.5445813589662666\n",
      "Train Accuracy: 0.5191978135618259\n",
      "\n"
     ]
    },
    {
     "data": {
      "application/vnd.jupyter.widget-view+json": {
       "model_id": "8fc306865b4c4a85b6f887ff006402de",
       "version_major": 2,
       "version_minor": 0
      },
      "text/plain": [
       "  0%|          | 0/38 [00:00<?, ?it/s]"
      ]
     },
     "metadata": {},
     "output_type": "display_data"
    },
    {
     "name": "stdout",
     "output_type": "stream",
     "text": [
      "Validation Loss: 1.517395182582087\n",
      "Validation AUC: 0.5541216293851012\n",
      "Validation Accuracy: 0.5396335933248685\n",
      "If converges, will stop in 9 iterations\n",
      "If performance continues to decrease, will stop in 3 iterations\n",
      "Best Val AUC: 0.5613237962114479 at epoch 22\n",
      "Best Val Loss: 1.517395182582087 at epoch 30\n",
      "Epoch Time: 4.298693418502808\n",
      "\n",
      "---------\n",
      "Epoch 31 of 50\n"
     ]
    },
    {
     "data": {
      "application/vnd.jupyter.widget-view+json": {
       "model_id": "02e3c1f24e6e48dda91e89e80835ea61",
       "version_major": 2,
       "version_minor": 0
      },
      "text/plain": [
       "  0%|          | 0/529 [00:00<?, ?it/s]"
      ]
     },
     "metadata": {},
     "output_type": "display_data"
    },
    {
     "name": "stdout",
     "output_type": "stream",
     "text": [
      "Train Loss: 1.515977515044479\n",
      "Train AUC: 0.544464614953747\n",
      "Train Accuracy: 0.5208376421923475\n",
      "\n"
     ]
    },
    {
     "data": {
      "application/vnd.jupyter.widget-view+json": {
       "model_id": "99e6f174a95b4996a2ccae4508232a3c",
       "version_major": 2,
       "version_minor": 0
      },
      "text/plain": [
       "  0%|          | 0/38 [00:00<?, ?it/s]"
      ]
     },
     "metadata": {},
     "output_type": "display_data"
    },
    {
     "name": "stdout",
     "output_type": "stream",
     "text": [
      "Validation Loss: 1.5087681663076438\n",
      "Validation AUC: 0.5591203369588734\n",
      "Validation Accuracy: 0.48889637480241505\n",
      "If converges, will stop in 8 iterations\n",
      "Best Val AUC: 0.5613237962114479 at epoch 22\n",
      "Best Val Loss: 1.5087681663076438 at epoch 31\n",
      "Epoch Time: 4.371835470199585\n",
      "\n",
      "---------\n",
      "Epoch 32 of 50\n"
     ]
    },
    {
     "data": {
      "application/vnd.jupyter.widget-view+json": {
       "model_id": "88cfebc03b494c66a4fb7c17e1890913",
       "version_major": 2,
       "version_minor": 0
      },
      "text/plain": [
       "  0%|          | 0/529 [00:00<?, ?it/s]"
      ]
     },
     "metadata": {},
     "output_type": "display_data"
    },
    {
     "name": "stdout",
     "output_type": "stream",
     "text": [
      "Train Loss: 1.5231277462136736\n",
      "Train AUC: 0.5530999437027324\n",
      "Train Accuracy: 0.5289185994977101\n",
      "\n"
     ]
    },
    {
     "data": {
      "application/vnd.jupyter.widget-view+json": {
       "model_id": "41231f28921a4d819c684bc549685f7b",
       "version_major": 2,
       "version_minor": 0
      },
      "text/plain": [
       "  0%|          | 0/38 [00:00<?, ?it/s]"
      ]
     },
     "metadata": {},
     "output_type": "display_data"
    },
    {
     "name": "stdout",
     "output_type": "stream",
     "text": [
      "Validation Loss: 1.561746805622461\n",
      "Validation AUC: 0.5531462969323379\n",
      "Validation Accuracy: 0.5048845585758337\n",
      "If performance continues to decrease, will stop in 3 iterations\n",
      "Best Val AUC: 0.5613237962114479 at epoch 22\n",
      "Best Val Loss: 1.5087681663076438 at epoch 31\n",
      "Epoch Time: 4.33866286277771\n",
      "\n",
      "---------\n",
      "Epoch 33 of 50\n"
     ]
    },
    {
     "data": {
      "application/vnd.jupyter.widget-view+json": {
       "model_id": "66df480ae6f14ac29740c6dda849fcb2",
       "version_major": 2,
       "version_minor": 0
      },
      "text/plain": [
       "  0%|          | 0/529 [00:00<?, ?it/s]"
      ]
     },
     "metadata": {},
     "output_type": "display_data"
    },
    {
     "name": "stdout",
     "output_type": "stream",
     "text": [
      "Train Loss: 1.5368917859831692\n",
      "Train AUC: 0.5518443440117254\n",
      "Train Accuracy: 0.5236888757571281\n",
      "\n"
     ]
    },
    {
     "data": {
      "application/vnd.jupyter.widget-view+json": {
       "model_id": "92ca0fca80c640ffb6423776f6f2bf2d",
       "version_major": 2,
       "version_minor": 0
      },
      "text/plain": [
       "  0%|          | 0/38 [00:00<?, ?it/s]"
      ]
     },
     "metadata": {},
     "output_type": "display_data"
    },
    {
     "name": "stdout",
     "output_type": "stream",
     "text": [
      "Validation Loss: 1.5079141395475326\n",
      "Validation AUC: 0.5585485947884039\n",
      "Validation Accuracy: 0.48975149646290583\n",
      "If converges, will stop in 9 iterations\n",
      "Best Val AUC: 0.5613237962114479 at epoch 22\n",
      "Best Val Loss: 1.5079141395475326 at epoch 33\n",
      "Epoch Time: 4.310427665710449\n",
      "\n",
      "---------\n",
      "Epoch 34 of 50\n"
     ]
    },
    {
     "data": {
      "application/vnd.jupyter.widget-view+json": {
       "model_id": "521332e2acaa4570b166cf886bee5e2a",
       "version_major": 2,
       "version_minor": 0
      },
      "text/plain": [
       "  0%|          | 0/529 [00:00<?, ?it/s]"
      ]
     },
     "metadata": {},
     "output_type": "display_data"
    },
    {
     "name": "stdout",
     "output_type": "stream",
     "text": [
      "Train Loss: 1.5034391149555353\n",
      "Train AUC: 0.5499250824578206\n",
      "Train Accuracy: 0.5486408627566849\n",
      "\n"
     ]
    },
    {
     "data": {
      "application/vnd.jupyter.widget-view+json": {
       "model_id": "d689089b519a4879aaac9b2e3eb10323",
       "version_major": 2,
       "version_minor": 0
      },
      "text/plain": [
       "  0%|          | 0/38 [00:00<?, ?it/s]"
      ]
     },
     "metadata": {},
     "output_type": "display_data"
    },
    {
     "name": "stdout",
     "output_type": "stream",
     "text": [
      "Validation Loss: 1.5250305539968951\n",
      "Validation AUC: 0.5520214689532645\n",
      "Validation Accuracy: 0.5193698012489959\n",
      "If performance continues to decrease, will stop in 3 iterations\n",
      "Best Val AUC: 0.5613237962114479 at epoch 22\n",
      "Best Val Loss: 1.5079141395475326 at epoch 33\n",
      "Epoch Time: 4.355424404144287\n",
      "\n",
      "---------\n",
      "Epoch 35 of 50\n"
     ]
    },
    {
     "data": {
      "application/vnd.jupyter.widget-view+json": {
       "model_id": "53e03f305f8e44ae95d04cfa40c7e2e3",
       "version_major": 2,
       "version_minor": 0
      },
      "text/plain": [
       "  0%|          | 0/529 [00:00<?, ?it/s]"
      ]
     },
     "metadata": {},
     "output_type": "display_data"
    },
    {
     "name": "stdout",
     "output_type": "stream",
     "text": [
      "Train Loss: 1.5362832133434543\n",
      "Train AUC: 0.5500201651808307\n",
      "Train Accuracy: 0.52984192642931\n",
      "\n"
     ]
    },
    {
     "data": {
      "application/vnd.jupyter.widget-view+json": {
       "model_id": "591f035523814a60833928aa28337eed",
       "version_major": 2,
       "version_minor": 0
      },
      "text/plain": [
       "  0%|          | 0/38 [00:00<?, ?it/s]"
      ]
     },
     "metadata": {},
     "output_type": "display_data"
    },
    {
     "name": "stdout",
     "output_type": "stream",
     "text": [
      "Validation Loss: 1.5721669981723052\n",
      "Validation AUC: 0.5515545191425089\n",
      "Validation Accuracy: 0.5164934829364359\n",
      "If performance continues to decrease, will stop in 2 iterations\n",
      "Best Val AUC: 0.5613237962114479 at epoch 22\n",
      "Best Val Loss: 1.5079141395475326 at epoch 33\n",
      "Epoch Time: 4.330246448516846\n",
      "\n",
      "---------\n",
      "Epoch 36 of 50\n"
     ]
    },
    {
     "data": {
      "application/vnd.jupyter.widget-view+json": {
       "model_id": "6c893a6b6d074f34ac0effc1edbf0548",
       "version_major": 2,
       "version_minor": 0
      },
      "text/plain": [
       "  0%|          | 0/529 [00:00<?, ?it/s]"
      ]
     },
     "metadata": {},
     "output_type": "display_data"
    },
    {
     "name": "stdout",
     "output_type": "stream",
     "text": [
      "Train Loss: 1.5530504779212249\n",
      "Train AUC: 0.5489442689021479\n",
      "Train Accuracy: 0.5323459890678092\n",
      "\n"
     ]
    },
    {
     "data": {
      "application/vnd.jupyter.widget-view+json": {
       "model_id": "19652a6a31d14ffbbc19d21b0157b904",
       "version_major": 2,
       "version_minor": 0
      },
      "text/plain": [
       "  0%|          | 0/38 [00:00<?, ?it/s]"
      ]
     },
     "metadata": {},
     "output_type": "display_data"
    },
    {
     "name": "stdout",
     "output_type": "stream",
     "text": [
      "Validation Loss: 1.5023744235408163\n",
      "Validation AUC: 0.5567333526669379\n",
      "Validation Accuracy: 0.5475369904900106\n",
      "If converges, will stop in 9 iterations\n",
      "Best Val AUC: 0.5613237962114479 at epoch 22\n",
      "Best Val Loss: 1.5023744235408163 at epoch 36\n",
      "Epoch Time: 4.326541900634766\n",
      "\n",
      "---------\n",
      "Epoch 37 of 50\n"
     ]
    },
    {
     "data": {
      "application/vnd.jupyter.widget-view+json": {
       "model_id": "4d60455fd9bc4f58ad8efbc768816775",
       "version_major": 2,
       "version_minor": 0
      },
      "text/plain": [
       "  0%|          | 0/529 [00:00<?, ?it/s]"
      ]
     },
     "metadata": {},
     "output_type": "display_data"
    },
    {
     "name": "stdout",
     "output_type": "stream",
     "text": [
      "Train Loss: 1.5118331406195824\n",
      "Train AUC: 0.552850372456813\n",
      "Train Accuracy: 0.5405599054513222\n",
      "\n"
     ]
    },
    {
     "data": {
      "application/vnd.jupyter.widget-view+json": {
       "model_id": "69c98521d782438daa87f2ece836d829",
       "version_major": 2,
       "version_minor": 0
      },
      "text/plain": [
       "  0%|          | 0/38 [00:00<?, ?it/s]"
      ]
     },
     "metadata": {},
     "output_type": "display_data"
    },
    {
     "name": "stdout",
     "output_type": "stream",
     "text": [
      "Validation Loss: 1.512128506809841\n",
      "Validation AUC: 0.5511310493414292\n",
      "Validation Accuracy: 0.5119846596356663\n",
      "If performance continues to decrease, will stop in 3 iterations\n",
      "Best Val AUC: 0.5613237962114479 at epoch 22\n",
      "Best Val Loss: 1.5023744235408163 at epoch 36\n",
      "Epoch Time: 4.339131832122803\n",
      "\n",
      "---------\n",
      "Epoch 38 of 50\n"
     ]
    },
    {
     "data": {
      "application/vnd.jupyter.widget-view+json": {
       "model_id": "cf94b12ceaeb40da9c577ab9a4bc530c",
       "version_major": 2,
       "version_minor": 0
      },
      "text/plain": [
       "  0%|          | 0/529 [00:00<?, ?it/s]"
      ]
     },
     "metadata": {},
     "output_type": "display_data"
    },
    {
     "name": "stdout",
     "output_type": "stream",
     "text": [
      "Train Loss: 1.5416538591504485\n",
      "Train AUC: 0.5519369384786313\n",
      "Train Accuracy: 0.5368961441867336\n",
      "\n"
     ]
    },
    {
     "data": {
      "application/vnd.jupyter.widget-view+json": {
       "model_id": "4258b84b4318411eaf7dd648326163a1",
       "version_major": 2,
       "version_minor": 0
      },
      "text/plain": [
       "  0%|          | 0/38 [00:00<?, ?it/s]"
      ]
     },
     "metadata": {},
     "output_type": "display_data"
    },
    {
     "name": "stdout",
     "output_type": "stream",
     "text": [
      "Validation Loss: 1.5835441195890607\n",
      "Validation AUC: 0.5549770023323414\n",
      "Validation Accuracy: 0.5236713223290405\n",
      "Best Val AUC: 0.5613237962114479 at epoch 22\n",
      "Best Val Loss: 1.5023744235408163 at epoch 36\n",
      "Epoch Time: 4.333163022994995\n",
      "\n",
      "---------\n",
      "Epoch 39 of 50\n"
     ]
    },
    {
     "data": {
      "application/vnd.jupyter.widget-view+json": {
       "model_id": "d4ce0b002e744a1598226d3995d50a02",
       "version_major": 2,
       "version_minor": 0
      },
      "text/plain": [
       "  0%|          | 0/529 [00:00<?, ?it/s]"
      ]
     },
     "metadata": {},
     "output_type": "display_data"
    },
    {
     "name": "stdout",
     "output_type": "stream",
     "text": [
      "Train Loss: 1.545969022590864\n",
      "Train AUC: 0.5518236166070091\n",
      "Train Accuracy: 0.5249741468459153\n",
      "\n"
     ]
    },
    {
     "data": {
      "application/vnd.jupyter.widget-view+json": {
       "model_id": "1c808047d4434c23abe692f39f19fedc",
       "version_major": 2,
       "version_minor": 0
      },
      "text/plain": [
       "  0%|          | 0/38 [00:00<?, ?it/s]"
      ]
     },
     "metadata": {},
     "output_type": "display_data"
    },
    {
     "name": "stdout",
     "output_type": "stream",
     "text": [
      "Validation Loss: 1.559312372563451\n",
      "Validation AUC: 0.5476716010619371\n",
      "Validation Accuracy: 0.5339327822549299\n",
      "If converges, will stop in 9 iterations\n",
      "If performance continues to decrease, will stop in 3 iterations\n",
      "Best Val AUC: 0.5613237962114479 at epoch 22\n",
      "Best Val Loss: 1.5023744235408163 at epoch 36\n",
      "Epoch Time: 4.314605236053467\n",
      "\n",
      "---------\n",
      "Epoch 40 of 50\n"
     ]
    },
    {
     "data": {
      "application/vnd.jupyter.widget-view+json": {
       "model_id": "f7caa94db5c2477982e5439bb15f5dc6",
       "version_major": 2,
       "version_minor": 0
      },
      "text/plain": [
       "  0%|          | 0/529 [00:00<?, ?it/s]"
      ]
     },
     "metadata": {},
     "output_type": "display_data"
    },
    {
     "name": "stdout",
     "output_type": "stream",
     "text": [
      "Train Loss: 1.5463046908706823\n",
      "Train AUC: 0.5513516987499001\n",
      "Train Accuracy: 0.546978874279805\n",
      "\n"
     ]
    },
    {
     "data": {
      "application/vnd.jupyter.widget-view+json": {
       "model_id": "1a07ee5d0e5d4dd3a70e2f883369464c",
       "version_major": 2,
       "version_minor": 0
      },
      "text/plain": [
       "  0%|          | 0/38 [00:00<?, ?it/s]"
      ]
     },
     "metadata": {},
     "output_type": "display_data"
    },
    {
     "name": "stdout",
     "output_type": "stream",
     "text": [
      "Validation Loss: 1.5633464989232686\n",
      "Validation AUC: 0.5598816298259528\n",
      "Validation Accuracy: 0.5200176206887617\n",
      "Best Val AUC: 0.5613237962114479 at epoch 22\n",
      "Best Val Loss: 1.5023744235408163 at epoch 36\n",
      "Epoch Time: 4.381257057189941\n",
      "\n",
      "---------\n",
      "Epoch 41 of 50\n"
     ]
    },
    {
     "data": {
      "application/vnd.jupyter.widget-view+json": {
       "model_id": "dc4be155b9dc484e93e560f839c96c47",
       "version_major": 2,
       "version_minor": 0
      },
      "text/plain": [
       "  0%|          | 0/529 [00:00<?, ?it/s]"
      ]
     },
     "metadata": {},
     "output_type": "display_data"
    },
    {
     "name": "stdout",
     "output_type": "stream",
     "text": [
      "Train Loss: 1.5680588945980956\n",
      "Train AUC: 0.5552325148497779\n",
      "Train Accuracy: 0.5341409366228395\n",
      "\n"
     ]
    },
    {
     "data": {
      "application/vnd.jupyter.widget-view+json": {
       "model_id": "9e29f739b9794a5fb194664390bcfa81",
       "version_major": 2,
       "version_minor": 0
      },
      "text/plain": [
       "  0%|          | 0/38 [00:00<?, ?it/s]"
      ]
     },
     "metadata": {},
     "output_type": "display_data"
    },
    {
     "name": "stdout",
     "output_type": "stream",
     "text": [
      "Validation Loss: 1.5558614044920898\n",
      "Validation AUC: 0.5563118527922665\n",
      "Validation Accuracy: 0.5066984530071779\n",
      "If converges, will stop in 9 iterations\n",
      "If performance continues to decrease, will stop in 3 iterations\n",
      "Best Val AUC: 0.5613237962114479 at epoch 22\n",
      "Best Val Loss: 1.5023744235408163 at epoch 36\n",
      "Epoch Time: 4.312164068222046\n",
      "\n",
      "---------\n",
      "Epoch 42 of 50\n"
     ]
    },
    {
     "data": {
      "application/vnd.jupyter.widget-view+json": {
       "model_id": "8de28d4081e240b0ae2a6fe4c07452c3",
       "version_major": 2,
       "version_minor": 0
      },
      "text/plain": [
       "  0%|          | 0/529 [00:00<?, ?it/s]"
      ]
     },
     "metadata": {},
     "output_type": "display_data"
    },
    {
     "name": "stdout",
     "output_type": "stream",
     "text": [
      "Train Loss: 1.5413089951587542\n",
      "Train AUC: 0.5511897033917955\n",
      "Train Accuracy: 0.49773230905599053\n",
      "\n"
     ]
    },
    {
     "data": {
      "application/vnd.jupyter.widget-view+json": {
       "model_id": "48fc17c0345d4d2e8009c96a70f40b40",
       "version_major": 2,
       "version_minor": 0
      },
      "text/plain": [
       "  0%|          | 0/38 [00:00<?, ?it/s]"
      ]
     },
     "metadata": {},
     "output_type": "display_data"
    },
    {
     "name": "stdout",
     "output_type": "stream",
     "text": [
      "Validation Loss: 1.5294738878715115\n",
      "Validation AUC: 0.5547682416344177\n",
      "Validation Accuracy: 0.5177113834831956\n",
      "If converges, will stop in 8 iterations\n",
      "If performance continues to decrease, will stop in 2 iterations\n",
      "Best Val AUC: 0.5613237962114479 at epoch 22\n",
      "Best Val Loss: 1.5023744235408163 at epoch 36\n",
      "Epoch Time: 4.368436813354492\n",
      "\n",
      "---------\n",
      "Epoch 43 of 50\n"
     ]
    },
    {
     "data": {
      "application/vnd.jupyter.widget-view+json": {
       "model_id": "df7a799b48d84facb5139040cd16117f",
       "version_major": 2,
       "version_minor": 0
      },
      "text/plain": [
       "  0%|          | 0/529 [00:00<?, ?it/s]"
      ]
     },
     "metadata": {},
     "output_type": "display_data"
    },
    {
     "name": "stdout",
     "output_type": "stream",
     "text": [
      "Train Loss: 1.535600816889435\n",
      "Train AUC: 0.5406946861046624\n",
      "Train Accuracy: 0.483897178312897\n",
      "\n"
     ]
    },
    {
     "data": {
      "application/vnd.jupyter.widget-view+json": {
       "model_id": "03d1ac4dad30435eb6c1e2b832c8f86f",
       "version_major": 2,
       "version_minor": 0
      },
      "text/plain": [
       "  0%|          | 0/38 [00:00<?, ?it/s]"
      ]
     },
     "metadata": {},
     "output_type": "display_data"
    },
    {
     "name": "stdout",
     "output_type": "stream",
     "text": [
      "Validation Loss: 1.5025223330332473\n",
      "Validation AUC: 0.567719876876767\n",
      "Validation Accuracy: 0.4429530201342282\n",
      "If converges, will stop in 7 iterations\n",
      "Best Val AUC: 0.567719876876767 at epoch 43\n",
      "Best Val Loss: 1.5023744235408163 at epoch 36\n",
      "Epoch Time: 4.340198516845703\n",
      "\n",
      "---------\n",
      "Epoch 44 of 50\n"
     ]
    },
    {
     "data": {
      "application/vnd.jupyter.widget-view+json": {
       "model_id": "aa66dc52755243dba3cad64386051b2a",
       "version_major": 2,
       "version_minor": 0
      },
      "text/plain": [
       "  0%|          | 0/529 [00:00<?, ?it/s]"
      ]
     },
     "metadata": {},
     "output_type": "display_data"
    },
    {
     "name": "stdout",
     "output_type": "stream",
     "text": [
      "Train Loss: 1.5175946739567656\n",
      "Train AUC: 0.5503332290242913\n",
      "Train Accuracy: 0.48185847244792435\n",
      "\n"
     ]
    },
    {
     "data": {
      "application/vnd.jupyter.widget-view+json": {
       "model_id": "f723a927eafe49e58bfbdb6eb70b3621",
       "version_major": 2,
       "version_minor": 0
      },
      "text/plain": [
       "  0%|          | 0/38 [00:00<?, ?it/s]"
      ]
     },
     "metadata": {},
     "output_type": "display_data"
    },
    {
     "name": "stdout",
     "output_type": "stream",
     "text": [
      "Validation Loss: 1.51737405012005\n",
      "Validation AUC: 0.5457076616849932\n",
      "Validation Accuracy: 0.4815889715218574\n",
      "If performance continues to decrease, will stop in 3 iterations\n",
      "Best Val AUC: 0.567719876876767 at epoch 43\n",
      "Best Val Loss: 1.5023744235408163 at epoch 36\n",
      "Epoch Time: 4.363012075424194\n",
      "\n",
      "---------\n",
      "Epoch 45 of 50\n"
     ]
    },
    {
     "data": {
      "application/vnd.jupyter.widget-view+json": {
       "model_id": "8c469b6b4063459a9adc6ec75f916312",
       "version_major": 2,
       "version_minor": 0
      },
      "text/plain": [
       "  0%|          | 0/529 [00:00<?, ?it/s]"
      ]
     },
     "metadata": {},
     "output_type": "display_data"
    },
    {
     "name": "stdout",
     "output_type": "stream",
     "text": [
      "Train Loss: 1.5192828868857615\n",
      "Train AUC: 0.549447010215791\n",
      "Train Accuracy: 0.5112793617964249\n",
      "\n"
     ]
    },
    {
     "data": {
      "application/vnd.jupyter.widget-view+json": {
       "model_id": "a470e0371263411896e2bce3de6b9224",
       "version_major": 2,
       "version_minor": 0
      },
      "text/plain": [
       "  0%|          | 0/38 [00:00<?, ?it/s]"
      ]
     },
     "metadata": {},
     "output_type": "display_data"
    },
    {
     "name": "stdout",
     "output_type": "stream",
     "text": [
      "Validation Loss: 1.5222323310819401\n",
      "Validation AUC: 0.5526110563394317\n",
      "Validation Accuracy: 0.5108704101992693\n",
      "Best Val AUC: 0.567719876876767 at epoch 43\n",
      "Best Val Loss: 1.5023744235408163 at epoch 36\n",
      "Epoch Time: 4.368087530136108\n",
      "\n",
      "---------\n",
      "Epoch 46 of 50\n"
     ]
    },
    {
     "data": {
      "application/vnd.jupyter.widget-view+json": {
       "model_id": "6ec70f800e264525865567c2454044aa",
       "version_major": 2,
       "version_minor": 0
      },
      "text/plain": [
       "  0%|          | 0/529 [00:00<?, ?it/s]"
      ]
     },
     "metadata": {},
     "output_type": "display_data"
    },
    {
     "name": "stdout",
     "output_type": "stream",
     "text": [
      "Train Loss: 1.494613858473713\n",
      "Train AUC: 0.5489509154695946\n",
      "Train Accuracy: 0.5398729502142119\n",
      "\n"
     ]
    },
    {
     "data": {
      "application/vnd.jupyter.widget-view+json": {
       "model_id": "9962b4f9483b4c50a4ee7543c6112f88",
       "version_major": 2,
       "version_minor": 0
      },
      "text/plain": [
       "  0%|          | 0/38 [00:00<?, ?it/s]"
      ]
     },
     "metadata": {},
     "output_type": "display_data"
    },
    {
     "name": "stdout",
     "output_type": "stream",
     "text": [
      "Validation Loss: 1.4841725134067822\n",
      "Validation AUC: 0.5587128068237632\n",
      "Validation Accuracy: 0.5010494674924205\n",
      "If converges, will stop in 9 iterations\n",
      "Best Val AUC: 0.567719876876767 at epoch 43\n",
      "Best Val Loss: 1.4841725134067822 at epoch 46\n",
      "Epoch Time: 4.460421800613403\n",
      "\n",
      "---------\n",
      "Epoch 47 of 50\n"
     ]
    },
    {
     "data": {
      "application/vnd.jupyter.widget-view+json": {
       "model_id": "4ade37071e534bce98cd5f100389b933",
       "version_major": 2,
       "version_minor": 0
      },
      "text/plain": [
       "  0%|          | 0/529 [00:00<?, ?it/s]"
      ]
     },
     "metadata": {},
     "output_type": "display_data"
    },
    {
     "name": "stdout",
     "output_type": "stream",
     "text": [
      "Train Loss: 1.5022497961112893\n",
      "Train AUC: 0.5521261132495671\n",
      "Train Accuracy: 0.49606293396365786\n",
      "\n"
     ]
    },
    {
     "data": {
      "application/vnd.jupyter.widget-view+json": {
       "model_id": "30d8fa1128fe41e4b95321060aa2d838",
       "version_major": 2,
       "version_minor": 0
      },
      "text/plain": [
       "  0%|          | 0/38 [00:00<?, ?it/s]"
      ]
     },
     "metadata": {},
     "output_type": "display_data"
    },
    {
     "name": "stdout",
     "output_type": "stream",
     "text": [
      "Validation Loss: 1.5227378443648867\n",
      "Validation AUC: 0.5549869807177423\n",
      "Validation Accuracy: 0.4746961726827499\n",
      "If performance continues to decrease, will stop in 3 iterations\n",
      "Best Val AUC: 0.567719876876767 at epoch 43\n",
      "Best Val Loss: 1.4841725134067822 at epoch 46\n",
      "Epoch Time: 4.381211519241333\n",
      "\n",
      "---------\n",
      "Epoch 48 of 50\n"
     ]
    },
    {
     "data": {
      "application/vnd.jupyter.widget-view+json": {
       "model_id": "f686334b82fb44a0b21458aea8c9c16e",
       "version_major": 2,
       "version_minor": 0
      },
      "text/plain": [
       "  0%|          | 0/529 [00:00<?, ?it/s]"
      ]
     },
     "metadata": {},
     "output_type": "display_data"
    },
    {
     "name": "stdout",
     "output_type": "stream",
     "text": [
      "Train Loss: 1.5362937217392938\n",
      "Train AUC: 0.552393816373548\n",
      "Train Accuracy: 0.5110060570246713\n",
      "\n"
     ]
    },
    {
     "data": {
      "application/vnd.jupyter.widget-view+json": {
       "model_id": "7a4672c8f9d94f04bb2eb62e0aa4e1d5",
       "version_major": 2,
       "version_minor": 0
      },
      "text/plain": [
       "  0%|          | 0/38 [00:00<?, ?it/s]"
      ]
     },
     "metadata": {},
     "output_type": "display_data"
    },
    {
     "name": "stdout",
     "output_type": "stream",
     "text": [
      "Validation Loss: 1.5093213534802792\n",
      "Validation AUC: 0.5621170070364742\n",
      "Validation Accuracy: 0.5241377523256718\n",
      "If converges, will stop in 9 iterations\n",
      "Best Val AUC: 0.567719876876767 at epoch 43\n",
      "Best Val Loss: 1.4841725134067822 at epoch 46\n",
      "Epoch Time: 4.3881402015686035\n",
      "\n",
      "---------\n",
      "Epoch 49 of 50\n"
     ]
    },
    {
     "data": {
      "application/vnd.jupyter.widget-view+json": {
       "model_id": "06470770c8054555a3839c66cde0ad48",
       "version_major": 2,
       "version_minor": 0
      },
      "text/plain": [
       "  0%|          | 0/529 [00:00<?, ?it/s]"
      ]
     },
     "metadata": {},
     "output_type": "display_data"
    },
    {
     "name": "stdout",
     "output_type": "stream",
     "text": [
      "Train Loss: 1.5258772956895224\n",
      "Train AUC: 0.5514907056083501\n",
      "Train Accuracy: 0.5221302998965874\n",
      "\n"
     ]
    },
    {
     "data": {
      "application/vnd.jupyter.widget-view+json": {
       "model_id": "04e81ca4b7a945ae8c777b8c4a86c79b",
       "version_major": 2,
       "version_minor": 0
      },
      "text/plain": [
       "  0%|          | 0/38 [00:00<?, ?it/s]"
      ]
     },
     "metadata": {},
     "output_type": "display_data"
    },
    {
     "name": "stdout",
     "output_type": "stream",
     "text": [
      "Validation Loss: 1.5272460042242346\n",
      "Validation AUC: 0.5621333458378597\n",
      "Validation Accuracy: 0.48697882926070846\n",
      "Best Val AUC: 0.567719876876767 at epoch 43\n",
      "Best Val Loss: 1.4841725134067822 at epoch 46\n",
      "Epoch Time: 4.4155213832855225\n",
      "\n",
      "---------\n",
      "Epoch 50 of 50\n"
     ]
    },
    {
     "data": {
      "application/vnd.jupyter.widget-view+json": {
       "model_id": "e163fef993c24bbd9889565d17c89d17",
       "version_major": 2,
       "version_minor": 0
      },
      "text/plain": [
       "  0%|          | 0/529 [00:00<?, ?it/s]"
      ]
     },
     "metadata": {},
     "output_type": "display_data"
    },
    {
     "name": "stdout",
     "output_type": "stream",
     "text": [
      "Train Loss: 1.5196408656379543\n",
      "Train AUC: 0.5505066203008853\n",
      "Train Accuracy: 0.4960112276554883\n",
      "\n"
     ]
    },
    {
     "data": {
      "application/vnd.jupyter.widget-view+json": {
       "model_id": "42258b8a690a43aea6442457bd5bcf0e",
       "version_major": 2,
       "version_minor": 0
      },
      "text/plain": [
       "  0%|          | 0/38 [00:00<?, ?it/s]"
      ]
     },
     "metadata": {},
     "output_type": "display_data"
    },
    {
     "name": "stdout",
     "output_type": "stream",
     "text": [
      "Validation Loss: 1.5178090359329037\n",
      "Validation AUC: 0.5375343340147476\n",
      "Validation Accuracy: 0.4853722370500894\n",
      "If converges, will stop in 9 iterations\n",
      "If performance continues to decrease, will stop in 3 iterations\n",
      "Best Val AUC: 0.567719876876767 at epoch 43\n",
      "Best Val Loss: 1.4841725134067822 at epoch 46\n",
      "Epoch Time: 4.352656364440918\n"
     ]
    },
    {
     "data": {
      "application/javascript": [
       "/* Put everything inside the global mpl namespace */\n",
       "/* global mpl */\n",
       "window.mpl = {};\n",
       "\n",
       "mpl.get_websocket_type = function () {\n",
       "    if (typeof WebSocket !== 'undefined') {\n",
       "        return WebSocket;\n",
       "    } else if (typeof MozWebSocket !== 'undefined') {\n",
       "        return MozWebSocket;\n",
       "    } else {\n",
       "        alert(\n",
       "            'Your browser does not have WebSocket support. ' +\n",
       "                'Please try Chrome, Safari or Firefox ≥ 6. ' +\n",
       "                'Firefox 4 and 5 are also supported but you ' +\n",
       "                'have to enable WebSockets in about:config.'\n",
       "        );\n",
       "    }\n",
       "};\n",
       "\n",
       "mpl.figure = function (figure_id, websocket, ondownload, parent_element) {\n",
       "    this.id = figure_id;\n",
       "\n",
       "    this.ws = websocket;\n",
       "\n",
       "    this.supports_binary = this.ws.binaryType !== undefined;\n",
       "\n",
       "    if (!this.supports_binary) {\n",
       "        var warnings = document.getElementById('mpl-warnings');\n",
       "        if (warnings) {\n",
       "            warnings.style.display = 'block';\n",
       "            warnings.textContent =\n",
       "                'This browser does not support binary websocket messages. ' +\n",
       "                'Performance may be slow.';\n",
       "        }\n",
       "    }\n",
       "\n",
       "    this.imageObj = new Image();\n",
       "\n",
       "    this.context = undefined;\n",
       "    this.message = undefined;\n",
       "    this.canvas = undefined;\n",
       "    this.rubberband_canvas = undefined;\n",
       "    this.rubberband_context = undefined;\n",
       "    this.format_dropdown = undefined;\n",
       "\n",
       "    this.image_mode = 'full';\n",
       "\n",
       "    this.root = document.createElement('div');\n",
       "    this.root.setAttribute('style', 'display: inline-block');\n",
       "    this._root_extra_style(this.root);\n",
       "\n",
       "    parent_element.appendChild(this.root);\n",
       "\n",
       "    this._init_header(this);\n",
       "    this._init_canvas(this);\n",
       "    this._init_toolbar(this);\n",
       "\n",
       "    var fig = this;\n",
       "\n",
       "    this.waiting = false;\n",
       "\n",
       "    this.ws.onopen = function () {\n",
       "        fig.send_message('supports_binary', { value: fig.supports_binary });\n",
       "        fig.send_message('send_image_mode', {});\n",
       "        if (fig.ratio !== 1) {\n",
       "            fig.send_message('set_dpi_ratio', { dpi_ratio: fig.ratio });\n",
       "        }\n",
       "        fig.send_message('refresh', {});\n",
       "    };\n",
       "\n",
       "    this.imageObj.onload = function () {\n",
       "        if (fig.image_mode === 'full') {\n",
       "            // Full images could contain transparency (where diff images\n",
       "            // almost always do), so we need to clear the canvas so that\n",
       "            // there is no ghosting.\n",
       "            fig.context.clearRect(0, 0, fig.canvas.width, fig.canvas.height);\n",
       "        }\n",
       "        fig.context.drawImage(fig.imageObj, 0, 0);\n",
       "    };\n",
       "\n",
       "    this.imageObj.onunload = function () {\n",
       "        fig.ws.close();\n",
       "    };\n",
       "\n",
       "    this.ws.onmessage = this._make_on_message_function(this);\n",
       "\n",
       "    this.ondownload = ondownload;\n",
       "};\n",
       "\n",
       "mpl.figure.prototype._init_header = function () {\n",
       "    var titlebar = document.createElement('div');\n",
       "    titlebar.classList =\n",
       "        'ui-dialog-titlebar ui-widget-header ui-corner-all ui-helper-clearfix';\n",
       "    var titletext = document.createElement('div');\n",
       "    titletext.classList = 'ui-dialog-title';\n",
       "    titletext.setAttribute(\n",
       "        'style',\n",
       "        'width: 100%; text-align: center; padding: 3px;'\n",
       "    );\n",
       "    titlebar.appendChild(titletext);\n",
       "    this.root.appendChild(titlebar);\n",
       "    this.header = titletext;\n",
       "};\n",
       "\n",
       "mpl.figure.prototype._canvas_extra_style = function (_canvas_div) {};\n",
       "\n",
       "mpl.figure.prototype._root_extra_style = function (_canvas_div) {};\n",
       "\n",
       "mpl.figure.prototype._init_canvas = function () {\n",
       "    var fig = this;\n",
       "\n",
       "    var canvas_div = (this.canvas_div = document.createElement('div'));\n",
       "    canvas_div.setAttribute(\n",
       "        'style',\n",
       "        'border: 1px solid #ddd;' +\n",
       "            'box-sizing: content-box;' +\n",
       "            'clear: both;' +\n",
       "            'min-height: 1px;' +\n",
       "            'min-width: 1px;' +\n",
       "            'outline: 0;' +\n",
       "            'overflow: hidden;' +\n",
       "            'position: relative;' +\n",
       "            'resize: both;'\n",
       "    );\n",
       "\n",
       "    function on_keyboard_event_closure(name) {\n",
       "        return function (event) {\n",
       "            return fig.key_event(event, name);\n",
       "        };\n",
       "    }\n",
       "\n",
       "    canvas_div.addEventListener(\n",
       "        'keydown',\n",
       "        on_keyboard_event_closure('key_press')\n",
       "    );\n",
       "    canvas_div.addEventListener(\n",
       "        'keyup',\n",
       "        on_keyboard_event_closure('key_release')\n",
       "    );\n",
       "\n",
       "    this._canvas_extra_style(canvas_div);\n",
       "    this.root.appendChild(canvas_div);\n",
       "\n",
       "    var canvas = (this.canvas = document.createElement('canvas'));\n",
       "    canvas.classList.add('mpl-canvas');\n",
       "    canvas.setAttribute('style', 'box-sizing: content-box;');\n",
       "\n",
       "    this.context = canvas.getContext('2d');\n",
       "\n",
       "    var backingStore =\n",
       "        this.context.backingStorePixelRatio ||\n",
       "        this.context.webkitBackingStorePixelRatio ||\n",
       "        this.context.mozBackingStorePixelRatio ||\n",
       "        this.context.msBackingStorePixelRatio ||\n",
       "        this.context.oBackingStorePixelRatio ||\n",
       "        this.context.backingStorePixelRatio ||\n",
       "        1;\n",
       "\n",
       "    this.ratio = (window.devicePixelRatio || 1) / backingStore;\n",
       "\n",
       "    var rubberband_canvas = (this.rubberband_canvas = document.createElement(\n",
       "        'canvas'\n",
       "    ));\n",
       "    rubberband_canvas.setAttribute(\n",
       "        'style',\n",
       "        'box-sizing: content-box; position: absolute; left: 0; top: 0; z-index: 1;'\n",
       "    );\n",
       "\n",
       "    // Apply a ponyfill if ResizeObserver is not implemented by browser.\n",
       "    if (this.ResizeObserver === undefined) {\n",
       "        if (window.ResizeObserver !== undefined) {\n",
       "            this.ResizeObserver = window.ResizeObserver;\n",
       "        } else {\n",
       "            var obs = _JSXTOOLS_RESIZE_OBSERVER({});\n",
       "            this.ResizeObserver = obs.ResizeObserver;\n",
       "        }\n",
       "    }\n",
       "\n",
       "    this.resizeObserverInstance = new this.ResizeObserver(function (entries) {\n",
       "        var nentries = entries.length;\n",
       "        for (var i = 0; i < nentries; i++) {\n",
       "            var entry = entries[i];\n",
       "            var width, height;\n",
       "            if (entry.contentBoxSize) {\n",
       "                if (entry.contentBoxSize instanceof Array) {\n",
       "                    // Chrome 84 implements new version of spec.\n",
       "                    width = entry.contentBoxSize[0].inlineSize;\n",
       "                    height = entry.contentBoxSize[0].blockSize;\n",
       "                } else {\n",
       "                    // Firefox implements old version of spec.\n",
       "                    width = entry.contentBoxSize.inlineSize;\n",
       "                    height = entry.contentBoxSize.blockSize;\n",
       "                }\n",
       "            } else {\n",
       "                // Chrome <84 implements even older version of spec.\n",
       "                width = entry.contentRect.width;\n",
       "                height = entry.contentRect.height;\n",
       "            }\n",
       "\n",
       "            // Keep the size of the canvas and rubber band canvas in sync with\n",
       "            // the canvas container.\n",
       "            if (entry.devicePixelContentBoxSize) {\n",
       "                // Chrome 84 implements new version of spec.\n",
       "                canvas.setAttribute(\n",
       "                    'width',\n",
       "                    entry.devicePixelContentBoxSize[0].inlineSize\n",
       "                );\n",
       "                canvas.setAttribute(\n",
       "                    'height',\n",
       "                    entry.devicePixelContentBoxSize[0].blockSize\n",
       "                );\n",
       "            } else {\n",
       "                canvas.setAttribute('width', width * fig.ratio);\n",
       "                canvas.setAttribute('height', height * fig.ratio);\n",
       "            }\n",
       "            canvas.setAttribute(\n",
       "                'style',\n",
       "                'width: ' + width + 'px; height: ' + height + 'px;'\n",
       "            );\n",
       "\n",
       "            rubberband_canvas.setAttribute('width', width);\n",
       "            rubberband_canvas.setAttribute('height', height);\n",
       "\n",
       "            // And update the size in Python. We ignore the initial 0/0 size\n",
       "            // that occurs as the element is placed into the DOM, which should\n",
       "            // otherwise not happen due to the minimum size styling.\n",
       "            if (fig.ws.readyState == 1 && width != 0 && height != 0) {\n",
       "                fig.request_resize(width, height);\n",
       "            }\n",
       "        }\n",
       "    });\n",
       "    this.resizeObserverInstance.observe(canvas_div);\n",
       "\n",
       "    function on_mouse_event_closure(name) {\n",
       "        return function (event) {\n",
       "            return fig.mouse_event(event, name);\n",
       "        };\n",
       "    }\n",
       "\n",
       "    rubberband_canvas.addEventListener(\n",
       "        'mousedown',\n",
       "        on_mouse_event_closure('button_press')\n",
       "    );\n",
       "    rubberband_canvas.addEventListener(\n",
       "        'mouseup',\n",
       "        on_mouse_event_closure('button_release')\n",
       "    );\n",
       "    // Throttle sequential mouse events to 1 every 20ms.\n",
       "    rubberband_canvas.addEventListener(\n",
       "        'mousemove',\n",
       "        on_mouse_event_closure('motion_notify')\n",
       "    );\n",
       "\n",
       "    rubberband_canvas.addEventListener(\n",
       "        'mouseenter',\n",
       "        on_mouse_event_closure('figure_enter')\n",
       "    );\n",
       "    rubberband_canvas.addEventListener(\n",
       "        'mouseleave',\n",
       "        on_mouse_event_closure('figure_leave')\n",
       "    );\n",
       "\n",
       "    canvas_div.addEventListener('wheel', function (event) {\n",
       "        if (event.deltaY < 0) {\n",
       "            event.step = 1;\n",
       "        } else {\n",
       "            event.step = -1;\n",
       "        }\n",
       "        on_mouse_event_closure('scroll')(event);\n",
       "    });\n",
       "\n",
       "    canvas_div.appendChild(canvas);\n",
       "    canvas_div.appendChild(rubberband_canvas);\n",
       "\n",
       "    this.rubberband_context = rubberband_canvas.getContext('2d');\n",
       "    this.rubberband_context.strokeStyle = '#000000';\n",
       "\n",
       "    this._resize_canvas = function (width, height, forward) {\n",
       "        if (forward) {\n",
       "            canvas_div.style.width = width + 'px';\n",
       "            canvas_div.style.height = height + 'px';\n",
       "        }\n",
       "    };\n",
       "\n",
       "    // Disable right mouse context menu.\n",
       "    this.rubberband_canvas.addEventListener('contextmenu', function (_e) {\n",
       "        event.preventDefault();\n",
       "        return false;\n",
       "    });\n",
       "\n",
       "    function set_focus() {\n",
       "        canvas.focus();\n",
       "        canvas_div.focus();\n",
       "    }\n",
       "\n",
       "    window.setTimeout(set_focus, 100);\n",
       "};\n",
       "\n",
       "mpl.figure.prototype._init_toolbar = function () {\n",
       "    var fig = this;\n",
       "\n",
       "    var toolbar = document.createElement('div');\n",
       "    toolbar.classList = 'mpl-toolbar';\n",
       "    this.root.appendChild(toolbar);\n",
       "\n",
       "    function on_click_closure(name) {\n",
       "        return function (_event) {\n",
       "            return fig.toolbar_button_onclick(name);\n",
       "        };\n",
       "    }\n",
       "\n",
       "    function on_mouseover_closure(tooltip) {\n",
       "        return function (event) {\n",
       "            if (!event.currentTarget.disabled) {\n",
       "                return fig.toolbar_button_onmouseover(tooltip);\n",
       "            }\n",
       "        };\n",
       "    }\n",
       "\n",
       "    fig.buttons = {};\n",
       "    var buttonGroup = document.createElement('div');\n",
       "    buttonGroup.classList = 'mpl-button-group';\n",
       "    for (var toolbar_ind in mpl.toolbar_items) {\n",
       "        var name = mpl.toolbar_items[toolbar_ind][0];\n",
       "        var tooltip = mpl.toolbar_items[toolbar_ind][1];\n",
       "        var image = mpl.toolbar_items[toolbar_ind][2];\n",
       "        var method_name = mpl.toolbar_items[toolbar_ind][3];\n",
       "\n",
       "        if (!name) {\n",
       "            /* Instead of a spacer, we start a new button group. */\n",
       "            if (buttonGroup.hasChildNodes()) {\n",
       "                toolbar.appendChild(buttonGroup);\n",
       "            }\n",
       "            buttonGroup = document.createElement('div');\n",
       "            buttonGroup.classList = 'mpl-button-group';\n",
       "            continue;\n",
       "        }\n",
       "\n",
       "        var button = (fig.buttons[name] = document.createElement('button'));\n",
       "        button.classList = 'mpl-widget';\n",
       "        button.setAttribute('role', 'button');\n",
       "        button.setAttribute('aria-disabled', 'false');\n",
       "        button.addEventListener('click', on_click_closure(method_name));\n",
       "        button.addEventListener('mouseover', on_mouseover_closure(tooltip));\n",
       "\n",
       "        var icon_img = document.createElement('img');\n",
       "        icon_img.src = '_images/' + image + '.png';\n",
       "        icon_img.srcset = '_images/' + image + '_large.png 2x';\n",
       "        icon_img.alt = tooltip;\n",
       "        button.appendChild(icon_img);\n",
       "\n",
       "        buttonGroup.appendChild(button);\n",
       "    }\n",
       "\n",
       "    if (buttonGroup.hasChildNodes()) {\n",
       "        toolbar.appendChild(buttonGroup);\n",
       "    }\n",
       "\n",
       "    var fmt_picker = document.createElement('select');\n",
       "    fmt_picker.classList = 'mpl-widget';\n",
       "    toolbar.appendChild(fmt_picker);\n",
       "    this.format_dropdown = fmt_picker;\n",
       "\n",
       "    for (var ind in mpl.extensions) {\n",
       "        var fmt = mpl.extensions[ind];\n",
       "        var option = document.createElement('option');\n",
       "        option.selected = fmt === mpl.default_extension;\n",
       "        option.innerHTML = fmt;\n",
       "        fmt_picker.appendChild(option);\n",
       "    }\n",
       "\n",
       "    var status_bar = document.createElement('span');\n",
       "    status_bar.classList = 'mpl-message';\n",
       "    toolbar.appendChild(status_bar);\n",
       "    this.message = status_bar;\n",
       "};\n",
       "\n",
       "mpl.figure.prototype.request_resize = function (x_pixels, y_pixels) {\n",
       "    // Request matplotlib to resize the figure. Matplotlib will then trigger a resize in the client,\n",
       "    // which will in turn request a refresh of the image.\n",
       "    this.send_message('resize', { width: x_pixels, height: y_pixels });\n",
       "};\n",
       "\n",
       "mpl.figure.prototype.send_message = function (type, properties) {\n",
       "    properties['type'] = type;\n",
       "    properties['figure_id'] = this.id;\n",
       "    this.ws.send(JSON.stringify(properties));\n",
       "};\n",
       "\n",
       "mpl.figure.prototype.send_draw_message = function () {\n",
       "    if (!this.waiting) {\n",
       "        this.waiting = true;\n",
       "        this.ws.send(JSON.stringify({ type: 'draw', figure_id: this.id }));\n",
       "    }\n",
       "};\n",
       "\n",
       "mpl.figure.prototype.handle_save = function (fig, _msg) {\n",
       "    var format_dropdown = fig.format_dropdown;\n",
       "    var format = format_dropdown.options[format_dropdown.selectedIndex].value;\n",
       "    fig.ondownload(fig, format);\n",
       "};\n",
       "\n",
       "mpl.figure.prototype.handle_resize = function (fig, msg) {\n",
       "    var size = msg['size'];\n",
       "    if (size[0] !== fig.canvas.width || size[1] !== fig.canvas.height) {\n",
       "        fig._resize_canvas(size[0], size[1], msg['forward']);\n",
       "        fig.send_message('refresh', {});\n",
       "    }\n",
       "};\n",
       "\n",
       "mpl.figure.prototype.handle_rubberband = function (fig, msg) {\n",
       "    var x0 = msg['x0'] / fig.ratio;\n",
       "    var y0 = (fig.canvas.height - msg['y0']) / fig.ratio;\n",
       "    var x1 = msg['x1'] / fig.ratio;\n",
       "    var y1 = (fig.canvas.height - msg['y1']) / fig.ratio;\n",
       "    x0 = Math.floor(x0) + 0.5;\n",
       "    y0 = Math.floor(y0) + 0.5;\n",
       "    x1 = Math.floor(x1) + 0.5;\n",
       "    y1 = Math.floor(y1) + 0.5;\n",
       "    var min_x = Math.min(x0, x1);\n",
       "    var min_y = Math.min(y0, y1);\n",
       "    var width = Math.abs(x1 - x0);\n",
       "    var height = Math.abs(y1 - y0);\n",
       "\n",
       "    fig.rubberband_context.clearRect(\n",
       "        0,\n",
       "        0,\n",
       "        fig.canvas.width / fig.ratio,\n",
       "        fig.canvas.height / fig.ratio\n",
       "    );\n",
       "\n",
       "    fig.rubberband_context.strokeRect(min_x, min_y, width, height);\n",
       "};\n",
       "\n",
       "mpl.figure.prototype.handle_figure_label = function (fig, msg) {\n",
       "    // Updates the figure title.\n",
       "    fig.header.textContent = msg['label'];\n",
       "};\n",
       "\n",
       "mpl.figure.prototype.handle_cursor = function (fig, msg) {\n",
       "    var cursor = msg['cursor'];\n",
       "    switch (cursor) {\n",
       "        case 0:\n",
       "            cursor = 'pointer';\n",
       "            break;\n",
       "        case 1:\n",
       "            cursor = 'default';\n",
       "            break;\n",
       "        case 2:\n",
       "            cursor = 'crosshair';\n",
       "            break;\n",
       "        case 3:\n",
       "            cursor = 'move';\n",
       "            break;\n",
       "    }\n",
       "    fig.rubberband_canvas.style.cursor = cursor;\n",
       "};\n",
       "\n",
       "mpl.figure.prototype.handle_message = function (fig, msg) {\n",
       "    fig.message.textContent = msg['message'];\n",
       "};\n",
       "\n",
       "mpl.figure.prototype.handle_draw = function (fig, _msg) {\n",
       "    // Request the server to send over a new figure.\n",
       "    fig.send_draw_message();\n",
       "};\n",
       "\n",
       "mpl.figure.prototype.handle_image_mode = function (fig, msg) {\n",
       "    fig.image_mode = msg['mode'];\n",
       "};\n",
       "\n",
       "mpl.figure.prototype.handle_history_buttons = function (fig, msg) {\n",
       "    for (var key in msg) {\n",
       "        if (!(key in fig.buttons)) {\n",
       "            continue;\n",
       "        }\n",
       "        fig.buttons[key].disabled = !msg[key];\n",
       "        fig.buttons[key].setAttribute('aria-disabled', !msg[key]);\n",
       "    }\n",
       "};\n",
       "\n",
       "mpl.figure.prototype.handle_navigate_mode = function (fig, msg) {\n",
       "    if (msg['mode'] === 'PAN') {\n",
       "        fig.buttons['Pan'].classList.add('active');\n",
       "        fig.buttons['Zoom'].classList.remove('active');\n",
       "    } else if (msg['mode'] === 'ZOOM') {\n",
       "        fig.buttons['Pan'].classList.remove('active');\n",
       "        fig.buttons['Zoom'].classList.add('active');\n",
       "    } else {\n",
       "        fig.buttons['Pan'].classList.remove('active');\n",
       "        fig.buttons['Zoom'].classList.remove('active');\n",
       "    }\n",
       "};\n",
       "\n",
       "mpl.figure.prototype.updated_canvas_event = function () {\n",
       "    // Called whenever the canvas gets updated.\n",
       "    this.send_message('ack', {});\n",
       "};\n",
       "\n",
       "// A function to construct a web socket function for onmessage handling.\n",
       "// Called in the figure constructor.\n",
       "mpl.figure.prototype._make_on_message_function = function (fig) {\n",
       "    return function socket_on_message(evt) {\n",
       "        if (evt.data instanceof Blob) {\n",
       "            /* FIXME: We get \"Resource interpreted as Image but\n",
       "             * transferred with MIME type text/plain:\" errors on\n",
       "             * Chrome.  But how to set the MIME type?  It doesn't seem\n",
       "             * to be part of the websocket stream */\n",
       "            evt.data.type = 'image/png';\n",
       "\n",
       "            /* Free the memory for the previous frames */\n",
       "            if (fig.imageObj.src) {\n",
       "                (window.URL || window.webkitURL).revokeObjectURL(\n",
       "                    fig.imageObj.src\n",
       "                );\n",
       "            }\n",
       "\n",
       "            fig.imageObj.src = (window.URL || window.webkitURL).createObjectURL(\n",
       "                evt.data\n",
       "            );\n",
       "            fig.updated_canvas_event();\n",
       "            fig.waiting = false;\n",
       "            return;\n",
       "        } else if (\n",
       "            typeof evt.data === 'string' &&\n",
       "            evt.data.slice(0, 21) === 'data:image/png;base64'\n",
       "        ) {\n",
       "            fig.imageObj.src = evt.data;\n",
       "            fig.updated_canvas_event();\n",
       "            fig.waiting = false;\n",
       "            return;\n",
       "        }\n",
       "\n",
       "        var msg = JSON.parse(evt.data);\n",
       "        var msg_type = msg['type'];\n",
       "\n",
       "        // Call the  \"handle_{type}\" callback, which takes\n",
       "        // the figure and JSON message as its only arguments.\n",
       "        try {\n",
       "            var callback = fig['handle_' + msg_type];\n",
       "        } catch (e) {\n",
       "            console.log(\n",
       "                \"No handler for the '\" + msg_type + \"' message type: \",\n",
       "                msg\n",
       "            );\n",
       "            return;\n",
       "        }\n",
       "\n",
       "        if (callback) {\n",
       "            try {\n",
       "                // console.log(\"Handling '\" + msg_type + \"' message: \", msg);\n",
       "                callback(fig, msg);\n",
       "            } catch (e) {\n",
       "                console.log(\n",
       "                    \"Exception inside the 'handler_\" + msg_type + \"' callback:\",\n",
       "                    e,\n",
       "                    e.stack,\n",
       "                    msg\n",
       "                );\n",
       "            }\n",
       "        }\n",
       "    };\n",
       "};\n",
       "\n",
       "// from http://stackoverflow.com/questions/1114465/getting-mouse-location-in-canvas\n",
       "mpl.findpos = function (e) {\n",
       "    //this section is from http://www.quirksmode.org/js/events_properties.html\n",
       "    var targ;\n",
       "    if (!e) {\n",
       "        e = window.event;\n",
       "    }\n",
       "    if (e.target) {\n",
       "        targ = e.target;\n",
       "    } else if (e.srcElement) {\n",
       "        targ = e.srcElement;\n",
       "    }\n",
       "    if (targ.nodeType === 3) {\n",
       "        // defeat Safari bug\n",
       "        targ = targ.parentNode;\n",
       "    }\n",
       "\n",
       "    // pageX,Y are the mouse positions relative to the document\n",
       "    var boundingRect = targ.getBoundingClientRect();\n",
       "    var x = e.pageX - (boundingRect.left + document.body.scrollLeft);\n",
       "    var y = e.pageY - (boundingRect.top + document.body.scrollTop);\n",
       "\n",
       "    return { x: x, y: y };\n",
       "};\n",
       "\n",
       "/*\n",
       " * return a copy of an object with only non-object keys\n",
       " * we need this to avoid circular references\n",
       " * http://stackoverflow.com/a/24161582/3208463\n",
       " */\n",
       "function simpleKeys(original) {\n",
       "    return Object.keys(original).reduce(function (obj, key) {\n",
       "        if (typeof original[key] !== 'object') {\n",
       "            obj[key] = original[key];\n",
       "        }\n",
       "        return obj;\n",
       "    }, {});\n",
       "}\n",
       "\n",
       "mpl.figure.prototype.mouse_event = function (event, name) {\n",
       "    var canvas_pos = mpl.findpos(event);\n",
       "\n",
       "    if (name === 'button_press') {\n",
       "        this.canvas.focus();\n",
       "        this.canvas_div.focus();\n",
       "    }\n",
       "\n",
       "    var x = canvas_pos.x * this.ratio;\n",
       "    var y = canvas_pos.y * this.ratio;\n",
       "\n",
       "    this.send_message(name, {\n",
       "        x: x,\n",
       "        y: y,\n",
       "        button: event.button,\n",
       "        step: event.step,\n",
       "        guiEvent: simpleKeys(event),\n",
       "    });\n",
       "\n",
       "    /* This prevents the web browser from automatically changing to\n",
       "     * the text insertion cursor when the button is pressed.  We want\n",
       "     * to control all of the cursor setting manually through the\n",
       "     * 'cursor' event from matplotlib */\n",
       "    event.preventDefault();\n",
       "    return false;\n",
       "};\n",
       "\n",
       "mpl.figure.prototype._key_event_extra = function (_event, _name) {\n",
       "    // Handle any extra behaviour associated with a key event\n",
       "};\n",
       "\n",
       "mpl.figure.prototype.key_event = function (event, name) {\n",
       "    // Prevent repeat events\n",
       "    if (name === 'key_press') {\n",
       "        if (event.which === this._key) {\n",
       "            return;\n",
       "        } else {\n",
       "            this._key = event.which;\n",
       "        }\n",
       "    }\n",
       "    if (name === 'key_release') {\n",
       "        this._key = null;\n",
       "    }\n",
       "\n",
       "    var value = '';\n",
       "    if (event.ctrlKey && event.which !== 17) {\n",
       "        value += 'ctrl+';\n",
       "    }\n",
       "    if (event.altKey && event.which !== 18) {\n",
       "        value += 'alt+';\n",
       "    }\n",
       "    if (event.shiftKey && event.which !== 16) {\n",
       "        value += 'shift+';\n",
       "    }\n",
       "\n",
       "    value += 'k';\n",
       "    value += event.which.toString();\n",
       "\n",
       "    this._key_event_extra(event, name);\n",
       "\n",
       "    this.send_message(name, { key: value, guiEvent: simpleKeys(event) });\n",
       "    return false;\n",
       "};\n",
       "\n",
       "mpl.figure.prototype.toolbar_button_onclick = function (name) {\n",
       "    if (name === 'download') {\n",
       "        this.handle_save(this, null);\n",
       "    } else {\n",
       "        this.send_message('toolbar_button', { name: name });\n",
       "    }\n",
       "};\n",
       "\n",
       "mpl.figure.prototype.toolbar_button_onmouseover = function (tooltip) {\n",
       "    this.message.textContent = tooltip;\n",
       "};\n",
       "\n",
       "///////////////// REMAINING CONTENT GENERATED BY embed_js.py /////////////////\n",
       "// prettier-ignore\n",
       "var _JSXTOOLS_RESIZE_OBSERVER=function(A){var t,i=new WeakMap,n=new WeakMap,a=new WeakMap,r=new WeakMap,o=new Set;function s(e){if(!(this instanceof s))throw new TypeError(\"Constructor requires 'new' operator\");i.set(this,e)}function h(){throw new TypeError(\"Function is not a constructor\")}function c(e,t,i,n){e=0 in arguments?Number(arguments[0]):0,t=1 in arguments?Number(arguments[1]):0,i=2 in arguments?Number(arguments[2]):0,n=3 in arguments?Number(arguments[3]):0,this.right=(this.x=this.left=e)+(this.width=i),this.bottom=(this.y=this.top=t)+(this.height=n),Object.freeze(this)}function d(){t=requestAnimationFrame(d);var s=new WeakMap,p=new Set;o.forEach((function(t){r.get(t).forEach((function(i){var r=t instanceof window.SVGElement,o=a.get(t),d=r?0:parseFloat(o.paddingTop),f=r?0:parseFloat(o.paddingRight),l=r?0:parseFloat(o.paddingBottom),u=r?0:parseFloat(o.paddingLeft),g=r?0:parseFloat(o.borderTopWidth),m=r?0:parseFloat(o.borderRightWidth),w=r?0:parseFloat(o.borderBottomWidth),b=u+f,F=d+l,v=(r?0:parseFloat(o.borderLeftWidth))+m,W=g+w,y=r?0:t.offsetHeight-W-t.clientHeight,E=r?0:t.offsetWidth-v-t.clientWidth,R=b+v,z=F+W,M=r?t.width:parseFloat(o.width)-R-E,O=r?t.height:parseFloat(o.height)-z-y;if(n.has(t)){var k=n.get(t);if(k[0]===M&&k[1]===O)return}n.set(t,[M,O]);var S=Object.create(h.prototype);S.target=t,S.contentRect=new c(u,d,M,O),s.has(i)||(s.set(i,[]),p.add(i)),s.get(i).push(S)}))})),p.forEach((function(e){i.get(e).call(e,s.get(e),e)}))}return s.prototype.observe=function(i){if(i instanceof window.Element){r.has(i)||(r.set(i,new Set),o.add(i),a.set(i,window.getComputedStyle(i)));var n=r.get(i);n.has(this)||n.add(this),cancelAnimationFrame(t),t=requestAnimationFrame(d)}},s.prototype.unobserve=function(i){if(i instanceof window.Element&&r.has(i)){var n=r.get(i);n.has(this)&&(n.delete(this),n.size||(r.delete(i),o.delete(i))),n.size||r.delete(i),o.size||cancelAnimationFrame(t)}},A.DOMRectReadOnly=c,A.ResizeObserver=s,A.ResizeObserverEntry=h,A}; // eslint-disable-line\n",
       "mpl.toolbar_items = [[\"Home\", \"Reset original view\", \"fa fa-home icon-home\", \"home\"], [\"Back\", \"Back to previous view\", \"fa fa-arrow-left icon-arrow-left\", \"back\"], [\"Forward\", \"Forward to next view\", \"fa fa-arrow-right icon-arrow-right\", \"forward\"], [\"\", \"\", \"\", \"\"], [\"Pan\", \"Left button pans, Right button zooms\\nx/y fixes axis, CTRL fixes aspect\", \"fa fa-arrows icon-move\", \"pan\"], [\"Zoom\", \"Zoom to rectangle\\nx/y fixes axis, CTRL fixes aspect\", \"fa fa-square-o icon-check-empty\", \"zoom\"], [\"\", \"\", \"\", \"\"], [\"Download\", \"Download plot\", \"fa fa-floppy-o icon-save\", \"download\"]];\n",
       "\n",
       "mpl.extensions = [\"eps\", \"jpeg\", \"pdf\", \"png\", \"ps\", \"raw\", \"svg\", \"tif\"];\n",
       "\n",
       "mpl.default_extension = \"png\";/* global mpl */\n",
       "\n",
       "var comm_websocket_adapter = function (comm) {\n",
       "    // Create a \"websocket\"-like object which calls the given IPython comm\n",
       "    // object with the appropriate methods. Currently this is a non binary\n",
       "    // socket, so there is still some room for performance tuning.\n",
       "    var ws = {};\n",
       "\n",
       "    ws.close = function () {\n",
       "        comm.close();\n",
       "    };\n",
       "    ws.send = function (m) {\n",
       "        //console.log('sending', m);\n",
       "        comm.send(m);\n",
       "    };\n",
       "    // Register the callback with on_msg.\n",
       "    comm.on_msg(function (msg) {\n",
       "        //console.log('receiving', msg['content']['data'], msg);\n",
       "        // Pass the mpl event to the overridden (by mpl) onmessage function.\n",
       "        ws.onmessage(msg['content']['data']);\n",
       "    });\n",
       "    return ws;\n",
       "};\n",
       "\n",
       "mpl.mpl_figure_comm = function (comm, msg) {\n",
       "    // This is the function which gets called when the mpl process\n",
       "    // starts-up an IPython Comm through the \"matplotlib\" channel.\n",
       "\n",
       "    var id = msg.content.data.id;\n",
       "    // Get hold of the div created by the display call when the Comm\n",
       "    // socket was opened in Python.\n",
       "    var element = document.getElementById(id);\n",
       "    var ws_proxy = comm_websocket_adapter(comm);\n",
       "\n",
       "    function ondownload(figure, _format) {\n",
       "        window.open(figure.canvas.toDataURL());\n",
       "    }\n",
       "\n",
       "    var fig = new mpl.figure(id, ws_proxy, ondownload, element);\n",
       "\n",
       "    // Call onopen now - mpl needs it, as it is assuming we've passed it a real\n",
       "    // web socket which is closed, not our websocket->open comm proxy.\n",
       "    ws_proxy.onopen();\n",
       "\n",
       "    fig.parent_element = element;\n",
       "    fig.cell_info = mpl.find_output_cell(\"<div id='\" + id + \"'></div>\");\n",
       "    if (!fig.cell_info) {\n",
       "        console.error('Failed to find cell for figure', id, fig);\n",
       "        return;\n",
       "    }\n",
       "    fig.cell_info[0].output_area.element.on(\n",
       "        'cleared',\n",
       "        { fig: fig },\n",
       "        fig._remove_fig_handler\n",
       "    );\n",
       "};\n",
       "\n",
       "mpl.figure.prototype.handle_close = function (fig, msg) {\n",
       "    var width = fig.canvas.width / fig.ratio;\n",
       "    fig.cell_info[0].output_area.element.off(\n",
       "        'cleared',\n",
       "        fig._remove_fig_handler\n",
       "    );\n",
       "    fig.resizeObserverInstance.unobserve(fig.canvas_div);\n",
       "\n",
       "    // Update the output cell to use the data from the current canvas.\n",
       "    fig.push_to_output();\n",
       "    var dataURL = fig.canvas.toDataURL();\n",
       "    // Re-enable the keyboard manager in IPython - without this line, in FF,\n",
       "    // the notebook keyboard shortcuts fail.\n",
       "    IPython.keyboard_manager.enable();\n",
       "    fig.parent_element.innerHTML =\n",
       "        '<img src=\"' + dataURL + '\" width=\"' + width + '\">';\n",
       "    fig.close_ws(fig, msg);\n",
       "};\n",
       "\n",
       "mpl.figure.prototype.close_ws = function (fig, msg) {\n",
       "    fig.send_message('closing', msg);\n",
       "    // fig.ws.close()\n",
       "};\n",
       "\n",
       "mpl.figure.prototype.push_to_output = function (_remove_interactive) {\n",
       "    // Turn the data on the canvas into data in the output cell.\n",
       "    var width = this.canvas.width / this.ratio;\n",
       "    var dataURL = this.canvas.toDataURL();\n",
       "    this.cell_info[1]['text/html'] =\n",
       "        '<img src=\"' + dataURL + '\" width=\"' + width + '\">';\n",
       "};\n",
       "\n",
       "mpl.figure.prototype.updated_canvas_event = function () {\n",
       "    // Tell IPython that the notebook contents must change.\n",
       "    IPython.notebook.set_dirty(true);\n",
       "    this.send_message('ack', {});\n",
       "    var fig = this;\n",
       "    // Wait a second, then push the new image to the DOM so\n",
       "    // that it is saved nicely (might be nice to debounce this).\n",
       "    setTimeout(function () {\n",
       "        fig.push_to_output();\n",
       "    }, 1000);\n",
       "};\n",
       "\n",
       "mpl.figure.prototype._init_toolbar = function () {\n",
       "    var fig = this;\n",
       "\n",
       "    var toolbar = document.createElement('div');\n",
       "    toolbar.classList = 'btn-toolbar';\n",
       "    this.root.appendChild(toolbar);\n",
       "\n",
       "    function on_click_closure(name) {\n",
       "        return function (_event) {\n",
       "            return fig.toolbar_button_onclick(name);\n",
       "        };\n",
       "    }\n",
       "\n",
       "    function on_mouseover_closure(tooltip) {\n",
       "        return function (event) {\n",
       "            if (!event.currentTarget.disabled) {\n",
       "                return fig.toolbar_button_onmouseover(tooltip);\n",
       "            }\n",
       "        };\n",
       "    }\n",
       "\n",
       "    fig.buttons = {};\n",
       "    var buttonGroup = document.createElement('div');\n",
       "    buttonGroup.classList = 'btn-group';\n",
       "    var button;\n",
       "    for (var toolbar_ind in mpl.toolbar_items) {\n",
       "        var name = mpl.toolbar_items[toolbar_ind][0];\n",
       "        var tooltip = mpl.toolbar_items[toolbar_ind][1];\n",
       "        var image = mpl.toolbar_items[toolbar_ind][2];\n",
       "        var method_name = mpl.toolbar_items[toolbar_ind][3];\n",
       "\n",
       "        if (!name) {\n",
       "            /* Instead of a spacer, we start a new button group. */\n",
       "            if (buttonGroup.hasChildNodes()) {\n",
       "                toolbar.appendChild(buttonGroup);\n",
       "            }\n",
       "            buttonGroup = document.createElement('div');\n",
       "            buttonGroup.classList = 'btn-group';\n",
       "            continue;\n",
       "        }\n",
       "\n",
       "        button = fig.buttons[name] = document.createElement('button');\n",
       "        button.classList = 'btn btn-default';\n",
       "        button.href = '#';\n",
       "        button.title = name;\n",
       "        button.innerHTML = '<i class=\"fa ' + image + ' fa-lg\"></i>';\n",
       "        button.addEventListener('click', on_click_closure(method_name));\n",
       "        button.addEventListener('mouseover', on_mouseover_closure(tooltip));\n",
       "        buttonGroup.appendChild(button);\n",
       "    }\n",
       "\n",
       "    if (buttonGroup.hasChildNodes()) {\n",
       "        toolbar.appendChild(buttonGroup);\n",
       "    }\n",
       "\n",
       "    // Add the status bar.\n",
       "    var status_bar = document.createElement('span');\n",
       "    status_bar.classList = 'mpl-message pull-right';\n",
       "    toolbar.appendChild(status_bar);\n",
       "    this.message = status_bar;\n",
       "\n",
       "    // Add the close button to the window.\n",
       "    var buttongrp = document.createElement('div');\n",
       "    buttongrp.classList = 'btn-group inline pull-right';\n",
       "    button = document.createElement('button');\n",
       "    button.classList = 'btn btn-mini btn-primary';\n",
       "    button.href = '#';\n",
       "    button.title = 'Stop Interaction';\n",
       "    button.innerHTML = '<i class=\"fa fa-power-off icon-remove icon-large\"></i>';\n",
       "    button.addEventListener('click', function (_evt) {\n",
       "        fig.handle_close(fig, {});\n",
       "    });\n",
       "    button.addEventListener(\n",
       "        'mouseover',\n",
       "        on_mouseover_closure('Stop Interaction')\n",
       "    );\n",
       "    buttongrp.appendChild(button);\n",
       "    var titlebar = this.root.querySelector('.ui-dialog-titlebar');\n",
       "    titlebar.insertBefore(buttongrp, titlebar.firstChild);\n",
       "};\n",
       "\n",
       "mpl.figure.prototype._remove_fig_handler = function (event) {\n",
       "    var fig = event.data.fig;\n",
       "    if (event.target !== this) {\n",
       "        // Ignore bubbled events from children.\n",
       "        return;\n",
       "    }\n",
       "    fig.close_ws(fig, {});\n",
       "};\n",
       "\n",
       "mpl.figure.prototype._root_extra_style = function (el) {\n",
       "    el.style.boxSizing = 'content-box'; // override notebook setting of border-box.\n",
       "};\n",
       "\n",
       "mpl.figure.prototype._canvas_extra_style = function (el) {\n",
       "    // this is important to make the div 'focusable\n",
       "    el.setAttribute('tabindex', 0);\n",
       "    // reach out to IPython and tell the keyboard manager to turn it's self\n",
       "    // off when our div gets focus\n",
       "\n",
       "    // location in version 3\n",
       "    if (IPython.notebook.keyboard_manager) {\n",
       "        IPython.notebook.keyboard_manager.register_events(el);\n",
       "    } else {\n",
       "        // location in version 2\n",
       "        IPython.keyboard_manager.register_events(el);\n",
       "    }\n",
       "};\n",
       "\n",
       "mpl.figure.prototype._key_event_extra = function (event, _name) {\n",
       "    var manager = IPython.notebook.keyboard_manager;\n",
       "    if (!manager) {\n",
       "        manager = IPython.keyboard_manager;\n",
       "    }\n",
       "\n",
       "    // Check for shift+enter\n",
       "    if (event.shiftKey && event.which === 13) {\n",
       "        this.canvas_div.blur();\n",
       "        // select the cell after this one\n",
       "        var index = IPython.notebook.find_cell_index(this.cell_info[0]);\n",
       "        IPython.notebook.select(index + 1);\n",
       "    }\n",
       "};\n",
       "\n",
       "mpl.figure.prototype.handle_save = function (fig, _msg) {\n",
       "    fig.ondownload(fig, null);\n",
       "};\n",
       "\n",
       "mpl.find_output_cell = function (html_output) {\n",
       "    // Return the cell and output element which can be found *uniquely* in the notebook.\n",
       "    // Note - this is a bit hacky, but it is done because the \"notebook_saving.Notebook\"\n",
       "    // IPython event is triggered only after the cells have been serialised, which for\n",
       "    // our purposes (turning an active figure into a static one), is too late.\n",
       "    var cells = IPython.notebook.get_cells();\n",
       "    var ncells = cells.length;\n",
       "    for (var i = 0; i < ncells; i++) {\n",
       "        var cell = cells[i];\n",
       "        if (cell.cell_type === 'code') {\n",
       "            for (var j = 0; j < cell.output_area.outputs.length; j++) {\n",
       "                var data = cell.output_area.outputs[j];\n",
       "                if (data.data) {\n",
       "                    // IPython >= 3 moved mimebundle to data attribute of output\n",
       "                    data = data.data;\n",
       "                }\n",
       "                if (data['text/html'] === html_output) {\n",
       "                    return [cell, data, j];\n",
       "                }\n",
       "            }\n",
       "        }\n",
       "    }\n",
       "};\n",
       "\n",
       "// Register the function which deals with the matplotlib target/channel.\n",
       "// The kernel may be null if the page has been refreshed.\n",
       "if (IPython.notebook.kernel !== null) {\n",
       "    IPython.notebook.kernel.comm_manager.register_target(\n",
       "        'matplotlib',\n",
       "        mpl.mpl_figure_comm\n",
       "    );\n",
       "}\n"
      ],
      "text/plain": [
       "<IPython.core.display.Javascript object>"
      ]
     },
     "metadata": {},
     "output_type": "display_data"
    },
    {
     "data": {
      "text/html": [
       "<div id='e95486fa-4823-4ac7-92a7-95956aa7c121'></div>"
      ],
      "text/plain": [
       "<IPython.core.display.HTML object>"
      ]
     },
     "metadata": {},
     "output_type": "display_data"
    },
    {
     "name": "stderr",
     "output_type": "stream",
     "text": [
      "/home/monica/anaconda3/envs/myenv/lib/python3.8/site-packages/pandas/core/indexing.py:1732: SettingWithCopyWarning: \n",
      "A value is trying to be set on a copy of a slice from a DataFrame\n",
      "\n",
      "See the caveats in the documentation: https://pandas.pydata.org/pandas-docs/stable/user_guide/indexing.html#returning-a-view-versus-a-copy\n",
      "  self._setitem_single_block(indexer, value, name)\n"
     ]
    },
    {
     "name": "stdout",
     "output_type": "stream",
     "text": [
      "   Hidden_Layers  Hidden_Dim  L1_input  L1_hidden  Dropout_input  \\\n",
      "0              1         0.1       0.1    0.00005            0.1   \n",
      "1              1         0.1       0.1    0.05000            0.1   \n",
      "2              1         0.1       0.1    0.00500            0.1   \n",
      "\n",
      "   Dropout_hidden      LR  Best AUC  Best Loss  Best AUC Epoch  \\\n",
      "0             0.4  0.0001  0.562252   1.498086            43.0   \n",
      "1             0.4  0.0001  0.565465   1.493445            25.0   \n",
      "2             0.4  0.0001  0.567720   1.484173            43.0   \n",
      "\n",
      "   Loss at Best AUC Epoch  Best Loss Epoch  AUC at Best Loss Epoch  \\\n",
      "0                1.533301             36.0                0.555605   \n",
      "1                1.591517             38.0                0.560355   \n",
      "2                1.502522             46.0                0.558713   \n",
      "\n",
      "   Total Epochs Status  \n",
      "0            50   Done  \n",
      "1            50   Done  \n",
      "2            50   Done  \n",
      "\n",
      "---------------\n",
      "done reading config!\n"
     ]
    }
   ],
   "source": [
    "# Read the config file to get experiment values\n",
    "# TODO change the config file reading pattern\n",
    "config_file = pd.read_csv(config_filename, sep=\"\\t\")\n",
    "\n",
    "# Read the PRS config file with locations of the PRS2 files\n",
    "# NOTE: The name of the PRS2 must be the same with the name of the PRS1 files and analyses\n",
    "# For example, for PRS2 and PRS1 there is a CAD_202 (one is univariate score, the other is individual SNPs)\n",
    "prs2_config_file = pd.read_csv(prs2_config_filename, sep=\"\\t\")\n",
    "\n",
    "# Read the filenames config file and get the file locations of each relevant file for the disease\n",
    "disease_data = pd.read_csv(disease_data_filename, sep=\"\\t\")\n",
    "\n",
    "# Read values mapping to get name of the disease\n",
    "var_mapping_file = pd.read_csv(var_mapping_filename, sep=\",\")\n",
    "\n",
    "# Set up GPU or CPU computing\n",
    "# Note, for usage of GPU, check nvidia-smi\n",
    "dev = torch.device(\"cuda:{}\".format(gpu_number)) if torch.cuda.is_available() else torch.device(\"cpu\")\n",
    "\n",
    "# TODO update the dataset class\n",
    "\n",
    "exp = ExpToRun(config_file, disease_data, var_mapping_file, prs2_config_file, combin_dict=combinations_all,\n",
    "               exp_number=experiment, prevalent_prs=prevalent_prs, dev=dev, max_epochs=max_epochs)\n",
    "\n",
    "labels_list = exp.labels_list\n",
    "disease_label_filename = exp.disease_label_filename\n",
    "\n",
    "\n",
    "# -- Processing\n",
    "# Need to pre-process based on the binary classification task for the specific disease of interest\n",
    "dataset_indices = pd.read_csv(disease_label_filename, sep=\"\\t\")[[\"UKB ID\", labels_list[0]]]\n",
    "# Remove NaNs from the dataset indices\n",
    "dataset_indices = dataset_indices.iloc[np.where(~dataset_indices[labels_list[0]].isnull())[0]]\n",
    "dataset_indices.reset_index(inplace=True, drop=True)\n",
    "\n",
    "print(dataset_indices)\n",
    "\n",
    "# Get parameters dictionary for samples, and train, validation, and test indices\n",
    "num_trials = 1\n",
    "for trial in range(1, num_trials + 1):\n",
    "\n",
    "    print(\"\\n-----------\")\n",
    "    print(\"Starting trial {}\".format(trial))\n",
    "\n",
    "    train_idx, valid_idx, test_idx = read_trial_idx(trial, idx_file=exp.indices_filename)\n",
    "\n",
    "    print(\"------------\\n\")\n",
    "\n",
    "    # Can use this or get values manually\n",
    "    # Get the penalization values for imbalanced classes\n",
    "    if penalize_class:\n",
    "        # Get a dictionary with penalization weights\n",
    "        penalize_weights = get_penalty_weights(train_idx, labels_list, dataset_indices)\n",
    "\n",
    "        print(\"Train Class Penalty: {}\\n\".format(penalize_weights))\n",
    "\n",
    "    # AFTER THE INDICES ARE SET, NEXT SET UP MODEL AND DATASET CLASSES UNIQUE TO EACH EXPERIMENT.\n",
    "    # RUN EACH EXPERIMENT USING THE SAME TRAIN, VALIDATION, AND TEST INDICES\n",
    "    # ALL OTHER FACTORS CAN BE UNIQUE TO EACH EXPERIMENT.\n",
    "\n",
    "    # SAVE THE LOSS, AUC, and EPOCH DATA FOR EACH ONE IN TRIAL DIRECTORY\n",
    "\n",
    "    print(\"\\n---------------\")\n",
    "    print(\"Running Experiment {}\\n\".format(experiment))\n",
    "    exp.wrapper()\n",
    "\n",
    "    print(\"\\n---------------\")\n",
    "\n",
    "    print(\"done reading config!\")\n"
   ]
  },
  {
   "cell_type": "code",
   "execution_count": 3,
   "id": "129e6f6a",
   "metadata": {},
   "outputs": [],
   "source": [
    "%matplotlib notebook\n"
   ]
  },
  {
   "cell_type": "code",
   "execution_count": null,
   "id": "1738f043",
   "metadata": {},
   "outputs": [],
   "source": []
  },
  {
   "cell_type": "code",
   "execution_count": 7,
   "id": "e0a81680",
   "metadata": {},
   "outputs": [],
   "source": [
    "\n",
    "class ExpToRun:\n",
    "    def __init__(self, config_file, disease_data, var_mapping_file, prs2_file, exp_number, combin_dict=None,\n",
    "                 prevalent_prs=False, dev=None, max_epochs=50):\n",
    "        \"\"\"\n",
    "\n",
    "        :param config_file:\n",
    "        :param disease_data:\n",
    "        :param var_mapping_file:\n",
    "        :param prs2_file:\n",
    "        :param exp_number:\n",
    "        :param prevalent_prs: If True, PRS1 and PRS2 will be prevalent prediction instead of incident\n",
    "        \"\"\"\n",
    "        self.exp_number = exp_number\n",
    "        current_experiment = config_file.loc[config_file[\"Experiment\"] == exp_number, :]\n",
    "\n",
    "        if current_experiment.empty:\n",
    "            print(\"Experiment {} not in the config file.\".format(exp_number))\n",
    "            exit()\n",
    "\n",
    "        disease = current_experiment[\"Disease\"].item()\n",
    "        ng_set = current_experiment[\"NG Features\"].item()\n",
    "        prs_set = current_experiment[\"PRS Features\"].item()\n",
    "        prs_version = current_experiment[\"PRS Version\"].item()\n",
    "\n",
    "        # Check if the PRS version is in the list of possible PRSs in the prs2_files_config.txt\n",
    "        available_prs = list(prs2_file[\"PRS_Name\"]) + [\"All\", \"All_LargeScale\"]\n",
    "        if prs_version not in available_prs:\n",
    "            print(\"The PRS Version {} needs to be in the following list: {}\\n\".format(prs_version,\n",
    "                                                                                      available_prs))\n",
    "            exit()\n",
    "\n",
    "        self.model_type = current_experiment[\"Model Type\"].item()\n",
    "\n",
    "        # Read values mapping to get name of the disease\n",
    "        disease_name = var_mapping_file.loc[var_mapping_file[\"Variable\"] == \"{}\".format(disease), \"Meaning\"].item()\n",
    "        print(\"Disease Name: {}\".format(disease_name))\n",
    "\n",
    "        # Read the filenames config file and get the file locations of each relevant file for the disease\n",
    "        disease_ng1_filename = disease_data.loc[\n",
    "            disease_data[\"Disease\"] == disease_name, \"NG1_FeatureNames_File\"].item()\n",
    "        self.disease_label_filename = disease_data.loc[\n",
    "            disease_data[\"Disease\"] == disease_name, \"Labels_File\"].item()\n",
    "        disease_sex = disease_data.loc[disease_data[\"Disease\"] == disease_name, \"Limit_Sex\"].item()\n",
    "\n",
    "        disease_ng1 = list(pd.read_csv(disease_ng1_filename, sep=\"\\t\")[\"Disease-Specific Risk Factors\"])\n",
    "\n",
    "        if prevalent_prs:\n",
    "            self.indices_filename = disease_data.loc[disease_data[\"Disease\"] == disease_name, \"Samples_Idx_Prevalent\"].item()\n",
    "        else:\n",
    "            self.indices_filename = disease_data.loc[disease_data[\"Disease\"] == disease_name, \"Samples_Idx\"].item()\n",
    "\n",
    "        # TODO this is hardcoded in the script, not the best way, need to add any PRSs\n",
    "        #  directly to the script or modify to make this clean\n",
    "        # The names of the PRSs that are >20k features that are only for PRS1\n",
    "        prs1_largescale_dict = {\n",
    "            \"Myocardial_Infarction\": [\"CAD_1.7M\", \"CAD_6M\"],\n",
    "            \"Breast_Cancer\": [\"BC_5k\"],\n",
    "            \"Schizophrenia\": [\"SZ_1M\"],\n",
    "            \"Prostate_Cancer\": [\"PRO_6M\"],\n",
    "            \"Pancreatic_Cancer\": []\n",
    "        }\n",
    "\n",
    "        # If it is All, need to get all PRSs for the disease in prs2_file. This is relevant for PRS1 and PRS2\n",
    "        if prs_version == \"All\":\n",
    "            prs_ver = list(prs2_file.loc[prs2_file[\"Disease\"] == disease_name, \"PRS_Name\"])\n",
    "        # TODO check this\n",
    "        elif prs_version == \"All_LargeScale\":\n",
    "            if prs_set == \"PRS2\":\n",
    "                print(\"Does not work for PRS2! Use All instead\")\n",
    "                exit()\n",
    "            else:\n",
    "                prs_ver = list(prs2_file.loc[prs2_file[\"Disease\"] == disease_name, \"PRS_Name\"]) + \\\n",
    "                          prs1_largescale_dict[disease_name]\n",
    "        else:\n",
    "            prs_ver = [prs_version]\n",
    "\n",
    "        # Assumption that the files are derived from setup_vcf.py and compile_prs2.py\n",
    "        # The assumption is also that the samples data is in the same directory, samples_prs2.txt\n",
    "        prs2_dict = None\n",
    "        disease_prs1 = []\n",
    "        if prs_set == \"PRS1\":\n",
    "            disease_prs1 = prs_ver  # A list of one or more PRS names that are in the general data fields file\n",
    "        if prs_set == \"PRS2\":\n",
    "            # Get the location of each PRS file\n",
    "            prs2_dict = {}\n",
    "            for prs in prs_ver:\n",
    "                dir = prs2_file.loc[prs2_file[\"PRS_Name\"] == prs, \"Directory\"].item()\n",
    "                gt_filename = \"{}/allSNPs_{}.npy\".format(dir, prs)\n",
    "                ids_filename = \"{}/allSNPs_{}_ids.txt\".format(dir, prs)\n",
    "                samples_filename = \"{}/samples_prs2.txt\".format(dir)\n",
    "                prs2_dict[prs] = {}\n",
    "                prs2_dict[prs][\"data\"] = gt_filename  # The filenames with data to load of the genotypes for the PRS\n",
    "                prs2_dict[prs][\"snp_ids\"] = ids_filename  # The filenames with SNP ids of the PRSs\n",
    "                prs2_dict[prs][\"samples\"] = samples_filename\n",
    "\n",
    "        print(\"PRS Set: {}\".format(prs_set))\n",
    "        print(\"PRS Names: {}\".format(prs_ver))\n",
    "        print(\"NG Set: {}\".format(ng_set))\n",
    "        print(\"M: {}\".format(self.model_type))\n",
    "        print(\"\\n-------------------------\\n\")\n",
    "\n",
    "        # ---------------\n",
    "        # PROCESS CONFIG\n",
    "\n",
    "        if disease_sex == \"Female\":\n",
    "            self.sex_subset = True\n",
    "            self.sex_code = 1\n",
    "        elif disease_sex == \"Male\":\n",
    "            self.sex_subset = True\n",
    "            self.sex_code = 0\n",
    "        else:\n",
    "            self.sex_subset = False\n",
    "            self.sex_code = \"None\"\n",
    "\n",
    "        # If using PRS only, will ignore the incident years\n",
    "        if ng_set == \"None\":\n",
    "            if prevalent_prs:\n",
    "                self.labels_list = [\"all_cases/nan/nan/nan/av1\"]\n",
    "            else:\n",
    "                self.labels_list = [\"time_window_incident/nan/{}.0/nan/av1\".format(incident_years)]\n",
    "        else:\n",
    "            # Set up the labels list based on the incident years\n",
    "            self.labels_list = [\"time_window_incident/nan/{}.0/nan/av1\".format(incident_years)]\n",
    "\n",
    "        # if (ng_set == \"None\" and prs2_dict is None) or (ng_set == \"None\" and disease_prs1 == []):\n",
    "        #   print(\"Must have at least one dataset for NG or PRS\")\n",
    "        #  exit()\n",
    "\n",
    "        # If using disease-specific non-genetic risk factors\n",
    "        # Access the datafields specific to the disease as datafields_list\n",
    "        self.datafields_list = []\n",
    "\n",
    "        if ng_set == \"NG1\" or ng_set == \"NG2\":\n",
    "            self.datafields_list += disease_ng1\n",
    "        if prs_set == \"PRS1\":\n",
    "            self.datafields_list += disease_prs1\n",
    "\n",
    "        if (ng_set == \"NG1\" or ng_set == \"None\") and (prs_set == \"PRS1\" or prs_set == \"None\" or prs_set == \"PRS2\"):\n",
    "            self.only_datafields = True  # Only read from the general ukb_datafields_v2.h5 file\n",
    "        else:\n",
    "            # Relevant for any model with NG2\n",
    "            self.only_datafields = False  # Do not only read from the general ukb_datafields_v2.h5 file\n",
    "\n",
    "        self.combinations_dict = combin_dict\n",
    "        self.max_epochs = max_epochs\n",
    "            \n",
    "        self.dev = dev\n",
    "        self.disease = disease\n",
    "        self.ng_set = ng_set\n",
    "        self.prs_set = prs_set\n",
    "        self.prs2_dict = prs2_dict\n",
    "        \n",
    "\n",
    "    def model_dataset_setup(self):\n",
    "        # To do if using the pre-trained model features\n",
    "        # Not relevant if only training with basic data fields\n",
    "        if pretrained_NG2 and not self.only_datafields:\n",
    "            print(\"This is not set up, do not use this option for pretrained_NG2\")\n",
    "            exit()\n",
    "\n",
    "        self.pretrained_model = None\n",
    "        self.embedding_label_dim = None\n",
    "\n",
    "        # ------------------------------------------------------------------------------------\n",
    "        # Set up data loaders and model\n",
    "        if not self.only_datafields:\n",
    "\n",
    "            dataset_class = \"MedHistory_Dataset\"\n",
    "\n",
    "            if use_embedding:\n",
    "                medhistory_data = fixed_embedding_data\n",
    "\n",
    "            self.train_data = dataset_classes.MedHistory_Dataset(train_idx, medhistory_data,\n",
    "                                                                 medhistory_ids_filename,\n",
    "                                                                 output_labels=labels_list,\n",
    "                                                                 class_filename=disease_label_filename,\n",
    "                                                                 datafields_filename=datafields_filename,\n",
    "                                                                 datafields_list=self.datafields_list,\n",
    "                                                                 datafields_idx_filename=datafields_idx_filename,\n",
    "                                                                 dev=self.dev, prs2_dict=self.prs2_dict\n",
    "                                                                 )\n",
    "\n",
    "            self.val_data = dataset_classes.MedHistory_Dataset(valid_idx, medhistory_data, medhistory_ids_filename,\n",
    "                                                               output_labels=labels_list,\n",
    "                                                               class_filename=disease_label_filename,\n",
    "                                                               datafields_filename=datafields_filename,\n",
    "                                                               datafields_list=self.datafields_list,\n",
    "                                                               datafields_idx_filename=datafields_idx_filename,\n",
    "                                                               return_idx=True,\n",
    "                                                               dev=self.dev, prs2_dict=self.prs2_dict\n",
    "                                                               )\n",
    "\n",
    "            self.dataset_initialization_dict = {\"Dataset Class\": dataset_class, \"medhistory_data\": medhistory_data,\n",
    "                                                \"medhistory_ids_filename\": medhistory_ids_filename, \"X_only\": False,\n",
    "                                                \"output_labels\": labels_list,\n",
    "                                                \"class_filename\": disease_label_filename,\n",
    "                                                \"datafields_filename\": datafields_filename,\n",
    "                                                \"datafields_list\": self.datafields_list,\n",
    "                                                \"datafields_idx_filename\": datafields_idx_filename,\n",
    "                                                \"indices_filename\": self.indices_filename,\n",
    "                                                \"PRS2_dict\": self.prs2_dict}\n",
    "\n",
    "        # If it is restricted to just using the data fields as input, then use a separate dataset class\n",
    "        # NOTE: update the dataset class. If prs2_dict != None, then set up prs2 dataset\n",
    "        else:\n",
    "            dataset_class = \"GeneralDataFields_Dataset\"\n",
    "            self.train_data = dataset_classes.GeneralDataFields_Dataset(train_idx, datafields_filename,\n",
    "                                                                        datafields_idx_filename,\n",
    "                                                                        self.datafields_list,\n",
    "                                                                        output_labels=labels_list,\n",
    "                                                                        class_filename=disease_label_filename,\n",
    "                                                                        return_idx=False,\n",
    "                                                                        prs2_dict=self.prs2_dict,\n",
    "                                                                        dev=self.dev\n",
    "                                                                        )\n",
    "\n",
    "            self.val_data = dataset_classes.GeneralDataFields_Dataset(valid_idx, datafields_filename,\n",
    "                                                                      datafields_idx_filename,\n",
    "                                                                      self.datafields_list,\n",
    "                                                                      output_labels=labels_list,\n",
    "                                                                      class_filename=disease_label_filename,\n",
    "                                                                      return_idx=True,\n",
    "                                                                      prs2_dict=self.prs2_dict,\n",
    "                                                                      dev=self.dev\n",
    "                                                                      )\n",
    "            self.dataset_initialization_dict = {\"Dataset Class\": dataset_class,\n",
    "                                                \"datafields_filename\": datafields_filename,\n",
    "                                                \"datafields_idx_filename\": datafields_idx_filename,\n",
    "                                                \"datafields_list\": self.datafields_list, \"X_only\": False,\n",
    "                                                \"output_labels\": labels_list,\n",
    "                                                \"class_filename\": disease_label_filename,\n",
    "                                                \"indices_filename\": self.indices_filename,\n",
    "                                                \"PRS2_dict\": self.prs2_dict\n",
    "                                                }\n",
    "\n",
    "\n",
    "    def model_setup(self):\n",
    "        # ------------------------------------------------------------------------------------\n",
    "        # Set up the combination frame for the model\n",
    "\n",
    "        # Depends on whether it is M1 or M2 First check which one\n",
    "        # # If it is M1 (LR), the only parameters to explore will be L1\n",
    "        # regularization and learning rate. Make sure no regularization is an option regardless. If univariate input,\n",
    "        # no regularization is the only option.\n",
    "        # NOTE: the script is not set up for univariate input\n",
    "        \"\"\"\n",
    "        if ng_set == \"NG2\" and prs_set == \"PRS2\":\n",
    "            max_epochs = 500\n",
    "        if ng_set == \"NG2\" and prs_set != \"PRS2\":\n",
    "            # max_epochs = 100\n",
    "            max_epochs = 50  # Due to time issues\n",
    "        if ng_set != \"NG2\" and prs_set == \"PRS2\":\n",
    "            max_epochs = 200\n",
    "        else:\n",
    "            max_epochs = 50\n",
    "        \"\"\"\n",
    "\n",
    "\n",
    "        # Check if all current settings are in {\"NG1\", \"PRS1\", or \"None\"}\n",
    "        # If not, it means PRS2 or NG2 are included\n",
    "        only_smalldata = np.all([item in {\"NG1\", \"PRS1\", \"None\"} for item in [self.ng_set, self.prs_set]])\n",
    "\n",
    "        if self.model_type == \"M1\":\n",
    "            num_selections = 20\n",
    "            num_zerol1 = 5  # How many selections with L1 == 0\n",
    "\n",
    "            # If the dataset comprises only the options in the set {NG1, PRS1, None} then set up no regularization (l1 = 0)\n",
    "            # with a range of 10 randomly-selected values for learning rate. Then for the remaining 20 selections, change\n",
    "            # both L1 and LR via random selections\n",
    "            if only_smalldata:\n",
    "                l1_first = np.zeros((1, num_zerol1)).flatten()\n",
    "                # It's okay to have a larger learning rate\n",
    "                l1_range = loguniform.rvs(0.0001, 0.001, size=num_selections - num_zerol1)\n",
    "                l1_range = np.concatenate([l1_first, l1_range])\n",
    "                lr_range = loguniform.rvs(0.0001, 0.001, size=num_selections)\n",
    "            else:\n",
    "                # l1_range = loguniform.rvs(0.00001, 0.01, size=num_selections)\n",
    "                l1_range = loguniform.rvs(0.005, 0.05, size=num_selections)\n",
    "                # lr_range = loguniform.rvs(0.0001, 0.1, size=num_selections)\n",
    "                lr_range = loguniform.rvs(1e-5, 1e-3, size=num_selections)\n",
    "\n",
    "                \n",
    "            combination_frame = pd.DataFrame({\"L1_input\": l1_range,\n",
    "                                              \"LR\": lr_range,\n",
    "                                              \"Best AUC\": [np.nan] * num_selections,\n",
    "                                              \"Best Loss\": [np.nan] * num_selections,\n",
    "                                              \"Best AUC Epoch\": [np.nan] * num_selections,\n",
    "                                              \"Loss at Best AUC Epoch\": [np.nan] * num_selections,\n",
    "                                              \"Best Loss Epoch\": [np.nan] * num_selections,\n",
    "                                              \"AUC at Best Loss Epoch\": [np.nan] * num_selections,\n",
    "                                              \"Total Epochs\": [max_epochs] * num_selections,\n",
    "                                              \"Status\": [\"Not Started\"] * num_selections})\n",
    "\n",
    "            print(combination_frame)\n",
    "            \n",
    "\n",
    "        \"\"\"\n",
    "        For M2, do a grid search over\n",
    "        the main architecture (number of layers and nodes per layer) and then do a random search for L1, L2, LR, and dropout,\n",
    "        which will be used (the same) for each item in the grid.\n",
    "        Ex. 2 layers & 0.1*input nodes, 3 layers & 0.1*input nodes, 2 layers & 0.3*input nodes, 3 layers & 0.3*input nodes\n",
    "        For each one, say we have like 40 random selections for the other parameters, apply it to each item in the grid\n",
    "        \"\"\"\n",
    "        if self.model_type == \"M2\":\n",
    "            \n",
    "            combination_frame = self.combinations_dict\n",
    "                    # TODO update\n",
    "        \n",
    "            \n",
    "            if combination_frame is None:\n",
    "                print(\"Must have a value here\")\n",
    "                print(var)\n",
    "\n",
    "        self.combination_frame = combination_frame\n",
    "\n",
    "    def dataloader_and_misc(self):\n",
    "        # ------------------------------------------------------------------------------------\n",
    "        # Set up data loader\n",
    "        self.train_loader = DataLoader(self.train_data, batch_size=train_batch_size, shuffle=True,\n",
    "                                       num_workers=num_workers)\n",
    "        self.valid_loader = DataLoader(self.val_data, batch_size=valid_batch_size, shuffle=False,\n",
    "                                       num_workers=num_workers)\n",
    "\n",
    "        try:\n",
    "            self.output_dim = self.train_data.output_dim[0]\n",
    "        except AttributeError:\n",
    "            self.output_dim = len(labels_list)\n",
    "\n",
    "        self.input_dim = self.train_data.input_dim\n",
    "\n",
    "        if pretrained_NG2 and not self.only_datafields:\n",
    "            print(\"This option is not available. Do not use the pretrained_NG2 option.\")\n",
    "            exit()\n",
    "\n",
    "        if testing_only is False:\n",
    "            # Set up for saving all trained models here and then removing non-optimal ones\n",
    "            # Across the combinations\n",
    "            # The alternative is to save the best model for each combination in directory\n",
    "            self.saved_models_dir = \"{}/saved_models\".format(trial_dir)\n",
    "            subprocess.run([\"mkdir\", \"{}/saved_models\".format(trial_dir)], shell=False)\n",
    "        else:\n",
    "            self.saved_models_dir = None\n",
    "\n",
    "    def run_training(self):\n",
    "        \"\"\"\n",
    "        Trains each of the combinations for this experiment\n",
    "        :return:\n",
    "        \"\"\"\n",
    "\n",
    "        # ------------------------------------------------------------------------------------\n",
    "        # Set up iterative training for each combination\n",
    "\n",
    "        best_aucs = []\n",
    "        best_loss = []\n",
    "        auc_epoch = []\n",
    "        total_epochs_list = []\n",
    "        loss_epoch = []\n",
    "        loss_atbest_auc_epoch_list = []\n",
    "        auc_atbestloss_epoch_list = []\n",
    "        for k in range(len(self.combination_frame)):\n",
    "\n",
    "            if testing_only is False:\n",
    "                combination_params_dir = \"{}/combination_params\".format(trial_dir)\n",
    "                subprocess.run([\"mkdir\", \"{}/combination_params\".format(trial_dir)],\n",
    "                               shell=False)\n",
    "                combination_results_dir = \"{}/combination_results/combination{}\".format(trial_dir, k)\n",
    "                subprocess.run([\"mkdir\", \"{}/combination_results\".format(trial_dir)], shell=False)\n",
    "                subprocess.run([\"mkdir\", \"{}/combination_results/combination{}\".format(trial_dir, k)], shell=False)\n",
    "\n",
    "            if self.model_type == \"M2\":\n",
    "                current_params_dict = {\"#hidden_layers\": self.combination_frame.loc[k, \"Hidden_Layers\"],\n",
    "                                       \"input_dim\": self.input_dim,\n",
    "                                       \"output_dim\": self.output_dim,\n",
    "                                       \"hidden_dim\": [round(\n",
    "                                           self.combination_frame.loc[k, \"Hidden_Dim\"].item() * self.input_dim)] *\n",
    "                                                     self.combination_frame.loc[k, \"Hidden_Layers\"].item(),\n",
    "                                       \"input_regularize_norm\": 1,\n",
    "                                       \"output_regularize_norm\": \"None\",\n",
    "                                       \"hidden_regularize_norm\": [1] * self.combination_frame.loc[\n",
    "                                           k, \"Hidden_Layers\"].item(),\n",
    "                                       \"input_regularize_weight\": self.combination_frame.loc[k, \"L1_input\"].item(),\n",
    "                                       \"output_regularize_weight\": 0,\n",
    "                                       \"hidden_regularize_weight\": [self.combination_frame.loc[\n",
    "                                                                        k, \"L1_hidden\"].item()] *\n",
    "                                                                   self.combination_frame.loc[\n",
    "                                                                       k, \"Hidden_Layers\"].item(),\n",
    "                                       \"input_dropout\": self.combination_frame.loc[k, \"Dropout_input\"].item(),\n",
    "                                       \"output_dropout\": 0,\n",
    "                                       \"hidden_dropout\": [self.combination_frame.loc[k, \"Dropout_hidden\"].item()] *\n",
    "                                                         self.combination_frame.loc[k, \"Hidden_Layers\"].item(),\n",
    "                                       \"optimizer_lr\": self.combination_frame.loc[k, \"LR\"].item(),\n",
    "                                       \"optimizer_betas\": \"Default\",\n",
    "                                       \"optimizer_eps\": \"Default\",\n",
    "                                       \"optimizer_weightdecay\": \"Default\",\n",
    "                                       \"batch_size\": train_batch_size,\n",
    "                                       \"max_epochs\": self.max_epochs,\n",
    "                                       \"regression\": regression,\n",
    "                                       \"batch_normalize\": batch_normalize,\n",
    "                                       \"device\": dev,\n",
    "                                       \"elastic_net\": elastic_net,\n",
    "                                       \"mse_loss\": mse_loss,\n",
    "                                       \"elastic_net_input_lambdas\": {\n",
    "                                           \"L1\": self.combination_frame.loc[k, \"L1_input\"].item(),\n",
    "                                           \"L2\": 0},\n",
    "                                       \"elastic_net_hidden_lambdas\": [{\"L1\": self.combination_frame.loc[\n",
    "                                           k, \"L1_hidden\"].item(),\n",
    "                                                                       \"L2\": 0}] * self.combination_frame.loc[\n",
    "                                                                         k, \"Hidden_Layers\"].item(),\n",
    "                                       \"penalize_class\": penalize_class,\n",
    "                                       \"penalize_weights\": penalize_weights,\n",
    "                                       \"multitask\": multitask}\n",
    "            elif self.model_type == \"M1\":\n",
    "                current_params_dict = {\"#hidden_layers\": 0,\n",
    "                                       \"input_dim\": self.input_dim,\n",
    "                                       \"output_dim\": self.output_dim,\n",
    "                                       \"hidden_dim\": [],\n",
    "                                       \"input_regularize_norm\": 1,\n",
    "                                       \"output_regularize_norm\": \"None\",\n",
    "                                       \"hidden_regularize_norm\": [],\n",
    "                                       \"input_regularize_weight\": self.combination_frame.loc[k, \"L1_input\"].item(),\n",
    "                                       \"output_regularize_weight\": 0,\n",
    "                                       \"hidden_regularize_weight\": [],\n",
    "                                       \"input_dropout\": 0,\n",
    "                                       \"output_dropout\": 0,\n",
    "                                       \"hidden_dropout\": [],\n",
    "                                       \"optimizer_lr\": self.combination_frame.loc[k, \"LR\"].item(),\n",
    "                                       \"optimizer_betas\": \"Default\",\n",
    "                                       \"optimizer_eps\": \"Default\",\n",
    "                                       \"optimizer_weightdecay\": \"Default\",\n",
    "                                       \"batch_size\": train_batch_size,\n",
    "                                       \"max_epochs\": self.max_epochs,\n",
    "                                       \"regression\": regression,\n",
    "                                       \"batch_normalize\": batch_normalize,\n",
    "                                       \"device\": dev,\n",
    "                                       \"elastic_net\": elastic_net,\n",
    "                                       \"mse_loss\": mse_loss,\n",
    "                                       \"elastic_net_input_lambdas\": {\n",
    "                                           \"L1\": self.combination_frame.loc[k, \"L1_input\"].item(),\n",
    "                                           \"L2\": 0},\n",
    "                                       \"elastic_net_hidden_lambdas\": [],\n",
    "                                       \"penalize_class\": penalize_class,\n",
    "                                       \"penalize_weights\": penalize_weights,\n",
    "                                       \"multitask\": multitask}\n",
    "\n",
    "            if testing_only is False:\n",
    "                # Save current_params_dict as json file\n",
    "                with open(\"{}/combination{}.pkl\".format(combination_params_dir, k), \"wb\") as file:\n",
    "                    pickle.dump(current_params_dict, file)\n",
    "\n",
    "                self.combination_frame.loc[k, \"Status\"] = \"In Progress\"\n",
    "                self.combination_frame.to_csv(\"{}/trial_combinations.txt\".format(trial_dir), sep=\"\\t\", index=False)\n",
    "\n",
    "            # TODO while training, save train_auc, train_loss, val_auc, val_loss, epoch_count in combinations_results_dir\n",
    "            # Train model\n",
    "            # Set up the model\n",
    "            print(\"setting up model...\")\n",
    "            self.ffnn_model = model_classes.FeedForwardNet(current_params_dict).to(dev)\n",
    "            print(\"done setting up model...\")\n",
    "            print(self.ffnn_model.named_parameters)\n",
    "            for param in self.ffnn_model.state_dict():\n",
    "                print(param, \":\", self.ffnn_model.state_dict()[param].size())\n",
    "\n",
    "            if pretrained_NG2 and not self.only_datafields:\n",
    "                print(\"This option is not available. Do not use pretrained_NG2 option\")\n",
    "                exit()\n",
    "\n",
    "            if testing_only is False:\n",
    "                results_dir = combination_results_dir\n",
    "            else:\n",
    "                results_dir = None\n",
    "                saved_models_dir = None\n",
    "\n",
    "            # Train model\n",
    "            best_valid_auc, best_auc_epoch, best_valid_loss, best_loss_epoch, \\\n",
    "            total_epochs, loss_atbestauc_epoch, \\\n",
    "            auc_atbestloss_epoch = main(self.ffnn_model, self.train_loader, self.valid_loader,\n",
    "                                                        accum_grads,\n",
    "                                                        batch_multiples, regression, dev,\n",
    "                                                        testing_only,\n",
    "                                                        self.datafields_list,\n",
    "                                                        encoded_multivariate_label,\n",
    "                                                        self.pretrained_model,\n",
    "                                                        self.only_datafields,\n",
    "                                                        results_dir=results_dir,\n",
    "                                                        pretrained=pretrained_NG2,\n",
    "                                                        model_params_dir=self.saved_models_dir,\n",
    "                                                        combination=k)\n",
    "\n",
    "            best_aucs += [best_valid_auc]\n",
    "            best_loss += [best_valid_loss]\n",
    "            auc_epoch += [best_auc_epoch]\n",
    "            loss_epoch += [best_loss_epoch]\n",
    "            loss_atbest_auc_epoch_list += [loss_atbestauc_epoch]\n",
    "            auc_atbestloss_epoch_list += [auc_atbestloss_epoch]\n",
    "\n",
    "            total_epochs_list += [total_epochs]  # If it stops early, total_epochs will be less than max_epochs\n",
    "\n",
    "            self.combination_frame[\"Best AUC\"].iloc[k] = best_valid_auc\n",
    "            self.combination_frame[\"Best Loss\"].iloc[k] = best_valid_loss\n",
    "            self.combination_frame[\"Best AUC Epoch\"].iloc[k] = best_auc_epoch\n",
    "            self.combination_frame[\"Loss at Best AUC Epoch\"].iloc[k] = loss_atbestauc_epoch\n",
    "            self.combination_frame[\"Best Loss Epoch\"].iloc[k] = best_loss_epoch\n",
    "            self.combination_frame[\"AUC at Best Loss Epoch\"].iloc[k] = auc_atbestloss_epoch\n",
    "            self.combination_frame[\"Total Epochs\"].iloc[k] = total_epochs\n",
    "            self.combination_frame.loc[k, \"Status\"] = \"Done\"\n",
    "\n",
    "            print(self.combination_frame)\n",
    "\n",
    "            del self.ffnn_model\n",
    "            gc.collect()\n",
    "            torch.cuda.empty_cache()\n",
    "\n",
    "    def wrapper(self):\n",
    "        \"\"\"\n",
    "        Use this to run each of the functions for experiment to get results\n",
    "        :return:\n",
    "        \"\"\"\n",
    "        self.model_dataset_setup()\n",
    "        self.model_setup()\n",
    "        self.dataloader_and_misc()\n",
    "        self.run_training()\n",
    "\n",
    "        # Delete the variables to free space on GPUs\n",
    "        del self.pretrained_model\n",
    "        del self.train_data, self.val_data\n",
    "        del self.train_loader, self.valid_loader\n",
    "        gc.collect()\n",
    "        torch.cuda.empty_cache()\n",
    "\n",
    "def read_trial_idx(trial_num, idx_file):\n",
    "    \"\"\"\n",
    "    Reads the train, validation, and test indices for each trial\n",
    "    The idx_file is the file name\n",
    "    :return: train_idx, valid_idx, test_idx\n",
    "    \"\"\"\n",
    "\n",
    "    idx_file = np.load(idx_file)\n",
    "\n",
    "    train_idx = idx_file[\"train_trial{}\".format(trial_num)]\n",
    "    valid_idx = idx_file[\"valid_trial{}\".format(trial_num)]\n",
    "    test_idx = idx_file[\"test_trial{}\".format(trial_num)]\n",
    "\n",
    "    return train_idx, valid_idx, test_idx\n"
   ]
  },
  {
   "cell_type": "code",
   "execution_count": 8,
   "id": "6da1be21",
   "metadata": {},
   "outputs": [],
   "source": [
    "\n",
    "def main(model, train_loader, valid_loader, accum_grads, batch_multiples, regression, dev, testing_only,\n",
    "         datafields_list, encode_multivariate_label, pretrained_model, only_datafields, results_dir=None,\n",
    "         multitask=False,\n",
    "         pretrained=False, model_params_dir=None, combination=None):\n",
    "    # Run the model\n",
    "\n",
    "    # TODO update if needed\n",
    "    \"\"\"\n",
    "    # Get and save the model weights at layer 1 before training\n",
    "    for name, params in model.named_parameters():\n",
    "        if name == \"layers_list.0.weight\":\n",
    "            np.save(\"first_input_weights.npy\", params.cpu().detach().numpy())\n",
    "    \"\"\"\n",
    "\n",
    "    # Write a file that the script checks after each epoch which says whether or not to move on to next parameter set\n",
    "    # TODO set this up\n",
    "    import time\n",
    "\n",
    "    start_all_time = time.time()\n",
    "\n",
    "    fig, ax = plt.subplots(1,1)\n",
    "    ax.set_xlabel(\"Epoch\")\n",
    "    ax.set_ylabel(\"AUC\")\n",
    "    \n",
    "    tol = 1e-4\n",
    "    n_iter_no_change = 10  # Number of consecutive epochs change in validation loss <= tol\n",
    "    n_iter_worse_results = 4  # Number of consecutive epochs change in validation AUC is negative\n",
    "\n",
    "    train_loss = []\n",
    "    valid_loss = []\n",
    "    epoch_count = []\n",
    "    valid_reg_loss = []  # Regularization loss term\n",
    "    valid_main_loss = []  # BCE or MSE loss term\n",
    "    train_reg_loss = []\n",
    "    train_main_loss = []\n",
    "    count = 0  # Keep track of changes in loss for each batch of samples across the different epochs\n",
    "    loss_list = []  # Keep track of loss after each batch of samples across the different epochs\n",
    "    samples_list = []  # Keep track of the total number of samples\n",
    "    train_auc = []  # Only if regression is False\n",
    "    valid_auc = []  # Only if regression is False\n",
    "    best_val_loss = None  # Initialize this\n",
    "    no_change_epochs = 0  # This variable counts the consecutive epochs with loss diff < tol\n",
    "    worse_results_epochs = 0  # This variable counts the consecutive epochs with negative AUC diff\n",
    "    for epoch in range(model.max_epochs):\n",
    "        print(\"\\n---------\\nEpoch {} of {}\".format(epoch + 1, model.max_epochs))\n",
    "        start_epoch_time = time.time()\n",
    "\n",
    "        # Run the train function\n",
    "        train_epoch_loss, train_epoch_auc, train_epoch_accuracy, train_loss_breakdown = fit_model_accum(model,\n",
    "                                                                                                        train_loader,\n",
    "                                                                                                        dev)\n",
    "\n",
    "        print(\"Train Loss: {}\\nTrain AUC: {}\\nTrain Accuracy: {}\\n\".format(train_epoch_loss,\n",
    "                                                                           train_epoch_auc,\n",
    "                                                                           train_epoch_accuracy))\n",
    "\n",
    "        # Validate Model\n",
    "        # NOTE: Returns last_layer_preactivation for percentile vs. prevalence plot\n",
    "        # Combined input model\n",
    "        val_epoch_loss, val_epoch_auc, \\\n",
    "        val_epoch_accuracy, last_layer_preactivation, valid_loss_breakdown = validate_model_addfields_copy(\n",
    "            model, valid_loader, dev, report_results=False)\n",
    "\n",
    "\n",
    "        print(\"Validation Loss: {}\\nValidation AUC: {}\\nValidation Accuracy: {}\".format(val_epoch_loss,\n",
    "                                                                                        val_epoch_auc,\n",
    "                                                                                        val_epoch_accuracy))\n",
    "\n",
    "        # Check for convergence and early stopping based on loss function\n",
    "        if epoch >= 1:\n",
    "            prev_epoch_auc = valid_auc[-1]\n",
    "            prev_epoch_loss = valid_loss[-1]\n",
    "            if (val_epoch_loss - prev_epoch_loss) < tol:\n",
    "                no_change_epochs += 1\n",
    "                print(\"If converges, will stop in {} iterations\".format(\n",
    "                    n_iter_no_change - no_change_epochs))\n",
    "            if (val_epoch_auc - prev_epoch_auc) < 0:\n",
    "                worse_results_epochs += 1\n",
    "                print(\"If performance continues to decrease, will stop in {} iterations\".format(\n",
    "                    n_iter_worse_results - worse_results_epochs\n",
    "                ))\n",
    "\n",
    "            else:\n",
    "                no_change_epochs = 0\n",
    "                worse_results_epochs = 0\n",
    "\n",
    "        train_loss.append(train_epoch_loss)\n",
    "        valid_loss.append(val_epoch_loss)\n",
    "        epoch_count.append(epoch + 1)\n",
    "\n",
    "        \n",
    "        # TODO add this\n",
    "\n",
    "        # Save the breakdown of how regularization vs. MSE / BCE loss change\n",
    "        train_main_loss.append(train_loss_breakdown[\"Main Loss\"])\n",
    "        train_reg_loss.append(train_loss_breakdown[\"Reg Loss\"])\n",
    "        valid_main_loss.append(valid_loss_breakdown[\"Main Loss\"])\n",
    "        valid_reg_loss.append(valid_loss_breakdown[\"Reg Loss\"])\n",
    "\n",
    "        if not regression:\n",
    "            train_auc.append(train_epoch_auc)\n",
    "            valid_auc.append(val_epoch_auc)\n",
    "\n",
    "            best_val_auc = np.max(valid_auc)\n",
    "            auc_epoch = np.argmax(valid_auc)\n",
    "            print(\"Best Val AUC: {} at epoch {}\".format(best_val_auc, auc_epoch + 1))\n",
    "\n",
    "        best_val_loss = np.min(valid_loss)\n",
    "        print(\"Best Val Loss: {} at epoch {}\".format(best_val_loss, np.argmin(valid_loss) + 1))\n",
    "\n",
    "        # ------------------------------------------------------------------------------------\n",
    "        # How to stop early\n",
    "        \n",
    "        ax.plot(epoch_count, train_auc, \"-or\", label=\"Train\")\n",
    "        ax.plot(epoch_count, valid_auc, \"-ok\", label=\"Val\")\n",
    "        fig.canvas.draw()\n",
    "        \n",
    "        # Stop early if there has been almost no change in loss over many epochs\n",
    "        if no_change_epochs > n_iter_no_change:\n",
    "            stopearly = True\n",
    "        if worse_results_epochs > n_iter_worse_results:\n",
    "            stopearly = True\n",
    "        else:\n",
    "            stopearly = False\n",
    "\n",
    "        if stopearly:\n",
    "            best_val_loss = np.min(valid_loss)\n",
    "            loss_epoch = np.argmin(valid_loss)\n",
    "            loss_atbestauc_epoch = valid_loss[auc_epoch]\n",
    "            auc_atbestloss_epoch = valid_auc[loss_epoch]\n",
    "            \n",
    "            if not regression:\n",
    "                # TODO the experiment 1 trial 1 training had it without auc_epoch+1 or loss_epoch+1\n",
    "                #  Make it consistent for all of them; either remove before running another trial\n",
    "                #  or keep the +1 and know that experiment 1 trial 1 is different\n",
    "                del model\n",
    "                gc.collect()\n",
    "                torch.cuda.empty_cache()\n",
    "                return best_val_auc, auc_epoch + 1, best_val_loss, loss_epoch + 1, epoch + 1, loss_atbestauc_epoch, \\\n",
    "                       auc_atbestloss_epoch\n",
    "            else:\n",
    "\n",
    "                return best_val_loss, loss_epoch + 1, epoch + 1\n",
    "\n",
    "        print(\"Epoch Time: {}\".format(time.time() - start_epoch_time))\n",
    "        # print(\"Overall Time: {}\".format(time.time() - start_all_time))\n",
    "        # print(\"Estimated Time Left {}\".format((model.max_epochs - epoch) * (time.time() - start_epoch_time)))\n",
    "\n",
    "    best_val_loss = np.min(valid_loss)\n",
    "    loss_epoch = np.argmin(valid_loss)\n",
    "    \n",
    "    if not regression:\n",
    "        best_val_auc = np.max(valid_auc)\n",
    "        best_val_loss = np.min(valid_loss)\n",
    "        auc_epoch = np.argmax(valid_auc)\n",
    "        loss_atbestauc_epoch = valid_loss[auc_epoch]\n",
    "        auc_atbestloss_epoch = valid_auc[loss_epoch]\n",
    "        # TODO the experiment 1 trial 1 training had it without auc_epoch+1 or loss_epoch+1\n",
    "        #  Make it consistent for all of them\n",
    "        del model\n",
    "        gc.collect()\n",
    "        torch.cuda.empty_cache()\n",
    "        return best_val_auc, auc_epoch + 1, best_val_loss, loss_epoch + 1, epoch + 1, loss_atbestauc_epoch, auc_atbestloss_epoch\n",
    "\n",
    "    else:\n",
    "        del model\n",
    "        gc.collect()\n",
    "        torch.cuda.empty_cache()\n",
    "        return best_val_loss, loss_epoch + 1, epoch + 1\n"
   ]
  },
  {
   "cell_type": "code",
   "execution_count": 9,
   "id": "c64b1bf9",
   "metadata": {},
   "outputs": [],
   "source": [
    "\n",
    "def remove_bad_epochs(val_auc, outputs_dir, filename_stem, valid_loss):\n",
    "    \"\"\"\n",
    "    Remove the saved trained model that does not have the lowest valid loss or best performance, to save space.\n",
    "    :param valid_loss: Validation loss vector\n",
    "    :param outputs_dir: Directory where model state is saved\n",
    "    :param filename_stem: The stem of the file name\n",
    "    Assumption: The file name format will be \"{}_epoch{}.pt\".format(filename_stem, epoch)\n",
    "    Where the epoch filename numbers start from 1, not 0\n",
    "    Requires valid_loss, outputs_dir to be defined in the main script\n",
    "    \"\"\"\n",
    "    # Find the best epoch\n",
    "    best_auc_epoch = np.argmax(val_auc) + 1\n",
    "    best_loss_epoch = np.argmin(valid_loss) + 1\n",
    "    # Show all files in the directory in a list\n",
    "    output_dir_files = os.listdir(outputs_dir)\n",
    "    model_filenames_todelete = []\n",
    "    for filename in output_dir_files:\n",
    "        if filename.startswith(\"{}_epoch\".format(filename_stem)):\n",
    "            model_filenames_todelete += [filename]\n",
    "    # Remove the best epoch filename from the list of files to delete\n",
    "    model_filenames_todelete.remove(\"{}_epoch{}.pt\".format(filename_stem, best_auc_epoch))\n",
    "    best_auc_model_filename = \"{}/{}_epoch{}.pt\".format(outputs_dir, filename_stem, best_auc_epoch)\n",
    "\n",
    "    if best_auc_epoch != best_loss_epoch:\n",
    "        model_filenames_todelete.remove(\"{}_epoch{}.pt\".format(filename_stem, best_loss_epoch))\n",
    "        best_loss_model_filename = \"{}/{}_epoch{}.pt\".format(outputs_dir, filename_stem, best_loss_epoch)\n",
    "    else:\n",
    "        best_loss_model_filename = best_auc_model_filename\n",
    "\n",
    "    # Delete remaining files that are not from the best epoch\n",
    "    for filename in model_filenames_todelete:\n",
    "        subprocess.run([\"rm\",\n",
    "                        \"{}/{}\".format(outputs_dir, filename)], shell=False)\n",
    "    return best_auc_model_filename, best_loss_model_filename\n",
    "\n",
    "\n",
    "def classification_metrics(y_true, y_pred):\n",
    "    # Get AUC\n",
    "\n",
    "    fpr, tpr, _ = roc_curve(np.vstack(y_true), np.vstack(y_pred))\n",
    "    roc_auc = auc(fpr, tpr)\n",
    "\n",
    "    np.save(\"fpr.npy\", fpr)\n",
    "    np.save(\"tpr.npy\", tpr)\n",
    "\n",
    "    # Get Accuracy\n",
    "    accuracy = accuracy_score(np.vstack(y_true), np.round(np.vstack(y_pred)))\n",
    "\n",
    "    return roc_auc, accuracy\n",
    "\n",
    "\n",
    "def fit_model_accum(input_model, dataloader, dev):\n",
    "    input_model.train()\n",
    "    running_loss = 0\n",
    "    running_main_loss = 0\n",
    "    running_reg_loss = 0\n",
    "    y_true = []  # A list of np arrays containing true labels for each batch\n",
    "    y_pred = []  # A list of np arrays containing predicted labels for each batch\n",
    "    last_layer = []\n",
    "    for i, (X_batch, y_batch) in tqdm(enumerate(dataloader), total=len(dataloader)):\n",
    "        X_batch = Variable(X_batch.view(-1, input_model.input_dim)).float().to(dev)\n",
    "        y_batch = y_batch.float().to(dev)\n",
    "\n",
    "        input_model.optimizer.zero_grad()\n",
    "\n",
    "        y_trained, last_layer_preactivation = input_model.forward(X_batch)  # Forward propagation\n",
    "\n",
    "        # NOTE: last_layer_preactivation is the output layer before activation functions\n",
    "        # For classification, it is before sigmoid, for regression it is before ReLU or same as output\n",
    "        # Encode the true label (the default label provided is not encoded)\n",
    "\n",
    "        # Get the loss and save y_batch (true label) and y_trained (learned label) in list of numpy arrays\n",
    "        loss, main_loss = input_model.get_loss(y_trained, y_batch)\n",
    "\n",
    "        # Save the y_true and y_pred\n",
    "        y_true += list(y_batch.cpu().detach().numpy())\n",
    "        y_pred += list(y_trained.cpu().detach().numpy())\n",
    "\n",
    "        # Save the running loss\n",
    "        running_loss += loss.item()\n",
    "        running_main_loss += main_loss  # Main loss (BCE or MSE)\n",
    "        running_reg_loss += loss.item() - main_loss  # Regularization loss\n",
    "\n",
    "        last_layer += list(last_layer_preactivation.cpu().detach().numpy())\n",
    "\n",
    "        del X_batch, y_batch\n",
    "\n",
    "        # Get derivative of the loss dloss/dx with respect to every parameter x which has requires_grad=True\n",
    "        # The gradients are accumulated into x.grad for each parameter x\n",
    "        # This basically provides the partial derivative of the loss with respect to each parameter in mode\n",
    "        # Backpropagation\n",
    "        loss.backward()\n",
    "        input_model.optimizer.step()\n",
    "\n",
    "    loss = running_loss / len(dataloader)  # The average loss for the epoch\n",
    "    main_loss = running_main_loss / len(dataloader)  # The main loss term\n",
    "    reg_loss = running_reg_loss / len(dataloader)  # The regularization loss term\n",
    "\n",
    "    loss_breakdown = {\"Main Loss\": main_loss, \"Reg Loss\": reg_loss}\n",
    "\n",
    "    # Get classification metrics\n",
    "    roc_auc, accuracy = classification_metrics(y_true, y_pred)\n",
    "\n",
    "    gc.collect()\n",
    "    torch.cuda.empty_cache()\n",
    "\n",
    "    return loss, roc_auc, accuracy, loss_breakdown\n",
    "\n",
    "\n",
    "# Include the data fields added later for both pre-trained and original models\n",
    "# The models should have been set up with the correct input dimensions\n",
    "def validate_model_addfields_copy(trained_model, dataloader, dev, report_results=False):\n",
    "    trained_model.eval()\n",
    "    running_loss = 0  # Sum the loss for each different epoch\n",
    "    running_main_loss = 0\n",
    "    running_reg_loss = 0\n",
    "    y_true = []  # A list of np arrays containing true labels for each batch\n",
    "    y_pred = []  # A list of np arrays containing predicted labels for each batch\n",
    "    last_layer = []  # A list of np arrays containing the last layer before activation function\n",
    "    ukb_ids = []  # A list of np arrays containing UKB IDs for the samples\n",
    "    with torch.no_grad():  # This does not accumulate the gradients for the parameters\n",
    "        for i, (X_batch, y_batch, X_idx) in tqdm(enumerate(dataloader), total=len(dataloader)):\n",
    "\n",
    "            X_batch = Variable(X_batch.view(-1, trained_model.input_dim)).float().to(dev)\n",
    "\n",
    "            y_batch = y_batch.reshape(-1, 1).float().to(dev)\n",
    "\n",
    "            # The same dimension as y\n",
    "            y_trained, last_layer_preactivation = trained_model.forward(X_batch)\n",
    "            # NOTE: last_layer_preactivation is the output layer before activation functions\n",
    "            # For classification, it is before sigmoid, for regression it is before ReLU or same as output\n",
    "            # For classification this can be used for percentile vs. prevalence plot\n",
    "\n",
    "            # Get loss and save y_batch (true label) and y_trained (learned label) in list of numpy arrays\n",
    "            loss, main_loss = trained_model.get_loss(y_trained, y_batch)\n",
    "\n",
    "            # Save the y_true and y_pred\n",
    "            y_true += list(y_batch.cpu().detach().numpy())\n",
    "            y_pred += list(y_trained.cpu().detach().numpy())\n",
    "\n",
    "            last_layer += list(last_layer_preactivation.cpu().detach().numpy())\n",
    "\n",
    "            if report_results:\n",
    "                # Save the UKB IDs\n",
    "                ukb_ids += list(X_idx.cpu().detach().numpy())\n",
    "\n",
    "            running_loss += loss.item()\n",
    "            running_main_loss += main_loss\n",
    "            running_reg_loss += loss.item() - main_loss\n",
    "\n",
    "            del X_batch, y_batch\n",
    "\n",
    "    validation_loss = running_loss / len(dataloader)  # Total loss\n",
    "    main_loss = running_main_loss / len(dataloader)  # Main loss (BCE or MSE)\n",
    "    reg_loss = running_reg_loss / len(dataloader)  # Regularization loss\n",
    "\n",
    "    # Loss breakdown between main loss (BCE or MSE) and regularization loss\n",
    "    loss_breakdown = {\"Main Loss\": main_loss, \"Reg Loss\": reg_loss}\n",
    "\n",
    "    # Get classification metrics\n",
    "    roc_auc, accuracy = classification_metrics(y_true, y_pred)\n",
    "    # The error is this one: \"ValueError: Input contains NaN, infinity or a value too large for dtype('float32')\"\n",
    "\n",
    "    if report_results:  # Provide more data on the validation run\n",
    "        # Stack the UKB IDs as an array\n",
    "        ukb_ids = np.array(ukb_ids)\n",
    "        raw_data = {\"y_true\": y_true,\n",
    "                    \"y_pred\": y_pred,\n",
    "                    \"UKB IDs\": ukb_ids}\n",
    "        return validation_loss, roc_auc, accuracy, last_layer, loss_breakdown, raw_data\n",
    "\n",
    "    gc.collect()\n",
    "    torch.cuda.empty_cache()\n",
    "    # np.save(\"epoch{}_y_true_val.npy\".format(epoch), y_true)\n",
    "\n",
    "    return validation_loss, roc_auc, accuracy, last_layer, loss_breakdown\n"
   ]
  },
  {
   "cell_type": "code",
   "execution_count": null,
   "id": "dc3e548e",
   "metadata": {},
   "outputs": [],
   "source": []
  },
  {
   "cell_type": "code",
   "execution_count": null,
   "id": "131dbea2",
   "metadata": {},
   "outputs": [],
   "source": []
  }
 ],
 "metadata": {
  "kernelspec": {
   "display_name": "Python 3 (ipykernel)",
   "language": "python",
   "name": "python3"
  },
  "language_info": {
   "codemirror_mode": {
    "name": "ipython",
    "version": 3
   },
   "file_extension": ".py",
   "mimetype": "text/x-python",
   "name": "python",
   "nbconvert_exporter": "python",
   "pygments_lexer": "ipython3",
   "version": "3.8.13"
  }
 },
 "nbformat": 4,
 "nbformat_minor": 5
}
